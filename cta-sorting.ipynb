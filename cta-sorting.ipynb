{
 "cells": [
  {
   "cell_type": "code",
   "execution_count": null,
   "metadata": {},
   "outputs": [
    {
     "data": {
      "text/html": [
       "<script>Jupyter.notebook.kernel.restart()</script>"
      ]
     },
     "metadata": {},
     "output_type": "display_data"
    }
   ],
   "source": [
    "from IPython.core.display import display_html\n",
    "display_html(\"<script>Jupyter.notebook.kernel.restart()</script>\",raw=True)"
   ]
  },
  {
   "cell_type": "code",
   "execution_count": 1,
   "metadata": {},
   "outputs": [
    {
     "data": {
      "text/html": [
       "<style>.container { width:100% !important; }</style>"
      ],
      "text/plain": [
       "<IPython.core.display.HTML object>"
      ]
     },
     "metadata": {},
     "output_type": "display_data"
    },
    {
     "data": {
      "text/html": [
       "<style>.container { width:100% !important; }</style>"
      ],
      "text/plain": [
       "<IPython.core.display.HTML object>"
      ]
     },
     "metadata": {},
     "output_type": "display_data"
    }
   ],
   "source": [
    "from sys import path; path.insert(1,\"../src\");\n",
    "import fubar; from importlib import reload; reload(fubar);"
   ]
  },
  {
   "cell_type": "markdown",
   "metadata": {},
   "source": [
    "***\n",
    "< [GMIT Data Analytics](https://web.archive.org/web/20201029063153/https://www.gmit.ie/computer-science-and-applied-physics/higher-diploma-science-computing-data-analytics-ict) | [Home](https://github.com/SeanOhAileasa) | [README](https://github.com/SeanOhAileasa/cta-sorting/blob/main/README.md) >\n",
    "\n",
    "[![GMIT](https://github.com/SeanOhAileasa/SeanOhAileasa/blob/master/rc/gmit.png?raw=true)](https://web.archive.org/web/20201029063153/https://www.gmit.ie/computer-science-and-applied-physics/higher-diploma-science-computing-data-analytics-ict)\n",
    "\n",
    "<!--\n",
    "Computational Thinking with Algorithms\n",
    "\n",
    "Applied Databases\n",
    "\n",
    "Programming for Data Analysis\n",
    "\n",
    "Fundamentals of Data Analysis\n",
    "-->\n",
    "\n",
    "## Computational Thinking with Algorithms - Course Material 2021\n",
    "### Topic: [Sorting](https://nbviewer.jupyter.org/github/SeanOhAileasa/cta-sorting/blob/main/cta-sorting.ipynb)\n",
    "\n",
    "***"
   ]
  },
  {
   "cell_type": "markdown",
   "metadata": {},
   "source": [
    "Course material for the ``Computational Thinking with Algorithms`` module (5 Credits) of the ``Higher Diploma in Science in Computing (Data Analytics) (H.Dip)`` programme (75 Credits) at **Galway-Mayo Institute of Technology (GMIT)**."
   ]
  },
  {
   "cell_type": "code",
   "execution_count": 2,
   "metadata": {},
   "outputs": [],
   "source": [
    "exit()"
   ]
  },
  {
   "cell_type": "markdown",
   "metadata": {},
   "source": [
    "<a id=\"top\"></a>\n",
    "***\n",
    "## Table of Contents\n",
    "***\n",
    "\n",
    "## [Notes](#notes)\n",
    "\n",
    "* [Lecture 1](#lecture-1)\n",
    "* [Lecture 2](#lecture-2)\n",
    "* [Lecture 3](#lecture-3)\n",
    "\n",
    "## [Abstract](#abstract)\n",
    "\n",
    "- &#x1F6A7;\n",
    "\n",
    "## [The Application](#theApplication)\n",
    "\n",
    "* [Size of Input Instances](#sizeOfInputInstances)\n",
    "* [Collection of Random Integers](#collectionofRandomIntegers)\n",
    "* [Algorithms](#algo)\n",
    "* [Run Parameter](#runParameter)\n",
    "* [Calculate Average](#average)\n",
    "* [Run All](#runAll)\n",
    "\n",
    "## [Introduction](#introduction)\n",
    "\n",
    "* [Sorting](#Sorting)\n",
    "    * [Search](#Search)\n",
    "    * [Duplicates](#Duplicates)\n",
    "    * [Frequency](#Frequency)\n",
    "    * [Order Statistics](#Order-Statistics)\n",
    "    * [Preprocessing](#Preprocessing)\n",
    "    * [Real World](#Real-World)\n",
    "\n",
    "\n",
    "* [Conditions](#Conditions)\n",
    "\t* [Contiguous](#Contiguous)\n",
    "\n",
    "\n",
    "* [Ordering](#Ordering)\n",
    "\t* [Numerical](#Numerical)\n",
    "\t* [Lexicographical](#Lexicographical)\n",
    "\n",
    "\n",
    "* [Comparator Function](#Comparator-Function)\n",
    "\t* [Inversion](#Inversion)\n",
    "\n",
    "\n",
    "## [Sorting Algorithms](#sortingAlgorithms)\n",
    "\n",
    "\n",
    "* [Build Interactive Tabs](#buildPlotImageInteractiveTabs)\n",
    "\n",
    "\n",
    "* [Comparison](#Comparison)\n",
    "    * [Simple](#comparisonSimple)\n",
    "        <!-- its an iterative approach -->\n",
    "        * [Bubble Sort](#Bubble-Sort)\n",
    "            * [Procedure](#procedurebubbleSort)\n",
    "            * [Process](#bubbleSortProcess)\n",
    "            * [Implementation - Java](#bubbleSortImplementationJava)\n",
    "                * [Build](#buildBubbleSort)\n",
    "                    * [Procedure](#bubbleSortProcedure)\n",
    "                        * [Analysis](#bubbleSortAnalysis)\n",
    "        <!-- its an iterative approach -->              \n",
    "        * [Selection Sort](#Selection-Sort)\n",
    "            * [Procedure](#selectionSortProcedure)\n",
    "            * [Process](#selectionSortProcess)\n",
    "            * [Implementation - Java](#selectionSortImplementationJava)\n",
    "                * [Build](#buildSelectionSort) \n",
    "                    * [Procedure](#procedureselectionSort)\n",
    "                        * [Analysis](#selectionSortAnalysis)\n",
    "        <!-- its an iterative approach ...-->                    \n",
    "        * [Insertion Sort](#Insertion-Sort)\n",
    "            * [Procedure](#insertionSortProcedure)\n",
    "            * [Process](#insertionSortProcess)\n",
    "            * [Implementation - Java](#insertionSortImplementationJava)\n",
    "                * [Build](#buildinsertionSort)\n",
    "                    * [Procedure](#procedureinsertionSort)\n",
    "                        * [Analysis](#insertionSortAnalysis)\n",
    "    * [Efficient](#comparisonEfficient)\n",
    "        * [Merge Sort](#Merge-Sort)\n",
    "            * [Procedure](#mergeSortProcedure)\n",
    "            * [Process](#mergeSortProcess)\n",
    "            * [Implementation - Java](#mergeSortImplementationJava)\n",
    "                * [Build](#buildMergeSort)\n",
    "                    * [Procedure](#proceduremergeSort)\n",
    "                        * [Analysis](#mergeSortAnalysis)      \n",
    "        * [Quicksort](#quicksort)\n",
    "            * [Procedure](#quicksortProcedure)\n",
    "            * [Process](#quicksortProcess)\n",
    "            * [Implementation - Java](#quicksortImplementationJava)\n",
    "                * [Build](#buildquicksort)\n",
    "                    * [Procedure](#procedurequicksort)\n",
    "                        * [Analysis](#quicksortAnalysis)            \n",
    "        * [Heapsort](#Heapsort)\n",
    "        * [Smoothsort](#Smoothsort)\n",
    "        * [Shellsort](#Shellsort)\n",
    "\n",
    "\n",
    "* [Non-Comparison](#Non-Comparison)\n",
    "    * [Counting Sort](#Counting-Sort)\n",
    "        * [Procedure](#countingsortProcedure)\n",
    "        * [Process](#countingsortProcess)\n",
    "        * [Implementation - Java](#countingsortImplementationJava)\n",
    "            * [Build](#buildcountingsort)\n",
    "                * [Procedure](#procedurecountingsort)\n",
    "                    * [Analysis](#countingsortAnalysis)      \n",
    "    * [Bucket Sort](#Bucket-Sort)\n",
    "        * [Procedure](#bucketsortProcedure)\n",
    "        * [Process](#bucketsortProcess)\n",
    "        * [Implementation - Java](#bucketsortImplementationJava)\n",
    "            * [Build](#buildbucketsort)\n",
    "                * [Procedure](#procedurebucketsort)\n",
    "                    * [Analysis](#bucketsortAnalysis)        \n",
    "    * [Radix Sort](#Radix-Sort)\n",
    "\n",
    "\n",
    "* [Hybrid](#Hybrid)\n",
    "    * [Timsort](#Timsort)\n",
    "    * [Introsort](#Introsort)\n",
    "\n",
    "\n",
    "* [Sort Key and Satellite Data](#Sort-Key-Satellite-Data)\n",
    "\n",
    "\n",
    "* [Properties](#Properties) \n",
    "\t* [Stability](#Stability)\n",
    "\t\t* [Flight Information](#Flight-Information)\n",
    "\t* [Run Time Efficiency](#Run-Time-Efficiency)\n",
    "        * [Orders of Growth](#Orders-of-Growth)\n",
    "            * [Influencing Factors](#Influencing-Factors)\n",
    "\t* [In-Place](#In-Place)\n",
    "\t* [Suitability](#Suitability)\n",
    "\n",
    "\n",
    "## [Solution](#solution)\n",
    "\n",
    "- &#x1F6A7;\n",
    "\n",
    "## [Conclusion](#conclusion)"
   ]
  },
  {
   "cell_type": "markdown",
   "metadata": {},
   "source": [
    "***\n",
    "## END"
   ]
  },
  {
   "cell_type": "markdown",
   "metadata": {},
   "source": [
    "< [Table of Contents](#top) | [Introduction](#introduction) | [Solution](#solution) | [Conclusion](#conclusion) | [References](#references) >\n",
    "<a id=\"notes\"></a>\n",
    "***\n",
    "## Notes\n",
    "***"
   ]
  },
  {
   "cell_type": "markdown",
   "metadata": {},
   "source": [
    "- python does not have variables only names to references (name and variable used interchangeably [[realpython](http://web.archive.org/web/20210331063048/https://realpython.com/pointers-in-python)]"
   ]
  },
  {
   "cell_type": "markdown",
   "metadata": {},
   "source": [
    "- collection or array (list) is abbreviated $C$\n",
    "\n",
    "\n",
    "- element(s) is abbreviated $E$\n",
    "\n",
    "\n",
    "- collection index/position is abbreviated using $[\\space ]$\n",
    "\n",
    "\n",
    "- protocol is abbreviated $P$ with associated tag number"
   ]
  },
  {
   "cell_type": "markdown",
   "metadata": {},
   "source": [
    "|Terms|Abbreviated|\n",
    "|:------------------------- | :------------------------- |\n",
    "|size of the input instance|$n$|\n",
    "|collection(s) or array(s) (list(s))|$C$|\n",
    "|element(s)|$E$|\n",
    "|target element|$t$|\n",
    "|target key|$k$|\n",
    "|size of the range of the input instance|$k$|\n",
    "|collection index/position|$[\\space ]$|\n",
    "|left-hand side|LHS|\n",
    "|right-hand side|RHS|\n",
    "|key|$k$|"
   ]
  },
  {
   "cell_type": "markdown",
   "metadata": {},
   "source": [
    "- plot image is shown in a grid-like manner in a separate"
   ]
  },
  {
   "cell_type": "markdown",
   "metadata": {},
   "source": [
    "- in any $C$ an inversion is an ordered pair $[\\space i\\space]$ and $[\\space j\\space ]$ such that $E$ $i$ is greater than $E$ $j$ according to the definition of a comparator function (some definition of $<$) [1]"
   ]
  },
  {
   "cell_type": "markdown",
   "metadata": {},
   "source": [
    "< [Table of Contents](#top) | [References](#references) >\n",
    "<a id=\"lecture-1\"></a>\n",
    "### Lecture 1\n",
    "***"
   ]
  },
  {
   "cell_type": "code",
   "execution_count": null,
   "metadata": {},
   "outputs": [],
   "source": [
    "from sys import path; path.insert(1,\"../src\")\n",
    "from fubar import fFile"
   ]
  },
  {
   "cell_type": "code",
   "execution_count": null,
   "metadata": {},
   "outputs": [],
   "source": [
    "%%script bash\n",
    "grep -1 \"def fFile\" ../src/fubar.py -A 9"
   ]
  },
  {
   "cell_type": "code",
   "execution_count": null,
   "metadata": {},
   "outputs": [],
   "source": [
    "# fFile(nParPath=\"./hide/07-sorting-algorithms-part-1-06-11-2017.mp4\")"
   ]
  },
  {
   "cell_type": "code",
   "execution_count": null,
   "metadata": {},
   "outputs": [],
   "source": [
    "exit()"
   ]
  },
  {
   "cell_type": "markdown",
   "metadata": {},
   "source": [
    "< [Table of Contents](#top) | [References](#references) >\n",
    "<a id=\"lecture-2\"></a>\n",
    "### Lecture 2\n",
    "***"
   ]
  },
  {
   "cell_type": "code",
   "execution_count": null,
   "metadata": {},
   "outputs": [],
   "source": [
    "from sys import path; path.insert(1,\"../src\")\n",
    "from fubar import fFile"
   ]
  },
  {
   "cell_type": "code",
   "execution_count": null,
   "metadata": {},
   "outputs": [],
   "source": [
    "%%script bash\n",
    "grep -1 \"def fFile\" ../src/fubar.py -A 9"
   ]
  },
  {
   "cell_type": "code",
   "execution_count": null,
   "metadata": {},
   "outputs": [],
   "source": [
    "# fFile(nParPath=\"./hide/08-sorting-algorithms-part-2-11-11-2017.mp4\")"
   ]
  },
  {
   "cell_type": "code",
   "execution_count": null,
   "metadata": {},
   "outputs": [],
   "source": [
    "exit()"
   ]
  },
  {
   "cell_type": "markdown",
   "metadata": {},
   "source": [
    "< [Table of Contents](#top) | [References](#references) >\n",
    "<a id=\"lecture-3\"></a>\n",
    "### Lecture 3\n",
    "***"
   ]
  },
  {
   "cell_type": "code",
   "execution_count": null,
   "metadata": {},
   "outputs": [],
   "source": [
    "from sys import path; path.insert(1,\"../src\")\n",
    "from fubar import fFile"
   ]
  },
  {
   "cell_type": "code",
   "execution_count": null,
   "metadata": {},
   "outputs": [],
   "source": [
    "%%script bash\n",
    "grep -1 \"def fFile\" ../src/fubar.py -A 9"
   ]
  },
  {
   "cell_type": "code",
   "execution_count": null,
   "metadata": {},
   "outputs": [],
   "source": [
    "# fFile(nParPath=\"./hide/09-sorting-algorithms-part-3-19-11-2017.mp4\")"
   ]
  },
  {
   "cell_type": "code",
   "execution_count": null,
   "metadata": {},
   "outputs": [],
   "source": [
    "exit()"
   ]
  },
  {
   "cell_type": "markdown",
   "metadata": {},
   "source": [
    "<!-- print(fGetModuleType(___x___),fDocumentation(___x___)) -->\n",
    "***\n",
    "## END"
   ]
  },
  {
   "cell_type": "markdown",
   "metadata": {},
   "source": [
    "< [Table of Contents](#top) | [Introduction](#introduction) | [Solution](#solution) | [Conclusion](#conclusion) | [References](#references) >\n",
    "<a id=\"abstract\"></a>\n",
    "***\n",
    "## Abstract\n",
    "***"
   ]
  },
  {
   "cell_type": "markdown",
   "metadata": {},
   "source": [
    "[Project](https://github.com/SeanOhAileasa/cta-benchmark-algorithms)"
   ]
  },
  {
   "cell_type": "code",
   "execution_count": null,
   "metadata": {},
   "outputs": [],
   "source": [
    "exit()"
   ]
  },
  {
   "cell_type": "markdown",
   "metadata": {},
   "source": [
    "<!-- print(fGetModuleType(___x___),fDocumentation(___x___)) -->\n",
    "***\n",
    "## END"
   ]
  },
  {
   "cell_type": "markdown",
   "metadata": {},
   "source": [
    "< [Table of Contents](#top) | [Introduction](#introduction) | [Solution](#solution) | [Conclusion](#conclusion) | [References](#references) >\n",
    "<a id=\"theApplication\"></a>\n",
    "***\n",
    "## The Application\n",
    "***"
   ]
  },
  {
   "cell_type": "markdown",
   "metadata": {},
   "source": [
    "< [Table of Contents](#top) | [References](#references) >\n",
    "<a id=\"sizeOfInputInstances\"></a>\n",
    "### Size of Input Instances\n",
    "***"
   ]
  },
  {
   "cell_type": "code",
   "execution_count": null,
   "metadata": {},
   "outputs": [],
   "source": [
    "nConsoleColumns=list(range(1,14)) # [1,13] interval [1,14)\n",
    "# [1, 2, 3, 4, 5, 6, 7, 8, 9, 10, 11, 12, 13]"
   ]
  },
  {
   "cell_type": "code",
   "execution_count": null,
   "metadata": {},
   "outputs": [],
   "source": [
    "# define function - fConsoleInputSizes\n",
    "def fConsoleInputSizes(fParFunc,nParCollection):\n",
    "    \"\"\"Create collection of size n input instances.\n",
    "Input: fParFunc; nParCollection\n",
    "Process: list comprehension - each element in Input=nParCollection apply function Input=fParFunc\n",
    "Output: returns collection Input=fParFunc of Input=nParCollection values\n",
    "\"\"\"\n",
    "    return [fParFunc(nEachElement) for nEachElement in nParCollection] # fPar of nPar\n",
    "# --- END ---"
   ]
  },
  {
   "cell_type": "code",
   "execution_count": null,
   "metadata": {},
   "outputs": [],
   "source": [
    "# module fubar - function fConsoleInputSizes \n",
    "nInputSize=fConsoleInputSizes(fParFunc=lambda x:int((x*10)**1.8922), # each element (x10)^189.22%\n",
    "                   nParCollection=nConsoleColumns) # thirteen column headings\n",
    "# [78, 289, 623, 1075, 1639, 2315, 3099, 3990, 4986, 6086, 7289, 8594, 10000]"
   ]
  },
  {
   "cell_type": "code",
   "execution_count": null,
   "metadata": {},
   "outputs": [],
   "source": [
    "nConsoleColumns=13 # number columns displayed\n",
    "nInputSize=78 # input size start\n",
    "nPercentIncrease=1.5 # nInputSize 50% increase \n",
    "nInputSize=[int((nPercentIncrease**nEachColumn)*nInputSize) for nEachColumn in range(0,nConsoleColumns)] # [0,12] intervel [0,13)\n",
    "# [78, 117, 175, 263, 394, 592, 888, 1332, 1999, 2998, 4497, 6746, 10120]"
   ]
  },
  {
   "cell_type": "markdown",
   "metadata": {},
   "source": [
    "< [Table of Contents](#top) | [References](#references) >\n",
    "<a id=\"collectionofRandomIntegers\"></a>\n",
    "### Collection of Random Integers\n",
    "***"
   ]
  },
  {
   "cell_type": "code",
   "execution_count": null,
   "metadata": {},
   "outputs": [],
   "source": [
    "# define function - fRandomCollection\n",
    "def fRandomCollection(nParInputSize):\n",
    "    \"\"\"Create collection of random integers in the range [0,99].\n",
    "Input: nParInputSize\n",
    "Process: append random integer to each element in local name nCollection (random.randint)\n",
    "Output: returns local name nCollection of size Input=nParInputSise of random integers\n",
    "\"\"\" \n",
    "    from random import randint # standard library import\n",
    "    nCollection=[] # local collection empty\n",
    "    for nEachElement in range(0,nParInputSize): # [0,nParInputSize-1] interval [0,nParInputSize)\n",
    "        nCollection.append(randint(0,99)) # [0,99] interval [0,100)\n",
    "    return nCollection # to be sorted\n",
    "# --- END ---"
   ]
  },
  {
   "cell_type": "markdown",
   "metadata": {},
   "source": [
    "< [Table of Contents](#top) | [References](#references) >\n",
    "<a id=\"algo\"></a>\n",
    "### Algorithms\n",
    "***"
   ]
  },
  {
   "cell_type": "code",
   "execution_count": null,
   "metadata": {},
   "outputs": [],
   "source": [
    "# define function - fBubbleSort\n",
    "def fBubbleSort(nParCollection):\n",
    "    \"\"\"Bubble Sort Algorithm.\n",
    "    Source: https://runestone.academy/runestone/books/published/pythonds/SortSearch/TheBubbleSort.html\n",
    "Input: nParCollection\n",
    "Process: \n",
    "Output: sorted collection (in-place)\n",
    "\"\"\"     \n",
    "    for nOuterIndex in range(len(nParCollection)-1,0,-1): # counting down RHS\n",
    "        for nInnerIndex in range(nOuterIndex): # bubbling up LHS\n",
    "            if nParCollection[nInnerIndex]>nParCollection[nInnerIndex+1]: # out of order\n",
    "                nTemporary=nParCollection[nInnerIndex] # capture inner counter\n",
    "                nParCollection[nInnerIndex]=nParCollection[nInnerIndex+1] # swap adjacent element\n",
    "                nParCollection[nInnerIndex+1]=nTemporary # swap inner counter\n",
    "# --- END ---"
   ]
  },
  {
   "cell_type": "code",
   "execution_count": null,
   "metadata": {},
   "outputs": [],
   "source": [
    "# define function - fSelectionSort\n",
    "def fSelectionSort(nParCollection):\n",
    "    \"\"\"Selection Sort Algorithm.\n",
    "    Source: https://www.geeksforgeeks.org/python-program-for-selection-sort\n",
    "Input: nParCollection\n",
    "Process: \n",
    "Output: sorted collection (in-place)\n",
    "\"\"\" \n",
    "    for nOuterIndex in range(len(nParCollection)): # traverse all elements       \n",
    "        nMinimumIndex=nOuterIndex # set minimum element        \n",
    "        for nInnerIndex in range(nOuterIndex+1,len(nParCollection)): # traverse remaining elements\n",
    "            if nParCollection[nMinimumIndex]>nParCollection[nInnerIndex]: # determine minimum element\n",
    "                nMinimumIndex=nInnerIndex # minimum element found\n",
    "        nTemporary=nParCollection[nOuterIndex] # capture current pass\n",
    "        nParCollection[nOuterIndex]=nParCollection[nMinimumIndex] # swap minimum element\n",
    "        nParCollection[nMinimumIndex]=nTemporary # swap pass element\n",
    "# --- END ---"
   ]
  },
  {
   "cell_type": "code",
   "execution_count": null,
   "metadata": {},
   "outputs": [],
   "source": [
    "# define function - fInsertionSort\n",
    "def fInsertionSort(nParCollection):\n",
    "    \"\"\"Insertion Sort Algorithm.\n",
    "    Source: https://runestone.academy/runestone/books/published/pythonds/SortSearch/TheInsertionSort.html\n",
    "Input: nParCollection\n",
    "Process: \n",
    "Output: sorted collection (in-place)\n",
    "\"\"\" \n",
    "    for nOuterIndex in range(1,len(nParCollection)): # traverse all [ 1 ]       \n",
    "        nElement=nParCollection[nOuterIndex] # capture element value\n",
    "        nElementPosition=nOuterIndex # capture element position\n",
    "        while nElementPosition>0 and nParCollection[nElementPosition-1]>nElement: # both are True\n",
    "            nParCollection[nElementPosition]=nParCollection[nElementPosition-1] # current position move\n",
    "            nElementPosition=nElementPosition-1 # reset element position\n",
    "        nParCollection[nElementPosition]=nElement # adjacent element move\n",
    "# --- END --- "
   ]
  },
  {
   "cell_type": "code",
   "execution_count": null,
   "metadata": {},
   "outputs": [],
   "source": [
    "# define function - fMergeSort\n",
    "def fMergeSort(nParCollection):\n",
    "    \"\"\"Merge Sort Algorithm.\n",
    "    Source: https://runestone.academy/runestone/books/published/pythonds/SortSearch/TheMergeSort.html\n",
    "Input: nParCollection\n",
    "Process: \n",
    "Output: sorted collection (in-place)\n",
    "\"\"\" \n",
    "    if len(nParCollection)>1: # check base case\n",
    "        nAppropriatelyHalf=len(nParCollection)//2 # floor division appropriate        \n",
    "        nLeftPartition=nParCollection[:nAppropriatelyHalf] # slice appropriately half        \n",
    "        nRightPartition=nParCollection[nAppropriatelyHalf:] # slice appropriately half        \n",
    "        fMergeSort(nLeftPartition) # recursion call itself\n",
    "        fMergeSort(nRightPartition) # recursion call itself\n",
    "        nLeftCounter,nRightCounter,nLoopCounter=0,0,0 # initialise loop counters\n",
    "        while nLeftCounter<len(nLeftPartition) and nRightCounter<len(nRightPartition):\n",
    "            if nLeftPartition[nLeftCounter]<=nRightPartition[nRightCounter]: # ensure algorithm stable\n",
    "                nParCollection[nLoopCounter]=nLeftPartition[nLeftCounter]                \n",
    "                nLeftCounter+=1\n",
    "            else:\n",
    "                nParCollection[nLoopCounter]=nRightPartition[nRightCounter]                \n",
    "                nRightCounter+=1\n",
    "            nLoopCounter+=1\n",
    "            \n",
    "        while nLeftCounter<len(nLeftPartition): # split if True\n",
    "            nParCollection[nLoopCounter]=nLeftPartition[nLeftCounter]            \n",
    "            nLeftCounter+=1\n",
    "            nLoopCounter+=1\n",
    "            \n",
    "        while nRightCounter<len(nRightPartition): # merge if False\n",
    "            nParCollection[nLoopCounter]=nRightPartition[nRightCounter]            \n",
    "            nRightCounter+=1\n",
    "            nLoopCounter+=1\n",
    "# --- END ---"
   ]
  },
  {
   "cell_type": "code",
   "execution_count": null,
   "metadata": {},
   "outputs": [],
   "source": [
    "# define function - fCountingSort\n",
    "def fCountingSort(nParCollection):\n",
    "    \"\"\"Counting Sort Algorithm.\n",
    "    Source: https://codezup.com/implementation-of-counting-sort-algorithm-in-python/\n",
    "Input: nParCollection\n",
    "Process: \n",
    "Output: sorted collection\n",
    "\"\"\"     \n",
    "    nSetMaximumIndex=0 # set start index/position\n",
    "    for nEachIndex in range(len(nParCollection)): # iterate collection indices\n",
    "        if nParCollection[nEachIndex]>nSetMaximumIndex: # determine maximum element\n",
    "            nSetMaximumIndex=nParCollection[nEachIndex] # maximum valued element \n",
    "    # each element zero\n",
    "    nBuckets=[0]*(nSetMaximumIndex+1) # length maximum element+1\n",
    "    for nEachElement in nParCollection: # iterate collection elements\n",
    "        nBuckets[nEachElement]+=1 # populate discrete indices\n",
    "    # bucket includes indices \n",
    "    nIndexReset=0 # set start index/position\n",
    "    for nEachElement in range(nSetMaximumIndex+1): # iterate bucket length\n",
    "        for nBucketElement in range(nBuckets[nEachElement]): # iterate bucket zeros\n",
    "            nParCollection[nIndexReset]=nEachElement # populate count zeros \n",
    "            nIndexReset+=1 # move next index/position\n",
    "    return nParCollection\n",
    "# --- END ---"
   ]
  },
  {
   "cell_type": "markdown",
   "metadata": {},
   "source": [
    "< [Table of Contents](#top) | [References](#references) >\n",
    "<a id=\"runParameter\"></a>\n",
    "### Run Parameter\n",
    "***"
   ]
  },
  {
   "cell_type": "code",
   "execution_count": null,
   "metadata": {},
   "outputs": [],
   "source": [
    "# define function - fTotalRuns\n",
    "def fTotalRuns(nParRuns):\n",
    "    \"\"\"Initialise number of runs based on specification.\n",
    "    \n",
    "Input: nParRuns\n",
    "Process: assign global name=nRuns to number of runs specified\n",
    "Output: used within functions: i) main and; ii) fAverageTime\n",
    "\"\"\"\n",
    "    global nRuns # accessed by main/fAverageTime\n",
    "    nRuns=nParRuns # initialise global in-place\n",
    "# --- END ---"
   ]
  },
  {
   "cell_type": "markdown",
   "metadata": {},
   "source": [
    "< [Table of Contents](#top) | [References](#references) >\n",
    "<a id=\"average\"></a>\n",
    "### Calculate Average\n",
    "***"
   ]
  },
  {
   "cell_type": "code",
   "execution_count": null,
   "metadata": {},
   "outputs": [],
   "source": [
    "# define function - fAverageTime\n",
    "def fAverageTime(nParCollection):\n",
    "    \"\"\"Average time of each algorithm based on specified number of runs.\n",
    "Input: nParCollection\n",
    "Process: sum total of all elements within Input=nParColleciton (sum);\n",
    "    global name=nRuns determines average time (fTotalRuns)\n",
    "Output: average time\n",
    "\"\"\"\n",
    "    return sum(nParCollection)/nRuns # console output average\n",
    "# --- END ---"
   ]
  },
  {
   "cell_type": "markdown",
   "metadata": {},
   "source": [
    "< [Table of Contents](#top) | [References](#references) >\n",
    "<a id=\"runAll\"></a>\n",
    "### Run\n",
    "***"
   ]
  },
  {
   "cell_type": "code",
   "execution_count": null,
   "metadata": {
    "scrolled": false
   },
   "outputs": [],
   "source": [
    "# define function - main\n",
    "def main():\n",
    "    \"\"\"Benchmark the implementation of five sorting algorithms.\n",
    "Input: \n",
    "Process: traverse the global name=nInputSize;\n",
    "    initialise dictionary with sorting algorithm function **copies** - calling functions later;\n",
    "    traverse the dictionary keys or function copies;\n",
    "    traverse the number of runs as per specification - ten;\n",
    "    start timer; (time.time\n",
    "    call functions via copy; generate random integers interval [0,100) of size name=nEachInputSize;\n",
    "    end timer; (time.time)\n",
    "    capture time and calculate average time for each algorithm\n",
    "Output: formatted console display of each sorting algorithm with associated average times\n",
    "\"\"\"\n",
    "    from time import time # standard library import\n",
    "\n",
    "    global nAverage\n",
    "    nAverage=[] # collection average time\n",
    "\n",
    "    for nEachInputSize in nInputSize: # default global nInputSize\n",
    "    # [78, 289, 623, 1075, 1639, 2315, 3099, 3990, 4986, 6086, 7289, 8594, 10000]\n",
    "\n",
    "        global nSortingAlgorithms\n",
    "        nSortingAlgorithms={ # key function copy\n",
    "            fBubbleSort:f\"{fBubbleSort.__name__[1:-4]}\"+f\" {fBubbleSort.__name__[-4:]}\", # value output console\n",
    "            fSelectionSort:f\"{fSelectionSort.__name__[1:-4]}\"+f\" {fSelectionSort.__name__[-4:]}\",\n",
    "            fInsertionSort:f\"{fInsertionSort.__name__[1:-4]}\"+f\" {fInsertionSort.__name__[-4:]}\",\n",
    "            fMergeSort:f\"{fMergeSort.__name__[1:-4]}\"+f\" {fMergeSort.__name__[-4:]}\",\n",
    "            fCountingSort:f\"{fCountingSort.__name__[1:-4]}\"+f\" {fCountingSort.__name__[-4:]}\"\n",
    "        } # dictionary of algorithms\n",
    "\n",
    "        for nKeyFunction in nSortingAlgorithms.keys(): # function copy key\n",
    "        # keys: fBubbleSort; fSelectionSort; fInsertionSort; fMergeSort; fCountingSort\n",
    "\n",
    "            nTimes=[] # collection of times\n",
    "\n",
    "            # module fubar - function fTotalRuns \n",
    "            fTotalRuns(nParRuns=10) # global name nRuns\n",
    "\n",
    "            for nEachRun in range(nRuns): # ten per specification\n",
    "\n",
    "                nStart=time() # green flag go\n",
    "                # module fubar - function fRandomCollection     \n",
    "                nKeyFunction(fRandomCollection(nParInputSize=nEachInputSize)) # collection size nInputSize   \n",
    "                nEnd=time() # chequered flag stop\n",
    "\n",
    "                nTimes.append((nEnd-nStart)*1000) # time milliseconds calculation\n",
    "\n",
    "            # module fubar - function fAverageTime\n",
    "            nAverage.append(round(fAverageTime(nParCollection=nTimes),3)) # average three decimals\n",
    "# --- END ---"
   ]
  },
  {
   "cell_type": "code",
   "execution_count": null,
   "metadata": {},
   "outputs": [],
   "source": [
    "if __name__==\"__main__\": # __name__ current module \n",
    "    # module fubar - function main \n",
    "    main()\n",
    "    \n",
    "    #\n",
    "    # 1.1. The Application\n",
    "    # ====================\n",
    "    \n",
    "    # application console output\n",
    "    nRowDisplay=\"{:<15}\"*(len(nInputSize)+1) # format console output\n",
    "    print(nRowDisplay.format(\"Size\", *nInputSize))\n",
    "    print(nRowDisplay.format(f\"{nSortingAlgorithms[fBubbleSort]}\", # key value \"Bubble Sort\"\n",
    "                             *nAverage[::5])) # slice step five\n",
    "    print(nRowDisplay.format(f\"{nSortingAlgorithms[fSelectionSort]}\", # key value \"Selection Sort\"\n",
    "                             *nAverage[1::5])) # index one slice\n",
    "    print(nRowDisplay.format(f\"{nSortingAlgorithms[fInsertionSort]}\",*nAverage[2::5]))\n",
    "    print(nRowDisplay.format(f\"{nSortingAlgorithms[fMergeSort]}\",*nAverage[3::5]))    \n",
    "    print(nRowDisplay.format(f\"{nSortingAlgorithms[fCountingSort]}\",*nAverage[4::5]))\n",
    "    \n",
    "    #\n",
    "    # --- END ---\n",
    "    # ===========\n",
    "    \n",
    "    #\n",
    "    # 1.3 Report (Implementation & Benchmarking) \n",
    "    # ==========================================\n",
    "    \n",
    "    # i) build csv \"rc\\Benchmark\\dataset.csv\"\n",
    "    from pandas.core.frame import DataFrame # third-party library import\n",
    "    from numpy import array # third-party library import    \n",
    "    df=DataFrame(data=array( # list of list\n",
    "                    [nAverage[::5],nAverage[1::5],nAverage[2::5],nAverage[3::5],nAverage[4::5]]), # slice as before\n",
    "                 index=[nSortingAlgorithms[fBubbleSort],nSortingAlgorithms[fSelectionSort],\n",
    "                    nSortingAlgorithms[fInsertionSort],nSortingAlgorithms[fMergeSort],\n",
    "                    nSortingAlgorithms[fCountingSort]]) # algorithms as index\n",
    "    df.to_csv(\"rc\\Benchmark\\dataset.csv\") # bare bones csv\n",
    "\n",
    "    # ii) build plot \"BenchmarkingPlot.png\"    \n",
    "    from matplotlib.pyplot import savefig,close # third-party library import\n",
    "\n",
    "    # RangeIndex(start=0, stop=13, step=1) ...\n",
    "    df.columns=nInputSize # change x-axis ticks ...\n",
    "    # Int64Index([78, 289, 623, 1075, 1639, 2315, 3099, 3990, 4986, 6086, 7289, 8594, 10000], dtype='int64')\n",
    "\n",
    "    df.T.plot(kind=\"line\", # default plot value\n",
    "              figsize=(19.2,10.8), # size in inches\n",
    "              title=\"Benchmarking - Sorting Algorithms\", # plot overall title\n",
    "              grid=True, # split into five\n",
    "              style=\"o-\", # data point circle\n",
    "              xlabel=\"Input size n\", # label on x-axis\n",
    "              ylabel=\"Running time milliseconds\" # label on y-axis\n",
    "            ); # benchmarking results plot\n",
    "    savefig(fname=\"BenchmarkingPlot.png\") # to current directory\n",
    "    close() # close figure window    \n",
    "    \n",
    "    # iii) build table \"BenchmarkingTable.png\"\n",
    "    from pandas.io.parsers import read_csv # third-party library import\n",
    "    df=read_csv(\"rc\\Benchmark\\dataset.csv\",header=0,names=nInputSize) # read csv created\n",
    "    df.columns.name=\"Size\" # set index heading\n",
    "    df=df.style.set_table_styles( # сhange style output\n",
    "                        [{\"selector\":\"\",\"props\":[(\"border\",\"2px solid black\"),(\"font-size\",\"25px\")]}]\n",
    "                                    ).set_precision(3) # set decimal percision\n",
    "    \n",
    "    try:\n",
    "        import dataframe_image # third-party library import\n",
    "        dataframe_image.export(df,\"BenchmarkingTable.png\",table_conversion=\"matplotlib\") # build dataframe image\n",
    "    except ImportError:\n",
    "        print(\"You Are Missing a Package (dataframe_image)\")\n",
    "        print(\"Please Install - Restart Application\")\n",
    "        print(\"$ conda install -c conda-forge dataframe_image \")\n",
    "        print(\"https://pypi.org/project/dataframe-image/\")  \n",
    "        \n",
    "    #\n",
    "    # --- END ---\n",
    "    # ==========="
   ]
  },
  {
   "cell_type": "markdown",
   "metadata": {},
   "source": [
    "***\n",
    "## END"
   ]
  },
  {
   "cell_type": "markdown",
   "metadata": {},
   "source": [
    "< [Table of Contents](#top) | [Abstract](#abstract) | [Solution](#solution) | [Conclusion](#conclusion) | [References](#references) >\n",
    "<a id=\"introduction\"></a>\n",
    "***\n",
    "## Introduction\n",
    "***"
   ]
  },
  {
   "cell_type": "markdown",
   "metadata": {},
   "source": [
    "[Project](https://github.com/SeanOhAileasa/cta-benchmark-algorithms)"
   ]
  },
  {
   "cell_type": "code",
   "execution_count": null,
   "metadata": {},
   "outputs": [],
   "source": [
    "exit()"
   ]
  },
  {
   "cell_type": "markdown",
   "metadata": {},
   "source": [
    "< [Table of Contents](#top) | [References](#references) >\n",
    "<a id=\"Sorting\"></a>\n",
    "### Sorting\n",
    "***"
   ]
  },
  {
   "cell_type": "markdown",
   "metadata": {},
   "source": [
    "- definition of the term sorting is arranging a collection of items according to some predefined ordering rules [1]"
   ]
  },
  {
   "cell_type": "markdown",
   "metadata": {},
   "source": [
    "- an array or list (hereafter called \"collection\") of items to order in the correct order is a sorting problem [1]"
   ]
  },
  {
   "cell_type": "markdown",
   "metadata": {},
   "source": [
    "- it has been claimed in the past that as much as 25% of all CPU cycles worldwide are spent on sorting tasks (claim provides a great incentive to further study and optimise sorting algorithms) [1]"
   ]
  },
  {
   "cell_type": "markdown",
   "metadata": {},
   "source": [
    "- given there is so much time spent on sorting regardless of whether the actual figure is 25% can take for granted that a large amount of CPU time worldwide is spent on sorting tasks and knowing this provides a great incentive to work on research and development of sorting algorithms [1]"
   ]
  },
  {
   "cell_type": "markdown",
   "metadata": {},
   "source": [
    "- knowing the considerations for most appropriate sorting algorithm for the specific task to accomplish it is upon system designers/computer scientists to know the different strengths and weaknesses of different sorting algorithms and to know in which specific situations or for which specific class of input instances should a certain type of sorting algorithm or a particular implementation be used [1]"
   ]
  },
  {
   "cell_type": "markdown",
   "metadata": {},
   "source": [
    "- there are many interesting applications of sorting and many different sorting algorithms each of which have their own specific strengths and weaknesses [1]"
   ]
  },
  {
   "cell_type": "markdown",
   "metadata": {},
   "source": [
    "- due to all of this and due to the importance of the sorting task the search for efficient sorting algorithms was a very important part of the early days of computing and computer science [1]"
   ]
  },
  {
   "cell_type": "markdown",
   "metadata": {},
   "source": [
    "- numerous computations and tasks are in fact simplified or made a lot easier by first properly sorting the information in a collection in advance [1]"
   ]
  },
  {
   "cell_type": "code",
   "execution_count": null,
   "metadata": {},
   "outputs": [],
   "source": [
    "exit()"
   ]
  },
  {
   "cell_type": "markdown",
   "metadata": {},
   "source": [
    "< [Table of Contents](#top) | [References](#references) >\n",
    "<a id=\"Search\"></a>\n",
    "###### Search\n",
    "***"
   ]
  },
  {
   "cell_type": "markdown",
   "metadata": {},
   "source": [
    "- considering the task of searching for a particular item in a collection of elements [1]"
   ]
  },
  {
   "cell_type": "markdown",
   "metadata": {},
   "source": [
    "- if the collection is in order (sorted) then can apply different types of searching algorithms and probably find the particular item sought quicker [1]"
   ]
  },
  {
   "cell_type": "code",
   "execution_count": null,
   "metadata": {},
   "outputs": [],
   "source": [
    "exit()"
   ]
  },
  {
   "cell_type": "markdown",
   "metadata": {},
   "source": [
    "< [Table of Contents](#top) | [References](#references) >\n",
    "<a id=\"Duplicates\"></a>\n",
    "###### Duplicates\n",
    "***"
   ]
  },
  {
   "cell_type": "markdown",
   "metadata": {},
   "source": [
    "- considering a collection of items and finding out whether any duplicate items exist in that collection [1]"
   ]
  },
  {
   "cell_type": "markdown",
   "metadata": {},
   "source": [
    "- task is easier if it is known that all duplicate items are going to appear in a contiguous block or they are all going to appear together [1]"
   ]
  },
  {
   "cell_type": "markdown",
   "metadata": {},
   "source": [
    "- if sorted in order of increasing magnitude then its a trivial task to go and actually count how many duplicates of those items exist [1]"
   ]
  },
  {
   "cell_type": "code",
   "execution_count": null,
   "metadata": {},
   "outputs": [],
   "source": [
    "exit()"
   ]
  },
  {
   "cell_type": "markdown",
   "metadata": {},
   "source": [
    "< [Table of Contents](#top) | [References](#references) >\n",
    "<a id=\"Frequency\"></a>\n",
    "###### Frequency\n",
    "***"
   ]
  },
  {
   "cell_type": "markdown",
   "metadata": {},
   "source": [
    "- considering the frequency of any distinct items in a dataset [1]"
   ]
  },
  {
   "cell_type": "markdown",
   "metadata": {},
   "source": [
    "- creating a histogram to find the frequency of every distinct item in a collection could easily be done if the data is sorted because again like the problem of finding duplicate items it becomes a trivial task when all of the items which are valued equally appear in a contiguous block (appear beside each other) [1]"
   ]
  },
  {
   "cell_type": "code",
   "execution_count": null,
   "metadata": {},
   "outputs": [],
   "source": [
    "exit()"
   ]
  },
  {
   "cell_type": "markdown",
   "metadata": {},
   "source": [
    "< [Table of Contents](#top) | [References](#references) >\n",
    "<a id=\"Order-Statistics\"></a>\n",
    "###### Order Statistics\n",
    "***"
   ]
  },
  {
   "cell_type": "markdown",
   "metadata": {},
   "source": [
    "- another important application of sorting algorithms is to find the order statistics of a collection of data [1]"
   ]
  },
  {
   "cell_type": "markdown",
   "metadata": {},
   "source": [
    "- statistics are numbers essentially which tell something about a collection of data in aggregate [1]"
   ]
  },
  {
   "cell_type": "markdown",
   "metadata": {},
   "source": [
    "- could be order statistics that relate to the range of the data such as the maximum and minimum [1]"
   ]
  },
  {
   "cell_type": "markdown",
   "metadata": {},
   "source": [
    "- finding the maximum and minimum items in a collection becomes trivial if the data is sorted say in order of increasing magnitude (minimum point is simply the first element in the collection - maximum point is simply the last element in the collection) [1]"
   ]
  },
  {
   "cell_type": "markdown",
   "metadata": {},
   "source": [
    "- another order statistic could be the median and the quartiles [1]"
   ]
  },
  {
   "cell_type": "markdown",
   "metadata": {},
   "source": [
    "- in the context of the economy would often hear about the median salary whereby the median is the middle value in a collection so the median salary then if having access to a list of the salaries of everybody working in Ireland then could sort those data points in order of increasing salary therefore a trivial task to pick out the median given its the element(s) right in the middle [1]"
   ]
  },
  {
   "cell_type": "code",
   "execution_count": null,
   "metadata": {},
   "outputs": [],
   "source": [
    "exit()"
   ]
  },
  {
   "cell_type": "markdown",
   "metadata": {},
   "source": [
    "< [Table of Contents](#top) | [References](#references) >\n",
    "<a id=\"Preprocessing \"></a>\n",
    "###### Preprocessing \n",
    "***"
   ]
  },
  {
   "cell_type": "markdown",
   "metadata": {},
   "source": [
    "- sorting can be useful as a precursor to completing other operations in an efficient way such that its often an important step when part of some other broader computer algorithm [1]"
   ]
  },
  {
   "cell_type": "markdown",
   "metadata": {},
   "source": [
    "- considering an image editing package (computer graphics) in which multiple layers of objects or artwork are supported and having a layer based computer graphics program whereby different objects are layered on top of each other to produce some composite image [1]"
   ]
  },
  {
   "cell_type": "markdown",
   "metadata": {},
   "source": [
    "- may have to sort the objects according to some above or below relation so that the objects may be drawn in the correct order from bottom to top so that the image is composited correctly and that items which are supposed to be in the foreground are in the foreground and items which are supposed to form part of the background are actually in the background [1]"
   ]
  },
  {
   "cell_type": "markdown",
   "metadata": {},
   "source": [
    "- so a sorting algorithm could be used as part of a operation in some program but it would be a sub-step [1]"
   ]
  },
  {
   "cell_type": "code",
   "execution_count": null,
   "metadata": {},
   "outputs": [],
   "source": [
    "exit()"
   ]
  },
  {
   "cell_type": "markdown",
   "metadata": {},
   "source": [
    "< [Table of Contents](#top) | [References](#references) >\n",
    "<a id=\"Real-World\"></a>\n",
    "###### Real World \n",
    "***"
   ]
  },
  {
   "cell_type": "markdown",
   "metadata": {},
   "source": [
    "- sorting can be useful as part of some other broader tasks but it is also an important problem in its own right and worthy of merit/study [1]"
   ]
  },
  {
   "cell_type": "markdown",
   "metadata": {},
   "source": [
    "- consider entries in a phonebook often sorted by area then by last name then sorted by first name [1]"
   ]
  },
  {
   "cell_type": "markdown",
   "metadata": {},
   "source": [
    "- bank account statement transactions would be sorted first by a transaction number or by date or by the value of the transaction (ascending or descending order as well) [1]"
   ]
  },
  {
   "cell_type": "markdown",
   "metadata": {},
   "source": [
    "- results from a web search engine which would be sorted by relevance to a specific query string [1]"
   ]
  },
  {
   "cell_type": "markdown",
   "metadata": {},
   "source": [
    "- maybe in a web search engine different items could be returned or different links to different webpages would actually be given some kind of relevance score in relation to a query string and would be ranked in order of decreasing relevance [1]"
   ]
  },
  {
   "cell_type": "code",
   "execution_count": null,
   "metadata": {},
   "outputs": [],
   "source": [
    "exit()"
   ]
  },
  {
   "cell_type": "markdown",
   "metadata": {},
   "source": [
    "< [Table of Contents](#top) | [References](#references) >\n",
    "<a id=\"Conditions\"></a>\n",
    "### Conditions\n",
    "***"
   ]
  },
  {
   "cell_type": "markdown",
   "metadata": {},
   "source": [
    "- conceptually its easy to grasp the idea of what is meant by a collection being sorted or the term sorted but need to have some formal or mathematical definition of what is meant by the term sorted or having everything in order [1]"
   ]
  },
  {
   "cell_type": "markdown",
   "metadata": {},
   "source": [
    "- a collection of items is deemed to be sorted if each item which appears in the collection is less than or equal to its successor or its valued as being less than or equal to its successor in the collection [1]"
   ]
  },
  {
   "cell_type": "markdown",
   "metadata": {},
   "source": [
    "- to sort a collection ``A`` then the elements contained must be reorganised in such a way that if the element which appears at index ``i`` is less than the elements which appears at index ``j`` then the index ``i`` must also be less than the index ``j`` [1]"
   ]
  },
  {
   "cell_type": "markdown",
   "metadata": {},
   "source": [
    "- items which are valued less than other items then said items must appear before the others [1]"
   ]
  },
  {
   "cell_type": "markdown",
   "metadata": {},
   "source": [
    "- if an item is valued greater than another item then that greater value item must appear later in the collection [1]"
   ]
  },
  {
   "cell_type": "markdown",
   "metadata": {},
   "source": [
    "$$A[i]<A[j]\\space then\\space i<j$$"
   ]
  },
  {
   "cell_type": "code",
   "execution_count": null,
   "metadata": {},
   "outputs": [],
   "source": [
    "exit()"
   ]
  },
  {
   "cell_type": "markdown",
   "metadata": {},
   "source": [
    "< [Table of Contents](#top) | [References](#references) >\n",
    "<a id=\"Contiguous\"></a>\n",
    "###### Contiguous\n",
    "***"
   ]
  },
  {
   "cell_type": "markdown",
   "metadata": {},
   "source": [
    "- if there are duplicate elements then these elements must be contiguous in the resulting order collection [1]"
   ]
  },
  {
   "cell_type": "markdown",
   "metadata": {},
   "source": [
    "- all of the elements which have the same value according to some comparator function most appear in one uninterrupted block with no other different valued elements interspersed in between [1]"
   ]
  },
  {
   "cell_type": "markdown",
   "metadata": {},
   "source": [
    "- within a collection ``A`` if an element at position ``i`` is valued the same as the element which appears at position ``j`` [1]"
   ]
  },
  {
   "cell_type": "markdown",
   "metadata": {},
   "source": [
    "$$A[i]=A[j]$$"
   ]
  },
  {
   "cell_type": "markdown",
   "metadata": {},
   "source": [
    "- can be no index ``k`` such that the value of ``i`` is less than the value of ``k`` is less than the value of ``j`` [1]"
   ]
  },
  {
   "cell_type": "markdown",
   "metadata": {},
   "source": [
    "$$i<k<j$$"
   ]
  },
  {
   "cell_type": "markdown",
   "metadata": {},
   "source": [
    "- an element which appears at position ``i`` in the collection is not equal to the element which appears at position ``k`` [1]"
   ]
  },
  {
   "cell_type": "markdown",
   "metadata": {},
   "source": [
    "$$A[i]\\neq A[k]$$"
   ]
  },
  {
   "cell_type": "markdown",
   "metadata": {},
   "source": [
    "- mathematical definition is saying that a contiguous block of elements which have the same value or are valued the same (duplicates of one another) then in a sorted collection no other different valued element can be interspersed in that contiguous block [1]"
   ]
  },
  {
   "cell_type": "markdown",
   "metadata": {},
   "source": [
    "- have a collection of integers of which there are three of the integer ``4`` (so the integer ``4`` occurs three times) [1]"
   ]
  },
  {
   "cell_type": "markdown",
   "metadata": {},
   "source": [
    "- when that integer collection is sorted those three instances of the number four most appear together in one unbroken block and there can be no other different valued elements interspersed between them (contiguous sorting of duplicate elements in a collection) [1]"
   ]
  },
  {
   "cell_type": "markdown",
   "metadata": {},
   "source": [
    "- may seem obvious but still needs to stated that a sorted version of a collection must be a permutation of the elements which originally formed the collection [1]"
   ]
  },
  {
   "cell_type": "markdown",
   "metadata": {},
   "source": [
    "- the contents of the collection must be the exact same before and after the sorting process so the number of distinct elements in the collection and the frequency at which they occur must be constant before and after the sorting process but their relative ordering to one another is allowed to change [1]"
   ]
  },
  {
   "cell_type": "code",
   "execution_count": null,
   "metadata": {},
   "outputs": [],
   "source": [
    "exit()"
   ]
  },
  {
   "cell_type": "markdown",
   "metadata": {},
   "source": [
    "< [Table of Contents](#top) | [References](#references) >\n",
    "<a id=\"Ordering\"></a>\n",
    "### Ordering\n",
    "***"
   ]
  },
  {
   "cell_type": "markdown",
   "metadata": {},
   "source": [
    "- a sorted collection is one in which every element is less than or equal to its successor [1]"
   ]
  },
  {
   "cell_type": "markdown",
   "metadata": {},
   "source": [
    "- leads to the question how should the concept of less than be defined [1]"
   ]
  },
  {
   "cell_type": "markdown",
   "metadata": {},
   "source": [
    "- definition of less will depend on the: i) items in the collection; ii) types of items to be sorted and; iii) application domain in question [1]"
   ]
  },
  {
   "cell_type": "code",
   "execution_count": null,
   "metadata": {},
   "outputs": [],
   "source": [
    "exit()"
   ]
  },
  {
   "cell_type": "markdown",
   "metadata": {},
   "source": [
    "< [Table of Contents](#top) | [References](#references) >\n",
    "<a id=\"Numerical\"></a>\n",
    "###### Numerical\n",
    "***"
   ]
  },
  {
   "cell_type": "markdown",
   "metadata": {},
   "source": [
    "- defining the concept of less than when the items in a collection are numbers (integers or floating point values) is quite obvious [1]"
   ]
  },
  {
   "cell_type": "markdown",
   "metadata": {},
   "source": [
    "- whether its numerical ordering in terms of increasing magnitude of numbers or numerical ordering in terms of decreasing values such situations still want numerical ordering [1]"
   ]
  },
  {
   "cell_type": "code",
   "execution_count": null,
   "metadata": {},
   "outputs": [],
   "source": [
    "exit()"
   ]
  },
  {
   "cell_type": "markdown",
   "metadata": {},
   "source": [
    "< [Table of Contents](#top) | [References](#references) >\n",
    "<a id=\"Lexicographical\"></a>\n",
    "###### Lexicographical\n",
    "***"
   ]
  },
  {
   "cell_type": "markdown",
   "metadata": {},
   "source": [
    "- another very common example is the idea of ordering items in a dictionary (applicable if the items in question are either characters or strings or some collection of characters) [1]"
   ]
  },
  {
   "cell_type": "markdown",
   "metadata": {},
   "source": [
    "- ordering words in a dictionary as well ordering characters which are not part of the English language is lexicographical ordering [1]"
   ]
  },
  {
   "cell_type": "markdown",
   "metadata": {},
   "source": [
    "- such ordering is not forming words with ``!`` or ``&`` or ``*`` etc albeit all having a particular position defined relative to one another or a particular value which is less than or greater than defined in respect to one another [1]"
   ]
  },
  {
   "cell_type": "markdown",
   "metadata": {},
   "source": [
    "- lexicographical ordering could be the words: i) \"apple\"; ii) \"arrow\" and; iii) \"banana\" where \"apple\" is valued less than \"arrow\" and \"banana\" is valued to be greater than \"arrow\" [1]"
   ]
  },
  {
   "cell_type": "markdown",
   "metadata": {},
   "source": [
    "- so \"apple\" is less than \"arrow\" is less than \"banana\" [1]"
   ]
  },
  {
   "cell_type": "markdown",
   "metadata": {},
   "source": [
    "$$apple<arrow<banana$$"
   ]
  },
  {
   "cell_type": "markdown",
   "metadata": {},
   "source": [
    "- could have custom ordering schemes which could include the problem of sorting different coloured objects [1]"
   ]
  },
  {
   "cell_type": "markdown",
   "metadata": {},
   "source": [
    "- may have a specific order in which certain colours of items appear [1]"
   ]
  },
  {
   "cell_type": "markdown",
   "metadata": {},
   "source": [
    "- ordering the colours of a country flag (Dutch National Flag Problem - Dijkstra) whereby the colours are: i) \"red\"; ii) \"white\" and; iii) \"blue\" [1]"
   ]
  },
  {
   "cell_type": "markdown",
   "metadata": {},
   "source": [
    "![Flag-of-the-Netherlands](https://github.com/SeanOhAileasa/SeanOhAileasa/blob/master/rc/cta/sorting/netherlands.png?raw=true)\n",
    "\n",
    "***(Image) Wikipedia, \"Flag of the Netherlands,\" [Wikipedia](https://web.archive.org/web/20210322084118/https://en.wikipedia.org/wiki/Flag_of_the_Netherlands), n.d..***"
   ]
  },
  {
   "cell_type": "markdown",
   "metadata": {},
   "source": [
    "- elements that are coloured \"red\" might be less than elements which have the colour of \"white\" and \"white\" is also less than \"blue\" so \"white\" comes before \"blue\" in that case as well [1]"
   ]
  },
  {
   "cell_type": "markdown",
   "metadata": {},
   "source": [
    "$$red<white<blue$$"
   ]
  },
  {
   "cell_type": "code",
   "execution_count": null,
   "metadata": {},
   "outputs": [],
   "source": [
    "exit()"
   ]
  },
  {
   "cell_type": "markdown",
   "metadata": {},
   "source": [
    "< [Table of Contents](#top) | [References](#references) >\n",
    "<a id=\"Comparator-Function\"></a>\n",
    "###### Comparator Function\n",
    "***"
   ]
  },
  {
   "cell_type": "markdown",
   "metadata": {},
   "source": [
    "- some function whereby two elements are passed and returns answer: i) if element is less than another; ii) if element is equal to another or; iii) if element is greater than another [1]"
   ]
  },
  {
   "cell_type": "markdown",
   "metadata": {},
   "source": [
    "- comparator function ``fCompare`` takes two items (elements) from a collection as input ``A`` and ``B`` (same type of object in the same collection) [1]"
   ]
  },
  {
   "cell_type": "markdown",
   "metadata": {},
   "source": [
    "- returns ``-1`` if the element ``A`` is valued less than the element ``B`` therefore the element ``A`` should appear before the element ``B`` in the collection [1]"
   ]
  },
  {
   "cell_type": "markdown",
   "metadata": {},
   "source": [
    "$$if\\space a<b\\space then\\space -1$$"
   ]
  },
  {
   "cell_type": "markdown",
   "metadata": {},
   "source": [
    "- returns ``0`` if the element ``A`` is considered equal to the element ``B`` therefore the elements ``A`` and ``B`` should appear alongside each other in a contiguous block as they are in fact considered equivalent according to the definition of the comparator function [1] "
   ]
  },
  {
   "cell_type": "markdown",
   "metadata": {},
   "source": [
    "$$if\\space a=b\\space then\\space 0$$"
   ]
  },
  {
   "cell_type": "markdown",
   "metadata": {},
   "source": [
    "- returns ``1`` if the element ``A`` is considered greater than the element ``B`` therefore the element ``A`` should appear after the element ``B`` in the sorted collection [1]"
   ]
  },
  {
   "cell_type": "markdown",
   "metadata": {},
   "source": [
    "$$if\\space a>b\\space then\\space 1$$"
   ]
  },
  {
   "cell_type": "markdown",
   "metadata": {},
   "source": [
    "- implementation of comparator functions relates back to the idea of having custom sorting schemes like ordering the colours of a country flag (Dutch National Flag Problem - Dijkstra) [1]"
   ]
  },
  {
   "cell_type": "markdown",
   "metadata": {},
   "source": [
    "- there exists sorting algorithms independent of the definition of less than [1]"
   ]
  },
  {
   "cell_type": "markdown",
   "metadata": {},
   "source": [
    "- such algorithms can have arbitrary definitions of less than or equal to or greater than for whatever type of data is to be sorted [1]"
   ]
  },
  {
   "cell_type": "markdown",
   "metadata": {},
   "source": [
    "- can apply a standard off-the-shelf sorting algorithm even if using some new definition of less than or equal to or greater than which has never been used before which may be specific to a dataset [1]"
   ]
  },
  {
   "cell_type": "markdown",
   "metadata": {},
   "source": [
    "- need not actually be concerned about the specific details of the implementation of the comparator function which is going to be used when designing sorting algorithms [1]"
   ]
  },
  {
   "cell_type": "code",
   "execution_count": null,
   "metadata": {},
   "outputs": [],
   "source": [
    "exit()"
   ]
  },
  {
   "cell_type": "markdown",
   "metadata": {},
   "source": [
    "< [Table of Contents](#top) | [References](#references) >\n",
    "<a id=\"Inversion\"></a>\n",
    "###### Inversion\n",
    "***"
   ]
  },
  {
   "cell_type": "markdown",
   "metadata": {},
   "source": [
    "- an important concept in sorting problems is an inversion [1]"
   ]
  },
  {
   "cell_type": "markdown",
   "metadata": {},
   "source": [
    "- important because the running time of certain sorting algorithms (Insertion Sort) are strongly related to the number of inversions that occur in the specific input instance [1]"
   ]
  },
  {
   "cell_type": "markdown",
   "metadata": {},
   "source": [
    "- the number of inversions in any collection of elements is a measure of how far it is from being sorted [1]"
   ]
  },
  {
   "cell_type": "markdown",
   "metadata": {},
   "source": [
    "- an inversion in any collection is an ordered pair of positions (``i`` and ``j``) such that ``i`` and ``j`` being two indices in the collection whereby the index ``i`` is greater than the element which appears at index ``j`` according to the definition in the comparator function [1]"
   ]
  },
  {
   "cell_type": "markdown",
   "metadata": {},
   "source": [
    "- the element at position ``i`` and ``j`` are out of order then an inversion means that the elements which appear at any two positions are out of order with respect to one another [1]"
   ]
  },
  {
   "cell_type": "markdown",
   "metadata": {},
   "source": [
    "$$i<j\\space but\\space A[i]>A[j]$$"
   ]
  },
  {
   "cell_type": "markdown",
   "metadata": {},
   "source": [
    "- ``[3,2,5]`` has just one inversion which correspond to the pair ``(3,2)`` and are said to be out of order with respect to one another [1]"
   ]
  },
  {
   "cell_type": "markdown",
   "metadata": {},
   "source": [
    "- ``[5,2,3]`` the same three numbers with the ordering changed has two inversions which correspond to the pairs ``(5,2)`` and ``(5,3)`` [1]"
   ]
  },
  {
   "cell_type": "markdown",
   "metadata": {},
   "source": [
    "- ``[3,2,5,1]`` has four inversions which correspond to the pairs ``(3,2)`` and ``(5,1)`` and ``(3,1)`` and ``(2,1)`` [1]"
   ]
  },
  {
   "cell_type": "markdown",
   "metadata": {},
   "source": [
    "$$[2,3,5,1]$$"
   ]
  },
  {
   "cell_type": "markdown",
   "metadata": {},
   "source": [
    "$$[2,3,1,5]$$"
   ]
  },
  {
   "cell_type": "markdown",
   "metadata": {},
   "source": [
    "$$[2,1,3,5]$$"
   ]
  },
  {
   "cell_type": "markdown",
   "metadata": {},
   "source": [
    "$$[1,2,3,5]$$"
   ]
  },
  {
   "cell_type": "markdown",
   "metadata": {},
   "source": [
    "- concept continues on and can be applied to collections of any arbitrary size [1]"
   ]
  },
  {
   "cell_type": "code",
   "execution_count": null,
   "metadata": {},
   "outputs": [],
   "source": [
    "exit()"
   ]
  },
  {
   "cell_type": "markdown",
   "metadata": {},
   "source": [
    "***\n",
    "## END"
   ]
  },
  {
   "cell_type": "markdown",
   "metadata": {},
   "source": [
    "< [Table of Contents](#top) | [Abstract](#abstract) | [Solution](#solution) | [Conclusion](#conclusion) | [References](#references) >\n",
    "<a id=\"sortingAlgorithms\"></a>\n",
    "***\n",
    "## Sorting Algorithms\n",
    "***"
   ]
  },
  {
   "cell_type": "markdown",
   "metadata": {},
   "source": [
    "- Bubble Sort - Selection Sort - Insertion Sort - all are comparison-based - all are in-place sorting algorithms - constant space complexity ``1`` means that the space needed for the algorithm to work is equal to the size of the input dataset plus some additional amount of memory which is fixed and which does not depend on the size of the input dataset [3] these algorithms all have $O(n^2)$ performance in the worst case meaning that the size of the input dataset determines the expected running time and there is a quadratic relationship between the expected running time and the size of the input dataset [3] all have an average $O(n^2)$ performance [3]"
   ]
  },
  {
   "cell_type": "markdown",
   "metadata": {},
   "source": [
    "- Bubble Sort and Insertion Sort have $O(n)$ performance in the best case whereas Selection Sort is $O(n^2)$ however the best case is does not happen all that often so really only concerned about average or worst-case performance in these algorithms [3]"
   ]
  },
  {
   "cell_type": "markdown",
   "metadata": {},
   "source": [
    "- Bubble Sort and Insertion Sort are stable sorting algorithms which means they preserve the relative ordering of elements which are already sorted or if the elements have the same value according to a comparator function will appear in the same order in the sorted output as in the unsorted input [3]"
   ]
  },
  {
   "cell_type": "markdown",
   "metadata": {},
   "source": [
    "- the Computational Thinking and Algorithms Project introduce each of the chosen algorithms in turn - discusses space (working memory) and time complexity - explain how each algorithm works using bespoke diagrams and different example input instances [[Project Specification](https://github.com/SeanOhAileasa/cta-sorting/blob/main/rc/CTA_Project.pdf)])"
   ]
  },
  {
   "cell_type": "code",
   "execution_count": null,
   "metadata": {},
   "outputs": [],
   "source": [
    "exit()"
   ]
  },
  {
   "cell_type": "markdown",
   "metadata": {},
   "source": [
    "< [Table of Contents](#top) | [References](#references) >\n",
    "<a id=\"buildPlotImageInteractiveTabs\"></a>\n",
    "### Build Interactive Tabs\n",
    "***"
   ]
  },
  {
   "cell_type": "code",
   "execution_count": null,
   "metadata": {},
   "outputs": [],
   "source": [
    "from sys import path; path.insert(1,\"../src\")"
   ]
  },
  {
   "cell_type": "code",
   "execution_count": null,
   "metadata": {},
   "outputs": [],
   "source": [
    "def fResetLoopCounter():\n",
    "    \"\"\"Initialise loop counter name to zero.\n",
    "\n",
    "Input:\n",
    "Process: assign zero to global integer name nSwap\n",
    "Output:\n",
    "\"\"\"\n",
    "    global nSwap\n",
    "    nSwap=0\n",
    "# --- END ---"
   ]
  },
  {
   "cell_type": "code",
   "execution_count": null,
   "metadata": {},
   "outputs": [],
   "source": [
    "def fResetLocalURL():\n",
    "    \"\"\"Initialise collection of local URLs.\n",
    "\n",
    "Input:\n",
    "Process: assign zero elements to global collection name nImagesLocalURL\n",
    "Output:\n",
    "\"\"\"\n",
    "    global nImagesLocalURL\n",
    "    nImagesLocalURL=[]\n",
    "# --- END ---"
   ]
  },
  {
   "cell_type": "code",
   "execution_count": null,
   "metadata": {},
   "outputs": [],
   "source": [
    "def fAddSwapCount():\n",
    "    \"\"\"Count swap operations.\n",
    "    \n",
    "Input:\n",
    "Process: increment global integer name nSwap \n",
    "Output:\n",
    "\"\"\"\n",
    "    global nSwap\n",
    "    nSwap+=1\n",
    "# --- END ---"
   ]
  },
  {
   "cell_type": "code",
   "execution_count": null,
   "metadata": {},
   "outputs": [],
   "source": [
    "def fAddLocalURL(nParOuterIndex,nParInnerIndex,nParRC=\"Process\"):\n",
    "    \"\"\"Append plot local URLs.\n",
    "\n",
    "Input: nParOuterIndex (loop outer index); nParInnerIndex (loop inner index); \n",
    "    nParRC (preassigned \"Process\" - inputs: \"Unsorted\" or \"Partition\" or \"Sorted\")\n",
    "Process: append filepath URLs to global collection name nImagesLocalURL (append)\n",
    "Output: collection of filepath URLS for use in fAddPlotTabs\n",
    "\"\"\"\n",
    "    nImagesLocalURL.append(f\"./rc/{nParRC}/Outer{nParOuterIndex}Inner{nParInnerIndex}.png\")\n",
    "# --- END ---"
   ]
  },
  {
   "cell_type": "code",
   "execution_count": null,
   "metadata": {},
   "outputs": [],
   "source": [
    "from fubar import fAddBarLabels"
   ]
  },
  {
   "cell_type": "code",
   "execution_count": null,
   "metadata": {},
   "outputs": [],
   "source": [
    "%%script bash \n",
    "grep -1 \"def fAddBarLabels\" ../src/fubar.py -A 13"
   ]
  },
  {
   "cell_type": "code",
   "execution_count": null,
   "metadata": {},
   "outputs": [],
   "source": [
    "def fAddBarBlue(nParCollection,nParIndex):\n",
    "    \"\"\"Initialise collection of bar plot colours.\n",
    "\n",
    "Input: nParCollection; nParIndex\n",
    "Process: unsorted Input=nParCollection bar colours \"gray\";\n",
    "    sorted Input=nParCollection bar colours \"green\";\n",
    "    comparison process bar colours \"blue\" (len; sorted; pop; insert)\n",
    "Output: collection of colours for use in fAddPlot\n",
    "\"\"\"    \n",
    "    from matplotlib.pyplot import xlabel\n",
    "    \n",
    "    # module fubar - function fAddBarLabels\n",
    "    fAddBarLabels(nParCollection=nParCollection) # label over bar\n",
    "\n",
    "    nComparison=f\"{nParCollection[nParIndex]}>{nParCollection[nParIndex+1]}\" # xlabel actual label \n",
    "    nTrueFalse=nParCollection[nParIndex]>nParCollection[nParIndex+1] # label bool result\n",
    "    \n",
    "    nColor=[]\n",
    "    if nParIndex==-1: # flag unsorted collection\n",
    "        nColor=[\"gray\"]*len(nParCollection) # bar colors \"gray\"\n",
    "    elif nParCollection==sorted(nParCollection): # sorted collection      \n",
    "        nColor=[\"green\"]*len(nParCollection) # bar colors \"green\"        \n",
    "    else: # algorithm walk-through process\n",
    "        # package matplotlib - module pyplot\n",
    "        xlabel(xlabel=f\"Comparison: {nComparison} = {nTrueFalse} - Swap Count: {nSwap}\",fontsize=12)        \n",
    "        nColor=[\"gray\"]*len(nParCollection) # reset bar colors\n",
    "        nColor.pop(nParIndex) # remove element \"gray\"\n",
    "        nColor.insert(nParIndex,\"blue\") # insert element \"blue\"\n",
    "        nColor.pop(nParIndex+1) # remove adjacent \"gray\"\n",
    "        nColor.insert(nParIndex+1,\"blue\") # insert adjacent \"blue\"\n",
    "    return nColor # collection bar colours\n",
    "# --- END ---"
   ]
  },
  {
   "cell_type": "code",
   "execution_count": null,
   "metadata": {},
   "outputs": [],
   "source": [
    "def fAddBarGreen(nParCollection,nParIndex):\n",
    "    \"\"\"Initialise collection of bar plot colours.\n",
    "\n",
    "Input: nParCollection; nParIndex\n",
    "Process: unsorted Input=nParCollection bar colours \"gray\";\n",
    "    sorted Input=nParCollection bar colours \"green\";\n",
    "    sorted partition bar colours \"green\" (len; append)\n",
    "Output: collection of colours for use in fAddPlot\n",
    "\"\"\"     \n",
    "    # module fubar - function fAddBarLabels\n",
    "    fAddBarLabels(nParCollection=nParCollection)\n",
    "    \n",
    "    nColor=[]\n",
    "    if nParIndex==len(nParCollection)-1: # determine final position \n",
    "        nColor=[\"gray\"]*nParIndex # bar colors \"gray\"\n",
    "        nColor.append(\"green\") # final position \"green\"\n",
    "    else:\n",
    "        nColor=[\"gray\"]*nParIndex # bar colors \"gray\"\n",
    "        nColor+=[\"green\"]*(len(nParCollection)-nParIndex) # sorted partition \"green\"\n",
    "    return nColor # collection bar colours\n",
    "# --- END ---"
   ]
  },
  {
   "cell_type": "code",
   "execution_count": null,
   "metadata": {},
   "outputs": [],
   "source": [
    "from fubar import fAddPlot"
   ]
  },
  {
   "cell_type": "code",
   "execution_count": null,
   "metadata": {},
   "outputs": [],
   "source": [
    "%%script bash \n",
    "grep -1 \"def fAddPlot\" ../src/fubar.py -A 15"
   ]
  },
  {
   "cell_type": "code",
   "execution_count": null,
   "metadata": {},
   "outputs": [],
   "source": [
    "def fBubbleSortTabs():\n",
    "    \"\"\"Populate algorithm Bubble Sort tabs for interative tab display.\n",
    "\n",
    "Input:\n",
    "Process: name nTabLabels global collection of string labels - len(nTabLabels)==len(nTabText);\n",
    "    name nTabText global collection of strings - len(nTabText)==len(nTabLabels);\n",
    "    name nTabOrder global collection of tab ordering - default is alphabetically\n",
    "Output: collections for use in fAddPlotTabs\n",
    "\"\"\"\n",
    "    \n",
    "    global nTabLabel,nTabText,nTabOrder\n",
    "    nTabLabel=[\"Collection\"]+[\"4\"]*5+[\"3\"]*4+[\"2\"]*3+[\"1\"]*2+[\"Sorted\"] # plot tab label\n",
    "    nTabText=[\"Fig. 1.\",\n",
    "              \"Fig. 2. Start pass 0.\",\n",
    "              \"Fig. 3. Eq. (3) requires E swap.\",\n",
    "              \"Fig. 4. Eq. (3) requires E swap.\",\n",
    "              \"Fig. 5. Eq. (3) requires E swap.\",\n",
    "              \"Fig. 6. End pass 0.\",\n",
    "              \"Fig. 7. Start pass 1.\",\n",
    "              \"Fig. 8. Eq. (3) requires E swap.\",\n",
    "              \"Fig. 9. Eq. (3) requires E swap.\",\n",
    "              \"Fig. 10. End pass 1.\",\n",
    "              \"Fig. 11. Start pass 2.\",\n",
    "              \"Fig. 12. Eq. (3) requires E swap.\",\n",
    "              \"Fig. 13. End Pass 2.\",\n",
    "              \"Fig. 14 .Start Pass 3.\",\n",
    "              \"Fig. 15. End Pass 3.\",\n",
    "              \"Fig. 16.\"\n",
    "             ] # report referral text\n",
    "    nTabOrder=[\"Collection\",\"4\",\"3\",\"2\",\"1\",\"Sorted\"] # default alphabetically reorder\n",
    "# --- END ---"
   ]
  },
  {
   "cell_type": "code",
   "execution_count": null,
   "metadata": {
    "scrolled": true
   },
   "outputs": [],
   "source": [
    "def fSelectionSortPlot():\n",
    "    from matplotlib.pyplot import xlabel\n",
    "    \n",
    "    #\n",
    "    # Pass 0\n",
    "    #\n",
    "    \n",
    "    nCollection=[29,23,17,19,13]\n",
    "    \n",
    "    # module fubar - function fAddBarLabels\n",
    "    fAddBarLabels(nParCollection=nCollection) # label over bar\n",
    "    fAddPlot(nCollection,[\"blue\",\"gray\",\"gray\",\"gray\",\"gray\"])\n",
    "    # package matplotlib - module pyplot\n",
    "    xlabel(xlabel=\"Minimum = 29 - Swap Count: 0\",fontsize=12)\n",
    "    savefig(fname=f\"./rc/Process/0.png\") # Fig. 2. Start pass 0.\n",
    "    close() # close figure window\n",
    "    nImagesLocalURL.append(\"./rc/Process/0.png\")    \n",
    "    \n",
    "    # module fubar - function fAddBarLabels\n",
    "    fAddBarLabels(nParCollection=nCollection) # label over bar\n",
    "    fAddPlot(nCollection,[\"gray\",\"blue\",\"gray\",\"gray\",\"gray\"])\n",
    "    # package matplotlib - module pyplot\n",
    "    xlabel(xlabel=\"Minimum = 23 - Swap Count: 0\",fontsize=12)\n",
    "    savefig(fname=f\"./rc/Process/1.png\") # Fig. 3. Set minimum E.\n",
    "    close() # close figure window\n",
    "    nImagesLocalURL.append(\"./rc/Process/1.png\")    \n",
    "\n",
    "    # module fubar - function fAddBarLabels\n",
    "    fAddBarLabels(nParCollection=nCollection) # label over bar\n",
    "    fAddPlot(nCollection,[\"gray\",\"gray\",\"blue\",\"gray\",\"gray\"])\n",
    "    # package matplotlib - module pyplot\n",
    "    xlabel(xlabel=\"Minimum = 17 - Swap Count: 0\",fontsize=12)\n",
    "    savefig(fname=f\"./rc/Process/2.png\") # Fig. 4. Set minimum E.\n",
    "    close() # close figure window\n",
    "    nImagesLocalURL.append(\"./rc/Process/2.png\")    \n",
    "    \n",
    "    # module fubar - function fAddBarLabels\n",
    "    fAddBarLabels(nParCollection=nCollection) # label over bar\n",
    "    fAddPlot(nCollection,[\"gray\",\"gray\",\"gray\",\"gray\",\"blue\"])\n",
    "    # package matplotlib - module pyplot\n",
    "    xlabel(xlabel=\"Minimum = 13 - Swap Count: 0\",fontsize=12)\n",
    "    savefig(fname=f\"./rc/Process/3.png\") # Fig. 5. Set minimum E.\n",
    "    close() # close figure window\n",
    "    nImagesLocalURL.append(\"./rc/Process/3.png\")    \n",
    "\n",
    "    # module fubar - function fAddBarLabels\n",
    "    fAddBarLabels(nParCollection=nCollection) # label over bar\n",
    "    fAddPlot(nCollection,[\"blue\",\"gray\",\"gray\",\"gray\",\"blue\"])\n",
    "    # package matplotlib - module pyplot\n",
    "    xlabel(xlabel=\"Swap [ 0 ] & [ 4 ] - Swap Count: 1\",fontsize=12)\n",
    "    savefig(fname=f\"./rc/Process/4.png\") # Fig. 6. Swap minimum E.\n",
    "    close() # close figure window\n",
    "    nImagesLocalURL.append(\"./rc/Process/4.png\")\n",
    "    \n",
    "    nCollection=[13,23,17,19,29]\n",
    "    \n",
    "    # module fubar - function fAddBarLabels\n",
    "    fAddBarLabels(nParCollection=nCollection) # label over bar\n",
    "    fAddPlot(nCollection,[\"green\",\"gray\",\"gray\",\"gray\",\"gray\"])\n",
    "    # package matplotlib - module pyplot\n",
    "    savefig(fname=f\"./rc/Partition/6.png\") # Fig. 7. End pass 0.\n",
    "    close() # close figure window\n",
    "    nImagesLocalURL.append(\"./rc/Partition/6.png\")\n",
    "    \n",
    "    #\n",
    "    # Pass 1\n",
    "    #\n",
    "    \n",
    "    # module fubar - function fAddBarLabels\n",
    "    fAddBarLabels(nParCollection=nCollection) # label over bar\n",
    "    fAddPlot(nCollection,[\"gray\",\"blue\",\"gray\",\"gray\",\"gray\"])\n",
    "    # package matplotlib - module pyplot\n",
    "    xlabel(xlabel=\"Minimum = 23 - Swap Count: 1\",fontsize=12)\n",
    "    savefig(fname=f\"./rc/Process/7.png\") # Fig. 8. Start pass 1.\n",
    "    close() # close figure window\n",
    "    nImagesLocalURL.append(\"./rc/Process/7.png\")    \n",
    "\n",
    "    # module fubar - function fAddBarLabels\n",
    "    fAddBarLabels(nParCollection=nCollection) # label over bar\n",
    "    fAddPlot(nCollection,[\"gray\",\"gray\",\"blue\",\"gray\",\"gray\"])\n",
    "    # package matplotlib - module pyplot\n",
    "    xlabel(xlabel=\"Minimum = 17 - Swap Count: 1\",fontsize=12)\n",
    "    savefig(fname=f\"./rc/Process/8.png\") # Fig. 9. Set minimum E.\n",
    "    close() # close figure window\n",
    "    nImagesLocalURL.append(\"./rc/Process/8.png\") \n",
    "\n",
    "    # module fubar - function fAddBarLabels\n",
    "    fAddBarLabels(nParCollection=nCollection) # label over bar\n",
    "    fAddPlot(nCollection,[\"gray\",\"blue\",\"blue\",\"gray\",\"gray\"])\n",
    "    # package matplotlib - module pyplot\n",
    "    xlabel(xlabel=\"Swap [ 1 ] & [ 2 ] - Swap Count: 2\",fontsize=12)\n",
    "    savefig(fname=f\"./rc/Process/9.png\") # Fig. 10. Swap minimum E.\n",
    "    close() # close figure window\n",
    "    nImagesLocalURL.append(\"./rc/Process/9.png\")\n",
    "    \n",
    "    nCollection=[13,17,23,19,29]\n",
    "    \n",
    "    # module fubar - function fAddBarLabels\n",
    "    fAddBarLabels(nParCollection=nCollection) # label over bar\n",
    "    fAddPlot(nCollection,[\"green\",\"green\",\"gray\",\"gray\",\"gray\"])\n",
    "    # package matplotlib - module pyplot\n",
    "    savefig(fname=f\"./rc/Partition/10.png\") # Fig. 11. End pass 1.\n",
    "    close() # close figure window\n",
    "    nImagesLocalURL.append(\"./rc/Partition/10.png\")\n",
    "\n",
    "    #\n",
    "    # Pass 2\n",
    "    #\n",
    "\n",
    "    # module fubar - function fAddBarLabels\n",
    "    fAddBarLabels(nParCollection=nCollection) # label over bar\n",
    "    fAddPlot(nCollection,[\"gray\",\"gray\",\"blue\",\"gray\",\"gray\"])\n",
    "    # package matplotlib - module pyplot\n",
    "    xlabel(xlabel=\"Minimum = 23 - Swap Count: 2\",fontsize=12)\n",
    "    savefig(fname=f\"./rc/Process/11.png\") # Fig. 12. Start pass 2.\n",
    "    close() # close figure window\n",
    "    nImagesLocalURL.append(\"./rc/Process/11.png\") \n",
    "    \n",
    "    # module fubar - function fAddBarLabels\n",
    "    fAddBarLabels(nParCollection=nCollection) # label over bar\n",
    "    fAddPlot(nCollection,[\"gray\",\"gray\",\"gray\",\"blue\",\"gray\"])\n",
    "    # package matplotlib - module pyplot\n",
    "    xlabel(xlabel=\"Minimum = 19 - Swap Count: 2\",fontsize=12)\n",
    "    savefig(fname=f\"./rc/Process/12.png\") # Fig. 13. Set minimum E.\n",
    "    close() # close figure window\n",
    "    nImagesLocalURL.append(\"./rc/Process/12.png\")\n",
    "    \n",
    "    # module fubar - function fAddBarLabels\n",
    "    fAddBarLabels(nParCollection=nCollection) # label over bar\n",
    "    fAddPlot(nCollection,[\"gray\",\"gray\",\"blue\",\"blue\",\"gray\"])\n",
    "    # package matplotlib - module pyplot\n",
    "    xlabel(xlabel=\"Swap [ 2 ] & [ 3 ] - Swap Count: 3\",fontsize=12)\n",
    "    savefig(fname=f\"./rc/Process/13.png\") # Fig. 14. Swap minimum E.\n",
    "    close() # close figure window\n",
    "    nImagesLocalURL.append(\"./rc/Process/13.png\")\n",
    "\n",
    "    nCollection=[13,17,19,23,29]\n",
    "    \n",
    "    # module fubar - function fAddBarLabels\n",
    "    fAddBarLabels(nParCollection=nCollection) # label over bar\n",
    "    fAddPlot(nCollection,[\"green\",\"green\",\"green\",\"gray\",\"gray\"])\n",
    "    # package matplotlib - module pyplot\n",
    "    savefig(fname=f\"./rc/Partition/14.png\") # Fig. 15. End pass 2.\n",
    "    close() # close figure window\n",
    "    nImagesLocalURL.append(\"./rc/Partition/14.png\")\n",
    "    \n",
    "    #\n",
    "    # Pass 3\n",
    "    #\n",
    "\n",
    "    # module fubar - function fAddBarLabels\n",
    "    fAddBarLabels(nParCollection=nCollection) # label over bar\n",
    "    fAddPlot(nCollection,[\"gray\",\"gray\",\"gray\",\"blue\",\"gray\"])\n",
    "    # package matplotlib - module pyplot\n",
    "    xlabel(xlabel=\"Minimum = 23 - Swap Count: 4\",fontsize=12)\n",
    "    savefig(fname=f\"./rc/Process/15.png\") # Fig. 16. Start pass 3.\n",
    "    close() # close figure window\n",
    "    nImagesLocalURL.append(\"./rc/Process/15.png\") \n",
    "\n",
    "    # module fubar - function fAddBarLabels\n",
    "    fAddBarLabels(nParCollection=nCollection) # label over bar\n",
    "    fAddPlot(nCollection,[\"green\",\"green\",\"green\",\"green\",\"gray\"])\n",
    "    # package matplotlib - module pyplot\n",
    "    savefig(fname=f\"./rc/Partition/16.png\") # Fig. 17. End pass 2.\n",
    "    close() # close figure window\n",
    "    nImagesLocalURL.append(\"./rc/Partition/16.png\")\n",
    "\n",
    "    #\n",
    "    # Sorted\n",
    "    #\n",
    "    \n",
    "    # module fubar - function fAddBarLabels\n",
    "    fAddBarLabels(nParCollection=nCollection) # label over bar\n",
    "    fAddPlot(nCollection,[\"green\",\"green\",\"green\",\"green\",\"green\"])\n",
    "    # package matplotlib - module pyplot\n",
    "    savefig(fname=f\"./rc/Sorted/17.png\") # Fig. 18.\n",
    "    close() # close figure window\n",
    "    nImagesLocalURL.append(\"./rc/Sorted/17.png\")\n",
    "    \n",
    "# --- END ---"
   ]
  },
  {
   "cell_type": "code",
   "execution_count": null,
   "metadata": {},
   "outputs": [],
   "source": [
    "def fSelectionSortTabs():\n",
    "    \"\"\"Populate algorithm Selection Sort tabs for interative tab display.\n",
    "\n",
    "Input:\n",
    "Process: name nTabLabels global collection of string labels - len(nTabLabels)==len(nTabText);\n",
    "    name nTabText global collection of strings - len(nTabText)==len(nTabLabels);\n",
    "    name nTabOrder global collection of tab ordering - default is alphabetically\n",
    "Output: collections for use in fAddPlotTabs\n",
    "\"\"\"\n",
    "    \n",
    "    global nTabLabel,nTabText,nTabOrder\n",
    "    nTabLabel=[\"Collection\"]+[\"0\"]*6+[\"1\"]*4+[\"2\"]*4+[\"3\"]*2+[\"Sorted\"] # plot tab label\n",
    "    nTabText=[\"Fig. 1.\",\n",
    "              \"Fig. 2. Start pass 0.\",\n",
    "              \"Fig. 3. Set minimum E.\",\n",
    "              \"Fig. 4. Set minimum E.\",\n",
    "              \"Fig. 5. Set minimum E.\",\n",
    "              \"Fig. 6. Swap minimum E.\",\n",
    "              \"Fig. 7. End pass 0.\",\n",
    "              \"Fig. 8. Start pass 1.\",\n",
    "              \"Fig. 9. Set minimum E.\",\n",
    "              \"Fig. 10. Swap minimum E.\",\n",
    "              \"Fig. 11. End pass 1.\",\n",
    "              \"Fig. 12. Start pass 2.\",\n",
    "              \"Fig. 13. Set minimum E.\",\n",
    "              \"Fig. 14. Swap minimum E.\",\n",
    "              \"Fig. 15. End pass 2.\",\n",
    "              \"Fig. 16. Start pass 3.\",\n",
    "              \"Fig. 17. End pass 2.\",\n",
    "              \"Fig. 18.\"\n",
    "             ] # report referral text\n",
    "    nTabOrder=[\"Collection\",\"0\",\"1\",\"2\",\"3\",\"Sorted\"] # default alphabetically reorder\n",
    "# --- END ---"
   ]
  },
  {
   "cell_type": "code",
   "execution_count": null,
   "metadata": {},
   "outputs": [],
   "source": [
    "def fInsertionSortPlot():\n",
    "    from matplotlib.pyplot import xlabel\n",
    "    \n",
    "    #\n",
    "    # Pass 0\n",
    "    #\n",
    "    \n",
    "    nCollection=[47,43,37,41,31]\n",
    "    \n",
    "    # module fubar - function fAddBarLabels\n",
    "    fAddBarLabels(nParCollection=nCollection) # label over bar\n",
    "    fAddPlot(nCollection,[\"gray\",\"red\",\"gray\",\"gray\",\"gray\"])\n",
    "    # package matplotlib - module pyplot\n",
    "    xlabel(xlabel=\"Set k at [ 1 ]\",fontsize=12)\n",
    "    savefig(fname=f\"./rc/Process/0.png\") # Fig. 2. Start pass 0.\n",
    "    close() # close figure window\n",
    "    nImagesLocalURL.append(\"./rc/Process/0.png\")\n",
    "\n",
    "    # module fubar - function fAddBarLabels\n",
    "    fAddBarLabels(nParCollection=nCollection) # label over bar\n",
    "    fAddPlot(nCollection,[\"blue\",\"red\",\"gray\",\"gray\",\"gray\"])\n",
    "    # package matplotlib - module pyplot\n",
    "    xlabel(xlabel=\"E > k = True\",fontsize=12)\n",
    "    savefig(fname=f\"./rc/Process/1.png\") # Fig. 3. Check E left of k.\n",
    "    close() # close figure window\n",
    "    nImagesLocalURL.append(\"./rc/Process/1.png\")\n",
    "\n",
    "    nCollection=[43,47,37,41,31]\n",
    "    \n",
    "    # module fubar - function fAddBarLabels\n",
    "    fAddBarLabels(nParCollection=nCollection) # label over bar\n",
    "    fAddPlot(nCollection,[\"red\",\"blue\",\"gray\",\"gray\",\"gray\"])\n",
    "    # package matplotlib - module pyplot\n",
    "    xlabel(xlabel=\"k at [ 0 ] - E at [ 1 ]\",fontsize=12)\n",
    "    savefig(fname=f\"./rc/Process/2.png\") # Fig. 4. Move E and insert k.\n",
    "    close() # close figure window\n",
    "    nImagesLocalURL.append(\"./rc/Process/2.png\")\n",
    "\n",
    "    # module fubar - function fAddBarLabels\n",
    "    fAddBarLabels(nParCollection=nCollection) # label over bar\n",
    "    fAddPlot(nCollection,[\"green\",\"green\",\"gray\",\"gray\",\"gray\"])\n",
    "    # package matplotlib - module pyplot\n",
    "    savefig(fname=f\"./rc/Partition/3.png\") # Fig. 5. End pass 0.\n",
    "    close() # close figure window\n",
    "    nImagesLocalURL.append(\"./rc/Partition/3.png\")\n",
    "    \n",
    "    #\n",
    "    # Pass 1\n",
    "    #\n",
    "\n",
    "    # module fubar - function fAddBarLabels\n",
    "    fAddBarLabels(nParCollection=nCollection) # label over bar\n",
    "    fAddPlot(nCollection,[\"gray\",\"gray\",\"red\",\"gray\",\"gray\"])\n",
    "    # package matplotlib - module pyplot\n",
    "    xlabel(xlabel=\"Set k at [ 2 ]\",fontsize=12)\n",
    "    savefig(fname=f\"./rc/Process/4.png\") # Fig. 6. Start pass 1.\n",
    "    close() # close figure window\n",
    "    nImagesLocalURL.append(\"./rc/Process/4.png\")\n",
    "    \n",
    "    # module fubar - function fAddBarLabels\n",
    "    fAddBarLabels(nParCollection=nCollection) # label over bar\n",
    "    fAddPlot(nCollection,[\"gray\",\"blue\",\"red\",\"gray\",\"gray\"])\n",
    "    # package matplotlib - module pyplot\n",
    "    xlabel(xlabel=\"E > k = True\",fontsize=12)\n",
    "    savefig(fname=f\"./rc/Process/5.png\") # Fig. 7. Check E left of k.\n",
    "    close() # close figure window\n",
    "    nImagesLocalURL.append(\"./rc/Process/5.png\")\n",
    "    \n",
    "    nCollection=[43,37,47,41,31]    \n",
    "\n",
    "    # module fubar - function fAddBarLabels\n",
    "    fAddBarLabels(nParCollection=nCollection) # label over bar\n",
    "    fAddPlot(nCollection,[\"gray\",\"red\",\"blue\",\"gray\",\"gray\"])\n",
    "    # package matplotlib - module pyplot\n",
    "    xlabel(xlabel=\"k at [ 1 ] - E at [ 2 ]\",fontsize=12)\n",
    "    savefig(fname=f\"./rc/Process/6.png\") # Fig. 8. Move E and insert k.\n",
    "    close() # close figure window\n",
    "    nImagesLocalURL.append(\"./rc/Process/6.png\")\n",
    "\n",
    "    # module fubar - function fAddBarLabels\n",
    "    fAddBarLabels(nParCollection=nCollection) # label over bar\n",
    "    fAddPlot(nCollection,[\"blue\",\"red\",\"gray\",\"gray\",\"gray\"])\n",
    "    # package matplotlib - module pyplot\n",
    "    xlabel(xlabel=\"E > k = True\",fontsize=12)\n",
    "    savefig(fname=f\"./rc/Process/7.png\") # Fig. 9. Check E left of k.\n",
    "    close() # close figure window\n",
    "    nImagesLocalURL.append(\"./rc/Process/7.png\")\n",
    "\n",
    "    nCollection=[37,43,47,41,31]    \n",
    " \n",
    "    # module fubar - function fAddBarLabels\n",
    "    fAddBarLabels(nParCollection=nCollection) # label over bar\n",
    "    fAddPlot(nCollection,[\"red\",\"blue\",\"gray\",\"gray\",\"gray\"])\n",
    "    # package matplotlib - module pyplot\n",
    "    xlabel(xlabel=\"k at [ 0 ] - E at [ 1 ]\",fontsize=12)\n",
    "    savefig(fname=f\"./rc/Process/8.png\") # Fig. 10. Move E and insert k.\n",
    "    close() # close figure window\n",
    "    nImagesLocalURL.append(\"./rc/Process/8.png\")\n",
    "\n",
    "    # module fubar - function fAddBarLabels\n",
    "    fAddBarLabels(nParCollection=nCollection) # label over bar\n",
    "    fAddPlot(nCollection,[\"green\",\"green\",\"green\",\"gray\",\"gray\"])\n",
    "    # package matplotlib - module pyplot\n",
    "    savefig(fname=f\"./rc/Partition/9.png\") # Fig. 11. End pass 1.\n",
    "    close() # close figure window\n",
    "    nImagesLocalURL.append(\"./rc/Partition/9.png\") \n",
    "    \n",
    "    #\n",
    "    # Pass 2\n",
    "    #\n",
    "    \n",
    "    # module fubar - function fAddBarLabels\n",
    "    fAddBarLabels(nParCollection=nCollection) # label over bar\n",
    "    fAddPlot(nCollection,[\"gray\",\"gray\",\"gray\",\"red\",\"gray\"])\n",
    "    # package matplotlib - module pyplot\n",
    "    xlabel(xlabel=\"Set k at [ 3 ]\",fontsize=12)\n",
    "    savefig(fname=f\"./rc/Process/10.png\") # Fig. 12. Start pass 2\n",
    "    close() # close figure window\n",
    "    nImagesLocalURL.append(\"./rc/Process/10.png\")\n",
    "    \n",
    "    # module fubar - function fAddBarLabels\n",
    "    fAddBarLabels(nParCollection=nCollection) # label over bar\n",
    "    fAddPlot(nCollection,[\"gray\",\"gray\",\"blue\",\"red\",\"gray\"])\n",
    "    # package matplotlib - module pyplot\n",
    "    xlabel(xlabel=\"E > k = True\",fontsize=12)\n",
    "    savefig(fname=f\"./rc/Process/11.png\") # Fig. 13. Check E left of k.\n",
    "    close() # close figure window\n",
    "    nImagesLocalURL.append(\"./rc/Process/11.png\")\n",
    "\n",
    "    nCollection=[37,43,41,47,31]    \n",
    "    \n",
    "    # module fubar - function fAddBarLabels\n",
    "    fAddBarLabels(nParCollection=nCollection) # label over bar\n",
    "    fAddPlot(nCollection,[\"gray\",\"gray\",\"red\",\"blue\",\"gray\"])\n",
    "    # package matplotlib - module pyplot\n",
    "    xlabel(xlabel=\"k at [ 2 ] - E at [ 3 ]\",fontsize=12)\n",
    "    savefig(fname=f\"./rc/Process/12.png\") # Fig. 14. Move E and insert k.\n",
    "    close() # close figure window\n",
    "    nImagesLocalURL.append(\"./rc/Process/12.png\")\n",
    "    \n",
    "    # module fubar - function fAddBarLabels\n",
    "    fAddBarLabels(nParCollection=nCollection) # label over bar\n",
    "    fAddPlot(nCollection,[\"gray\",\"blue\",\"red\",\"gray\",\"gray\"])\n",
    "    # package matplotlib - module pyplot\n",
    "    xlabel(xlabel=\"E > k = True\",fontsize=12)\n",
    "    savefig(fname=f\"./rc/Process/13.png\") # Fig. 15. Check E left of k.\n",
    "    close() # close figure window\n",
    "    nImagesLocalURL.append(\"./rc/Process/13.png\")\n",
    "\n",
    "    nCollection=[37,41,43,47,31]    \n",
    "    \n",
    "    # module fubar - function fAddBarLabels\n",
    "    fAddBarLabels(nParCollection=nCollection) # label over bar\n",
    "    fAddPlot(nCollection,[\"gray\",\"red\",\"blue\",\"gray\",\"gray\"])\n",
    "    # package matplotlib - module pyplot\n",
    "    xlabel(xlabel=\"k at [ 1 ] - E at [ 2 ]\",fontsize=12)\n",
    "    savefig(fname=f\"./rc/Process/14.png\") # Fig. 16. Move E and insert k.\n",
    "    close() # close figure window\n",
    "    nImagesLocalURL.append(\"./rc/Process/14.png\")\n",
    "\n",
    "    # module fubar - function fAddBarLabels\n",
    "    fAddBarLabels(nParCollection=nCollection) # label over bar\n",
    "    fAddPlot(nCollection,[\"blue\",\"red\",\"gray\",\"gray\",\"gray\"])\n",
    "    # package matplotlib - module pyplot\n",
    "    xlabel(xlabel=\"E > k = False\",fontsize=12)\n",
    "    savefig(fname=f\"./rc/Process/15.png\") # Fig. 17. Check E left of k.\n",
    "    close() # close figure window\n",
    "    nImagesLocalURL.append(\"./rc/Process/15.png\")\n",
    "    \n",
    "    # module fubar - function fAddBarLabels\n",
    "    fAddBarLabels(nParCollection=nCollection) # label over bar\n",
    "    fAddPlot(nCollection,[\"green\",\"green\",\"green\",\"green\",\"gray\"])\n",
    "    # package matplotlib - module pyplot\n",
    "    savefig(fname=f\"./rc/Partition/16.png\") # Fig. 18. End pass 2.\n",
    "    close() # close figure window\n",
    "    nImagesLocalURL.append(\"./rc/Partition/16.png\")\n",
    "\n",
    "    #\n",
    "    # Pass 3\n",
    "    #\n",
    "    \n",
    "    # module fubar - function fAddBarLabels\n",
    "    fAddBarLabels(nParCollection=nCollection) # label over bar\n",
    "    fAddPlot(nCollection,[\"gray\",\"gray\",\"gray\",\"gray\",\"red\"])\n",
    "    # package matplotlib - module pyplot\n",
    "    xlabel(xlabel=\"Set k at [ 4 ]\",fontsize=12)\n",
    "    savefig(fname=f\"./rc/Process/17.png\") # Fig. 19. Start pass 3\n",
    "    close() # close figure window\n",
    "    nImagesLocalURL.append(\"./rc/Process/17.png\")\n",
    "    \n",
    "    # module fubar - function fAddBarLabels\n",
    "    fAddBarLabels(nParCollection=nCollection) # label over bar\n",
    "    fAddPlot(nCollection,[\"blue\",\"blue\",\"blue\",\"blue\",\"red\"])\n",
    "    # package matplotlib - module pyplot\n",
    "    xlabel(xlabel=\"E > k = True\",fontsize=12)\n",
    "    savefig(fname=f\"./rc/Process/18.png\") # Fig. 20. Check all E left of k.\n",
    "    close() # close figure window\n",
    "    nImagesLocalURL.append(\"./rc/Process/18.png\")\n",
    "\n",
    "    nCollection=[31,37,41,43,47]\n",
    "    \n",
    "    # module fubar - function fAddBarLabels\n",
    "    fAddBarLabels(nParCollection=nCollection) # label over bar\n",
    "    fAddPlot(nCollection,[\"red\",\"blue\",\"blue\",\"blue\",\"blue\"])\n",
    "    # package matplotlib - module pyplot\n",
    "    xlabel(xlabel=\"k at [ 0 ]\",fontsize=12)\n",
    "    savefig(fname=f\"./rc/Process/19.png\") # Fig. 21. Move all E and insert k.\n",
    "    close() # close figure window\n",
    "    nImagesLocalURL.append(\"./rc/Process/19.png\") \n",
    "\n",
    "    #\n",
    "    # Sorted\n",
    "    # \n",
    "    \n",
    "    # module fubar - function fAddBarLabels\n",
    "    fAddBarLabels(nParCollection=nCollection) # label over bar\n",
    "    fAddPlot(nCollection,[\"green\",\"green\",\"green\",\"green\",\"green\"])\n",
    "    # package matplotlib - module pyplot\n",
    "    savefig(fname=f\"./rc/Sorted/20.png\") # Fig. 22. End pass 3.\n",
    "    close() # close figure window\n",
    "    nImagesLocalURL.append(\"./rc/Sorted/20.png\")    "
   ]
  },
  {
   "cell_type": "code",
   "execution_count": null,
   "metadata": {},
   "outputs": [],
   "source": [
    "def fInsertionSortTabs():\n",
    "    \"\"\"Populate algorithm Insertion Sort tabs for interative tab display.\n",
    "\n",
    "Input:\n",
    "Process: name nTabLabels global collection of string labels - len(nTabLabels)==len(nTabText);\n",
    "    name nTabText global collection of strings - len(nTabText)==len(nTabLabels);\n",
    "    name nTabOrder global collection of tab ordering - default is alphabetically\n",
    "Output: collections for use in fAddPlotTabs\n",
    "\"\"\"\n",
    "    \n",
    "    global nTabLabel,nTabText,nTabOrder\n",
    "    nTabLabel=[\"Collection\"]+[\"1\"]*4+[\"2\"]*6+[\"3\"]*7+[\"4\"]*3+[\"Sorted\"] # plot tab label\n",
    "    nTabText=[\"Fig. 1.\",\n",
    "              \"Fig. 2. Start pass 0.\",\n",
    "              \"Fig. 3. Check E left of k.\",\n",
    "              \"Fig. 4. Move E and insert k.\",\n",
    "              \"Fig. 5. End pass 0.\",\n",
    "              \"Fig. 6. Start pass 1.\",\n",
    "              \"Fig. 7. Check E left of k.\",\n",
    "              \"Fig. 8. Move E and insert k.\",\n",
    "              \"Fig. 9. Check E left of k.\",\n",
    "              \"Fig. 10. Move E and insert k.\",\n",
    "              \"Fig. 11. End pass 1.\",\n",
    "              \"Fig. 12. Start pass 2\",\n",
    "              \"Fig. 13. Check E left of k.\",\n",
    "              \"Fig. 14. Move E and insert k.\",\n",
    "              \"Fig. 15. Check E left of k.\",\n",
    "              \"Fig. 16. Move E and insert k.\",\n",
    "              \"Fig. 17. Check E left of k.\",\n",
    "              \"Fig. 18. End pass 2.\",\n",
    "              \"Fig. 19. Start pass 3\",\n",
    "              \"Fig. 20. Check all E left of k.\",\n",
    "              \"Fig. 21. Move all E and insert k.\",\n",
    "              \"Fig. 22. End pass 3.\"           \n",
    "             ] # report referral text\n",
    "    nTabOrder=[\"Collection\",\"1\",\"2\",\"3\",\"4\",\"Sorted\"] # default alphabetically reorder\n",
    "# --- END ---"
   ]
  },
  {
   "cell_type": "code",
   "execution_count": null,
   "metadata": {},
   "outputs": [],
   "source": [
    "def fMergeSortPlot():\n",
    "    from matplotlib.pyplot import xticks,xlabel\n",
    "    \n",
    "    #\n",
    "    # Partitions\n",
    "    #\n",
    "    \n",
    "    nCollection=[71,59,0,61,67,53]\n",
    "    \n",
    "    # module fubar - function fAddBarLabels\n",
    "    fAddBarLabels(nParCollection=nCollection) # label over bar\n",
    "    fAddPlot(nCollection,[\"gold\",\"gold\",\"gray\",\"yellow\",\"yellow\",\"yellow\"])    \n",
    "    # package matplotlib - module pyplot\n",
    "    xticks([]) # no x-axis ticks\n",
    "    xlabel(xlabel=\"n > 0 or 1 = True\",fontsize=12)\n",
    "    savefig(fname=f\"./rc/Process/0.png\") # Fig. 2. Check for base case.\n",
    "    close() # close figure window\n",
    "    nImagesLocalURL.append(\"./rc/Process/0.png\")\n",
    "\n",
    "    nCollection=[71,0,59,0,61,0,67,53]\n",
    "    \n",
    "    # module fubar - function fAddBarLabels\n",
    "    fAddBarLabels(nParCollection=nCollection) # label over bar\n",
    "    fAddPlot(nCollection,[\"gold\",\"gray\",\"gold\",\"gray\",\"yellow\",\"gray\",\"yellow\",\"yellow\"])\n",
    "    # package matplotlib - module pyplot\n",
    "    xticks([]) # no x-axis ticks    \n",
    "    xlabel(xlabel=\"n > 0 or 1 = True\",fontsize=12)\n",
    "    savefig(fname=f\"./rc/Process/1.png\") # Fig. 3. Check for base case.\n",
    "    close() # close figure window\n",
    "    nImagesLocalURL.append(\"./rc/Process/1.png\")\n",
    "\n",
    "    nCollection=[71,0,59,0,61,0,67,0,53]\n",
    "    \n",
    "    # module fubar - function fAddBarLabels\n",
    "    fAddBarLabels(nParCollection=nCollection) # label over bar\n",
    "    fAddPlot(nCollection,[\"gray\",\"gray\",\"gray\",\"gray\",\"gray\",\"gray\",\"yellow\",\"gray\",\"yellow\"])\n",
    "    # package matplotlib - module pyplot\n",
    "    xticks([]) # no x-axis ticks    \n",
    "    xlabel(xlabel=\"n > 0 or 1 = True\",fontsize=12)\n",
    "    savefig(fname=f\"./rc/Process/2.png\") # Fig. 4. Check for base case.\n",
    "    close() # close figure window\n",
    "    nImagesLocalURL.append(\"./rc/Process/2.png\")\n",
    "    \n",
    "    #\n",
    "    # Merge\n",
    "    #\n",
    "\n",
    "    nCollection=[71,59,0,61,67,53]\n",
    "    \n",
    "    # module fubar - function fAddBarLabels\n",
    "    fAddBarLabels(nParCollection=nCollection) # label over bar\n",
    "    fAddPlot(nCollection,[\"gold\",\"gold\",\"gray\",\"yellow\",\"yellow\",\"yellow\"])\n",
    "    # package matplotlib - module pyplot\n",
    "    xticks([]) # no x-axis ticks    \n",
    "    xlabel(xlabel=\"Swap(s) required = True\",fontsize=12)\n",
    "    savefig(fname=f\"./rc/Process/3.png\") # Fig. 5. Merge in-between.\n",
    "    close() # close figure window\n",
    "    nImagesLocalURL.append(\"./rc/Process/3.png\")\n",
    "    \n",
    "    nCollection=[59,71,0,53,61,67]\n",
    "    \n",
    "    # module fubar - function fAddBarLabels\n",
    "    fAddBarLabels(nParCollection=nCollection) # label over bar\n",
    "    fAddPlot(nCollection,[\"blue\",\"blue\",\"gray\",\"blue\",\"yellow\",\"blue\"])\n",
    "    # package matplotlib - module pyplot\n",
    "    xticks([]) # no x-axis ticks    \n",
    "    savefig(fname=f\"./rc/Process/4.png\") # Fig. 6. Eq. (3) requires E swap.\n",
    "    close() # close figure window\n",
    "    nImagesLocalURL.append(\"./rc/Process/4.png\")\n",
    "\n",
    "    nCollection=[59,71,53,61,67]\n",
    "    \n",
    "    # module fubar - function fAddBarLabels\n",
    "    fAddBarLabels(nParCollection=nCollection) # label over bar\n",
    "    fAddPlot(nCollection,[\"gray\",\"gray\",\"gray\",\"gray\",\"gray\"])\n",
    "    # package matplotlib - module pyplot\n",
    "    xticks([]) # no x-axis ticks\n",
    "    xlabel(xlabel=\"Swap(s) required = True\",fontsize=12)    \n",
    "    savefig(fname=f\"./rc/Process/5.png\") # Fig. 7. Merge in-between.\n",
    "    close() # close figure window\n",
    "    nImagesLocalURL.append(\"./rc/Process/5.png\")     \n",
    "\n",
    "    nCollection=[59,71,53,61,67]\n",
    "    \n",
    "    # module fubar - function fAddBarLabels\n",
    "    fAddBarLabels(nParCollection=nCollection) # label over bar\n",
    "    fAddPlot(nCollection,[\"blue\",\"blue\",\"blue\",\"blue\",\"blue\"])\n",
    "    # package matplotlib - module pyplot\n",
    "    xticks([]) # no x-axis ticks    \n",
    "    savefig(fname=f\"./rc/Process/6.png\") # Fig. 8. Eq. (3) requires E swap.\n",
    "    close() # close figure window\n",
    "    nImagesLocalURL.append(\"./rc/Process/6.png\")\n",
    "    \n",
    "    #\n",
    "    # Sorted\n",
    "    #\n",
    "    \n",
    "    nCollection=[53,59,61,67,71]\n",
    "    \n",
    "    # module fubar - function fAddBarLabels\n",
    "    fAddBarLabels(nParCollection=nCollection) # label over bar\n",
    "    fAddPlot(nCollection,[\"green\",\"green\",\"green\",\"green\",\"green\"])\n",
    "    # package matplotlib - module pyplot\n",
    "    xticks([]) # no x-axis ticks    \n",
    "    savefig(fname=f\"./rc/Sorted/7.png\") # Fig. 9.\n",
    "    close() # close figure window\n",
    "    nImagesLocalURL.append(\"./rc/Sorted/7.png\")    "
   ]
  },
  {
   "cell_type": "code",
   "execution_count": null,
   "metadata": {},
   "outputs": [],
   "source": [
    "def fMergeSortTabs():\n",
    "    \"\"\"Populate algorithm Merge Sort tabs for interative tab display.\n",
    "\n",
    "Input:\n",
    "Process: name nTabLabels global collection of string labels - len(nTabLabels)==len(nTabText);\n",
    "    name nTabText global collection of strings - len(nTabText)==len(nTabLabels);\n",
    "    name nTabOrder global collection of tab ordering - default is alphabetically\n",
    "Output: collections for use in fAddPlotTabs\n",
    "\"\"\"\n",
    "    global nTabLabel,nTabText,nTabOrder\n",
    "    nTabLabel=[\"Collection\"]+[\"Partitions\"]*3+[\"Merge\"]*4+[\"Sorted\"] # plot tab label\n",
    "    nTabText=[\"Fig. 1.\",\n",
    "              \"Fig. 2. Check for base case.\",\n",
    "              \"Fig. 3. Check for base case.\",\n",
    "              \"Fig. 4. Check for base case.\",\n",
    "              \"Fig. 5. Merge in-between.\",\n",
    "              \"Fig. 6. Eq. (3) requires E swap.\",\n",
    "              \"Fig. 7. Merge in-between.\",\n",
    "              \"Fig. 8. Eq. (3) requires E swap.\",\n",
    "              \"Fig. 9.\"\n",
    "             ] # report referral text\n",
    "    nTabOrder=[\"Collection\",\"Partitions\",\"Merge\",\"Sorted\"] # default alphabetically reorder\n",
    "# --- END ---"
   ]
  },
  {
   "cell_type": "code",
   "execution_count": null,
   "metadata": {},
   "outputs": [],
   "source": [
    "def fCountingSortPlot():\n",
    "    \"\"\"Populate algorithm Counting Sort tabs for interative tab display.\n",
    "\n",
    "Input:\n",
    "Process: name nTabLabels global collection of string labels - len(nTabLabels)==len(nTabText);\n",
    "    name nTabText global collection of strings - len(nTabText)==len(nTabLabels);\n",
    "    name nTabOrder global collection of tab ordering - default is alphabetically\n",
    "Output: collections for use in fAddPlotTabs\n",
    "\"\"\"    \n",
    "    from matplotlib.pyplot import hist,xlabel,ylabel,box,savefig,close,xticks\n",
    "\n",
    "    nCollection=[101,97,83,89,79,79,83,73,83]\n",
    "    \n",
    "    # package matplotlib - module pyplot\n",
    "    hist(nCollection,bins=23)\n",
    "    xlabel(\"Key values\")\n",
    "    ylabel(\"Number of Occurences\")\n",
    "    box(False)\n",
    "    savefig(fname=f\"./rc/Process/0.png\") # Fig. 2.\n",
    "    close() # close figure window\n",
    "    nImagesLocalURL.append(\"./rc/Process/0.png\")\n",
    "    \n",
    "    nCollection=sorted(nCollection)\n",
    "    \n",
    "    # module fubar - function fAddBarLabels\n",
    "    fAddBarLabels(nParCollection=nCollection) # label over bar\n",
    "    fAddPlot(nCollection,[\"green\",\"green\",\"green\",\"green\",\"green\",\"green\",\"green\",\"green\",\"green\"])\n",
    "    # package matplotlib - module pyplot\n",
    "    xticks([]) # no x-axis ticks    \n",
    "    savefig(fname=f\"./rc/Sorted/1.png\") # Fig. 3.\n",
    "    close() # close figure window\n",
    "    nImagesLocalURL.append(\"./rc/Sorted/1.png\")\n",
    "# --- END ---    "
   ]
  },
  {
   "cell_type": "code",
   "execution_count": null,
   "metadata": {},
   "outputs": [],
   "source": [
    "def fCountingSortTabs():\n",
    "    \"\"\"Populate algorithm Counting Sort tabs for interative tab display.\n",
    "\n",
    "Input:\n",
    "Process: name nTabLabels global collection of string labels - len(nTabLabels)==len(nTabText);\n",
    "    name nTabText global collection of strings - len(nTabText)==len(nTabLabels);\n",
    "    name nTabOrder global collection of tab ordering - default is alphabetically\n",
    "Output: collections for use in fAddPlotTabs\n",
    "\"\"\"\n",
    "    global nTabLabel,nTabText,nTabOrder\n",
    "    nTabLabel=[\"Collection\"]+[\"Histogram\"]+[\"Sorted\"] # plot tab label\n",
    "    nTabText=[\"Fig. 1.\",\n",
    "              \"Fig. 2.\",\n",
    "              \"Fig. 3.\"\n",
    "             ] # report referral text\n",
    "    nTabOrder=[\"Collection\",\"Histogram\",\"Sorted\"] # default alphabetically reorder\n",
    "# --- END ---"
   ]
  },
  {
   "cell_type": "code",
   "execution_count": null,
   "metadata": {},
   "outputs": [],
   "source": [
    "def fAddPlotTabs(nParAlgorithm,nParImageSize=325):\n",
    "    \"\"\"Display plots in an interactive tab.\n",
    "    Hardcoding labels and custom text.\n",
    "    Future implement: i) determine length of local url filepath; ii) automate label/text/order. \n",
    "    \n",
    "Input: nParAlgorithm; ParImageSize\n",
    "Process: (ipyplot._plotting.plot_class_tabs)\n",
    "Output: separating content into interactive tabs\n",
    "\"\"\"\n",
    "    from ipyplot._plotting import plot_class_tabs # [1]\n",
    "    \n",
    "    if nParAlgorithm==\"BubbleSort\":\n",
    "        # module fubar - function fBubbleSortTabs\n",
    "        fBubbleSortTabs()\n",
    "    elif nParAlgorithm==\"SelectionSort\":\n",
    "        # module fubar - function fSelectionSortTabs\n",
    "        fSelectionSortTabs()\n",
    "    elif nParAlgorithm==\"InsertionSort\":\n",
    "        # module fubar - function fInsertionSortTabs\n",
    "        fInsertionSortTabs()\n",
    "    elif nParAlgorithm==\"MergeSort\":\n",
    "        # module fubar - function fMergeSortTabs        \n",
    "        fMergeSortTabs()\n",
    "    elif nParAlgorithm==\"CountingSort\":\n",
    "        # module fubar - function fCountingSortTabs\n",
    "        fCountingSortTabs()\n",
    "\n",
    "    return plot_class_tabs(images=nImagesLocalURL, # global collection URLs\n",
    "                           labels=nTabLabel, # global collection tabs\n",
    "                           custom_texts=nTabText, # report referral text \n",
    "                           img_width=nParImageSize, # full screen snip  \n",
    "                           zoom_scale=1.0, # no zoom facility\n",
    "                           show_url=False, # hide filepath label\n",
    "                           tabs_order=nTabOrder) # default alphabetically reorder\n",
    "    \n",
    "    # [1] K. Żak, \"IPyPlot,\" GitHub, February 2021.\n",
    "# --- END ---"
   ]
  },
  {
   "cell_type": "code",
   "execution_count": null,
   "metadata": {},
   "outputs": [],
   "source": [
    "# module fubar - function fResetLoopCounter\n",
    "fResetLoopCounter() # reset loop counter \n",
    "# module fubar - function fResetLocalURL    \n",
    "fResetLocalURL() # reset URL filepaths"
   ]
  },
  {
   "cell_type": "code",
   "execution_count": null,
   "metadata": {},
   "outputs": [],
   "source": [
    "# exit() # do not execute"
   ]
  },
  {
   "cell_type": "markdown",
   "metadata": {},
   "source": [
    "< [Bubble Sort](#buildBubbleSort) | [Selection Sort](#buildSelectionSort) | [Insertion Sort](#buildinsertionSort) | [Merge Sort](#buildMergeSort) | [Counting Sort](#buildcountingsort) >"
   ]
  },
  {
   "cell_type": "markdown",
   "metadata": {},
   "source": [
    "< [Table of Contents](#top) | [References](#references) >\n",
    "<a id=\"Comparison\"></a>\n",
    "### Comparison\n",
    "***"
   ]
  },
  {
   "cell_type": "markdown",
   "metadata": {},
   "source": [
    "- thus far introduced the concept of comparison (comparator) functions and the idea of sorting elements by comparing their relative values [1]"
   ]
  },
  {
   "cell_type": "markdown",
   "metadata": {},
   "source": [
    "- comparison sorts are a specific class of sorting algorithm and probably the most fundamental and well-known [1]"
   ]
  },
  {
   "cell_type": "markdown",
   "metadata": {},
   "source": [
    "- uses comparison operations only to determine which of two elements should appear first in a sorted list based on some comparator function [1]"
   ]
  },
  {
   "cell_type": "markdown",
   "metadata": {},
   "source": [
    "- a comparator function with two inputs ``A`` and ``B`` will determine whether element ``A`` is valued greater than or equal to or less than element ``B`` [1]"
   ]
  },
  {
   "cell_type": "markdown",
   "metadata": {},
   "source": [
    "- sorting algorithms which work primarily or solely by this type of comparison operation between any two elements in a collection is called comparison-based [1]"
   ]
  },
  {
   "cell_type": "markdown",
   "metadata": {},
   "source": [
    "- many well known sorting algorithms incorporate gaining information about the total order by comparing a pair of elements at a time using the order relation $\\leq$ [1]"
   ]
  },
  {
   "cell_type": "markdown",
   "metadata": {},
   "source": [
    "- comparison-based sorts are probably the most widely applicable to diverse types of input data and are broadly applicable to any specific type of data required to sort [1]"
   ]
  },
  {
   "cell_type": "markdown",
   "metadata": {},
   "source": [
    "- fundamental to comparison-based sorting algorithms is that no algorithm which starts by comparing elements can do better than $n\\space log\\space n$ performance in the average or in the worst case [1]"
   ]
  },
  {
   "cell_type": "markdown",
   "metadata": {},
   "source": [
    "- Bubble Sort; Selection Sort; Insertion Sort; Merge Sort; Quicksort and; Heapsort all fall into this category of comparison-based sorting algorithms [1]"
   ]
  },
  {
   "cell_type": "markdown",
   "metadata": {},
   "source": [
    "![comparison-based-sorting-algorithms](https://github.com/SeanOhAileasa/SeanOhAileasa/blob/master/rc/cta/sorting/comparison-based-sorting-algorithms.png?raw=true)\n",
    "\n",
    "***(Image) P. Mannion, \"03 Analysing Algorithms Part 1,\" GMIT, October 2017.***"
   ]
  },
  {
   "cell_type": "code",
   "execution_count": null,
   "metadata": {},
   "outputs": [],
   "source": [
    "exit()"
   ]
  },
  {
   "cell_type": "markdown",
   "metadata": {},
   "source": [
    "< [Table of Contents](#top) | [References](#references) >\n",
    "<a id=\"comparisonSimple\"></a>\n",
    "###### Simple\n",
    "***"
   ]
  },
  {
   "cell_type": "markdown",
   "metadata": {},
   "source": [
    "&#x1F6A7;"
   ]
  },
  {
   "cell_type": "code",
   "execution_count": null,
   "metadata": {},
   "outputs": [],
   "source": [
    "exit()"
   ]
  },
  {
   "cell_type": "markdown",
   "metadata": {},
   "source": [
    "< [Table of Contents](#top) | [References](#references) >\n",
    "<a id=\"Bubble-Sort\"></a>\n",
    "###### Bubble Sort\n",
    "***"
   ]
  },
  {
   "cell_type": "markdown",
   "metadata": {},
   "source": [
    "![title-overview-sorting-algorithms](https://github.com/SeanOhAileasa/SeanOhAileasa/blob/master/rc/cta/sorting/title-overview-sorting-algorithms.png?raw=true)\n",
    "![bubble](https://github.com/SeanOhAileasa/SeanOhAileasa/blob/master/rc/cta/sorting/bubble.png?raw=true)\n",
    "\n",
    "***(Image) P. Mannion, \"03 Analysing Algorithms Part 1,\" GMIT, October 2017.***"
   ]
  },
  {
   "cell_type": "markdown",
   "metadata": {},
   "source": [
    "- first analysed formally as early as 1956 - named for the way that larger $E$ in a $C$ \"bubble up\" to the end as sorting takes place [3]"
   ]
  },
  {
   "cell_type": "markdown",
   "metadata": {},
   "source": [
    "- has a linear $n$ time complexity in the best-case and quadratic (polynomial) $n^2$ time complexity in the worst and average cases [3]"
   ]
  },
  {
   "cell_type": "markdown",
   "metadata": {},
   "source": [
    "- comparison-based algorithm and achieves in-place sorting meaning it uses only the size $n$ plus a constant amount of additional working space in addition to the memory required for the input - the additional working space which is required is just a few variables to make the swaps between $E$ in different places - if an $E$ is identified thats out of order then need some additional variables to use as working space whereby a temporary variable is used to achieve the swap [3]"
   ]
  },
  {
   "cell_type": "markdown",
   "metadata": {},
   "source": [
    "- very simple to understand and to implement and to explain it conceptually but its very slow and its impractical for most problems even when its compared to Insertion Sort or Selection Sort - the only practical use case is on data which is nearly sorted or for very small input datasets but Insertion Sort is still probably better [3]"
   ]
  },
  {
   "cell_type": "code",
   "execution_count": null,
   "metadata": {},
   "outputs": [],
   "source": [
    "exit()"
   ]
  },
  {
   "cell_type": "markdown",
   "metadata": {},
   "source": [
    "< [Table of Contents](#top) | [References](#references) >\n",
    "<a id=\"procedurebubbleSort\"></a>\n",
    "###### Procedure\n",
    "***"
   ]
  },
  {
   "cell_type": "markdown",
   "metadata": {},
   "source": [
    "- first starts comparing each element except the last element with its neighbour to the right [3]"
   ]
  },
  {
   "cell_type": "markdown",
   "metadata": {},
   "source": [
    "- if those elements are out of order then swap them putting the largest element at the very [3]"
   ]
  },
  {
   "cell_type": "markdown",
   "metadata": {},
   "source": [
    "- the largest element will now be in its correct and final place [3]"
   ]
  },
  {
   "cell_type": "markdown",
   "metadata": {},
   "source": [
    "- repeating this process so the next time comparing each element except the last two with its neighbour to the right [3]"
   ]
  },
  {
   "cell_type": "markdown",
   "metadata": {},
   "source": [
    "- if the elements are out of order then swap them putting the second largest element next to last position [3]"
   ]
  },
  {
   "cell_type": "markdown",
   "metadata": {},
   "source": [
    "- the last two elements will now be in their correct and final places [3]"
   ]
  },
  {
   "cell_type": "markdown",
   "metadata": {},
   "source": [
    "- repeating this step again comparing each element except for the last three with its neighbour to the right [3]"
   ]
  },
  {
   "cell_type": "markdown",
   "metadata": {},
   "source": [
    "- for each element if out of order then swap them putting the third largest element at the third last position [3]"
   ]
  },
  {
   "cell_type": "markdown",
   "metadata": {},
   "source": [
    "- continuing this process until there are no unsorted elements remaining on the left [3]"
   ]
  },
  {
   "cell_type": "markdown",
   "metadata": {},
   "source": [
    "- the input dataset or collection assumes that everything to the left is unsorted and as it goes through each iteration the element which is on the right become sorted [3]"
   ]
  },
  {
   "cell_type": "markdown",
   "metadata": {},
   "source": [
    "- the collection becomes partitioned into two different parts whereby all the large values have bubbled up to the top or all have been sorted up to the right hand-side and will see that the size of that sorted partition becomes larger and grows down to the left of the collection as the algorithm does its work [3]"
   ]
  },
  {
   "cell_type": "code",
   "execution_count": null,
   "metadata": {},
   "outputs": [],
   "source": [
    "exit()"
   ]
  },
  {
   "cell_type": "markdown",
   "metadata": {},
   "source": [
    "< [Table of Contents](#top) | [References](#references) >\n",
    "<a id=\"bubbleSortProcess\"></a>\n",
    "###### Process\n",
    "***"
   ]
  },
  {
   "cell_type": "markdown",
   "metadata": {},
   "source": [
    "$$[7,5,2,3,1]$$\n",
    "\n",
    "![bubble-sort-first-element](https://github.com/SeanOhAileasa/SeanOhAileasa/blob/master/rc/cta/sorting/bubble-sort-first-element.png?raw=true)\n",
    "\n",
    "***(Image) P. Mannion, \"08 Sorting Algorithms Part 2,\" GMIT, November 2017.***"
   ]
  },
  {
   "cell_type": "markdown",
   "metadata": {},
   "source": [
    "$$[5,2,3,1,7]$$\n",
    "\n",
    "![bubble-sort-second-element](https://github.com/SeanOhAileasa/SeanOhAileasa/blob/master/rc/cta/sorting/bubble-sort-second-element.png?raw=true)\n",
    "\n",
    "***(Image) P. Mannion, \"08 Sorting Algorithms Part 2,\" GMIT, November 2017.***"
   ]
  },
  {
   "cell_type": "markdown",
   "metadata": {},
   "source": [
    "$$[2,3,1,5,7]$$\n",
    "\n",
    "![bubble-sort-third-element](https://github.com/SeanOhAileasa/SeanOhAileasa/blob/master/rc/cta/sorting/bubble-sort-third-element.png?raw=true)\n",
    "\n",
    "***(Image) P. Mannion, \"08 Sorting Algorithms Part 2,\" GMIT, November 2017.***"
   ]
  },
  {
   "cell_type": "markdown",
   "metadata": {},
   "source": [
    "$$[2,1,3,5,7]$$\n",
    "\n",
    "![bubble-sort-in-order](https://github.com/SeanOhAileasa/SeanOhAileasa/blob/master/rc/cta/sorting/bubble-sort-in-order.png?raw=true)\n",
    "\n",
    "***(Image) P. Mannion, \"08 Sorting Algorithms Part 2,\" GMIT, November 2017.***"
   ]
  },
  {
   "cell_type": "code",
   "execution_count": null,
   "metadata": {},
   "outputs": [],
   "source": [
    "exit()"
   ]
  },
  {
   "cell_type": "markdown",
   "metadata": {},
   "source": [
    "< [Table of Contents](#top) | [References](#references) >\n",
    "<a id=\"bubbleSortImplementationJava\"></a>\n",
    "###### Implementation - Java\n",
    "***"
   ]
  },
  {
   "cell_type": "markdown",
   "metadata": {},
   "source": [
    "- ``bubbleSort`` is a ``public static`` method meaning it can be called without having to instantiate the class its contained in - the method returns ``void`` meaning it does not return anything - within the parentheses declaring a single local variable (input parameter) being a $C$ of integers ``a`` [3]\n",
    "\n",
    "```Java\n",
    "public static void bubbleSort(int[] a){\n",
    "```"
   ]
  },
  {
   "cell_type": "markdown",
   "metadata": {},
   "source": [
    "- declaring local integer variables ``outer`` and ``inner`` as loop counting variables - the Bubble Sort high-level procedure specifies that for all $E$ up to the second last $E$ compare with its neighbour - the resulting behaviour of Bubble Sort is a sorted partition on the right that grows by one $E$ every time [3]\n",
    "\n",
    "```Java\n",
    "public static void bubbleSort(int[] a){\n",
    "\tint outer,inner;\n",
    "```"
   ]
  },
  {
   "cell_type": "markdown",
   "metadata": {},
   "source": [
    "- outer ``for`` loop with integer loop counter ``outer`` initially assigned the length of the $C$ minus ``1`` and while ``outer`` is greater than ``0`` then ``outer--`` decrements the value of ``outer`` by one at each iteration - each execution counts down from the RHS meaning the sorted partition on the right has grown by one $E$ - loop counter ``outer`` must be greater than ``0`` meaning that if there is only one $E$ left in the unsorted partition then everything else has been sorted in the sorted partition on the right therefore the loop does not need to run again [3] \n",
    "\n",
    "```Java\n",
    "public static void bubbleSort(int[] a){\n",
    "\tint outer,inner;\n",
    "\tfor(outer=a.length-1; outer>0; outer--){ // counting down\n",
    "```"
   ]
  },
  {
   "cell_type": "markdown",
   "metadata": {},
   "source": [
    "- inner ``for`` loop with integer loop counter ``inner`` initially assigned ``0`` and while ``inner`` is less than ``outer`` then ``inner++`` increments the value of ``inner`` by one at each iteration - starting at the leftmost $E$ with ``inner`` equals ``0`` on the condition that ``inner`` is less than ``outer`` then when initially dealing with the full length of the $C$ the value of ``outer`` would start off as the length of ``outer`` minus ``1`` - given ``inner`` must be less than ``outer`` then ``inner`` would go as far as the $[\\space outer-2\\space ]$ - the Bubble Sort high-level procedure specifies that every $E$ up until the second last $E$ do a comparison with its neighbour to its right [3] \n",
    "\n",
    "```Java\n",
    "public static void bubbleSort(int[] a){\n",
    "\tint outer,inner;\n",
    "\tfor(outer=a.length-1; outer>0; outer--){ // counting down\n",
    "\t\tfor(inner=0; inner<outer; inner++){ // bubbling up\n",
    "```"
   ]
  },
  {
   "cell_type": "markdown",
   "metadata": {},
   "source": [
    "- inside the inner loop comparing the value of the $[\\space inner\\space ]$ with its neighbour - starting at the leftmost value $[\\space inner\\space ]$ being ``0`` then the condition checks if $[\\space 0\\space ]$ is greater than $[\\space 1\\space ]$ - if so this indicates an inversion meaning both are out of order with respect to one another initiating a swap operation - if it is identified that the $E$ at $[\\space inner\\space ]$ is greater than its neighbour $E$ to its right $[\\space inner+1\\space ]$ then the swap operation is initiated [3]\n",
    "\n",
    "```Java\n",
    "public static void bubbleSort(int[] a){\n",
    "\tint outer,inner;\n",
    "\tfor(outer=a.length-1; outer>0; outer--){ // counting down\n",
    "\t\tfor(inner=0; inner<outer; inner++){ // bubbling up\n",
    "\t\t\tif (a[inner]>a[inner+1]){ // out of order\n",
    "```"
   ]
  },
  {
   "cell_type": "markdown",
   "metadata": {},
   "source": [
    "- in order to perform the sway operation declaring local integer variable ``temporary`` and assigning the $E$ at the $[\\space inner \\space]$ - this stores the old value that in the index/position that going to be soon replaced [3]\n",
    "\n",
    "```Java\n",
    "public static void bubbleSort(int[] a){\n",
    "\tint outer,inner;\n",
    "\tfor(outer=a.length-1; outer>0; outer--){ // counting down\n",
    "\t\tfor(inner=0; inner<outer; inner++){ // bubbling up\n",
    "\t\t\tif (a[inner]>a[inner+1]){ // out of order\n",
    "\t\t\t\tint temporary=a[inner]; // swap operation\n",
    "```"
   ]
  },
  {
   "cell_type": "markdown",
   "metadata": {},
   "source": [
    "- assigning the $E$ at $[\\space inner \\space]$ its neighbour the $E$ at $[\\space inner\\space +1]$ [3]\n",
    "\n",
    "```Java\n",
    "public static void bubbleSort(int[] a){\n",
    "\tint outer,inner;\n",
    "\tfor(outer=a.length-1; outer>0; outer--){ // counting down\n",
    "\t\tfor(inner=0; inner<outer; inner++){ // bubbling up\n",
    "\t\t\tif (a[inner]>a[inner+1]){ // out of order\n",
    "\t\t\t\tint temporary=a[inner]; // swap operation\n",
    "\t\t\t\ta[inner]=a[inner+1]; // swap operation\n",
    "```"
   ]
  },
  {
   "cell_type": "markdown",
   "metadata": {},
   "source": [
    "- assigning the $E$ at $[\\space inner \\space +1]$ the $E$ stored in variable ``temporary`` [3]\n",
    "\n",
    "```Java\n",
    "public static void bubbleSort(int[] a){\n",
    "\tint outer,inner;\n",
    "\tfor(outer=a.length-1; outer>0; outer--){ // counting down\n",
    "\t\tfor(inner=0; inner<outer; inner++){ // bubbling up\n",
    "\t\t\tif (a[inner]>a[inner+1]){ // out of order\n",
    "\t\t\t\tint temporary=a[inner]; // swap operation\n",
    "\t\t\t\ta[inner]=a[inner+1]; // swap operation\n",
    "\t\t\t\ta[inner+1]=temporary; // swap operation\n",
    "```"
   ]
  },
  {
   "cell_type": "code",
   "execution_count": null,
   "metadata": {},
   "outputs": [],
   "source": [
    "exit()"
   ]
  },
  {
   "cell_type": "markdown",
   "metadata": {},
   "source": [
    "< [Table of Contents](#top) | [References](#references) >\n",
    "<a id=\"buildBubbleSort\"></a>\n",
    "###### Build\n",
    "***"
   ]
  },
  {
   "cell_type": "markdown",
   "metadata": {},
   "source": [
    "- interactive tabs require installation of IPyPlot [7]\n",
    "\n",
    "\n",
    "- IPyPlot can be installed through PyPI:\n",
    "\n",
    "```\n",
    "pip install ipyplot\n",
    "```\n",
    "\n",
    "\n",
    "- or directly from this repo using pip:\n",
    "\n",
    "```\n",
    "pip install git+https://github.com/karolzak/ipyplot\n",
    "```"
   ]
  },
  {
   "cell_type": "markdown",
   "metadata": {},
   "source": [
    "###### Start Here\n",
    "***\n",
    "< [Build Interactive Tabs](#buildPlotImageInteractiveTabs) >"
   ]
  },
  {
   "cell_type": "code",
   "execution_count": null,
   "metadata": {},
   "outputs": [],
   "source": [
    "nCollection=[11,7,3,5,2] # collection of primes"
   ]
  },
  {
   "cell_type": "markdown",
   "metadata": {},
   "source": [
    "- the outer ``for`` loop produces a sequence of integers using the built-in function ``range`` - the ``range`` parameter ``start`` is assigned the length of the function ``fBubbleSort`` parameter ``nParCollection`` minus ``1`` using the built-in function ``len`` - loop counting name$^1$ ``nOuter`` is initially assigned the value ``4`` which is the result of the ``range`` parameter ``start`` value ``5`` minus ``1`` [3][5] - name ``nOuter`` must be greater than ``0`` in the outer ``for`` loop [3] so the ``range`` parameter ``stop`` is assigned ``0`` which is exclusive meaning the final value of name ``nOuter`` will be ``1`` on the final iteration of the outer ``for`` loop - the outer ``for`` loop counts down from the RHS decrementing the value of name ``nOuter`` every time by assigning ``-1`` to the ``range`` parameter ``step`` - the high-level Bubble Sort procedure specifies that for all elements up to the second last element a comparison is made of each with its neighbour to its right - given each outer ``for`` loop execution counts down from the RHS then can assume the sorted sublist (partition) on the RHS has grown by one element - given name ``nOuter`` must be greater than ``0`` then this implies that if one element is left in the unsorted partition on the LHS then everything else has been sorted in the sorted list on the RHS and the loop does not need to run again [3][5] \n",
    "\n",
    "```python\n",
    "def fBubbleSort(nParCollection):\n",
    "    for nOuter in range(len(nParCollection)-1,0,-1) # counting down\n",
    "```"
   ]
  },
  {
   "cell_type": "markdown",
   "metadata": {},
   "source": [
    "- the inner ``for`` loop produces a sequence of integers using ``range`` - the ``range`` parameter ``stop`` is assigned the current value of name ``nOuter`` which is exclusive meaning the final value of the loop counting name ``nInner`` will be ``3`` (not ``4``) - the ``range`` parameter ``start`` defaults to ``0`` (inclusive) then the name ``nInner`` is first initialised the value ``0`` which is the leftmost element [3][5] - the value of name ``nOuter`` starts at index/position $[\\space 4\\space ]$ and given the value of name ``nInner`` has to be less than the name ``nOuter`` then ``nInner`` ends at $[\\space 3 \\space]$ - this corresponds to the high-level procedure for Bubble Sort checking every element up until the second last and doing the comparison with its neighbour to its right [3]\n",
    "\n",
    "```python\n",
    "def fBubbleSort(nParCollection):\n",
    "    for nOuter in range(len(nParCollection)-1,0,-1) # counting down\n",
    "        for nInner in range(nOuter) # bubbling up\n",
    "```"
   ]
  },
  {
   "cell_type": "markdown",
   "metadata": {},
   "source": [
    "- the inner loop code block starts at the leftmost value of name ``nInner`` which is ``0`` - if the $C$ $[\\space 0\\space ]$ is greater than $C$ $[\\space 1 \\space]$ then the swap is initiated - declaring a temporary name ``nTemporary`` assigned the $E$ ``nParCollection[nIinner]`` as this will be later reassigned - if is identified that the value of the element which is stored at the index called ``nInner`` is greater than the value of the $E$ which is stored at the index directly to its right then do the swap [3]\n",
    "\n",
    "```python\n",
    "def fBubbleSort(nParCollection):\n",
    "    for nOuter in range(len(nParCollection)-1,0,-1): # counting down\n",
    "        for nInner in range(nOuter): # bubbling up\n",
    "            if nParCollection[nInner]>nParCollection[nInner+1]: # out of order\n",
    "                nTemporary=nParCollection[nInner] # swap operation\n",
    "                nParCollection[nInner]=nParCollection[nInner+1] # swap operation\n",
    "                nParCollection[nInner+1]=nTemporary # swap operation\n",
    "# [...] https://runestone.academy/runestone/books/published/pythonds/SortSearch/TheBubbleSort.html\n",
    "```"
   ]
  },
  {
   "cell_type": "markdown",
   "metadata": {},
   "source": [
    "###### Footer\n",
    "***\n",
    "\n",
    "1. python does not have variables only names to references (name and variable used interchangeably [[realpython](http://web.archive.org/web/20210331063048/https://realpython.com/pointers-in-python)]"
   ]
  },
  {
   "cell_type": "code",
   "execution_count": null,
   "metadata": {},
   "outputs": [],
   "source": [
    "from matplotlib.pyplot import savefig,close"
   ]
  },
  {
   "cell_type": "code",
   "execution_count": null,
   "metadata": {},
   "outputs": [],
   "source": [
    "# module fubar - function fAddLocalURL\n",
    "fAddLocalURL(nParOuterIndex=None,nParInnerIndex=None,nParRC=\"Unsorted\") # assign URL \"./rc/Unsorted\"\n",
    "# module fubar - function fAddBarBlue - function fAddPlot\n",
    "fAddPlot(nParCollection=nCollection, # collection under analysis\n",
    "         nParColor=fAddBarBlue(nParCollection=nCollection,nParIndex=-1)) # plot gray bar\n",
    "# package matplotlib - module pyplot\n",
    "savefig(fname=f\"./rc/Unsorted/OuterNoneInnerNone.png\")\n",
    "close() # close figure window"
   ]
  },
  {
   "cell_type": "markdown",
   "metadata": {},
   "source": [
    "```python\n",
    "# define function - fBubbleSort\n",
    "def fBubbleSort(nParCollection):\n",
    "    \"\"\"Bubble Sort Algorithm.\n",
    "    Source: https://runestone.academy/runestone/books/published/pythonds/SortSearch/TheBubbleSort.html\n",
    "Input: nParCollection\n",
    "Process: \n",
    "Output: sorted collection (in-place)\n",
    "\"\"\"     \n",
    "    for nOuterIndex in range(len(nParCollection)-1,0,-1): # counting down RHS\n",
    "        for nInnerIndex in range(nOuterIndex): # bubbling up LHS\n",
    "            if nParCollection[nInnerIndex]>nParCollection[nInnerIndex+1]: # out of order\n",
    "                nTemporary=nParCollection[nInnerIndex] # capture inner counter\n",
    "                nParCollection[nInnerIndex]=nParCollection[nInnerIndex+1] # swap adjacent element\n",
    "                nParCollection[nInnerIndex+1]=nTemporary # swap inner counter\n",
    "# --- END ---\n",
    "```"
   ]
  },
  {
   "cell_type": "code",
   "execution_count": null,
   "metadata": {},
   "outputs": [],
   "source": [
    "# define function - fBubbleSort\n",
    "def fBubbleSort(nParCollection):\n",
    "    \n",
    "    for nOuterIndex in range(len(nParCollection)-1,0,-1):        \n",
    "        for nInnerIndex in range(nOuterIndex):\n",
    "            \n",
    "            if nParCollection[nInnerIndex]>nParCollection[nInnerIndex+1]:\n",
    "                \n",
    "            # Visualise (Process \"BLUE\")\n",
    "            # ==========                \n",
    "                # module fubar - function fAddSwapCount\n",
    "                fAddSwapCount() # tally loop counter                \n",
    "                # module fubar - function fAddLocalURL\n",
    "                fAddLocalURL(nParOuterIndex=nOuterIndex,nParInnerIndex=nInnerIndex) # preassigned URL \"./rc/Process\"\n",
    "                # module fubar - function fAddBarBlue - function fAddPlot\n",
    "                fAddPlot(nParCollection=nParCollection, # collection under analysis\n",
    "                         nParColor=fAddBarBlue(nParCollection=nParCollection,nParIndex=nInnerIndex)) # plot blue bar\n",
    "                # package matplotlib - module pyplot\n",
    "                savefig(fname=f\"./rc/Process/Outer{nOuterIndex}Inner{nInnerIndex}.png\")\n",
    "                close() # close figure window\n",
    "            # ==========\n",
    "            # END Visual\n",
    "                \n",
    "                nTemporary=nParCollection[nInnerIndex]\n",
    "                nParCollection[nInnerIndex]=nParCollection[nInnerIndex+1]\n",
    "                nParCollection[nInnerIndex+1]=nTemporary\n",
    "\n",
    "        # alternative visualisation criteria\n",
    "            else:\n",
    "                \n",
    "            # Visualise (Process \"BLUE\")\n",
    "            # ==========                \n",
    "                fAddLocalURL(nParOuterIndex=nOuterIndex,nParInnerIndex=nInnerIndex) # preassigned URL \"./rc/Process\"                \n",
    "                # module fubar - function fAddBarBlue - function fAddPlot\n",
    "                fAddPlot(nParCollection=nParCollection, # collection under analysis\n",
    "                         nParColor=fAddBarBlue(nParCollection=nParCollection,nParIndex=nInnerIndex)) # plot blue bar\n",
    "                # package matplotlib - module pyplot\n",
    "                savefig(fname=f\"./rc/Process/Outer{nOuterIndex}Inner{nInnerIndex}.png\")                \n",
    "                close() # close figure window\n",
    "            # ==========\n",
    "            # END Visual\n",
    "            \n",
    "    # Visualise (Partition \"GREEN\")\n",
    "    # ==========                 \n",
    "        fAddLocalURL(nParOuterIndex=nOuterIndex,nParInnerIndex=nInnerIndex,nParRC=\"Partition\") # assign URL \"./rc/Partition\"\n",
    "        # module fubar - function fAddBarGreen - function fAddPlot\n",
    "        fAddPlot(nParCollection=nParCollection, # collection under analysis\n",
    "                 nParColor=fAddBarGreen(nParCollection=nParCollection,nParIndex=nOuterIndex)) # plot green bar\n",
    "        # package matplotlib - module pyplot\n",
    "        savefig(fname=f\"./rc/Partition/Outer{nOuterIndex}Inner{nInnerIndex}.png\")       \n",
    "        # package matplotlib - module pyplot\n",
    "        close() # close figure window\n",
    "    # ==========\n",
    "    # END Visual\n",
    "    \n",
    "    # module fubar - function fAddLocalURL\n",
    "    fAddLocalURL(nParOuterIndex=None,nParInnerIndex=None,nParRC=\"Sorted\") # assign URL \"./rc/Sorted\"\n",
    "    # module fubar - function fAddBarBlue - function fAddPlot\n",
    "    fAddPlot(nParCollection=nCollection, # collection under analysis\n",
    "             nParColor=fAddBarGreen(nParCollection=nCollection,nParIndex=-1)) # plot green bar\n",
    "    # package matplotlib - module pyplot\n",
    "    savefig(fname=f\"./rc/Sorted/OuterNoneInnerNone.png\")\n",
    "    close() # close figure window\n",
    "\n",
    "    # module fubar - function fAddPlotTabs\n",
    "    fAddPlotTabs(nParAlgorithm=fBubbleSort.__name__[1:]) # report plot tabs"
   ]
  },
  {
   "cell_type": "code",
   "execution_count": null,
   "metadata": {
    "scrolled": false
   },
   "outputs": [],
   "source": [
    "# call function - fBubbleSort\n",
    "fBubbleSort(nCollection)"
   ]
  },
  {
   "cell_type": "markdown",
   "metadata": {},
   "source": [
    "&#x1F6A7; screenshot/save for reference"
   ]
  },
  {
   "cell_type": "code",
   "execution_count": null,
   "metadata": {},
   "outputs": [],
   "source": [
    "%%script bash \n",
    "# copy local URLs / clean working URLs\n",
    "rm -rf ./rc/BubbleSort/Unsorted; mv ./rc/Unsorted ./rc/BubbleSort/; mkdir ./rc/Unsorted\n",
    "rm -rf ./rc/BubbleSort/Process; mv ./rc/Process ./rc/BubbleSort/; mkdir ./rc/Process\n",
    "rm -rf ./rc/BubbleSort/Partition; mv ./rc/Partition ./rc/BubbleSort/; mkdir ./rc/Partition\n",
    "rm -rf ./rc/BubbleSort/Sorted; mv ./rc/Sorted ./rc/BubbleSort/; mkdir ./rc/Sorted"
   ]
  },
  {
   "cell_type": "markdown",
   "metadata": {},
   "source": [
    "###### Re-Run \n",
    "***\n",
    "< [Build Interactive Tabs](#buildPlotImageInteractiveTabs) >\n",
    "\n",
    "- Shutdown Jupyter Notebook and restart to build additional sorting algorithms plots/images."
   ]
  },
  {
   "cell_type": "code",
   "execution_count": null,
   "metadata": {},
   "outputs": [],
   "source": [
    "exit()"
   ]
  },
  {
   "cell_type": "markdown",
   "metadata": {},
   "source": [
    "< [Table of Contents](#top) | [References](#references) >\n",
    "<a id=\"bubbleSortProcedure\"></a>\n",
    "###### Procedure\n",
    "***"
   ]
  },
  {
   "cell_type": "markdown",
   "metadata": {},
   "source": [
    "- sorting a $C$ (tab called Collection) of prime numbers $(\\space 11,\\space 7,\\space 3,\\space 5,\\space 2\\space )$ with out of order $E$ or inversions (Fig. 1.) ($E$ state shown in gray) [3][7]"
   ]
  },
  {
   "cell_type": "markdown",
   "metadata": {},
   "source": [
    "![image](https://github.com/SeanOhAileasa/cta-sorting/blob/main/rc/BubbleSort/Collection.png?raw=true)"
   ]
  },
  {
   "cell_type": "markdown",
   "metadata": {},
   "source": [
    "- traversing the $C$ from right to left each outer loop iteration (loop counter shown as a separate tab for each pass) swaps adjacent $E$ as needed resulting in the largest $E$ being in its final position (swap operation shown in blue) [3]"
   ]
  },
  {
   "cell_type": "markdown",
   "metadata": {},
   "source": [
    "- the outer loop interation is always counting down so the resulting sorted partition populates from the RHS - the $E$ within the inner loop iteration (loop counter shown afloat the plot information within the plot box for each pass) must alway be one less than the outer loop iteration ensuring: i) the swap operation does not go out of bounds by comparing $E$ outside the actual length of the $C$ and; ii) the $C$ assumes that everything to the left is unsorted and as it goes through each iteration the $E$ which is on the right become sorted (Fig. 16) [3]"
   ]
  },
  {
   "cell_type": "markdown",
   "metadata": {},
   "source": [
    "- starting at the leftmost index/position the outer loop $E$ $i$ is compared with its neighbour to its right $E$ $j$ exclusive of the last $E$ - this comparison checks for inversion [3][4] subject to the following $P$ [1]:\n",
    "\n",
    "$$[\\space i\\space ]<[\\space j\\space ]\\equiv i<j\\tag{1}$$ "
   ]
  },
  {
   "cell_type": "markdown",
   "metadata": {},
   "source": [
    "- Fig. (2) shows $E$ $i$ is greater than $E$ $j$ - to satisfy $P.\\space 1$ requires $E$ $i$ moving one position to the right into $[\\space j\\space ]$ and $E$ $j$ moving one position to the left into $[\\space i\\space ]$ (Fig. 3) - the process continues for adjacent $E$ (Fig. 4 to Fig. 5) [3] - when the first outer loop iteration is complete (Fig. 6) the last $E$ is now in its correct and final position (sorted partition shown in green) [4]"
   ]
  },
  {
   "cell_type": "markdown",
   "metadata": {},
   "source": [
    "![image](https://github.com/SeanOhAileasa/cta-sorting/blob/main/rc/BubbleSort/4.png?raw=true)"
   ]
  },
  {
   "cell_type": "markdown",
   "metadata": {},
   "source": [
    "- the outer loop iteration restarts (Fig. 7) repeating the comparison/swap procedure following $P.\\space 1$ exclusive of the last two $E$ - when the second outer loop iteration is complete (Fig. 10) the last two $E$ are now in there correct and final position - the sorted partition now has two $E$ (Fig. 10) [4]"
   ]
  },
  {
   "cell_type": "markdown",
   "metadata": {},
   "source": [
    "![image](https://github.com/SeanOhAileasa/cta-sorting/blob/main/rc/BubbleSort/3.png?raw=true)"
   ]
  },
  {
   "cell_type": "markdown",
   "metadata": {},
   "source": [
    "- the outer loop iteration restarts (Fig. 11) - in this instance the leftmost $E$ already satisfies $P.\\space 1$ therefore requiring no action - Fig. 12 shows the comparison/swap procedure following $P.\\space 1$ exclusive of the last three $E$ - when the third outer loop iteration is complete (Fig. 13) the last three $E$ are now in there correct and final position - the sorted partition now has three $E$ (Fig. 13) [4]"
   ]
  },
  {
   "cell_type": "markdown",
   "metadata": {},
   "source": [
    "![image](https://github.com/SeanOhAileasa/cta-sorting/blob/main/rc/BubbleSort/2.png?raw=true)"
   ]
  },
  {
   "cell_type": "markdown",
   "metadata": {},
   "source": [
    "- the outer loop iteration restarts (Fig. 14) repeating the comparison/swap procedure following $P.\\space 1$ exclusive of the last four $E$ - the Bubble Sort algorithm is complete when there is no unsorted $E$ remaining on the left (Fig. 15) [3] - the fourth outer loop iteration is now complete (Fig. 15) - the $C$ assumes that everything to the left is unsorted and as it goes through each iteration the $E$ which is on the right become sorted [3]"
   ]
  },
  {
   "cell_type": "markdown",
   "metadata": {},
   "source": [
    "![image](https://github.com/SeanOhAileasa/cta-sorting/blob/main/rc/BubbleSort/1.png?raw=true)"
   ]
  },
  {
   "cell_type": "markdown",
   "metadata": {},
   "source": [
    "- the $C$ (tab called Sorted) becomes partitioned (Fig. 16) into two different parts whereby all the larger values have bubbled up to the top (sorted up to the RHS) - the size of the sorted partition grows down to the left of the $C$ as the algorithm does its work [3]"
   ]
  },
  {
   "cell_type": "markdown",
   "metadata": {},
   "source": [
    "![image](https://github.com/SeanOhAileasa/cta-sorting/blob/main/rc/BubbleSort/Sorted.png?raw=true)"
   ]
  },
  {
   "cell_type": "code",
   "execution_count": null,
   "metadata": {},
   "outputs": [],
   "source": [
    "exit()"
   ]
  },
  {
   "cell_type": "markdown",
   "metadata": {},
   "source": [
    "< [Table of Contents](#top) | [References](#references) >\n",
    "<a id=\"bubbleSortAnalysis\"></a>\n",
    "###### Analysis\n",
    "***"
   ]
  },
  {
   "cell_type": "markdown",
   "metadata": {},
   "source": [
    "- very poor performance in the worst-case - using nested iterations through a $C$ (double ``for`` loop) is going to give an $n^{2}$ worst-case scenario in most cases [3]"
   ]
  },
  {
   "cell_type": "markdown",
   "metadata": {},
   "source": [
    "- looking only at the highest order terms that will appear in the complexity analysis - in the worst-case the outer loop could execute $n-1$ times or $n$ times is close enough for this case - on average the inner loop will execute about $\\frac{n}{2}$ for each iteration of the outer loop - the worst-case would be an outer loop that has to execute $n$ times and the inner loop has to execute $\\frac{n}{2}$ times for each iteration of the outer loop - within the inner loop the comparison and swap operations take some constant time $k$ [3]\n",
    "\n",
    "```Java\n",
    "public static void bubbleSort(int[] a){\n",
    "    int outer,inner;\n",
    "    for(outer=a.length-1; outer>0; outer--){ // counting down\n",
    "        for(inner=0; inner<outer; inner++){ // bubbling up\n",
    "            if (a[inner]>a[inner+1]){ // out of order\n",
    "                // swap operation omitted\n",
    "```"
   ]
  },
  {
   "cell_type": "markdown",
   "metadata": {},
   "source": [
    "- the result is an outer loop $n\\space x\\space \\frac{n}{2}\\space +\\space k$ as some constant [3]\n",
    "\n",
    "$$\\frac{n^{2}}{2}\\space +\\space k\\approx O(n^{2})$$"
   ]
  },
  {
   "cell_type": "markdown",
   "metadata": {},
   "source": [
    "- from a complexity analysis perspective as the size of the input instance becomes larger then $n^{2}$ is the dominant term - can disregard everything else so this is an $O(n^2)$ algorithm in the worst-case [3]"
   ]
  },
  {
   "cell_type": "markdown",
   "metadata": {},
   "source": [
    "- can expect $\\frac{n^{2}}{2}$ operations for an input size of $n$ - as $n$ gets larger (100 $E$ or 1000 $E$) then those constants/lower order terms are going to become less important - the $n^{2}$ term is whats going to dominate so Bubble Sort is $O(n^{2})$ which is quite an inefficient performance for any decent sized input set [3]"
   ]
  },
  {
   "cell_type": "code",
   "execution_count": null,
   "metadata": {},
   "outputs": [],
   "source": [
    "exit()"
   ]
  },
  {
   "cell_type": "markdown",
   "metadata": {},
   "source": [
    "< [Table of Contents](#top) | [References](#references) >\n",
    "<a id=\"Selection-Sort\"></a>\n",
    "###### Selection Sort\n",
    "***"
   ]
  },
  {
   "cell_type": "markdown",
   "metadata": {},
   "source": [
    "![title-overview-sorting-algorithms](https://github.com/SeanOhAileasa/SeanOhAileasa/blob/master/rc/cta/sorting/title-overview-sorting-algorithms.png?raw=true)\n",
    "![selection](https://github.com/SeanOhAileasa/SeanOhAileasa/blob/master/rc/cta/sorting/selection.png?raw=true)\n",
    "\n",
    "***(Image) P. Mannion, \"03 Analysing Algorithms Part 1,\" GMIT, October 2017.***"
   ]
  },
  {
   "cell_type": "markdown",
   "metadata": {},
   "source": [
    "- a comparison-based sorting algorithm [3]"
   ]
  },
  {
   "cell_type": "markdown",
   "metadata": {},
   "source": [
    "- in-place sorting algorithm so it uses a constant amount of additional working space in addition to the size of the input dataset [3]"
   ]
  },
  {
   "cell_type": "markdown",
   "metadata": {},
   "source": [
    "- in contrast to Bubble Sort it is unstable - does not guarantee elements which have the same value according to a comparator function will appear in the same sequence or in the same ordering in the sorted output as they do in the unsorted input [3]"
   ]
  },
  {
   "cell_type": "markdown",
   "metadata": {},
   "source": [
    "- another property of this algorithm is its very simple to implement and its very simple to explain [3]"
   ]
  },
  {
   "cell_type": "markdown",
   "metadata": {},
   "source": [
    "- has $n^{2}$ time complexity in the best/worst/average cases - a little worse than Bubble Sort in the best case albeit comparable with worst and average cases [3]"
   ]
  },
  {
   "cell_type": "markdown",
   "metadata": {},
   "source": [
    "- on average it does give better performance than Bubble Sort but even still Selection Sort would be impractical for any kind of real world task with a significant input size given its $n^{2}$ performance in the worst case and in the average case [3]"
   ]
  },
  {
   "cell_type": "markdown",
   "metadata": {},
   "source": [
    "- generally with every iteration of Selection Sort the minimum $E$ (when using ascending order) from the unsorted subarray on the right is picked and moved to a sorted subarray or sublist or partition on the left [3]"
   ]
  },
  {
   "cell_type": "code",
   "execution_count": null,
   "metadata": {},
   "outputs": [],
   "source": [
    "exit()"
   ]
  },
  {
   "cell_type": "markdown",
   "metadata": {},
   "source": [
    "< [Table of Contents](#top) | [References](#references) >\n",
    "<a id=\"selectionSortProcedure\"></a>\n",
    "###### Procedure\n",
    "***"
   ]
  },
  {
   "cell_type": "markdown",
   "metadata": {},
   "source": [
    "- search every $E$ from $[\\space 0\\space ]$ through to $[\\space n-1\\space ]$ - then select the smallest valued $E$ found and swap that $E$ with the $E$ in $[\\space 0\\space ]$ [3]"
   ]
  },
  {
   "cell_type": "markdown",
   "metadata": {},
   "source": [
    "- search every $E$ from $[\\space 1\\space ]$ through to $[\\space n-1\\space ]$ - then select the smallest valued $E$ found and swap that $E$ with the $E$ in $[\\space 1\\space ]$ [3]"
   ]
  },
  {
   "cell_type": "markdown",
   "metadata": {},
   "source": [
    "- search every $E$ from $[\\space 2\\space ]$ through to $[\\space n-1\\space ]$ - then select the smallest valued $E$ found and swap that $E$ with the $E$ in $[\\space 2\\space ]$ [3]"
   ]
  },
  {
   "cell_type": "markdown",
   "metadata": {},
   "source": [
    "- search every $E$ from $[\\space 3\\space ]$ through to $[\\space n-1\\space ]$ - then select the smallest valued $E$ found and swap that $E$ with the $E$ in $[\\space 3\\space ]$ [3]"
   ]
  },
  {
   "cell_type": "markdown",
   "metadata": {},
   "source": [
    "- continue on with that process until there is nothing left to search and until there is a sorted subarray on the LHS - so the LHS has now grown to be the size of the full $C$ [3]"
   ]
  },
  {
   "cell_type": "code",
   "execution_count": null,
   "metadata": {},
   "outputs": [],
   "source": [
    "exit()"
   ]
  },
  {
   "cell_type": "markdown",
   "metadata": {},
   "source": [
    "< [Table of Contents](#top) | [References](#references) >\n",
    "<a id=\"selectionSortProcess\"></a>\n",
    "###### Process\n",
    "***"
   ]
  },
  {
   "cell_type": "markdown",
   "metadata": {},
   "source": [
    "- sorting an unsorted input instance $C$ of integers $(\\space 7,\\space 5,\\space 2,\\space 3,\\space 1\\space )$ with some out of order $E$ - the $C$ is sorted from the left rather than from the right as seen with Bubble Sort [3]\n",
    "\n",
    "$$[\\space 7,\\space 5,\\space 2,\\space 3,\\space 1\\space ]$$"
   ]
  },
  {
   "cell_type": "markdown",
   "metadata": {},
   "source": [
    "- search the full $C$ and at $[\\space 0\\space ]$ swap the smallest $E$ - the size of the sorted partition on the LHS has grown by one $E$ [3]\n",
    "\n",
    "$[\\space 4\\space ]=1$ $Swap$ $...[\\space 0\\space ]=1;$ $[\\space 4\\space ]=7$\n",
    "\n",
    "$$[\\space 1,\\space 5,\\space 2,\\space 3,\\space 7\\space ]$$"
   ]
  },
  {
   "cell_type": "markdown",
   "metadata": {},
   "source": [
    "- search from $[\\space 1\\space ]$ through the full $C$ swapping the smallest $E$ - the size of the sorted partition on the LHS has grown by two $E$ [3]\n",
    "\n",
    "$[\\space 2\\space ]=2$ $Swap$ $...[\\space 1\\space ]=2;$ $[\\space 2\\space ]=5$\n",
    "\n",
    "$$[\\space 1,\\space 2,\\space 5,\\space 3,\\space 7\\space ]$$"
   ]
  },
  {
   "cell_type": "markdown",
   "metadata": {},
   "source": [
    "- search from $[\\space 2\\space ]$ through the full $C$ swapping the smallest $E$ - the size of the sorted partion on the LHS has grown by three $E$s [3]\n",
    "\n",
    "$[\\space 3\\space ]=3$ $Swap$ $...[\\space 2\\space ]=3;$ $[\\space 3\\space ]=5$\n",
    "\n",
    "$$[\\space 1,\\space 2,\\space 3,\\space 5,\\space 7\\space ]$$"
   ]
  },
  {
   "cell_type": "markdown",
   "metadata": {},
   "source": [
    "- search from $[\\space 3\\space ]$ through the full $C$ swapping the smallest $E$ being itself - selection sort can swap an $E$ with itself although harmless and not worth checking for [3]\n",
    "\n",
    "$[\\space 3\\space ]=5$ $Swap$ $...[\\space 3\\space ]=5$\n",
    "\n",
    "$$[\\space 1,\\space 2,\\space 3,\\space 5,\\space 7\\space ]$$"
   ]
  },
  {
   "cell_type": "code",
   "execution_count": null,
   "metadata": {},
   "outputs": [],
   "source": [
    "exit()"
   ]
  },
  {
   "cell_type": "markdown",
   "metadata": {},
   "source": [
    "< [Table of Contents](#top) | [References](#references) >\n",
    "<a id=\"selectionSortImplementationJava\"></a>\n",
    "###### Implementation - Java\n",
    "***"
   ]
  },
  {
   "cell_type": "markdown",
   "metadata": {},
   "source": [
    "- ``selectionSort`` is a ``public static`` method meaning it can be called without having to instantiate the class its contained in - the method returns void meaning it does not return anything - within the parentheses declaring a single local variable (input parameter) being a $C$ of integers ``a`` [3]\n",
    "\n",
    "```Java\n",
    "public static void selectionSort(int[] a){\n",
    "```"
   ]
  },
  {
   "cell_type": "markdown",
   "metadata": {},
   "source": [
    "- declaring local integer variables ``outer`` and ``inner`` as loop counting variables and ``min`` being the smallest value $[\\space E\\space ]$ found in the $C$ [3]\n",
    "\n",
    "```Java\n",
    "public static void selectionSort(int[] a){\n",
    "\tint outer=0,inner=0,min=0;\n",
    "```"
   ]
  },
  {
   "cell_type": "markdown",
   "metadata": {},
   "source": [
    "- outer ``for`` loop with integer loop counter ``outer`` initially assigned ``0`` and while ``outer`` is greater than the length of the $C-1$ then ``outer++`` increments the value of ``outer`` by one at each iteration - each execution counts up from the LHS meaning the sorted partition on the left has grown by one $E$ - loop counter ``outer`` must be less than the $C-1$ meaning ``outer`` would go as far as the $[\\space outer-2\\space ]$ [3] \n",
    "\n",
    "```Java\n",
    "public static void selectionSort(int[] a){\n",
    "\tint outer=0,inner=0,min=0;\n",
    "\tfor(outer=0; outer<a.length-1; outer++){ // counting up\n",
    "```"
   ]
  },
  {
   "cell_type": "markdown",
   "metadata": {},
   "source": [
    "- looking for the smallest value so assigning ``min`` to ``outer`` or setting the $[\\space min\\space ]$ to the $[\\space outer\\space ]$ - the $[\\space E\\space ]$ to the left is the smallest value [3]\n",
    "\n",
    "```Java\n",
    "public static void selectionSort(int[] a){\n",
    "\tint outer=0,inner=0,min=0;\n",
    "\tfor(outer=0; outer<a.length-1; outer++){ // counting up\n",
    "        min=outer;\n",
    "```"
   ]
  },
  {
   "cell_type": "markdown",
   "metadata": {},
   "source": [
    "- starting at the leftmost $E$ with ``inner`` equals ``outer+1`` on the condition that ``inner`` is less than the length of the $C$ then ``inner++`` increments the value of ``inner`` by one at each iteration [3]\n",
    "\n",
    "```Java\n",
    "public static void selectionSort(int[] a){\n",
    "\tint outer=0,inner=0,min=0;\n",
    "\tfor(outer=0; outer<a.length-1; outer++){ // counting up\n",
    "        min=outer;\n",
    "        for(inner=outer+1; inner<a.length; inner++){\n",
    "```"
   ]
  },
  {
   "cell_type": "markdown",
   "metadata": {},
   "source": [
    "- traversing the $C$ comparing the $E$ at $[\\space inner \\space]$ to the $E$ at $[\\space min \\space]$ to find an index/position that contains a smaller $E$ - if found then assign the new $[\\space E \\space]$ to the value ``min`` [3]\n",
    "\n",
    "```Java\n",
    "public static void selectionSort(int[] a){\n",
    "\tint outer=0,inner=0,min=0;\n",
    "\tfor(outer=0; outer<a.length-1; outer++){ // counting up\n",
    "        min=outer;\n",
    "        for(inner=outer+1; inner<a.length; inner++){\n",
    "            if (a[inner]<a[min]){ // smallest valued index\n",
    "                min=inner;\n",
    "            }\n",
    "        }                \n",
    "``` "
   ]
  },
  {
   "cell_type": "markdown",
   "metadata": {},
   "source": [
    "- after working through an iteration of the inner loop swapping the value which is stored as the $[\\space min\\space ]$ with the value ``outer`` because ``outer`` is the next index/position to be filled in the sorted partition on the LHS [3] "
   ]
  },
  {
   "cell_type": "markdown",
   "metadata": {},
   "source": [
    "- in order to perform the sway operation declaring local integer variable ``temporary`` and assigning the $E$ at the $[\\space outer \\space]$ - this stores the old value that in the index/position that going to be soon replaced - identified the index/position that has the current smallest $E$ that is not sorted [3]\n",
    "\n",
    "```Java\n",
    "public static void selectionSort(int[] a){\n",
    "\tint outer=0,inner=0,min=0;\n",
    "\tfor(outer=0; outer<a.length-1; outer++){ // counting up\n",
    "        min=outer;\n",
    "        for(inner=outer+1; inner<a.length; inner++){\n",
    "            if (a[inner]<a[min]){ // smallest valued index\n",
    "                min=inner;\n",
    "            }\n",
    "        }\n",
    "        // swap minimum outer\n",
    "        int temporary=a[outer];\n",
    "``` "
   ]
  },
  {
   "cell_type": "markdown",
   "metadata": {},
   "source": [
    "- assigning the $E$ at $[\\space outer \\space]$ the smallest valued $E$ at $[\\space min\\space]$ - identified the index/position on the left which is where the next sorted $E$ is going to be placed [3]\n",
    "\n",
    "```Java\n",
    "public static void selectionSort(int[] a){\n",
    "\tint outer=0,inner=0,min=0;\n",
    "\tfor(outer=0; outer<a.length-1; outer++){ // counting up\n",
    "        min=outer;\n",
    "        for(inner=outer+1; inner<a.length; inner++){\n",
    "            if (a[inner]<a[min]){ // smallest valued index\n",
    "                min=inner;\n",
    "            }\n",
    "        }\n",
    "        // swap minimum outer\n",
    "        int temporary=a[outer];\n",
    "        a[outer]=a[min]\n",
    "``` "
   ]
  },
  {
   "cell_type": "markdown",
   "metadata": {},
   "source": [
    "- assigning the $E$ at $[\\space min \\space]$ the $E$ stored in variable ``temporary`` - swap operation complete between those two $E$ [3]\n",
    "\n",
    "```Java\n",
    "public static void selectionSort(int[] a){\n",
    "\tint outer=0,inner=0,min=0;\n",
    "\tfor(outer=0; outer<a.length-1; outer++){ // counting up\n",
    "        min=outer;\n",
    "        for(inner=outer+1; inner<a.length; inner++){\n",
    "            if (a[inner]<a[min]){ // smallest valued index\n",
    "                min=inner;\n",
    "            }\n",
    "        }\n",
    "        // swap minimum outer\n",
    "        int temporary=a[outer];\n",
    "        a[outer]=a[min]\n",
    "        a[min]=temporary\n",
    "``` "
   ]
  },
  {
   "cell_type": "code",
   "execution_count": null,
   "metadata": {},
   "outputs": [],
   "source": [
    "exit()"
   ]
  },
  {
   "cell_type": "markdown",
   "metadata": {},
   "source": [
    "< [Table of Contents](#top) | [References](#references) >\n",
    "<a id=\"buildSelectionSort\"></a>\n",
    "###### Build\n",
    "***"
   ]
  },
  {
   "cell_type": "markdown",
   "metadata": {},
   "source": [
    "- interactive tabs require installation of IPyPlot [7]\n",
    "\n",
    "\n",
    "- IPyPlot can be installed through PyPI:\n",
    "\n",
    "```\n",
    "pip install ipyplot\n",
    "```\n",
    "\n",
    "\n",
    "- or directly from this repo using pip:\n",
    "\n",
    "```\n",
    "pip install git+https://github.com/karolzak/ipyplot\n",
    "```"
   ]
  },
  {
   "cell_type": "markdown",
   "metadata": {},
   "source": [
    "###### Start Here\n",
    "***\n",
    "< [Build Interactive Tabs](#buildPlotImageInteractiveTabs) >"
   ]
  },
  {
   "cell_type": "code",
   "execution_count": null,
   "metadata": {},
   "outputs": [],
   "source": [
    "nCollection=[29,23,17,19,13] # collection of primes"
   ]
  },
  {
   "cell_type": "code",
   "execution_count": null,
   "metadata": {},
   "outputs": [],
   "source": [
    "from matplotlib.pyplot import savefig,close"
   ]
  },
  {
   "cell_type": "code",
   "execution_count": null,
   "metadata": {},
   "outputs": [],
   "source": [
    "# module fubar - function fAddLocalURL\n",
    "fAddLocalURL(nParOuterIndex=None,nParInnerIndex=None,nParRC=\"Unsorted\") # assign URL \"./rc/Unsorted\"\n",
    "# module fubar - function fAddBarBlue - function fAddPlot\n",
    "fAddPlot(nParCollection=nCollection, # collection under analysis\n",
    "         nParColor=fAddBarBlue(nParCollection=nCollection,nParIndex=-1)) # plot gray bar\n",
    "# package matplotlib - module pyplot\n",
    "savefig(fname=f\"./rc/Unsorted/OuterNoneInnerNone.png\")\n",
    "close() # close figure window"
   ]
  },
  {
   "cell_type": "code",
   "execution_count": null,
   "metadata": {},
   "outputs": [],
   "source": [
    "# define function - fSelectionSort\n",
    "def fSelectionSort(nParCollection):\n",
    "    \"\"\"Selection Sort Algorithm.\n",
    "    Source: https://www.geeksforgeeks.org/python-program-for-selection-sort\n",
    "Input: nParCollection\n",
    "Process: \n",
    "Output: sorted collection (in-place)\n",
    "\"\"\" \n",
    "    for nOuterIndex in range(len(nParCollection)): # traverse all elements       \n",
    "        nMinimumIndex=nOuterIndex # set minimum element        \n",
    "        for nInnerIndex in range(nOuterIndex+1,len(nParCollection)): # traverse remaining elements\n",
    "            if nParCollection[nMinimumIndex]>nParCollection[nInnerIndex]: # determine minimum element\n",
    "                nMinimumIndex=nInnerIndex # minimum element found\n",
    "        nTemporary=nParCollection[nOuterIndex] # capture current pass\n",
    "        nParCollection[nOuterIndex]=nParCollection[nMinimumIndex] # swap minimum element\n",
    "        nParCollection[nMinimumIndex]=nTemporary # swap pass element\n",
    "    # module fubar - function fAddPlotTabs\n",
    "    fAddPlotTabs(nParAlgorithm=fSelectionSort.__name__[1:],nParImageSize=275) # report plot tabs\n",
    "# --- END ---"
   ]
  },
  {
   "cell_type": "code",
   "execution_count": null,
   "metadata": {},
   "outputs": [],
   "source": [
    "# function call - fSelectionSortPlot\n",
    "fSelectionSortPlot()"
   ]
  },
  {
   "cell_type": "code",
   "execution_count": null,
   "metadata": {
    "scrolled": false
   },
   "outputs": [],
   "source": [
    "# function call - fSelectionSort\n",
    "fSelectionSort(nCollection)"
   ]
  },
  {
   "cell_type": "markdown",
   "metadata": {},
   "source": [
    "&#x1F6A7; screenshot/save for reference"
   ]
  },
  {
   "cell_type": "code",
   "execution_count": null,
   "metadata": {},
   "outputs": [],
   "source": [
    "%%script bash \n",
    "# copy local URLs / clean working URLs\n",
    "rm -rf ./rc/SelectionSort/Unsorted; mv ./rc/Unsorted ./rc/SelectionSort/; mkdir ./rc/Unsorted\n",
    "rm -rf ./rc/SelectionSort/Process; mv ./rc/Process ./rc/SelectionSort/; mkdir ./rc/Process\n",
    "rm -rf ./rc/SelectionSort/Partition; mv ./rc/Partition ./rc/SelectionSort/; mkdir ./rc/Partition\n",
    "rm -rf ./rc/SelectionSort/Sorted; mv ./rc/Sorted ./rc/SelectionSort/; mkdir ./rc/Sorted"
   ]
  },
  {
   "cell_type": "markdown",
   "metadata": {},
   "source": [
    "###### Re-Run \n",
    "***\n",
    "< [Build Interactive Tabs](#buildPlotImageInteractiveTabs) >\n",
    "\n",
    "- Shutdown Jupyter Notebook and restart to build additional sorting algorithms plots/images."
   ]
  },
  {
   "cell_type": "code",
   "execution_count": null,
   "metadata": {},
   "outputs": [],
   "source": [
    "exit()"
   ]
  },
  {
   "cell_type": "markdown",
   "metadata": {},
   "source": [
    "< [Table of Contents](#top) | [References](#references) >\n",
    "<a id=\"procedureselectionSort\"></a>\n",
    "###### Procedure\n",
    "***"
   ]
  },
  {
   "cell_type": "markdown",
   "metadata": {},
   "source": [
    "![image](https://github.com/SeanOhAileasa/cta-sorting/blob/main/rc/SelectionSort/Collection.png?raw=true)"
   ]
  },
  {
   "cell_type": "markdown",
   "metadata": {},
   "source": [
    "![image](https://github.com/SeanOhAileasa/cta-sorting/blob/main/rc/SelectionSort/0.png?raw=true)"
   ]
  },
  {
   "cell_type": "markdown",
   "metadata": {},
   "source": [
    "![image](https://github.com/SeanOhAileasa/cta-sorting/blob/main/rc/SelectionSort/1.png?raw=true)"
   ]
  },
  {
   "cell_type": "markdown",
   "metadata": {},
   "source": [
    "![image](https://github.com/SeanOhAileasa/cta-sorting/blob/main/rc/SelectionSort/2.png?raw=true)"
   ]
  },
  {
   "cell_type": "markdown",
   "metadata": {},
   "source": [
    "![image](https://github.com/SeanOhAileasa/cta-sorting/blob/main/rc/SelectionSort/3.png?raw=true)"
   ]
  },
  {
   "cell_type": "markdown",
   "metadata": {},
   "source": [
    "![image](https://github.com/SeanOhAileasa/cta-sorting/blob/main/rc/SelectionSort/Sorted.png?raw=true)"
   ]
  },
  {
   "cell_type": "code",
   "execution_count": null,
   "metadata": {},
   "outputs": [],
   "source": [
    "exit()"
   ]
  },
  {
   "cell_type": "markdown",
   "metadata": {},
   "source": [
    "< [Table of Contents](#top) | [References](#references) >\n",
    "<a id=\"selectionSortAnalysis\"></a>\n",
    "###### Analysis\n",
    "***"
   ]
  },
  {
   "cell_type": "markdown",
   "metadata": {},
   "source": [
    "- so lets just look back at the example we had from before and considering that we have seen an implementation of this in code as well so for each iteration there ive marked the values so we have for example as the first iteration of the outer loop and we have outer is equal to zero so thats the leftmost position and the index for min is a four in this case so were going to do the swap between zero and four so the seven and one gets swapped there [3]"
   ]
  },
  {
   "cell_type": "markdown",
   "metadata": {},
   "source": [
    "- in the second iteration of the outer loop were going to again loop through all the elements from two all the way up to the end or two all the way up to four and in this case and your outer is one which is the index which we wish to replace its the next index which is going to have the next sorted of element and we found that the minimum number in the unsorted subarray to the right hand-side that in fact is stored at index two and it is the value two so we will swapped those around [3]"
   ]
  },
  {
   "cell_type": "markdown",
   "metadata": {},
   "source": [
    "- then moving on to the third iteration of the outer loop this time we have the value outer is equal to and of course that is the index which were going to replace so the index which contains the number of five is going to replace this time and we need to search through all the elements to the right so search to index three and index four in the inner loop and we find the index of the minimum value is index three which contains the number three and we will do a swap there between index two and three [3]"
   ]
  },
  {
   "cell_type": "markdown",
   "metadata": {},
   "source": [
    "- then finally in the last iteration we have the outer loop equals three and thats it were done [3]"
   ]
  },
  {
   "cell_type": "markdown",
   "metadata": {},
   "source": [
    "- so the outer loop runs n minus one times [3]"
   ]
  },
  {
   "cell_type": "markdown",
   "metadata": {},
   "source": [
    "- whereas the inner loop will actually execute about n over two times on average so from n up to two times lets say [3]"
   ]
  },
  {
   "cell_type": "markdown",
   "metadata": {},
   "source": [
    "- so the result is n minus one times n over two and then if we work through that thats approximately n squared in the best case annd worst case and average-cases in selection sort and neglecting all the lower order terms [3]"
   ]
  },
  {
   "cell_type": "code",
   "execution_count": null,
   "metadata": {},
   "outputs": [],
   "source": [
    "exit()"
   ]
  },
  {
   "cell_type": "markdown",
   "metadata": {},
   "source": [
    "< [Table of Contents](#top) | [References](#references) >\n",
    "<a id=\"Insertion-Sort\"></a>\n",
    "###### Insertion Sort\n",
    "***"
   ]
  },
  {
   "cell_type": "markdown",
   "metadata": {},
   "source": [
    "![title-overview-sorting-algorithms](https://github.com/SeanOhAileasa/SeanOhAileasa/blob/master/rc/cta/sorting/title-overview-sorting-algorithms.png?raw=true)\n",
    "![insertion](https://github.com/SeanOhAileasa/SeanOhAileasa/blob/master/rc/cta/sorting/insertion.png?raw=true)\n",
    "\n",
    "***(Image) P. Mannion, \"03 Analysing Algorithms Part 1,\" GMIT, October 2017.***"
   ]
  },
  {
   "cell_type": "markdown",
   "metadata": {},
   "source": [
    "- an very interesting fact about Insertion Sort is that its very similar to the method usually used by card players when sorting cards in their hand - very intuitive for a lot of people because it relates to how humans sort items - Bubble Sort is quite easy to explain but its not very intuitive in that its not how people would actually sort items in the real world whereas Insertion Sort is in some form or other used to do many day to day sorting tasks [3]"
   ]
  },
  {
   "cell_type": "markdown",
   "metadata": {},
   "source": [
    "- its easy to implement - its a stable sorting algorithm - it works in-place so its very efficient with memory - its very good for small $C$ and for $C$ which are very close to being sorted already - runs in $n+d$ time where $d$ is the number of inversions in the input instance - however its extremely inefficient on large random $C$ and that is not a situation where you would want to use Insertion Sort [3]"
   ]
  },
  {
   "cell_type": "markdown",
   "metadata": {},
   "source": [
    "- uses an iterative approach and getting a $C$ of size $n$ into a head or sorted partition and a tail or unsorted partition [3]"
   ]
  },
  {
   "cell_type": "markdown",
   "metadata": {},
   "source": [
    "- good choice: i) if there is a small number of items to be sorted (five to ten items); ii) items are mostly sorted already (degree of inversions); iii) want a compact and small algorithm which will require very little code to be written [1]"
   ]
  },
  {
   "cell_type": "code",
   "execution_count": null,
   "metadata": {},
   "outputs": [],
   "source": [
    "exit()"
   ]
  },
  {
   "cell_type": "markdown",
   "metadata": {},
   "source": [
    "< [Table of Contents](#top) | [References](#references) >\n",
    "<a id=\"insertionSortProcedure\"></a>\n",
    "###### Procedure\n",
    "***"
   ]
  },
  {
   "cell_type": "markdown",
   "metadata": {},
   "source": [
    "- starting at $[\\space 0 \\space]$ in the $C$ set the $k$ as the $E$ at $[\\space 1 \\space]$ - the $k$ is the value to insert - move any $E$ to the left which are greater than the $k$ to the right by one index/position and insert the $k$ [3]"
   ]
  },
  {
   "cell_type": "markdown",
   "metadata": {},
   "source": [
    "- next set the $k$ as the $E$ at $[\\space 2 \\space]$ - move any $E$ to the left greater than the $k$ to the right by one index/position and insert the $k$ [3]"
   ]
  },
  {
   "cell_type": "markdown",
   "metadata": {},
   "source": [
    "- next set the $k$ as the $E$ at $[\\space 3 \\space]$ - move any $E$ to the left greater than the $k$ to the right by one index/position and insert the $k$ [3]"
   ]
  },
  {
   "cell_type": "markdown",
   "metadata": {},
   "source": [
    "- the process is continued until the $C$ $[\\space n-1\\space ]$ (last index/position) is reached [3]"
   ]
  },
  {
   "cell_type": "markdown",
   "metadata": {},
   "source": [
    "- set the $k$ at the $[\\space n-1\\space ]$ - move any $E$ to the left which greater than the $k$ to the right by one index/position - after this procedure the $C$ is sorted [3]"
   ]
  },
  {
   "cell_type": "code",
   "execution_count": null,
   "metadata": {},
   "outputs": [],
   "source": [
    "exit()"
   ]
  },
  {
   "cell_type": "markdown",
   "metadata": {},
   "source": [
    "< [Table of Contents](#top) | [References](#references) >\n",
    "<a id=\"insertionSortProcess\"></a>\n",
    "###### Process\n",
    "***"
   ]
  },
  {
   "cell_type": "markdown",
   "metadata": {},
   "source": [
    "- sorting an unsorted input instance $C$ of integers $(\\space 7,\\space 5,\\space 2,\\space 3,\\space 1\\space )$ with some out of order $E$  [3]\n",
    "\n",
    "$$[\\space 7,\\space 5,\\space 2,\\space 3,\\space 1\\space ]$$"
   ]
  },
  {
   "cell_type": "markdown",
   "metadata": {},
   "source": [
    "- $E$ at $[\\space 1 \\space]$ is the $k$ [3]\n",
    "\n",
    "$k=5$"
   ]
  },
  {
   "cell_type": "markdown",
   "metadata": {},
   "source": [
    "- all $E$ to the left if greater than $k$ move to the right by one index/position and insert $k$ on the left being the sorted partition [3]\n",
    "\n",
    "$7>5; k=5$ $Move$ $...[\\space 1 \\space]=7; [\\space 0 \\space]=5$\n",
    "\n",
    "$$[\\space 5,\\space 7,\\space 2,\\space 3,\\space 1\\space ]$$"
   ]
  },
  {
   "cell_type": "markdown",
   "metadata": {},
   "source": [
    "- $E$ at $[\\space 2 \\space]$ is now the $k$ [3]\n",
    "\n",
    "$k=2$"
   ]
  },
  {
   "cell_type": "markdown",
   "metadata": {},
   "source": [
    "- all $E$ to the left if greater than $k$ move to the right by one index/position and insert $k$ on the left being the sorted partition [3]\n",
    "\n",
    "$7>2; k=2$ $Move$ $...[\\space 1 \\space]=2; [\\space 2 \\space]=7$\n",
    "\n",
    "$5>2; k=2$ $Move$ $...[\\space 0 \\space]=2;$ $[\\space 1 \\space]=5$\n",
    "\n",
    "$$[\\space 2,\\space 5,\\space 7,\\space 3,\\space 1\\space ]$$"
   ]
  },
  {
   "cell_type": "markdown",
   "metadata": {},
   "source": [
    "- $E$ at $[\\space 3\\space]$ is now the $k$ [3]\n",
    "\n",
    "$k=3$"
   ]
  },
  {
   "cell_type": "markdown",
   "metadata": {},
   "source": [
    "- all $E$ to the left if greater than $k$ move to the right by one index/position and insert $k$ on the left being the sorted partition [3]\n",
    "\n",
    "$7>3; k=3$ $Move$ $...[\\space 2 \\space]=3; [\\space 3\\space ]=7$\n",
    "\n",
    "$5>3; k=3$ $Move$ $...[\\space 1\\space ]=3; [\\space 2\\space ]=5$\n",
    "\n",
    "$$[\\space 2,\\space 3,\\space 5,\\space 7,\\space 1\\space ]$$"
   ]
  },
  {
   "cell_type": "markdown",
   "metadata": {},
   "source": [
    "- $E$ at $[\\space 4\\space]$ is now the $k$ [3]\n",
    "\n",
    "$k=1$"
   ]
  },
  {
   "cell_type": "markdown",
   "metadata": {},
   "source": [
    "- all $E$ to the left if greater than $k$ move to the right by one index/position and insert $k$ on the left being the sorted partition [3]\n",
    "\n",
    "$7>1; k=1$ $Move$ $...[\\space 3\\space ]=1; [\\space 4\\space ]=7$\n",
    "\n",
    "$5>1; k=1$ $Move$ $...[\\space 2\\space ]=1; [\\space 3\\space ]=5$\n",
    "\n",
    "$3>1; k=1$ $Move$ $...[\\space 1\\space ]=1; [\\space 2\\space ]=3$\n",
    "\n",
    "$2>1; k=1$ $Move$ $...[\\space 0\\space ]=1; [\\space 1\\space ]=2$\n",
    "\n",
    "$$[\\space 1,\\space 2,\\space 3,\\space 5,\\space 7\\space ]$$"
   ]
  },
  {
   "cell_type": "markdown",
   "metadata": {},
   "source": [
    "- the procedure is complete and the $C$ is sorted - each step of the process the sorted partition increases in size on the left (termed the head) and the unsorted partition decreases in size on the right (termed the tail) [3]"
   ]
  },
  {
   "cell_type": "code",
   "execution_count": null,
   "metadata": {},
   "outputs": [],
   "source": [
    "exit()"
   ]
  },
  {
   "cell_type": "markdown",
   "metadata": {},
   "source": [
    "< [Table of Contents](#top) | [References](#references) >\n",
    "<a id=\"insertionSortImplementationJava\"></a>\n",
    "###### Implementation - Java\n",
    "***"
   ]
  },
  {
   "cell_type": "markdown",
   "metadata": {},
   "source": [
    "- method ``insertionSort`` is a nested loop type implementation and it takes as input a $C$ of integers [3]\n",
    "\n",
    "```Java\n",
    "public static void insertionSort(int[] a){\n",
    "```"
   ]
  },
  {
   "cell_type": "markdown",
   "metadata": {},
   "source": [
    "- the outer loop iterates from $[\\space 1\\space]$ to the last $E$ in the $C$ - if passing five $E$ then iterating between the values $[\\space 1\\space]$ and $i$ being less than the length of the $C$ plus increasing the value of the index/position with each iteration [3]\n",
    "\n",
    "```Java\n",
    "public static void insertionSort(int[] a){\n",
    "    for(int i=1; i<a.length; i++){\n",
    "```"
   ]
  },
  {
   "cell_type": "markdown",
   "metadata": {},
   "source": [
    "- the high-level procedure makes the assumption that the outer loop counter is the $k$ or $E$ under consideration [3]\n",
    "\n",
    "```Java\n",
    "public static void insertionSort(int[] a){\n",
    "    for(int i=1; i<a.length; i++){\n",
    "        int key=a[i]; // value be inserted\n",
    "```"
   ]
  },
  {
   "cell_type": "markdown",
   "metadata": {},
   "source": [
    "- another index/position $j$ is used to check all $E$ which are to the left of the $k$ - if the $k$ is $[\\space i \\space]$ then the $[\\space j \\space]$ is used for the actually checking of all $E$ to the left hence its starting $[\\space i-1 \\space]$ [3]\n",
    "\n",
    "```Java\n",
    "public static void insertionSort(int[] a){\n",
    "    for(int i=1; i<a.length; i++){\n",
    "        int key=a[i]; // value be inserted\n",
    "        int j=i-1;\n",
    "```"
   ]
  },
  {
   "cell_type": "markdown",
   "metadata": {},
   "source": [
    "- to prevent going below the lower bound of the $C$ a ``while`` loop condition checks if ``j>=0`` and if the $E$ stored at the $[\\space j\\space ]$ is greater than the $k$ then moving all those $E$ to the right by one index/position - the ``while`` loop is checking for $[\\space E\\space ]$ before the $k$ value (checking if greater than the value of the $k$) - this is the actual step in the Insertion Sort where the $E$ which are less than the $k$ value are moved right by one index/position so can then insert the $k$ value at the correct position [3]\n",
    "\n",
    "```Java\n",
    "public static void insertionSort(int[] a){\n",
    "    for(int i=1; i<a.length; i++){\n",
    "        int key=a[i]; // value be inserted\n",
    "        int j=i-1;\n",
    "        while(j>=0 && a[j]>key){ // move elements key\n",
    "```"
   ]
  },
  {
   "cell_type": "markdown",
   "metadata": {},
   "source": [
    "- the operations within the ``while`` loop has the $[\\space j+1 \\space]$ set to $[\\space j \\space]$ which moves those elements to the right [3]\n",
    "\n",
    "```Java\n",
    "public static void insertionSort(int[] a){\n",
    "    for(int i=1; i<a.length; i++){\n",
    "        int key=a[i]; // value be inserted\n",
    "        int j=i-1;\n",
    "        while(j>=0 && a[j]>key){ // move elements key\n",
    "            a[j+1]=a[j];\n",
    "```"
   ]
  },
  {
   "cell_type": "markdown",
   "metadata": {},
   "source": [
    "- decrementing the loop iteration index $j$ for the sorted partition on the LHS ($C$ head) [3]\n",
    "\n",
    "```Java\n",
    "public static void insertionSort(int[] a){\n",
    "    for(int i=1; i<a.length; i++){\n",
    "        int key=a[i]; // value be inserted\n",
    "        int j=i-1;\n",
    "        while(j>=0 && a[j]>key){ // move elements key\n",
    "            a[j+1]=a[j];\n",
    "            j=j-1;\n",
    "        }\n",
    "```"
   ]
  },
  {
   "cell_type": "markdown",
   "metadata": {},
   "source": [
    "- the inner ``while`` loop is complete so inserting the $k$ value at the correct index/position - therefore $E$ greater than the $k$ value have been moved to the right by one index/position and then the $k$ is insertd at the $[\\space j+1 \\space]$ which will now be in its correct position [3]\n",
    "\n",
    "```Java\n",
    "public static void insertionSort(int[] a){\n",
    "    for(int i=1; i<a.length; i++){\n",
    "        int key=a[i]; // value be inserted\n",
    "        int j=i-1;\n",
    "        while(j>=0 && a[j]>key){ // move elements key\n",
    "            a[j+1]=a[j];\n",
    "            j=j-1;\n",
    "        }\n",
    "    a[j+1]=key; // insert key new\n",
    "    }\n",
    "}\n",
    "```"
   ]
  },
  {
   "cell_type": "code",
   "execution_count": null,
   "metadata": {},
   "outputs": [],
   "source": [
    "exit()"
   ]
  },
  {
   "cell_type": "markdown",
   "metadata": {},
   "source": [
    "< [Table of Contents](#top) | [References](#references) >\n",
    "<a id=\"buildinsertionSort\"></a>\n",
    "###### Build\n",
    "***"
   ]
  },
  {
   "cell_type": "markdown",
   "metadata": {},
   "source": [
    "- interactive tabs require installation of IPyPlot [7]\n",
    "\n",
    "\n",
    "- IPyPlot can be installed through PyPI:\n",
    "\n",
    "```\n",
    "pip install ipyplot\n",
    "```\n",
    "\n",
    "\n",
    "- or directly from this repo using pip:\n",
    "\n",
    "```\n",
    "pip install git+https://github.com/karolzak/ipyplot\n",
    "```"
   ]
  },
  {
   "cell_type": "markdown",
   "metadata": {},
   "source": [
    "###### Start Here\n",
    "***\n",
    "< [Build Interactive Tabs](#buildPlotImageInteractiveTabs) >"
   ]
  },
  {
   "cell_type": "code",
   "execution_count": null,
   "metadata": {},
   "outputs": [],
   "source": [
    "nCollection=[47,43,37,41,31] # collection of primes"
   ]
  },
  {
   "cell_type": "code",
   "execution_count": null,
   "metadata": {},
   "outputs": [],
   "source": [
    "from matplotlib.pyplot import savefig,close"
   ]
  },
  {
   "cell_type": "code",
   "execution_count": null,
   "metadata": {},
   "outputs": [],
   "source": [
    "# module fubar - function fAddLocalURL\n",
    "fAddLocalURL(nParOuterIndex=None,nParInnerIndex=None,nParRC=\"Unsorted\") # assign URL \"./rc/Unsorted\"\n",
    "# module fubar - function fAddBarBlue - function fAddPlot\n",
    "fAddPlot(nParCollection=nCollection, # collection under analysis\n",
    "         nParColor=fAddBarBlue(nParCollection=nCollection,nParIndex=-1)) # plot gray bar\n",
    "# package matplotlib - module pyplot\n",
    "savefig(fname=f\"./rc/Unsorted/OuterNoneInnerNone.png\")\n",
    "close() # close figure window"
   ]
  },
  {
   "cell_type": "code",
   "execution_count": null,
   "metadata": {},
   "outputs": [],
   "source": [
    "# function call - fInsertionSortPlot\n",
    "fInsertionSortPlot()"
   ]
  },
  {
   "cell_type": "code",
   "execution_count": null,
   "metadata": {},
   "outputs": [],
   "source": [
    "# define function - fInsertionSort\n",
    "def fInsertionSort(nParCollection):\n",
    "    \"\"\"Insertion Sort Algorithm.\n",
    "    Source: https://runestone.academy/runestone/books/published/pythonds/SortSearch/TheInsertionSort.html\n",
    "Input: nParCollection\n",
    "Process: \n",
    "Output: sorted collection (in-place)\n",
    "\"\"\" \n",
    "    for nOuterIndex in range(1,len(nParCollection)): # traverse all [ 1 ]       \n",
    "        nElement=nParCollection[nOuterIndex] # capture element value\n",
    "        nElementPosition=nOuterIndex # capture element position\n",
    "        while nElementPosition>0 and nParCollection[nElementPosition-1]>nElement: # both are True\n",
    "            nParCollection[nElementPosition]=nParCollection[nElementPosition-1] # current position move\n",
    "            nElementPosition=nElementPosition-1 # reset element position\n",
    "        nParCollection[nElementPosition]=nElement # adjacent element move\n",
    "    # module fubar - function fAddPlotTabs\n",
    "    fAddPlotTabs(nParAlgorithm=fInsertionSort.__name__[1:],nParImageSize=225) # report plot tabs\n",
    "# --- END ---"
   ]
  },
  {
   "cell_type": "code",
   "execution_count": null,
   "metadata": {
    "scrolled": false
   },
   "outputs": [],
   "source": [
    "# function call - fInsertionSort\n",
    "fInsertionSort(nCollection)"
   ]
  },
  {
   "cell_type": "markdown",
   "metadata": {},
   "source": [
    "&#x1F6A7; screenshot/save for reference"
   ]
  },
  {
   "cell_type": "code",
   "execution_count": null,
   "metadata": {},
   "outputs": [],
   "source": [
    "%%script bash \n",
    "# copy local URLs / clean working URLs\n",
    "rm -rf ./rc/InsertionSort/Unsorted; mv ./rc/Unsorted ./rc/InsertionSort/; mkdir ./rc/Unsorted\n",
    "rm -rf ./rc/InsertionSort/Process; mv ./rc/Process ./rc/InsertionSort/; mkdir ./rc/Process\n",
    "rm -rf ./rc/InsertionSort/Partition; mv ./rc/Partition ./rc/InsertionSort/; mkdir ./rc/Partition\n",
    "rm -rf ./rc/InsertionSort/Sorted; mv ./rc/Sorted ./rc/InsertionSort/; mkdir ./rc/Sorted"
   ]
  },
  {
   "cell_type": "markdown",
   "metadata": {},
   "source": [
    "###### Re-Run \n",
    "***\n",
    "< [Build Interactive Tabs](#buildPlotImageInteractiveTabs) >\n",
    "\n",
    "- Shutdown Jupyter Notebook and restart to build additional sorting algorithms plots/images."
   ]
  },
  {
   "cell_type": "code",
   "execution_count": null,
   "metadata": {},
   "outputs": [],
   "source": [
    "exit()"
   ]
  },
  {
   "cell_type": "markdown",
   "metadata": {},
   "source": [
    "< [Table of Contents](#top) | [References](#references) >\n",
    "<a id=\"procedureinsertionSort\"></a>\n",
    "###### Procedure\n",
    "***"
   ]
  },
  {
   "cell_type": "markdown",
   "metadata": {},
   "source": [
    "![image](https://github.com/SeanOhAileasa/cta-sorting/blob/main/rc/InsertionSort/Collection.png?raw=true)"
   ]
  },
  {
   "cell_type": "markdown",
   "metadata": {},
   "source": [
    "![image](https://github.com/SeanOhAileasa/cta-sorting/blob/main/rc/InsertionSort/k1.png?raw=true)"
   ]
  },
  {
   "cell_type": "markdown",
   "metadata": {},
   "source": [
    "![image](https://github.com/SeanOhAileasa/cta-sorting/blob/main/rc/InsertionSort/k2.png?raw=true)"
   ]
  },
  {
   "cell_type": "markdown",
   "metadata": {},
   "source": [
    "![image](https://github.com/SeanOhAileasa/cta-sorting/blob/main/rc/InsertionSort/k3.png?raw=true)"
   ]
  },
  {
   "cell_type": "markdown",
   "metadata": {},
   "source": [
    "![image](https://github.com/SeanOhAileasa/cta-sorting/blob/main/rc/InsertionSort/k4.png?raw=true)"
   ]
  },
  {
   "cell_type": "markdown",
   "metadata": {},
   "source": [
    "![image](https://github.com/SeanOhAileasa/cta-sorting/blob/main/rc/InsertionSort/Sorted.png?raw=true)"
   ]
  },
  {
   "cell_type": "code",
   "execution_count": null,
   "metadata": {},
   "outputs": [],
   "source": [
    "exit()"
   ]
  },
  {
   "cell_type": "markdown",
   "metadata": {},
   "source": [
    "< [Table of Contents](#top) | [References](#references) >\n",
    "<a id=\"insertionSortAnalysis\"></a>\n",
    "###### Analysis\n",
    "***"
   ]
  },
  {
   "cell_type": "markdown",
   "metadata": {},
   "source": [
    "- so how would we actually analyse the complexity of insertion sort when we saw earlier that the total number of data comparisons which would be made by insertions are two es in fact the number of inversions which we termed d plus at most n minus one comparisons as well so a sorted list would have no inversions and therefore in that case insertion sort would run in linear r omega n time in the best-case and the best-case is of course when the input is already sorted on average a list of size n would have n minus one times n over four inversions and therefore the total number of comparisons would be n minus one plus d so n minus one plus n minus one times n divided by four and thats approximately equal to n squared comparisons on average and then in the worst-case a list of size n would have n minus one times n over two inversions so that would correspond to a reverse sorted input rn and input thats arranged exactly in the opposite order which we want to achieve and that will be the maximum number of versions and the number of comparisons that will be made in that case would be n minus one plus d which is n minus one plus n minus one times n divided by two and that would approximately be equal to n squared are all n squared in the worst-case then sort of compare the simple comparison-based sorting algorithms which weve looked at in this lecture and the main advantage that insertion sort has over selections or for example is that the inner loop will only iterate as long as is necessary to find the insertion point so in the worst-case insertion sort would iterate over the entire source repairs and in this case the number of iterations would be the same as for selection sort therefore the worst-case running time is o n squared and thats the same worst-case running time approximately as selection sort and bubblesort with the same class of of order function at the other extreme if the array is already sorted the inner loop wouldnt need to iterate at all so for this case the running time would be omega n which is the same as the running time of bubblesort on an array which is already sorted so bubble sort selection sort and insertion sort to compare them theyre all in-place sorting algorithms and bubble sort and insertion sort are stable swapping algorithms so they preserve the relative ordering of the elements which are valued the same according to a comparator function so theyre preserved between the unsorted input instance and the sorted output and in comparison to these selections art is unstable so it doesnt make any guarantees about the ordering of elements which have the same value according to a competitor function lets just review the criteria for choosing a sorting algorithm so we had some criteria we mentioned the last day like having a small number of items to be sorted if items are mostly sorted already and we could be concerned about scenarios worst-case scenarios average-case behaviour we could have data thats kind of randomly generated or kind of drawn from a uniform dense universe and so even distribution and there could be a desire to write as little code as possible are requiring some status marking so in general we see that insertion sort is actually good for having a small number of items its good in cases where you also have items that are mostly sorted already are a very low number of inversions and its also very easy to call it off and it that it would be as easy to call it up really as selection sort bubble sort but of course it has advantages over those two methods so well see in fact that those criteria which we are going to use to choose sarking algorithms that insertions are can satisfy quite a lot of those so just to recap and bubble sort selection sort and insertion sort are all n squared in the worst-case and theyre all simple sorting algorithms that are that are well known and i suppose bubble sort and selection sort wouldnt be that widely used insertion sort is in certain and specific cases so we have n o n squared and worst-case performance for all of those however it is possible to do much better than this even with comparison-based sorts as well see in the next lecture and we look at specifically their merge sort and quicksort boot from this lecture on the simple all n squared sorting algorithms and the main takeaway points here are that bubblesort is extremely slow and its of little practical use and selection sort is generally better than than bubblesort but still not great and still not really a practical algorithm to use in the real world unless youve got very small input instances and selection sort insertion sort however are good enough for small input instances we could say however the important thing about insertions artists that its usually the fastest of three and in fact as well discuss later for small sizes of n or small input instances so we could say 510 15 elements or something like that insertion sort is usually faster than more complex algorithms and this has in fact led to the use of insertion sort in hybrid sorting algorithms which combined the properties of kind of more complex algorithms which are better guarantees and work better on larger data sets and combining the speed and efficiency of insertion sort on small data sets and once the problem is broken down to a small enough level and so we will talk about hybrid sorting algorithms later as well"
   ]
  },
  {
   "cell_type": "code",
   "execution_count": null,
   "metadata": {},
   "outputs": [],
   "source": [
    "exit()"
   ]
  },
  {
   "cell_type": "markdown",
   "metadata": {},
   "source": [
    "< [Table of Contents](#top) | [References](#references) >\n",
    "<a id=\"comparisonEfficient\"></a>\n",
    "###### Efficient\n",
    "***"
   ]
  },
  {
   "cell_type": "markdown",
   "metadata": {},
   "source": [
    "- efficient comparison-based algorithms such as Merge Sort and Quicksort are on average far ahead of the three comparison-based sorting algorithms (Bubble/Selection/Insertion Sort) [6]"
   ]
  },
  {
   "cell_type": "code",
   "execution_count": null,
   "metadata": {},
   "outputs": [],
   "source": [
    "exit()"
   ]
  },
  {
   "cell_type": "markdown",
   "metadata": {},
   "source": [
    "< [Table of Contents](#top) | [References](#references) >\n",
    "<a id=\"Merge-Sort\"></a>\n",
    "###### Merge Sort\n",
    "***"
   ]
  },
  {
   "cell_type": "markdown",
   "metadata": {},
   "source": [
    "![title-overview-sorting-algorithms](https://github.com/SeanOhAileasa/SeanOhAileasa/blob/master/rc/cta/sorting/title-overview-sorting-algorithms.png?raw=true)\n",
    "![merge](https://github.com/SeanOhAileasa/SeanOhAileasa/blob/master/rc/cta/sorting/merge.png?raw=true)\n",
    "\n",
    "***(Image) P. Mannion, \"03 Analysing Algorithms Part 1,\" GMIT, October 2017.***"
   ]
  },
  {
   "cell_type": "markdown",
   "metadata": {},
   "source": [
    "- developed by the renowned computer scientist John Von Neumann in 1945 - even though its over 70 years old it is still in common use today whether in its own right or as part of a hybrid algorithm (in combination with some other sorting algorithms) - good choice if requiring guaranteed stability and still preserving good all around efficiency [1]"
   ]
  },
  {
   "cell_type": "markdown",
   "metadata": {},
   "source": [
    "- the three simple comparison-based sorting algorithms (Bubble Sort/Selection Sort/Insertion Sort) are implemented using an iterative process via ``for`` and/or ``while`` loops - the efficient comparison-based sorting algorithm Merge Sort is a recursive algorithm which adheres to the divide and conquer paradigm - the divide step indicates the problem being broken down into smaller sub-instances of the same problem type and the conquer step indicates solving these broken sub-instances until some base case is reached with the solution propagated back up the recursion trace [6]"
   ]
  },
  {
   "cell_type": "markdown",
   "metadata": {},
   "source": [
    "- the performance of Merge Sort can achieve $O(n\\space log\\space n)$ time complexity in the worst case and is the best asymptotic behaviour when compared with the three simple comparison-based sorting algorithms (Bubble Sort/Selection Sort/Insertion Sort) - the performance of Merge Sort can achieve $O(n\\space log\\space n)$ time complexity also in the best case and average case so its a very good choice if a predictable runtime is required and if not concerned about getting the absolute best performance in every instance - Merge Sort is a good all rounder [6]"
   ]
  },
  {
   "cell_type": "code",
   "execution_count": null,
   "metadata": {},
   "outputs": [],
   "source": [
    "exit()"
   ]
  },
  {
   "cell_type": "markdown",
   "metadata": {},
   "source": [
    "< [Table of Contents](#top) | [References](#references) >\n",
    "<a id=\"mergeSortProcedure\"></a>\n",
    "###### Procedure\n",
    "***"
   ]
  },
  {
   "cell_type": "markdown",
   "metadata": {},
   "source": [
    "- based on the simple idea of dividing the larger problem to be sorted in half each time to get to a case where the $n$ is zero or one this being the base case of the recursion - a partition of $n=0$ or $n=1$ can act as base cases because by definition these do not need to be sorted [6]"
   ]
  },
  {
   "cell_type": "markdown",
   "metadata": {},
   "source": [
    "- calling a merge sort procedure with the $n$ being zero or one then return to the caller otherwise separate the input instances into two each of equal $n$ or appropriately equal $n$ [6]"
   ]
  },
  {
   "cell_type": "markdown",
   "metadata": {},
   "source": [
    "- recursively applying the merge sorting algorithm to the first half and separately to the second half resulting in a left and right partition [6]"
   ]
  },
  {
   "cell_type": "markdown",
   "metadata": {},
   "source": [
    "- finally merging the two sorted halves into one sorted $C$ [6]"
   ]
  },
  {
   "cell_type": "markdown",
   "metadata": {},
   "source": [
    "- expect any merge operation to take at least linear $O(n)$ time complexity - most of the work is done in the merge step so when implementing it should be as efficient as possible - the performance would take at least linear $O(n)$ time complexity when accounting for the total size of the $C$ in the worst case since every $E$ needs to be examined at least once in order to determine the correct ordering [6]"
   ]
  },
  {
   "cell_type": "code",
   "execution_count": null,
   "metadata": {},
   "outputs": [],
   "source": [
    "exit()"
   ]
  },
  {
   "cell_type": "markdown",
   "metadata": {},
   "source": [
    "< [Table of Contents](#top) | [References](#references) >\n",
    "<a id=\"mergeSortProcess\"></a>\n",
    "###### Process\n",
    "***"
   ]
  },
  {
   "cell_type": "markdown",
   "metadata": {},
   "source": [
    "- sorting an unsorted input instance $C$ of integers $(\\space 7,\\space 5,\\space 2,\\space 3,\\space 4,\\space 1,\\space 8\\space )$ with some out of order $E$  [3]\n",
    "\n",
    "$$[\\space 7,\\space 5,\\space 2,\\space 3,\\space 4,\\space 1,\\space 8]$$"
   ]
  },
  {
   "cell_type": "markdown",
   "metadata": {},
   "source": [
    "- if the size of the $C$ is greater than zero or one then split the $C$ into different partitions - the left partition and the right partition do not have to be the same size just an appropriation - an uneven number of $E$ in either input instance (left/right partition) having one extra $E$ is acceptable [6]\n",
    "\n",
    "$(\\space 7,\\space 5,\\space 2,\\space 3\\space )\\space ...\\space (\\space 4,\\space 1,\\space 8\\space )$"
   ]
  },
  {
   "cell_type": "markdown",
   "metadata": {},
   "source": [
    "- additional calls are made to the merge sort procedure - if either $n$ (left/right partition) is greater than zero or one then the merge sort is recursively applied - the $C$ is now split into additional partitions [6]\n",
    "\n",
    "$(\\space 7,\\space 5\\space )\\space ...\\space (\\space 2,\\space 3\\space )\\space ...\\space (\\space 4,\\space 1\\space )\\space ...\\space (\\space 8\\space )$"
   ]
  },
  {
   "cell_type": "markdown",
   "metadata": {},
   "source": [
    "- additional calls are made to the merge sort procedure - continue the merge sort recursive step if either $n$ (partition) is greater than zero or one - if a partition has $n=1$ the base case has being reached for this level of recursion therefore disregarding the partition for the moment as it will combined later [6]\n",
    "\n",
    "$(\\space 7\\space )\\space ...\\space (\\space 5\\space )\\space ...\\space (\\space 2\\space )\\space ...\\space (\\space 3\\space )\\space ...\\space (\\space 4\\space )\\space ...\\space (\\space 1\\space )\\space ...\\space \\Rightarrow (\\space 8\\space ); n=1\\space Wait\\space ...$"
   ]
  },
  {
   "cell_type": "markdown",
   "metadata": {},
   "source": [
    "- additional calls are made to the merge sort procedure - when all the single $E$ have reached the base cases then merge in-between - as part of the merge step the $E$ are sorted relative to one another [6] \n",
    "\n",
    "$(\\space 7,\\space 5\\space );\\space Swap\\space ...\\space (\\space 5,\\space 7\\space )$\n",
    "\n",
    "$(\\space 2,\\space 3\\space );\\space Swap\\space ...\\space (\\space 2,\\space 3\\space )$\n",
    "\n",
    "$(\\space 4,\\space 1\\space );\\space Swap\\space ...\\space (\\space 1,\\space 4\\space )$\n",
    "\n",
    "$(\\space 5,\\space 7\\space )\\space ...\\space (\\space 2,\\space 3\\space )\\space ...\\space (\\space 1,\\space 4\\space )\\space ...\\space \\Leftarrow (\\space 8\\space );\\space Merge\\space ...$"
   ]
  },
  {
   "cell_type": "markdown",
   "metadata": {},
   "source": [
    "- combining the partitions with additional calls made to the merge sort procedure - the $E$ within the partitions are sorted relative to one another ensuring each are in its correct index/position [6]\n",
    "\n",
    "$(\\space (5,\\space 7),\\space (2,\\space 3)\\space )\\space ...\\space (\\space (1,\\space 4),\\space (8)\\space )$\n",
    "\n",
    "$(\\space 2,\\space 3,\\space 5,\\space 7\\space )\\space ...\\space (\\space 1,\\space 4,\\space 8\\space )$"
   ]
  },
  {
   "cell_type": "markdown",
   "metadata": {},
   "source": [
    "- continue to combine the partitions with the final call made to the merge sort procedure - during the merge all $E$ are now sorted relative to one another and the $C$ is sorted [6]\n",
    "\n",
    "$(\\space (2,\\space 3,\\space 5,\\space 7),\\space (1,\\space 4,\\space 8)\\space )$\n",
    "\n",
    "$(\\space 1,\\space 2,\\space 3\\space \\space 4,\\space 5,\\space 7,\\space 8\\space )\\space )$"
   ]
  },
  {
   "cell_type": "markdown",
   "metadata": {},
   "source": [
    "- a disadvantage of the recursive approach is that the sorting procedure can get quick expensive given the number of active stack frames applied - the result is similar to a tree-like structure - is quite an easy algorithm to call and intuitive [6]"
   ]
  },
  {
   "cell_type": "code",
   "execution_count": null,
   "metadata": {},
   "outputs": [],
   "source": [
    "exit()"
   ]
  },
  {
   "cell_type": "markdown",
   "metadata": {},
   "source": [
    "< [Table of Contents](#top) | [References](#references) >\n",
    "<a id=\"mergeSortImplementationJava\"></a>\n",
    "###### Implementation - Java\n",
    "***"
   ]
  },
  {
   "cell_type": "markdown",
   "metadata": {},
   "source": [
    "&#x1F6A7;"
   ]
  },
  {
   "cell_type": "code",
   "execution_count": null,
   "metadata": {},
   "outputs": [],
   "source": [
    "exit()"
   ]
  },
  {
   "cell_type": "markdown",
   "metadata": {},
   "source": [
    "< [Table of Contents](#top) | [References](#references) >\n",
    "<a id=\"buildMergeSort\"></a>\n",
    "###### Build\n",
    "***"
   ]
  },
  {
   "cell_type": "markdown",
   "metadata": {},
   "source": [
    "- interactive tabs require installation of IPyPlot [7]\n",
    "\n",
    "\n",
    "- IPyPlot can be installed through PyPI:\n",
    "\n",
    "```\n",
    "pip install ipyplot\n",
    "```\n",
    "\n",
    "\n",
    "- or directly from this repo using pip:\n",
    "\n",
    "```\n",
    "pip install git+https://github.com/karolzak/ipyplot\n",
    "```"
   ]
  },
  {
   "cell_type": "markdown",
   "metadata": {},
   "source": [
    "###### Start Here\n",
    "***\n",
    "< [Build Interactive Tabs](#buildPlotImageInteractiveTabs) >"
   ]
  },
  {
   "cell_type": "code",
   "execution_count": null,
   "metadata": {},
   "outputs": [],
   "source": [
    "nCollection=[71,59,61,67,53] # collection of primes"
   ]
  },
  {
   "cell_type": "code",
   "execution_count": null,
   "metadata": {},
   "outputs": [],
   "source": [
    "from matplotlib.pyplot import xticks,savefig,close"
   ]
  },
  {
   "cell_type": "code",
   "execution_count": null,
   "metadata": {},
   "outputs": [],
   "source": [
    "# module fubar - function fAddLocalURL\n",
    "fAddLocalURL(nParOuterIndex=None,nParInnerIndex=None,nParRC=\"Unsorted\") # assign URL \"./rc/Unsorted\"\n",
    "# module fubar - function fAddBarBlue - function fAddPlot\n",
    "fAddPlot(nParCollection=nCollection, # collection under analysis\n",
    "         nParColor=fAddBarBlue(nParCollection=nCollection,nParIndex=-1)) # plot gray bar\n",
    "xticks([]) # no x-axis ticks\n",
    "# package matplotlib - module pyplot\n",
    "savefig(fname=f\"./rc/Unsorted/OuterNoneInnerNone.png\")\n",
    "close() # close figure window"
   ]
  },
  {
   "cell_type": "code",
   "execution_count": null,
   "metadata": {},
   "outputs": [],
   "source": [
    "# define function - fMergeSort\n",
    "def fMergeSort(nParCollection):\n",
    "    \"\"\"Merge Sort Algorithm.\n",
    "    Source: https://runestone.academy/runestone/books/published/pythonds/SortSearch/TheMergeSort.html\n",
    "Input: nParCollection\n",
    "Process: \n",
    "Output: sorted collection (in-place)\n",
    "\"\"\" \n",
    "    if len(nParCollection)>1: # check base case\n",
    "        nAppropriatelyHalf=len(nParCollection)//2 # floor division appropriate        \n",
    "        nLeftPartition=nParCollection[:nAppropriatelyHalf] # slice appropriately half        \n",
    "        nRightPartition=nParCollection[nAppropriatelyHalf:] # slice appropriately half        \n",
    "        fMergeSort(nLeftPartition) # recursion call itself\n",
    "        fMergeSort(nRightPartition) # recursion call itself\n",
    "\n",
    "        nLeftCounter,nRightCounter,nLoopCounter=0,0,0 # initialise loop counters\n",
    "        \n",
    "        while nLeftCounter<len(nLeftPartition) and nRightCounter<len(nRightPartition):\n",
    "            if nLeftPartition[nLeftCounter]<=nRightPartition[nRightCounter]: # ensure algorithm stable\n",
    "                nParCollection[nLoopCounter]=nLeftPartition[nLeftCounter]                \n",
    "                nLeftCounter+=1\n",
    "            else:\n",
    "                nParCollection[nLoopCounter]=nRightPartition[nRightCounter]                \n",
    "                nRightCounter+=1\n",
    "            nLoopCounter+=1\n",
    "            \n",
    "        while nLeftCounter<len(nLeftPartition):\n",
    "            nParCollection[nLoopCounter]=nLeftPartition[nLeftCounter]            \n",
    "            nLeftCounter+=1\n",
    "            nLoopCounter+=1\n",
    "            \n",
    "        while nRightCounter<len(nRightPartition):\n",
    "            nParCollection[nLoopCounter]=nRightPartition[nRightCounter]            \n",
    "            nRightCounter+=1\n",
    "            nLoopCounter+=1\n",
    "\n",
    "    if nParCollection==[53, 59, 61, 67, 71]: # recursion execute once\n",
    "        # module fubar - function fAddPlotTabs\n",
    "        fAddPlotTabs(nParAlgorithm=fMergeSort.__name__[1:]) # report plot tabs\n",
    "# --- END ---"
   ]
  },
  {
   "cell_type": "code",
   "execution_count": null,
   "metadata": {},
   "outputs": [],
   "source": [
    "# function call - fMergeSortPlot\n",
    "fMergeSortPlot()"
   ]
  },
  {
   "cell_type": "code",
   "execution_count": null,
   "metadata": {
    "scrolled": false
   },
   "outputs": [],
   "source": [
    "# function call - fMergeSort\n",
    "fMergeSort(nCollection)"
   ]
  },
  {
   "cell_type": "markdown",
   "metadata": {},
   "source": [
    "&#x1F6A7; screenshot/save for reference"
   ]
  },
  {
   "cell_type": "code",
   "execution_count": null,
   "metadata": {},
   "outputs": [],
   "source": [
    "%%script bash \n",
    "# copy local URLs / clean working URLs\n",
    "rm -rf ./rc/MergeSort/Unsorted; mv ./rc/Unsorted ./rc/MergeSort/; mkdir ./rc/Unsorted\n",
    "rm -rf ./rc/MergeSort/Process; mv ./rc/Process ./rc/MergeSort/; mkdir ./rc/Process\n",
    "rm -rf ./rc/MergeSort/Partition; mv ./rc/Partition ./rc/MergeSort/; mkdir ./rc/Partition\n",
    "rm -rf ./rc/MergeSort/Sorted; mv ./rc/Sorted ./rc/MergeSort/; mkdir ./rc/Sorted"
   ]
  },
  {
   "cell_type": "markdown",
   "metadata": {},
   "source": [
    "###### Re-Run \n",
    "***\n",
    "< [Build Interactive Tabs](#buildPlotImageInteractiveTabs) >\n",
    "\n",
    "- Shutdown Jupyter Notebook and restart to build additional sorting algorithms plots/images."
   ]
  },
  {
   "cell_type": "code",
   "execution_count": null,
   "metadata": {},
   "outputs": [],
   "source": [
    "exit()"
   ]
  },
  {
   "cell_type": "markdown",
   "metadata": {},
   "source": [
    "< [Table of Contents](#top) | [References](#references) >\n",
    "<a id=\"proceduremergeSort\"></a>\n",
    "###### Procedure\n",
    "***"
   ]
  },
  {
   "cell_type": "markdown",
   "metadata": {},
   "source": [
    "![image](https://github.com/SeanOhAileasa/cta-sorting/blob/main/rc/MergeSort/Collection.png?raw=true)"
   ]
  },
  {
   "cell_type": "markdown",
   "metadata": {},
   "source": [
    "![image](https://github.com/SeanOhAileasa/cta-sorting/blob/main/rc/MergeSort/Partitions.png?raw=true)"
   ]
  },
  {
   "cell_type": "markdown",
   "metadata": {},
   "source": [
    "![image](https://github.com/SeanOhAileasa/cta-sorting/blob/main/rc/MergeSort/Merge.png?raw=true)"
   ]
  },
  {
   "cell_type": "markdown",
   "metadata": {},
   "source": [
    "![image](https://github.com/SeanOhAileasa/cta-sorting/blob/main/rc/MergeSort/Sorted.png?raw=true)"
   ]
  },
  {
   "cell_type": "code",
   "execution_count": null,
   "metadata": {},
   "outputs": [],
   "source": [
    "exit()"
   ]
  },
  {
   "cell_type": "markdown",
   "metadata": {},
   "source": [
    "< [Table of Contents](#top) | [References](#references) >\n",
    "<a id=\"mergeSortAnalysis\"></a>\n",
    "###### Analysis\n",
    "***"
   ]
  },
  {
   "cell_type": "markdown",
   "metadata": {},
   "source": [
    "&#x1F6A7;"
   ]
  },
  {
   "cell_type": "code",
   "execution_count": null,
   "metadata": {},
   "outputs": [],
   "source": [
    "exit()"
   ]
  },
  {
   "cell_type": "markdown",
   "metadata": {},
   "source": [
    "< [Table of Contents](#top) | [References](#references) >\n",
    "<a id=\"quicksort\"></a>\n",
    "###### Quicksort\n",
    "***"
   ]
  },
  {
   "cell_type": "markdown",
   "metadata": {},
   "source": [
    "![title-overview-sorting-algorithms](https://github.com/SeanOhAileasa/SeanOhAileasa/blob/master/rc/cta/sorting/title-overview-sorting-algorithms.png?raw=true)\n",
    "![quick](https://github.com/SeanOhAileasa/SeanOhAileasa/blob/master/rc/cta/sorting/quick.png?raw=true)\n",
    "\n",
    "***(Image) P. Mannion, \"03 Analysing Algorithms Part 1,\" GMIT, October 2017.***"
   ]
  },
  {
   "cell_type": "markdown",
   "metadata": {},
   "source": [
    "- developed by C.A.R. Hoare in 1959 [1] the efficient comparison-based sorting algorithm Quicksort is one of the most important sorting algorithms ever developed [1][6]"
   ]
  },
  {
   "cell_type": "markdown",
   "metadata": {},
   "source": [
    "- Quicksort is a recursive divide and conquer algorithm similar to the efficient comparison-based sorting algorithm Merge Sort - the standard version of Quicksort unlike Merge Sort is not stable however stable modifications do exist [6]"
   ]
  },
  {
   "cell_type": "markdown",
   "metadata": {},
   "source": [
    "- the performance of Quicksort is $O(n^{2})$ time complexity in the worst case however this is quite an unusual and rare scenario - if the input instance is almost sorted and if the pivot is not chosen in a good manner or if poor choices of pivots are made then the performance of Quicksort can degrade to $O(n^{2})$ time complexity - this can be almost as slow as some of the other $O(n^{2})$ time complexity sorting algorithms such as Selection Sort - although its quite rare this will happen if the pivot is consistently chosen so that too many of the $E$ in the $C$ are less than the pivot or greater than the pivot - if during the partitioning step the algorithm ended up with a pivot which leaves nothing in the right partition and everything goes into the left partition then this would take a long time to run - a classic case would be choosing the first or last $E$ in the $C$ as the pivot with the data already sorted or nearly sorted degrading the performance significantly [6] "
   ]
  },
  {
   "cell_type": "markdown",
   "metadata": {},
   "source": [
    "- the performance of Quicksort is $O(n\\space log\\space n)$ time complexity in the average/best case although on average Quicksort could in fact be faster than Merge Sort in a lot of cases [6]"
   ]
  },
  {
   "cell_type": "markdown",
   "metadata": {},
   "source": [
    "- the performance of the most standard or naive implementations of Quicksort in terms of memory usage is linear $O(n)$ albeit there are variations that exists with $O(n\\space log\\space n)$ memory performance [6]"
   ]
  },
  {
   "cell_type": "markdown",
   "metadata": {},
   "source": [
    "- Quicksort has been studied in great detail since it was invented over 60 years ago - in practice a its one of the fastest known sorting algorithms on average and thats why so much work has been done on it - there are quite a lot of variations [6]"
   ]
  },
  {
   "cell_type": "markdown",
   "metadata": {},
   "source": [
    "- good choice if interested in good average-case behaviour or as a good general-purpose sorting algorithm without assuming too much about the classes of input instances etc [1]"
   ]
  },
  {
   "cell_type": "code",
   "execution_count": null,
   "metadata": {},
   "outputs": [],
   "source": [
    "exit()"
   ]
  },
  {
   "cell_type": "markdown",
   "metadata": {},
   "source": [
    "< [Table of Contents](#top) | [References](#references) >\n",
    "<a id=\"quicksortProcedure\"></a>\n",
    "###### Procedure\n",
    "***"
   ]
  },
  {
   "cell_type": "markdown",
   "metadata": {},
   "source": [
    "- step 1. is the pivot selection whereby any $E$ in the $C$ can be picked to be used as the pivot - there are different rules that can be followed in picking pivots [6]"
   ]
  },
  {
   "cell_type": "markdown",
   "metadata": {},
   "source": [
    "- step 2. is the partitioning step whereby every $E$ in the $C$ less than the pivot is reordered left of the pivot - in addition every $E$ greater than or equal to the pivot is reordered right of the pivot - after the partitioning step the pivot is in its final index/position with a partition on the left and on the right [6]"
   ]
  },
  {
   "cell_type": "markdown",
   "metadata": {},
   "source": [
    "- step three is to apply steps 1. and 2. recursively to each of the two partitions working down through the recursion until a base case is reached - similar to Merge Sort the base case for the recursion in Quicksort is a partition with $n=0$ or $n=1$ - a partition of $n=0$ or $n=1$ can act as base cases because by definition these do not need to be sorted [6]"
   ]
  },
  {
   "cell_type": "code",
   "execution_count": null,
   "metadata": {},
   "outputs": [],
   "source": [
    "exit()"
   ]
  },
  {
   "cell_type": "markdown",
   "metadata": {},
   "source": [
    "< [Table of Contents](#top) | [References](#references) >\n",
    "<a id=\"quicksortProcess\"></a>\n",
    "###### Process\n",
    "***"
   ]
  },
  {
   "cell_type": "markdown",
   "metadata": {},
   "source": [
    "- options to choose the pivot would be: i) to always pick the first $E$ in the $C$ as the pivot; ii) to always pick the last $E$ in the $C$ as the pivot; iii) pick an $E$ from a random index/position as the pivot or; pick the median $E$ as the pivot - the median $E$ is probably one of the better choices in order to have the number of $E$ in the left/right partitions as even as possible - the median value would give a fairly equal distribution between the left and the right [6] "
   ]
  },
  {
   "cell_type": "markdown",
   "metadata": {},
   "source": [
    "- sorting a $C$ unsorted input instance with some out of order $E$ [6]\n",
    "\n",
    "$$[\\space 44,\\space 75,\\space 23,\\space 43,\\space 55,\\space 12,\\space 64,\\space 77,\\space 33\\space ]$$"
   ]
  },
  {
   "cell_type": "markdown",
   "metadata": {},
   "source": [
    "Step 1. Pivot Selection \n",
    "\n",
    "\n",
    "- picking the last $E$ as the pivot [6]\n",
    "\n",
    "$base$ $case$ ...$33$"
   ]
  },
  {
   "cell_type": "markdown",
   "metadata": {},
   "source": [
    "Step 2. Partitioning\n",
    "\n",
    "\n",
    "- put all $E$ which have values less than the pivot to the LHS of the pivot (left partition) [6]\n",
    "\n",
    "$12,\\space 23$"
   ]
  },
  {
   "cell_type": "markdown",
   "metadata": {},
   "source": [
    "- put all $E$ which have values greater than the pivot to the RHS of the pivot (right partition) [6]\n",
    "\n",
    "$43,\\space 55,\\space 44,\\space 64,\\space 77,\\space 75$"
   ]
  },
  {
   "cell_type": "markdown",
   "metadata": {},
   "source": [
    "⚡ left partition $\\Rightarrow 12,\\space 23$"
   ]
  },
  {
   "cell_type": "markdown",
   "metadata": {},
   "source": [
    "Step 3: Apply Steps 1. and 2. Recursively\n",
    "\n",
    "1. picking last $E$ as the pivot [6]\n",
    "\n",
    "$base$ $case$ ...$23$\n",
    "\n",
    "2. put all $E$ which have values less than the pivot to the LHS of the pivot (left partition) with no partition on the RHS [6]\n",
    "\n",
    "$base$ $case$ ...$12$\n",
    "\n",
    "3. apply steps 1. and 2. recursively with just one $E$ remaining being the base case for the recursion - the left partition is a small recursion trace followed through to the end [6]"
   ]
  },
  {
   "cell_type": "markdown",
   "metadata": {},
   "source": [
    "![quick](https://github.com/SeanOhAileasa/SeanOhAileasa/blob/master/rc/cta/sorting/06-33.png?raw=true)\n",
    "***(Image) P. Mannion, \"03 Analysing Algorithms Part 3,\" GMIT, November 2017.***"
   ]
  },
  {
   "cell_type": "markdown",
   "metadata": {},
   "source": [
    "⚡ right partition $\\Rightarrow 43,\\space 55,\\space 44,\\space 64,\\space 77,\\space 75$"
   ]
  },
  {
   "cell_type": "markdown",
   "metadata": {},
   "source": [
    "Step 3: Apply Steps 1. and 2. Recursively\n",
    "\n",
    "1. picking last $E$ as the pivot [6]\n",
    "\n",
    "$base$ $case$ ...$75$\n",
    "\n",
    "2. put all $E$ which have values less than the pivot to the LHS of the pivot (left partition) [6]\n",
    "\n",
    "$\\space 43,\\space 55,\\space 44,\\space 64$\n",
    "\n",
    "2. put all $E$ which have values greater than the pivot to the RHS of the pivot (right partition) [6]\n",
    "\n",
    "$75$\n",
    "\n",
    "$base$ $case$ ...$77$\n",
    "\n",
    "3. apply steps 1. and 2. recursively with just one $E$ remaining being base case for the recursion [6]"
   ]
  },
  {
   "cell_type": "markdown",
   "metadata": {},
   "source": [
    "![quick](https://github.com/SeanOhAileasa/SeanOhAileasa/blob/master/rc/cta/sorting/06-33-1.png?raw=true)\n",
    "***(Image) P. Mannion, \"03 Analysing Algorithms Part 3,\" GMIT, November 2017.***"
   ]
  },
  {
   "cell_type": "markdown",
   "metadata": {},
   "source": [
    "⚡ middle partition $\\Rightarrow 43,\\space 55,\\space 44,\\space 64$"
   ]
  },
  {
   "cell_type": "markdown",
   "metadata": {},
   "source": [
    "Step 3: Apply Steps 1. and 2. Recursively\n",
    "\n",
    "1. picking last $E$ as the pivot [6]\n",
    "\n",
    "$base$ $case$ ...$64$\n",
    "\n",
    "2. put all $E$ which have values less than the pivot to the LHS of the pivot (left partition) with no partition on the RHS [6]\n",
    "\n",
    "$43,55,44$\n",
    "\n",
    "3. apply steps 1. and 2. recursively with just three $E$ remaining [6]"
   ]
  },
  {
   "cell_type": "markdown",
   "metadata": {},
   "source": [
    "Step 3: Apply Steps 1. and 2. Recursively\n",
    "\n",
    "1. picking last $E$ as the pivot [6]\n",
    "\n",
    "$base$ $case$ ...$44$\n",
    "\n",
    "2. put all $E$ which have values less than the pivot to the LHS of the pivot (left partition) [6]\n",
    "\n",
    "$43$\n",
    "\n",
    "2. put all $E$ which have values greater than the pivot to the RHS of the pivot (right partition) [6]\n",
    "\n",
    "$55$\n",
    "\n",
    "3. apply steps 1. and 2. recursively with just one $E$ remaining being the base case for the recursion [6]\n",
    "\n",
    "$base$ $case$ ...$43$\n",
    "\n",
    "$base$ $case$ ...$55$\n",
    "\n",
    "![quick](https://github.com/SeanOhAileasa/SeanOhAileasa/blob/master/rc/cta/sorting/06-33-3.png?raw=true)\n",
    "***(Image) P. Mannion, \"03 Analysing Algorithms Part 3,\" GMIT, November 2017.***"
   ]
  },
  {
   "cell_type": "markdown",
   "metadata": {},
   "source": [
    "- $C$ sorted [6]\n",
    "\n",
    "$$[\\space 12,\\space 23,\\space 33,\\space 43,\\space 44,\\space 55,\\space 64,\\space 75,\\space 77\\space ]$$\n",
    "\n",
    "![quick](https://github.com/SeanOhAileasa/SeanOhAileasa/blob/master/rc/cta/sorting/06-33-4.png?raw=true)\n",
    "***(Image) P. Mannion, \"03 Analysing Algorithms Part 3,\" GMIT, November 2017.***"
   ]
  },
  {
   "cell_type": "code",
   "execution_count": null,
   "metadata": {},
   "outputs": [],
   "source": [
    "exit()"
   ]
  },
  {
   "cell_type": "markdown",
   "metadata": {},
   "source": [
    "< [Table of Contents](#top) | [References](#references) >\n",
    "<a id=\"quicksortImplementationJava\"></a>\n",
    "###### Implementation - Java\n",
    "***"
   ]
  },
  {
   "cell_type": "markdown",
   "metadata": {},
   "source": [
    "&#x1F6A7;"
   ]
  },
  {
   "cell_type": "code",
   "execution_count": null,
   "metadata": {},
   "outputs": [],
   "source": [
    "exit()"
   ]
  },
  {
   "cell_type": "markdown",
   "metadata": {},
   "source": [
    "< [Table of Contents](#top) | [References](#references) >\n",
    "<a id=\"buildquicksort\"></a>\n",
    "###### Build\n",
    "***"
   ]
  },
  {
   "cell_type": "code",
   "execution_count": null,
   "metadata": {},
   "outputs": [],
   "source": [
    "def quickSort(alist):\n",
    "   quickSortHelper(alist,0,len(alist)-1)\n",
    "\n",
    "def quickSortHelper(alist,first,last):\n",
    "   if first<last:\n",
    "\n",
    "       splitpoint = partition(alist,first,last)\n",
    "\n",
    "       quickSortHelper(alist,first,splitpoint-1)\n",
    "       quickSortHelper(alist,splitpoint+1,last)\n",
    "\n",
    "\n",
    "def partition(alist,first,last):\n",
    "   pivotvalue = alist[first]\n",
    "\n",
    "   leftmark = first+1\n",
    "   rightmark = last\n",
    "\n",
    "   done = False\n",
    "   while not done:\n",
    "\n",
    "       while leftmark <= rightmark and alist[leftmark] <= pivotvalue:\n",
    "           leftmark = leftmark + 1\n",
    "\n",
    "       while alist[rightmark] >= pivotvalue and rightmark >= leftmark:\n",
    "           rightmark = rightmark -1\n",
    "\n",
    "       if rightmark < leftmark:\n",
    "           done = True\n",
    "       else:\n",
    "           temp = alist[leftmark]\n",
    "           alist[leftmark] = alist[rightmark]\n",
    "           alist[rightmark] = temp\n",
    "\n",
    "   temp = alist[first]\n",
    "   alist[first] = alist[rightmark]\n",
    "   alist[rightmark] = temp\n",
    "\n",
    "\n",
    "   return rightmark\n",
    "\n",
    "# [...] https://runestone.academy/runestone/books/published/pythonds/SortSearch/TheQuickSort.html"
   ]
  },
  {
   "cell_type": "code",
   "execution_count": null,
   "metadata": {},
   "outputs": [],
   "source": [
    "alist = [54,26,93,17,77,31,44,55,20]\n",
    "quickSort(alist)\n",
    "print(alist)"
   ]
  },
  {
   "cell_type": "code",
   "execution_count": null,
   "metadata": {},
   "outputs": [],
   "source": [
    "exit()"
   ]
  },
  {
   "cell_type": "markdown",
   "metadata": {},
   "source": [
    "< [Table of Contents](#top) | [References](#references) >\n",
    "<a id=\"procedurequicksort\"></a>\n",
    "###### Procedure\n",
    "***"
   ]
  },
  {
   "cell_type": "markdown",
   "metadata": {},
   "source": [
    "&#x1F6A7;"
   ]
  },
  {
   "cell_type": "code",
   "execution_count": null,
   "metadata": {},
   "outputs": [],
   "source": [
    "exit()"
   ]
  },
  {
   "cell_type": "markdown",
   "metadata": {},
   "source": [
    "< [Table of Contents](#top) | [References](#references) >\n",
    "<a id=\"quicksortAnalysis\"></a>\n",
    "###### Analysis\n",
    "***"
   ]
  },
  {
   "cell_type": "markdown",
   "metadata": {},
   "source": [
    "&#x1F6A7;"
   ]
  },
  {
   "cell_type": "code",
   "execution_count": null,
   "metadata": {},
   "outputs": [],
   "source": [
    "exit()"
   ]
  },
  {
   "cell_type": "markdown",
   "metadata": {},
   "source": [
    "< [Table of Contents](#top) | [References](#references) >\n",
    "<a id=\"Heapsort\"></a>\n",
    "###### Heapsort\n",
    "***"
   ]
  },
  {
   "cell_type": "markdown",
   "metadata": {},
   "source": [
    "![title-overview-sorting-algorithms](https://github.com/SeanOhAileasa/SeanOhAileasa/blob/master/rc/cta/sorting/title-overview-sorting-algorithms.png?raw=true)\n",
    "![heap](https://github.com/SeanOhAileasa/SeanOhAileasa/blob/master/rc/cta/sorting/heap.png?raw=true)\n",
    "\n",
    "***(Image) P. Mannion, \"03 Analysing Algorithms Part 1,\" GMIT, October 2017.***"
   ]
  },
  {
   "cell_type": "markdown",
   "metadata": {},
   "source": [
    "- 1964 - J.W.J Williams [1]"
   ]
  },
  {
   "cell_type": "markdown",
   "metadata": {},
   "source": [
    "- good choice if concerned about performance in the worst-case (has good guarantees in the worst-case) [1] "
   ]
  },
  {
   "cell_type": "code",
   "execution_count": null,
   "metadata": {},
   "outputs": [],
   "source": [
    "exit()"
   ]
  },
  {
   "cell_type": "markdown",
   "metadata": {},
   "source": [
    "< [Table of Contents](#top) | [References](#references) >\n",
    "<a id=\"Smoothsort\"></a>\n",
    "###### Smoothsort\n",
    "***"
   ]
  },
  {
   "cell_type": "markdown",
   "metadata": {},
   "source": [
    "- 1981 - Edsger Dijkstra [1]"
   ]
  },
  {
   "cell_type": "code",
   "execution_count": null,
   "metadata": {},
   "outputs": [],
   "source": [
    "exit()"
   ]
  },
  {
   "cell_type": "markdown",
   "metadata": {},
   "source": [
    "< [Table of Contents](#top) | [References](#references) >\n",
    "<a id=\"Shellsort\"></a>\n",
    "###### Shellsort\n",
    "***"
   ]
  },
  {
   "cell_type": "markdown",
   "metadata": {},
   "source": [
    "- 1959 - Donald Shell [1]"
   ]
  },
  {
   "cell_type": "code",
   "execution_count": null,
   "metadata": {},
   "outputs": [],
   "source": [
    "exit()"
   ]
  },
  {
   "cell_type": "markdown",
   "metadata": {},
   "source": [
    "< [Table of Contents](#top) | [References](#references) >\n",
    "<a id=\"Non-Comparison\"></a>\n",
    "### Non-Comparison\n",
    "***"
   ]
  },
  {
   "cell_type": "markdown",
   "metadata": {},
   "source": [
    "- comparison-based sorting algorithms compare $E$ in a $C$ against one another and are the most widely applicable sorting algorithms in use making no assumptions about the data [6] - a limiting factor in terms of how efficient or how quickly comparison-based (comparing the relative values of any two different $E$ which appear in a $C$) sorting algorithms (Bubble Sort or Selection Sort or Insertion Sort or Merge Sort or Quicksort or Heapsort) can perform has being proven mathematical not to do better than $n\\space log\\space n$ time complexity performance in the average/worst case [1] - the performance $O(n\\space log\\space n)$ time complexity would be the smallest penalty hoped for in the worst case - Heapsort and Merge Sort exhibit this behaviour and are best to use if concerned about the worst case performance and need to use a comparison-based sorting algorithm [6]"
   ]
  },
  {
   "cell_type": "markdown",
   "metadata": {},
   "source": [
    "- its possible to achieve a performance of linear $O(n)$ time complexity but only if some assumptions can be made about the data and there is no need to compare $E$ against one another (the data falls into a certain range or has some kind of a distribution) - $O(n)$ is clearly the minimum sorting time possible since every $E$ must be examined at least once - must have some linear $O(n)$ time complexity because any input instance of $n$ must check that all $E$ are in the correct place and this is done by examining every $E$ at least once - performance of $O(n)$ is going to be the upper bound on possible performance (not going to get any better than linear $O(n)$ time complexity) when using comparison-based sorting algorithms [6]"
   ]
  },
  {
   "cell_type": "markdown",
   "metadata": {},
   "source": [
    "- there is an exception when considering sorting algorithms which are non-comparison-based whereby under some special conditions which relate to the types of values that are going to be sorted or the classes of input data which are going to be used then it is possible to design non-comparison-based sorting algorithms which have better worst case times that the $n\\space log\\space  n$ limit and this being the upper bound on possible performance for comparison-based sorting algorithms [1]"
   ]
  },
  {
   "cell_type": "markdown",
   "metadata": {},
   "source": [
    "- Counting Sort and Bucket Sort are non-comparison-based sorting algorithms which improve upon the performance of the efficient comparison-basesd algorithms with some additional assumptions about the type of input data [6]"
   ]
  },
  {
   "cell_type": "markdown",
   "metadata": {},
   "source": [
    "- non-comparison-based sorting algorithms which have better worst case times include Counting Sort; Bucket Sort and; Radix Sort [1]"
   ]
  },
  {
   "cell_type": "markdown",
   "metadata": {},
   "source": [
    "![title-overview-sorting-algorithms](https://github.com/SeanOhAileasa/SeanOhAileasa/blob/master/rc/cta/sorting/title-overview-sorting-algorithms.png?raw=true)\n",
    "![non-comparison-based-sorting-algorithms](https://github.com/SeanOhAileasa/SeanOhAileasa/blob/master/rc/cta/sorting/non-comparison-based-sorting-algorithms.png?raw=true)\n",
    "\n",
    "***(Image) P. Mannion, \"03 Analysing Algorithms Part 1,\" GMIT, October 2017.***"
   ]
  },
  {
   "cell_type": "code",
   "execution_count": null,
   "metadata": {},
   "outputs": [],
   "source": [
    "exit()"
   ]
  },
  {
   "cell_type": "markdown",
   "metadata": {},
   "source": [
    "< [Table of Contents](#top) | [References](#references) >\n",
    "<a id=\"Counting-Sort\"></a>\n",
    "###### Counting Sort\n",
    "***"
   ]
  },
  {
   "cell_type": "markdown",
   "metadata": {},
   "source": [
    "![title-overview-sorting-algorithms](https://github.com/SeanOhAileasa/SeanOhAileasa/blob/master/rc/cta/sorting/title-overview-sorting-algorithms.png?raw=true)\n",
    "![counting](https://github.com/SeanOhAileasa/SeanOhAileasa/blob/master/rc/cta/sorting/counting.png?raw=true)\n",
    "\n",
    "***(Image) P. Mannion, \"03 Analysing Algorithms Part 1,\" GMIT, October 2017.***"
   ]
  },
  {
   "cell_type": "markdown",
   "metadata": {},
   "source": [
    "- proposed by Harold H. Seaward in 1954 (as well as Radix Sort) is probably the simplest non-comparison-based sorting algorithm and conceptually very easy to understand [6]"
   ]
  },
  {
   "cell_type": "markdown",
   "metadata": {},
   "source": [
    "- seems impossible but the performance of Counting Sort is very close to linear $O(n)$ time complexity [6]"
   ]
  },
  {
   "cell_type": "markdown",
   "metadata": {},
   "source": [
    "- non-comparison-based sorting algorithms require the knowledge of a certain set of assumptions - these assumptions are essentially limitations on the type of input instances (data) which these algorithms can handle - with Counting Sort need to assume an $n$ where each $E$ has a non-negative integer key and has a range of $k$ - range $k$ being the number of discrete or different integer keys which are possible - if using zero-indexing the keys would be in the range $[\\space 0,\\space ..., \\space k-1\\space ]$ starting at zero and ending at the last possible integer $k-1$ then got $k$ different keys [6]"
   ]
  },
  {
   "cell_type": "markdown",
   "metadata": {},
   "source": [
    "- achieves a best/worst/average case time complexity performance of $n+k$ where $n$ is the size of the input instance plus the number of possible key values $k$ [6]"
   ]
  },
  {
   "cell_type": "markdown",
   "metadata": {},
   "source": [
    "- space complexity (working memory) is also $n+k$ - good improvement for large input instances when compared with even Quicksort [6]"
   ]
  },
  {
   "cell_type": "markdown",
   "metadata": {},
   "source": [
    "- the potential running time advantage does however come at the cost of having an algorithm which would not be as widely applicable as the comparison-based sorting algorithms - this is so given there has to be a lot of assumptions made about the type of data to be received - if the data has labels rather than integers and assigning each label an integer value then could use those integers as proxy sort keys instead of the actual name - names being maybe the mix of cars sorted in order could assign one car to a certain brand or two cars to to a certain brand or three cars to a certain brand and come up with some mapping between non-negative integer keys and strings essentially which would allow the application of Counting Sort to other types of problems but have to have that mapping figured out beforehand of course [6] "
   ]
  },
  {
   "cell_type": "markdown",
   "metadata": {},
   "source": [
    "- Counting Sort is stable if implemented in the correct way [6]"
   ]
  },
  {
   "cell_type": "code",
   "execution_count": null,
   "metadata": {},
   "outputs": [],
   "source": [
    "exit()"
   ]
  },
  {
   "cell_type": "markdown",
   "metadata": {},
   "source": [
    "< [Table of Contents](#top) | [References](#references) >\n",
    "<a id=\"countingsortProcedure\"></a>\n",
    "###### Procedure\n",
    "***"
   ]
  },
  {
   "cell_type": "markdown",
   "metadata": {},
   "source": [
    "- determine key range $k$ of the input $C$ if not already known [6]"
   ]
  },
  {
   "cell_type": "markdown",
   "metadata": {},
   "source": [
    "- initialise a $C$ of $k$ being the number of discrete sort key values which are possible and count the number of times each key value appears in the input instance - could have multiple instances of the same key value in the input instance - the Counting Sort algorithm counts how many times each specific key value occurs [6]"
   ]
  },
  {
   "cell_type": "markdown",
   "metadata": {},
   "source": [
    "- initialise a $C$ of results of $n$ to be used to build the sorted output [6]"
   ]
  },
  {
   "cell_type": "markdown",
   "metadata": {},
   "source": [
    "- space complexity (working memory) consists of the $k$ (counting) and of the $n$ (results) - the $n$ is going to store results of the sorted output hence achieving $n+k$ space complexity [6]"
   ]
  },
  {
   "cell_type": "markdown",
   "metadata": {},
   "source": [
    "- iterating through the input $C$ and recording the number of times that each distinct key value occurs in the input instance based on a histogram of frequencies (records how often something happened) [6]"
   ]
  },
  {
   "cell_type": "markdown",
   "metadata": {},
   "source": [
    "- finally constructing the sorted $C$ (results) based on the histogram of key frequencies stored in the $C$ [6]"
   ]
  },
  {
   "cell_type": "markdown",
   "metadata": {},
   "source": [
    "- can refer to the ordering of the key in the original input which will ensure that stability is preserved - if two different keys values (two $E$) have the key value then knowing that if one appears on the right of the other then that ordering would be preserved after the sorting procedure and this can be taken into account when implementing the Counting Sort algorithm - the algorithm is a good choice if there is a lot of duplicate keys [6]"
   ]
  },
  {
   "cell_type": "code",
   "execution_count": null,
   "metadata": {},
   "outputs": [],
   "source": [
    "exit()"
   ]
  },
  {
   "cell_type": "markdown",
   "metadata": {},
   "source": [
    "< [Table of Contents](#top) | [References](#references) >\n",
    "<a id=\"countingsortProcess\"></a>\n",
    "###### Process\n",
    "***"
   ]
  },
  {
   "cell_type": "markdown",
   "metadata": {},
   "source": [
    "- sorting a $C$ unsorted input instance with some out of order $E$ [6]\n",
    "\n",
    "$$[\\space 7,\\space 5,\\space 2,\\space 3,\\space 1,\\space 1,\\space 2,\\space 0,\\space 2\\space ]$$"
   ]
  },
  {
   "cell_type": "markdown",
   "metadata": {},
   "source": [
    "- the Counting Sort algorithm will go through the input instance and count how many times each of the different $E$ of that input instance occurs (every unique key value) [6]"
   ]
  },
  {
   "cell_type": "markdown",
   "metadata": {},
   "source": [
    "![counting](https://github.com/SeanOhAileasa/SeanOhAileasa/blob/master/rc/cta/sorting/06-37.png?raw=true)\n",
    "***(Image) P. Mannion, \"03 Analysing Algorithms Part 3,\" GMIT, November 2017.***"
   ]
  },
  {
   "cell_type": "markdown",
   "metadata": {},
   "source": [
    "- the histogram represents the count of unique key values stored in the $C$ - the x-axis key values corresponded to the number of times each of the $E$ occur in the input instance [6] "
   ]
  },
  {
   "cell_type": "markdown",
   "metadata": {},
   "source": [
    "![counting](https://github.com/SeanOhAileasa/SeanOhAileasa/blob/master/rc/cta/sorting/06-37-1.png?raw=true)\n",
    "***(Image) P. Mannion, \"03 Analysing Algorithms Part 3,\" GMIT, November 2017.***"
   ]
  },
  {
   "cell_type": "markdown",
   "metadata": {},
   "source": [
    "- knowing the total ordering of the key values that exist in the input instance allows the placement of the largest $E$ at the end of the resulting $C$ [6]"
   ]
  },
  {
   "cell_type": "markdown",
   "metadata": {},
   "source": [
    "- working backwards continue to look for the next largest key instance which occurs - counting down from $[\\space n-1\\space ]$ the placement the of $E$ builds the resulting $C$ in this format [6]"
   ]
  },
  {
   "cell_type": "markdown",
   "metadata": {},
   "source": [
    "- if the Counting Sort algorithm is implemented correctly then duplicates that appear in the input instance will appear in the same order in the resulting $C$ which is returned by that procedure [6]"
   ]
  },
  {
   "cell_type": "markdown",
   "metadata": {},
   "source": [
    "![counting](https://github.com/SeanOhAileasa/SeanOhAileasa/blob/master/rc/cta/sorting/06-37-2.png?raw=true)\n",
    "***(Image) P. Mannion, \"03 Analysing Algorithms Part 3,\" GMIT, November 2017.***"
   ]
  },
  {
   "cell_type": "code",
   "execution_count": null,
   "metadata": {},
   "outputs": [],
   "source": [
    "exit()"
   ]
  },
  {
   "cell_type": "markdown",
   "metadata": {},
   "source": [
    "< [Table of Contents](#top) | [References](#references) >\n",
    "<a id=\"countingsortImplementationJava\"></a>\n",
    "###### Implementation - Java\n",
    "***"
   ]
  },
  {
   "cell_type": "markdown",
   "metadata": {},
   "source": [
    "&#x1F6A7;"
   ]
  },
  {
   "cell_type": "code",
   "execution_count": null,
   "metadata": {},
   "outputs": [],
   "source": [
    "exit()"
   ]
  },
  {
   "cell_type": "markdown",
   "metadata": {},
   "source": [
    "< [Table of Contents](#top) | [References](#references) >\n",
    "<a id=\"buildcountingsort\"></a>\n",
    "###### Build\n",
    "***"
   ]
  },
  {
   "cell_type": "markdown",
   "metadata": {},
   "source": [
    "- interactive tabs require installation of IPyPlot [7]\n",
    "\n",
    "\n",
    "- IPyPlot can be installed through PyPI:\n",
    "\n",
    "```\n",
    "pip install ipyplot\n",
    "```\n",
    "\n",
    "\n",
    "- or directly from this repo using pip:\n",
    "\n",
    "```\n",
    "pip install git+https://github.com/karolzak/ipyplot\n",
    "```"
   ]
  },
  {
   "cell_type": "markdown",
   "metadata": {},
   "source": [
    "###### Start Here\n",
    "***\n",
    "< [Build Interactive Tabs](#buildPlotImageInteractiveTabs) >"
   ]
  },
  {
   "cell_type": "code",
   "execution_count": null,
   "metadata": {},
   "outputs": [],
   "source": [
    "nCollection=[101,97,83,89,79,79,83,73,83] # collection of primes"
   ]
  },
  {
   "cell_type": "code",
   "execution_count": null,
   "metadata": {},
   "outputs": [],
   "source": [
    "from matplotlib.pyplot import savefig,close,xticks"
   ]
  },
  {
   "cell_type": "code",
   "execution_count": null,
   "metadata": {},
   "outputs": [],
   "source": [
    "# module fubar - function fAddLocalURL\n",
    "fAddLocalURL(nParOuterIndex=None,nParInnerIndex=None,nParRC=\"Unsorted\") # assign URL \"./rc/Unsorted\"\n",
    "# module fubar - function fAddBarBlue - function fAddPlot\n",
    "fAddPlot(nParCollection=nCollection, # collection under analysis\n",
    "         nParColor=fAddBarBlue(nParCollection=nCollection,nParIndex=-1)) # plot gray bar\n",
    "# package matplotlib - module pyplot\n",
    "xticks([])\n",
    "savefig(fname=f\"./rc/Unsorted/OuterNoneInnerNone.png\")\n",
    "close() # close figure window"
   ]
  },
  {
   "cell_type": "code",
   "execution_count": null,
   "metadata": {},
   "outputs": [],
   "source": [
    "# function call - fCountingSortPlot\n",
    "fCountingSortPlot()"
   ]
  },
  {
   "cell_type": "code",
   "execution_count": null,
   "metadata": {},
   "outputs": [],
   "source": [
    "# define function - fCountingSort\n",
    "def fCountingSort(nParCollection):\n",
    "    nSetMaximumIndex=0 # set start index/position\n",
    "    for nEachIndex in range(len(nParCollection)): # iterate collection indices\n",
    "        if nParCollection[nEachIndex]>nSetMaximumIndex: # determine maximum element\n",
    "            nSetMaximumIndex=nParCollection[nEachIndex] # maximum valued element \n",
    "\n",
    "    # each element zero\n",
    "    nBuckets=[0]*(nSetMaximumIndex+1) # length maximum element+1\n",
    "    \n",
    "    for nEachElement in nParCollection: # iterate collection elements\n",
    "        nBuckets[nEachElement]+=1 # populate discrete indices\n",
    "    # bucket includes indices \n",
    "    \n",
    "    nIndexReset=0 # set start index/position\n",
    "    for nEachElement in range(nSetMaximumIndex+1): # iterate bucket length\n",
    "        for nBucketElement in range(nBuckets[nEachElement]): # iterate bucket zeros\n",
    "            nParCollection[nIndexReset]=nEachElement # populate count zeros \n",
    "            nIndexReset+=1 # move next index/position\n",
    "            \n",
    "    return nParCollection\n",
    "# --- END ---"
   ]
  },
  {
   "cell_type": "code",
   "execution_count": null,
   "metadata": {},
   "outputs": [],
   "source": [
    "# function call - fCountingSort\n",
    "fCountingSort(nParCollection=nCollection)"
   ]
  },
  {
   "cell_type": "markdown",
   "metadata": {},
   "source": [
    "&#x1F6A7; screenshot/save for reference"
   ]
  },
  {
   "cell_type": "code",
   "execution_count": null,
   "metadata": {},
   "outputs": [],
   "source": [
    "%%script bash \n",
    "# copy local URLs / clean working URLs\n",
    "rm -rf ./rc/CountingSort/Unsorted; mv ./rc/Unsorted ./rc/CountingSort/; mkdir ./rc/Unsorted\n",
    "rm -rf ./rc/CountingSort/Process; mv ./rc/Process ./rc/CountingSort/; mkdir ./rc/Process\n",
    "rm -rf ./rc/CountingSort/Partition; mv ./rc/Partition ./rc/CountingSort/; mkdir ./rc/Partition\n",
    "rm -rf ./rc/CountingSort/Sorted; mv ./rc/Sorted ./rc/CountingSort/; mkdir ./rc/Sorted"
   ]
  },
  {
   "cell_type": "markdown",
   "metadata": {},
   "source": [
    "###### Re-Run \n",
    "***\n",
    "< [Build Interactive Tabs](#buildPlotImageInteractiveTabs) >\n",
    "\n",
    "- Shutdown Jupyter Notebook and restart to build additional sorting algorithms plots/images."
   ]
  },
  {
   "cell_type": "code",
   "execution_count": null,
   "metadata": {},
   "outputs": [],
   "source": [
    "exit()"
   ]
  },
  {
   "cell_type": "markdown",
   "metadata": {},
   "source": [
    "< [Table of Contents](#top) | [References](#references) >\n",
    "<a id=\"procedurecountingsort\"></a>\n",
    "###### Procedure\n",
    "***"
   ]
  },
  {
   "cell_type": "markdown",
   "metadata": {},
   "source": [
    "![image](https://github.com/SeanOhAileasa/cta-sorting/blob/main/rc/CountingSort/Collection.png?raw=true)"
   ]
  },
  {
   "cell_type": "markdown",
   "metadata": {},
   "source": [
    "![image](https://github.com/SeanOhAileasa/cta-sorting/blob/main/rc/CountingSort/Histogram.png?raw=true)"
   ]
  },
  {
   "cell_type": "markdown",
   "metadata": {},
   "source": [
    "![image](https://github.com/SeanOhAileasa/cta-sorting/blob/main/rc/CountingSort/Sorted.png?raw=true)"
   ]
  },
  {
   "cell_type": "code",
   "execution_count": null,
   "metadata": {},
   "outputs": [],
   "source": [
    "exit()"
   ]
  },
  {
   "cell_type": "markdown",
   "metadata": {},
   "source": [
    "< [Table of Contents](#top) | [References](#references) >\n",
    "<a id=\"countingsortAnalysis\"></a>\n",
    "###### Analysis\n",
    "***"
   ]
  },
  {
   "cell_type": "markdown",
   "metadata": {},
   "source": [
    "&#x1F6A7;"
   ]
  },
  {
   "cell_type": "code",
   "execution_count": null,
   "metadata": {},
   "outputs": [],
   "source": [
    "exit()"
   ]
  },
  {
   "cell_type": "markdown",
   "metadata": {},
   "source": [
    "< [Table of Contents](#top) | [References](#references) >\n",
    "<a id=\"Bucket-Sort\"></a>\n",
    "###### Bucket Sort\n",
    "***"
   ]
  },
  {
   "cell_type": "markdown",
   "metadata": {},
   "source": [
    "![title-overview-sorting-algorithms](https://github.com/SeanOhAileasa/SeanOhAileasa/blob/master/rc/cta/sorting/title-overview-sorting-algorithms.png?raw=true)\n",
    "![bucket](https://github.com/SeanOhAileasa/SeanOhAileasa/blob/master/rc/cta/sorting/bucket.png?raw=true)\n",
    "\n",
    "***(Image) P. Mannion, \"03 Analysing Algorithms Part 1,\" GMIT, October 2017.***"
   ]
  },
  {
   "cell_type": "markdown",
   "metadata": {},
   "source": [
    "- also called Bin Sort like Counting Sorting is a stable sorting algorithm - works by distributing the $E$ of a $C$ into a series of buckets (bins) - each bucket is sorted individually using either some different sorting algorithm or by recursively applying the Bucket Sort algorithm [6]"
   ]
  },
  {
   "cell_type": "markdown",
   "metadata": {},
   "source": [
    "- the Counting Sort algorithm builds up a histogram (or buckets) of the frequency of each discrete (distinct) type of input instance - the Bucket Sort algorithm may be seen as a generalisation of the Counting Sort algorithm since its counting how many $E$ keys fall between a certain range - could be counting buckets for the values within the range zero to nine or ten to nineteen or twenty to twenty-nine etc [6] "
   ]
  },
  {
   "cell_type": "markdown",
   "metadata": {},
   "source": [
    "- $E$ are sorted into buckets which may represent ten different keys and maybe the next step is to go down to buckets that contain maybe five different keys - then maybe when down to a level that is low enough use some other sorting algorithm instead such as Insertion Sort is a good candidate to finish off the very small $C$ - Merge Sort and Quicksort would also be a good choice once the $n$ of the smaller partitions become small enough [6]"
   ]
  },
  {
   "cell_type": "markdown",
   "metadata": {},
   "source": [
    "- the Bucket Sort algorithm performance can achieve $O(n^{2})$ time complexity in the worst case - not as good the Counting Sort algorithm but it can achieve $O(n+k)$ time complexity in the best/average case where $k$ is the number of buckets used [6]"
   ]
  },
  {
   "cell_type": "markdown",
   "metadata": {},
   "source": [
    "- worst case space complexity is $O(n\\space x\\space k)$ - there is a trade off when compared with the Counting Sort algorithm with the increased space $O(n^{2})$ time complexity in the worst case [6]"
   ]
  },
  {
   "cell_type": "markdown",
   "metadata": {},
   "source": [
    "- very good when sorting $E$ which come from a uniform distribution over a certain range (dense universe) [1][6] - knowing the sort keys (maybe floating-point numbers) are uniformly distributed maybe between the values of 0.0 and 1.0 with no structure or format and cannot really predict in what area that range those numbers are going to be in so knowing its a uniform distribution with a large input instance over a certain range then the Bucket Sort algorithm is a very good candidate that this input instance [6]"
   ]
  },
  {
   "cell_type": "markdown",
   "metadata": {},
   "source": [
    "- the Bucket Sort algorithm performance however will degrade with clustering that is many values occurring very close together - maybe the Bucket Sort algorithm is setup to work between the range 0.0 and 1.0 and getting a lot of values that are around 0.9 or 0.95 then these are going to go into the same bucket - performance would degrade a lot in that case and tend towards $O(n^{2})$ time complexity - similar idea to Quicksort with the poor choice of pivot by not making the best usage of the features of the algorithm - with Bucket Sort need to make sure its distributed the different $E$ between as many buckets with a even spread [6]"
   ]
  },
  {
   "cell_type": "code",
   "execution_count": null,
   "metadata": {},
   "outputs": [],
   "source": [
    "exit()"
   ]
  },
  {
   "cell_type": "markdown",
   "metadata": {},
   "source": [
    "< [Table of Contents](#top) | [References](#references) >\n",
    "<a id=\"bucketsortProcedure\"></a>\n",
    "###### Procedure\n",
    "***"
   ]
  },
  {
   "cell_type": "markdown",
   "metadata": {},
   "source": [
    "- initially set up an empty $C$ to hold the different $E$ [6]"
   ]
  },
  {
   "cell_type": "markdown",
   "metadata": {},
   "source": [
    "- iterate through the input $C$ and place each $E$ into its correct bucket [6]"
   ]
  },
  {
   "cell_type": "markdown",
   "metadata": {},
   "source": [
    "- the recursive process would consider an empty bucket as the base case therefore doing nothing - buckets that are not empty then the recursive call to the Bucket Sort algorithm would finish with $n=0$ or $n=1$ being the base cases [6]"
   ]
  },
  {
   "cell_type": "markdown",
   "metadata": {},
   "source": [
    "- could instead use a different sorting algorithm such as the Insertion Sorting algorithm - initially using the Bucket Sorting algorithm down to a certain level and when $n$ is small enought (up to fifteen $E$) use the Insertion Sorting algorithm at that stage given its a good algorithm to use with that $n$ [6]"
   ]
  },
  {
   "cell_type": "markdown",
   "metadata": {},
   "source": [
    "- when the $E$ are sorted to a certain level then visit the buckets in order placing each $E$ back into the $C$ or into a resulting $C$ in its correct index/position [6]"
   ]
  },
  {
   "cell_type": "code",
   "execution_count": null,
   "metadata": {},
   "outputs": [],
   "source": [
    "exit()"
   ]
  },
  {
   "cell_type": "markdown",
   "metadata": {},
   "source": [
    "< [Table of Contents](#top) | [References](#references) >\n",
    "<a id=\"bucketsortProcess\"></a>\n",
    "###### Process\n",
    "***"
   ]
  },
  {
   "cell_type": "markdown",
   "metadata": {},
   "source": [
    "- sorting a $C$ unsorted input instance with some out of order $E$ [6]\n",
    "\n",
    "$$[\\space 7,\\space 5,\\space 20,\\space 13,\\space 1,\\space 27,\\space 4,\\space 16,\\space 21\\space ]$$"
   ]
  },
  {
   "cell_type": "markdown",
   "metadata": {},
   "source": [
    "- calling Bucket Sort with three buckets of integer keys: i) 0-9 and 10-19 and 20-29 [6]\n",
    "\n",
    "$bucket$ $0-9\\space ... \\space(\\space 7,\\space 5,\\space 1,\\space 4\\space )$\n",
    "\n",
    "$bucket$ $10-19\\space ... \\space(\\space 16,\\space 13)$\n",
    "\n",
    "$bucket$ $20-29\\space ... \\space(\\space 20,\\space 27,\\space 21)$"
   ]
  },
  {
   "cell_type": "markdown",
   "metadata": {},
   "source": [
    "![bucket](https://github.com/SeanOhAileasa/SeanOhAileasa/blob/master/rc/cta/sorting/06-40.png?raw=true)\n",
    "***(Image) P. Mannion, \"03 Analysing Algorithms Part 3,\" GMIT, November 2017.***"
   ]
  },
  {
   "cell_type": "markdown",
   "metadata": {},
   "source": [
    "- each bucket still have out of order $E$ therefore need to do some other operation to correct the orderering [6]\n",
    "\n",
    "$bucket$ $0-9\\space ... \\space(\\space 7,\\space 5,\\space 1,\\space 4\\space )$"
   ]
  },
  {
   "cell_type": "markdown",
   "metadata": {},
   "source": [
    "- option could be to keep calling the Bucket Sort algorithm recursively and split those into bucket integer keys 0-4 and bucket integer keys 5-9 [6]\n",
    "\n",
    "$bucket$ $0-4\\space ... \\space(\\space 1,\\space 4\\space )$\n",
    "\n",
    "$bucket$ $5-9\\space ... \\space(\\space 7,\\space 5\\space )$"
   ]
  },
  {
   "cell_type": "markdown",
   "metadata": {},
   "source": [
    "- continue until all the buckets have only a single $E$ then recombining like Merge Sort algorithm (merge step) [6]\n",
    "\n",
    "$bucket$ $0-2\\space ... \\space(\\space 1\\space )$\n",
    "\n",
    "$bucket$ $2-4\\space ... \\space(\\space 4\\space )$\n",
    "\n",
    "$bucket$ $4-6\\space ... \\space(\\space 5\\space )$\n",
    "\n",
    "$bucket$ $7-9\\space ... \\space(\\space 7\\space )$"
   ]
  },
  {
   "cell_type": "markdown",
   "metadata": {},
   "source": [
    "- anothher option is to get down to a small enough input instance and use another algorithm such as Insertion Sort [6]"
   ]
  },
  {
   "cell_type": "markdown",
   "metadata": {},
   "source": [
    "![bucket](https://github.com/SeanOhAileasa/SeanOhAileasa/blob/master/rc/cta/sorting/06-40-1.png?raw=true)\n",
    "***(Image) P. Mannion, \"03 Analysing Algorithms Part 3,\" GMIT, November 2017.***"
   ]
  },
  {
   "cell_type": "markdown",
   "metadata": {},
   "source": [
    "- note in-between the step whereby $E$ are placed into the buckets some other sorting operation is employed such as Insertion Sort or could be recursive calls [6]\n",
    "\n",
    "$bucket$ $0-9\\space ... \\space(\\space 7,\\space 5,\\space 1,\\space 4\\space )\\space \\Rightarrow Sorted\\space ...\\space (\\space 1,\\space 4,\\space 5,\\space 7\\space )$"
   ]
  },
  {
   "cell_type": "markdown",
   "metadata": {},
   "source": [
    "![bucket](https://github.com/SeanOhAileasa/SeanOhAileasa/blob/master/rc/cta/sorting/06-40-2.png?raw=true)\n",
    "***(Image) P. Mannion, \"03 Analysing Algorithms Part 3,\" GMIT, November 2017.***"
   ]
  },
  {
   "cell_type": "markdown",
   "metadata": {},
   "source": [
    "- again another sorting algorithm (maybe Insertion Sort) needs to be called albeit only two $E$ [6]\n",
    "\n",
    "$bucket$ $10-19\\space ... \\space(\\space 16,\\space 13\\space )\\space \\Rightarrow Sorted\\space ...\\space (\\space 13,\\space 16\\space )$"
   ]
  },
  {
   "cell_type": "markdown",
   "metadata": {},
   "source": [
    "![bucket](https://github.com/SeanOhAileasa/SeanOhAileasa/blob/master/rc/cta/sorting/06-40-3.png?raw=true)\n",
    "***(Image) P. Mannion, \"03 Analysing Algorithms Part 3,\" GMIT, November 2017.***"
   ]
  },
  {
   "cell_type": "markdown",
   "metadata": {},
   "source": [
    "- again another sorting algorithm (maybe Insertion Sort) needs to be called albeit only three $E$ [6]\n",
    "\n",
    "$bucket$ $20-29\\space ... \\space(\\space 20,\\space 27,\\space 21\\space )\\space \\Rightarrow Sorted\\space ...\\space (\\space 20,\\space 21,\\space 27\\space  )$"
   ]
  },
  {
   "cell_type": "markdown",
   "metadata": {},
   "source": [
    "![bucket](https://github.com/SeanOhAileasa/SeanOhAileasa/blob/master/rc/cta/sorting/06-40-4.png?raw=true)\n",
    "***(Image) P. Mannion, \"03 Analysing Algorithms Part 3,\" GMIT, November 2017.***"
   ]
  },
  {
   "cell_type": "markdown",
   "metadata": {},
   "source": [
    "- finally get $E$ in all buckets and join the $C$ back together - given its known the buckets are all in order with respect to each other and everything within those buckets are in the correct order as well therefore its just a simple combine operation [6]"
   ]
  },
  {
   "cell_type": "markdown",
   "metadata": {},
   "source": [
    "![bucket](https://github.com/SeanOhAileasa/SeanOhAileasa/blob/master/rc/cta/sorting/06-40-5.png?raw=true)\n",
    "***(Image) P. Mannion, \"03 Analysing Algorithms Part 3,\" GMIT, November 2017.***"
   ]
  },
  {
   "cell_type": "code",
   "execution_count": null,
   "metadata": {},
   "outputs": [],
   "source": [
    "exit()"
   ]
  },
  {
   "cell_type": "markdown",
   "metadata": {},
   "source": [
    "< [Table of Contents](#top) | [References](#references) >\n",
    "<a id=\"bucketsortImplementationJava\"></a>\n",
    "###### Implementation - Java\n",
    "***"
   ]
  },
  {
   "cell_type": "markdown",
   "metadata": {},
   "source": [
    "&#x1F6A7;"
   ]
  },
  {
   "cell_type": "code",
   "execution_count": null,
   "metadata": {},
   "outputs": [],
   "source": [
    "exit()"
   ]
  },
  {
   "cell_type": "markdown",
   "metadata": {},
   "source": [
    "< [Table of Contents](#top) | [References](#references) >\n",
    "<a id=\"buildbucketsort\"></a>\n",
    "###### Build\n",
    "***"
   ]
  },
  {
   "cell_type": "code",
   "execution_count": null,
   "metadata": {},
   "outputs": [],
   "source": [
    "# Bucket Sort in Python\n",
    "\n",
    "\n",
    "def bucketSort(array):\n",
    "    bucket = []\n",
    "\n",
    "    # Create empty buckets\n",
    "    for i in range(len(array)):\n",
    "        bucket.append([])\n",
    "\n",
    "    # Insert elements into their respective buckets\n",
    "    for j in array:\n",
    "        index_b = int(10 * j)\n",
    "        bucket[index_b].append(j)\n",
    "\n",
    "    # Sort the elements of each bucket\n",
    "    for i in range(len(array)):\n",
    "        bucket[i] = sorted(bucket[i])\n",
    "\n",
    "    # Get the sorted elements\n",
    "    k = 0\n",
    "    for i in range(len(array)):\n",
    "        for j in range(len(bucket[i])):\n",
    "            array[k] = bucket[i][j]\n",
    "            k += 1\n",
    "    return array\n",
    "\n",
    "# [...] ???"
   ]
  },
  {
   "cell_type": "code",
   "execution_count": null,
   "metadata": {},
   "outputs": [],
   "source": [
    "array = [.42, .32, .33, .52, .37, .47, .51]\n",
    "print(\"Sorted Array in descending order is\")\n",
    "print(bucketSort(array))"
   ]
  },
  {
   "cell_type": "code",
   "execution_count": null,
   "metadata": {},
   "outputs": [],
   "source": [
    "exit()"
   ]
  },
  {
   "cell_type": "markdown",
   "metadata": {},
   "source": [
    "< [Table of Contents](#top) | [References](#references) >\n",
    "<a id=\"procedurebucketsort\"></a>\n",
    "###### Procedure\n",
    "***"
   ]
  },
  {
   "cell_type": "markdown",
   "metadata": {},
   "source": [
    "&#x1F6A7;"
   ]
  },
  {
   "cell_type": "code",
   "execution_count": null,
   "metadata": {},
   "outputs": [],
   "source": [
    "exit()"
   ]
  },
  {
   "cell_type": "markdown",
   "metadata": {},
   "source": [
    "< [Table of Contents](#top) | [References](#references) >\n",
    "<a id=\"bucketsortAnalysis\"></a>\n",
    "###### Analysis\n",
    "***"
   ]
  },
  {
   "cell_type": "markdown",
   "metadata": {},
   "source": [
    "&#x1F6A7;"
   ]
  },
  {
   "cell_type": "code",
   "execution_count": null,
   "metadata": {},
   "outputs": [],
   "source": [
    "exit()"
   ]
  },
  {
   "cell_type": "markdown",
   "metadata": {},
   "source": [
    "< [Table of Contents](#top) | [References](#references) >\n",
    "<a id=\"Radix-Sort\"></a>\n",
    "###### Radix Sort\n",
    "***"
   ]
  },
  {
   "cell_type": "markdown",
   "metadata": {},
   "source": [
    "- 1954 - Harold H. Seward [1]"
   ]
  },
  {
   "cell_type": "code",
   "execution_count": null,
   "metadata": {},
   "outputs": [],
   "source": [
    "exit()"
   ]
  },
  {
   "cell_type": "markdown",
   "metadata": {},
   "source": [
    "< [Table of Contents](#top) | [References](#references) >\n",
    "<a id=\"Hybrid\"></a>\n",
    "### Hybrid\n",
    "***"
   ]
  },
  {
   "cell_type": "markdown",
   "metadata": {},
   "source": [
    "- hybrid sorting algorithms such as Introsort and Timsort combine the properties of two or more different algorithms to hopefully achieve an overall algorithm which is better than the sum of its parts [6] - algorithms which combine the properties of two or more other sorting algorithms into a hybrid algorithm leverage the best properties of both or all algorithms which are combined [1]"
   ]
  },
  {
   "cell_type": "markdown",
   "metadata": {},
   "source": [
    "- maybe got two/three different algorithms and combining into one overall algorithm to achieve a better algorithm in aggregate - might want to look at an algorithm that has good average case performance and then maybe improve on that somewhat [6]"
   ]
  },
  {
   "cell_type": "markdown",
   "metadata": {},
   "source": [
    "- could choose one specific algorithm based on the data and execution conditions or choose to switch between different algorithms according to some rule set [6]"
   ]
  },
  {
   "cell_type": "markdown",
   "metadata": {},
   "source": [
    "- the best versions of Quicksort can perform better than: i) Heapsort or; ii) Merge Sort on the vast majority of $n$ - unfortunately Quicksort has very poor performance in the worst case of $O(n^{2})$ time complexity - to avoid $O(n^{2})$ time complexity could consider Heapsort or Merge Sort instead together with some other algorithm - using maybe Insertion Sort to get to the linearithmic $O(n\\space log\\space n)$ time complexity in the worst case making sure to beat Quicksort and maybe using Insertion Sort to speed up further when down to a level of recursion that only has a few $E$ left [6]"
   ]
  },
  {
   "cell_type": "markdown",
   "metadata": {},
   "source": [
    "- Insertion Sort performs better than any of other algorithm on small $n$ and is the prime candidate to form part of a hybrid algorithm [6]"
   ]
  },
  {
   "cell_type": "markdown",
   "metadata": {},
   "source": [
    "![title-overview-sorting-algorithms](https://github.com/SeanOhAileasa/SeanOhAileasa/blob/master/rc/cta/sorting/title-overview-sorting-algorithms.png?raw=true)\n",
    "![hybrid-sorting-algorithms](https://github.com/SeanOhAileasa/SeanOhAileasa/blob/master/rc/cta/sorting/hybrid-sorting-algorithms.png?raw=true)\n",
    "\n",
    "***(Image) P. Mannion, \"03 Analysing Algorithms Part 1,\" GMIT, October 2017.***"
   ]
  },
  {
   "cell_type": "code",
   "execution_count": null,
   "metadata": {},
   "outputs": [],
   "source": [
    "exit()"
   ]
  },
  {
   "cell_type": "markdown",
   "metadata": {},
   "source": [
    "< [Table of Contents](#top) | [References](#references) >\n",
    "<a id=\"Timsort\"></a>\n",
    "###### Timsort\n",
    "***"
   ]
  },
  {
   "cell_type": "markdown",
   "metadata": {},
   "source": [
    "![title-overview-sorting-algorithms](https://github.com/SeanOhAileasa/SeanOhAileasa/blob/master/rc/cta/sorting/title-overview-sorting-algorithms.png?raw=true)\n",
    "![tim](https://github.com/SeanOhAileasa/SeanOhAileasa/blob/master/rc/cta/sorting/tim.png?raw=true)\n",
    "\n",
    "***(Image) P. Mannion, \"03 Analysing Algorithms Part 1,\" GMIT, October 2017.***"
   ]
  },
  {
   "cell_type": "markdown",
   "metadata": {},
   "source": [
    "- proposed by Tim Peters in 2002 Timsort is a stable hybrid sorting algorithm that combines the properties of two different algorithms to make a better algorithm on aggregate [6]"
   ]
  },
  {
   "cell_type": "markdown",
   "metadata": {},
   "source": [
    "- implemented initially for use as a reference sorting algorithm in python was derived as a combination of Merge Sort with the speed of Insertion Sort on the small $n$ plus some additional logic included binary search [6]"
   ]
  },
  {
   "cell_type": "markdown",
   "metadata": {},
   "source": [
    "- the algorithm finds subsequences (runs) of the data that are already ordered and uses that knowledge to sort the remainder more efficiently by merging an identified run with the existing runs until a certain criteria is satisfied [6]"
   ]
  },
  {
   "cell_type": "markdown",
   "metadata": {},
   "source": [
    "- used on the Android platform and Python since 2.3 and for $C$ on non-primitive types in Java SE 7 and the mathematical analysis software GNU Octave [6]"
   ]
  },
  {
   "cell_type": "code",
   "execution_count": null,
   "metadata": {},
   "outputs": [],
   "source": [
    "exit()"
   ]
  },
  {
   "cell_type": "markdown",
   "metadata": {},
   "source": [
    "< [Table of Contents](#top) | [References](#references) >\n",
    "<a id=\"Introsort\"></a>\n",
    "###### Introsort\n",
    "***"
   ]
  },
  {
   "cell_type": "markdown",
   "metadata": {},
   "source": [
    "![title-overview-sorting-algorithms](https://github.com/SeanOhAileasa/SeanOhAileasa/blob/master/rc/cta/sorting/title-overview-sorting-algorithms.png?raw=true)\n",
    "![intro](https://github.com/SeanOhAileasa/SeanOhAileasa/blob/master/rc/cta/sorting/intro.png?raw=true)\n",
    "\n",
    "***(Image) P. Mannion, \"03 Analysing Algorithms Part 1,\" GMIT, October 2017.***"
   ]
  },
  {
   "cell_type": "markdown",
   "metadata": {},
   "source": [
    "- proposed by David Musser in 1997 Introsort is an unstable hybrid sorting algorithm that combines the properties of two different algorithms to make a better algorithm on aggregate [6]"
   ]
  },
  {
   "cell_type": "markdown",
   "metadata": {},
   "source": [
    "- variation of the standard Quicksort which monitors the recursive depth of the standard Quicksort algorithm to ensure efficient processing [6]"
   ]
  },
  {
   "cell_type": "markdown",
   "metadata": {},
   "source": [
    "- the problems with recursive algorithms/design patterns is the overhead of having to conducting a lot of different recursive calls resulting in a lot of active stack frames - if the depth of Quicksort recursion exceeds $O(log\\space n)$ time complexity levels then the idea is to use another algorithm instead such as the efficient comparison-based Heapsort algorithm [6]"
   ]
  },
  {
   "cell_type": "markdown",
   "metadata": {},
   "source": [
    "- using Quicksort at a coarse level and using Heapsort at a more fine grained level - since both algorithms used in Introsort are comparison-based algorithms then could also classify Introsort as a comparison-based sorting algorithm [6]"
   ]
  },
  {
   "cell_type": "markdown",
   "metadata": {},
   "source": [
    "- leads to fast performance achieving an average/worst case $O(n\\space log\\space n)$ time complexity [6]"
   ]
  },
  {
   "cell_type": "code",
   "execution_count": null,
   "metadata": {},
   "outputs": [],
   "source": [
    "exit()"
   ]
  },
  {
   "cell_type": "markdown",
   "metadata": {},
   "source": [
    "***\n",
    "## END"
   ]
  },
  {
   "cell_type": "markdown",
   "metadata": {},
   "source": [
    "< [Table of Contents](#top) | [References](#references) >\n",
    "<a id=\"Sort-Key-Satellite-Data\"></a>\n",
    "### Sort Key and Satellite Data\n",
    "***"
   ]
  },
  {
   "cell_type": "markdown",
   "metadata": {},
   "source": [
    "- the sort key is the information which is used to make comparisons when sorting [1]"
   ]
  },
  {
   "cell_type": "markdown",
   "metadata": {},
   "source": [
    "- the elements to sort would normally also have some satellite data for any type of real world application or dealing with complex datasets or with collections of custom objects [1]"
   ]
  },
  {
   "cell_type": "markdown",
   "metadata": {},
   "source": [
    "- satellite data is all the information which is associated with a specific sort key and therefore should travel when the element is moved to a new position in the collection [1]"
   ]
  },
  {
   "cell_type": "markdown",
   "metadata": {},
   "source": [
    "- organising books on a bookshelf by the author name then the sort key would be the author name and the book itself (actual contents of the book) is the satellite data [1]"
   ]
  },
  {
   "cell_type": "markdown",
   "metadata": {},
   "source": [
    "- when organising books on a bookshelf it is not enough to just have labels which represent the name of each book and get those ordered in the correct order - also want to move the satellite data into the right place as well (being the actual book) [1]"
   ]
  },
  {
   "cell_type": "markdown",
   "metadata": {},
   "source": [
    "- organising the entire book and not just the label in the correct order so that it can be retrieved easily later on [1]"
   ]
  },
  {
   "cell_type": "markdown",
   "metadata": {},
   "source": [
    "- the sort key of a web search engine would be the relevance (or maybe a relevance score) which is just some number that represents how relevant a specific webpage is to a input query string [1]"
   ]
  },
  {
   "cell_type": "markdown",
   "metadata": {},
   "source": [
    "- so if the sort key is the relevant score of the webpage to the query string then the satellite data would be everything that the search engine has stored about that specific webpage (could be the Uniform Resource Locator of that webpage along with whatever other data is stored by the search engine which could also include a summary of the web page) [1]"
   ]
  },
  {
   "cell_type": "markdown",
   "metadata": {},
   "source": [
    "- in the context of the GMIT Computational Thinking and Algorithms module for the sake of simplicity and to make explanations easier only going to look at collections of integers (analogously to sorting using the sort key only without any satellite data) [1]"
   ]
  },
  {
   "cell_type": "markdown",
   "metadata": {},
   "source": [
    "- the exact same principles would apply when sorting any other type of data other than integers [1]"
   ]
  },
  {
   "cell_type": "markdown",
   "metadata": {},
   "source": [
    "- the same exact principles will apply to any complex objects to sort and/or wanting to sort by a certain criteria but must be sure (like with the bookshelf example) that the satellite data is moved into the right position as well (or that some pointer to the satellite position is maintained) [1]"
   ]
  },
  {
   "cell_type": "code",
   "execution_count": null,
   "metadata": {},
   "outputs": [],
   "source": [
    "exit()"
   ]
  },
  {
   "cell_type": "markdown",
   "metadata": {},
   "source": [
    "< [Table of Contents](#top) | [References](#references) >\n",
    "<a id=\"Properties\"></a>\n",
    "### Properties\n",
    "***"
   ]
  },
  {
   "cell_type": "markdown",
   "metadata": {},
   "source": [
    "- desirable properties (criteria) may use to judge a sorting algorithm and the suitability for a particular problem: i) Stability; ii) Run Time Efficiency; iii) In-Place; iv) Suitability [1]"
   ]
  },
  {
   "cell_type": "code",
   "execution_count": null,
   "metadata": {},
   "outputs": [],
   "source": [
    "exit()"
   ]
  },
  {
   "cell_type": "markdown",
   "metadata": {},
   "source": [
    "< [Table of Contents](#top) | [References](#references) >\n",
    "<a id=\"Stability\"></a>\n",
    "###### Stability\n",
    "***"
   ]
  },
  {
   "cell_type": "markdown",
   "metadata": {},
   "source": [
    "- preserving the order of already sorted input [1]"
   ]
  },
  {
   "cell_type": "markdown",
   "metadata": {},
   "source": [
    "- a comparator function takes two elements as input ``A`` and ``B`` and decides whether the elements are: i) less than; ii) greater than; iii) equal to (determines relationship between two elements in the original unordered collection) [1]"
   ]
  },
  {
   "cell_type": "markdown",
   "metadata": {},
   "source": [
    "- if the comparator function determines that two input elements are equal then it may be important to maintain the relative ordering in the sorted set [1]"
   ]
  },
  {
   "cell_type": "markdown",
   "metadata": {},
   "source": [
    "- the term stability means that after a sorting operation occurs the relative ordering of elements which are considered equal in the input instance is preserved [1]"
   ]
  },
  {
   "cell_type": "markdown",
   "metadata": {},
   "source": [
    "- if the element ``A[i]`` is to the left of the element ``A[j]`` in the initial distribution and if they have the same exact value according to the comparator function then that relationship should be preserved after sorting [1]"
   ]
  },
  {
   "cell_type": "markdown",
   "metadata": {},
   "source": [
    "- the final location for ``A[i]`` must be to the left of the final location for ``A[j]`` [1]"
   ]
  },
  {
   "cell_type": "markdown",
   "metadata": {},
   "source": [
    "- sorting algorithms which maintain/guarantee this property are referred to as stable [1]"
   ]
  },
  {
   "cell_type": "markdown",
   "metadata": {},
   "source": [
    "- conversely an unstable sorting algorithm is one which does not preserve this property (relative ordering of elements which have the same value) [1]"
   ]
  },
  {
   "cell_type": "markdown",
   "metadata": {},
   "source": [
    "- using an unstable sorting algorithm means that sorting a collection which is already sorted may result in the ordering of elements which are considered to be equivalent could actually be altered (may or may not be an issue - depends on the specific application) [1]"
   ]
  },
  {
   "cell_type": "markdown",
   "metadata": {},
   "source": [
    "- in summary to have the stable property will preserve the order of the already sorted input so elements which are considered to have the same value according to a comparator function will actually appear in the same sequence order in the sorted output [3] "
   ]
  },
  {
   "cell_type": "code",
   "execution_count": null,
   "metadata": {},
   "outputs": [],
   "source": [
    "exit()"
   ]
  },
  {
   "cell_type": "markdown",
   "metadata": {},
   "source": [
    "< [Table of Contents](#top) | [References](#references) >\n",
    "<a id=\"Flight-Information\"></a>\n",
    "###### Flight Information\n",
    "***"
   ]
  },
  {
   "cell_type": "markdown",
   "metadata": {},
   "source": [
    "- entries sorted in terms of departure time: i) destination; ii) airline; iii) flight number and; iv) departure time [1]"
   ]
  },
  {
   "cell_type": "markdown",
   "metadata": {},
   "source": [
    "- departure time ascending flight number 872 at 11:15am appears before flight number 28 at 12pm [1]"
   ]
  },
  {
   "cell_type": "markdown",
   "metadata": {},
   "source": [
    "![Flight-Sort-Departure-Time](https://github.com/SeanOhAileasa/SeanOhAileasa/blob/master/rc/cta/sorting/flight-sort-departure-time.png?raw=true)\n",
    "\n",
    "***(Image) P. Mannion, \"07 Sorting Algorithms Part 1,\" GMIT, November 2017.***"
   ]
  },
  {
   "cell_type": "markdown",
   "metadata": {},
   "source": [
    "- the departure time is the sort key and i) destination; ii) airline and; ii) flight have become the satellite data [1]"
   ]
  },
  {
   "cell_type": "markdown",
   "metadata": {},
   "source": [
    "- entries sorted in terms of the destination ascending instead of the departure time ascending will notice that the ordering of the elements has changed (x4 departures to Atlanta) [1]"
   ]
  },
  {
   "cell_type": "markdown",
   "metadata": {},
   "source": [
    "![Flight-Sort-Destination](https://github.com/SeanOhAileasa/SeanOhAileasa/blob/master/rc/cta/sorting/flight-sort-destination.png?raw=true)\n",
    "\n",
    "***(Image) P. Mannion, \"07 Sorting Algorithms Part 1,\" GMIT, November 2017.***"
   ]
  },
  {
   "cell_type": "markdown",
   "metadata": {},
   "source": [
    "- after a stable sort of the data and deciding to sort on some other criteria instead (destination ascending) the two elements which have the Atlanta destination (flight number 872 and 28) appear in the same ordering [1]"
   ]
  },
  {
   "cell_type": "markdown",
   "metadata": {},
   "source": [
    "- the relative position of these two elements (Atlanta - flight number 872 and 28) has not been changed even though they are considered to be equal [1]"
   ]
  },
  {
   "cell_type": "markdown",
   "metadata": {},
   "source": [
    "- there is no guarantee that an unstable sorting algorithm would appear in the same order as they appear in the sort by departure time table and this is the issue with unstable sorting algorithms [1]"
   ]
  },
  {
   "cell_type": "markdown",
   "metadata": {},
   "source": [
    "- an unstable sorting algorithm actually pays no attention to the relationships between the element locations in the original collection and it may or may not maintain the relative ordering [1]"
   ]
  },
  {
   "cell_type": "code",
   "execution_count": null,
   "metadata": {},
   "outputs": [],
   "source": [
    "exit()"
   ]
  },
  {
   "cell_type": "markdown",
   "metadata": {},
   "source": [
    "< [Table of Contents](#top) | [References](#references) >\n",
    "<a id=\"Run-Time-Efficiency\"></a>\n",
    "###### Run Time Efficiency\n",
    "***"
   ]
  },
  {
   "cell_type": "markdown",
   "metadata": {},
   "source": [
    "- the algorithm which is sorting the data will run at an acceptable amount of time [1]"
   ]
  },
  {
   "cell_type": "markdown",
   "metadata": {},
   "source": [
    "- acceptable may also depend on the size of the dataset and how quickly it needs to be sorted etc [1]"
   ]
  },
  {
   "cell_type": "markdown",
   "metadata": {},
   "source": [
    "- need to have some notion of having good runtime efficiency [1]"
   ]
  },
  {
   "cell_type": "markdown",
   "metadata": {},
   "source": [
    "- may be concerned specifically about the best-case or the average-case or the worst-case or might want to consider all of them in aggregate or give different weightings to them [1]"
   ]
  },
  {
   "cell_type": "markdown",
   "metadata": {},
   "source": [
    "- need to have some idea of how efficient the algorithm will be in practice: i) best-case; ii) worst-case and; iii) average-case time complexity for a given sorting algorithm [1]"
   ]
  },
  {
   "cell_type": "markdown",
   "metadata": {},
   "source": [
    "- essentially need to know to what degree is the data sorted or know what proportion of inversions could be expected but even if its known that an algorithm has a desirable performance efficiency in the best-case or in the average-case or in the worst-case in terms of time its implementation might still be impractical [1]"
   ]
  },
  {
   "cell_type": "markdown",
   "metadata": {},
   "source": [
    "- the average-case would typically be the hardest to quantify in an accurate manner and will rely on advanced mathematical techniques and estimation [1]"
   ]
  },
  {
   "cell_type": "markdown",
   "metadata": {},
   "source": [
    "- assumes a reasonable understanding of the likelihood that the input may be partially sorted [1]"
   ]
  },
  {
   "cell_type": "markdown",
   "metadata": {},
   "source": [
    "- to get a good handle on the average-case will probably need to also have some handle on the expected classes of input instances or the type of data [1]"
   ]
  },
  {
   "cell_type": "markdown",
   "metadata": {},
   "source": [
    "- insertion sort has a very desirable best-case time complexity which is only $n$ but the flip side is that it performs very poorly on large input instances and performs poorly on random data having a high degree of inversions etc [1]"
   ]
  },
  {
   "cell_type": "markdown",
   "metadata": {},
   "source": [
    "- whether an algorithm has a good best-case or average-case or worst-case complexity the specific algorithm under consideration may in fact be impractical in some situations (need to consider the different strengths and weaknesses of different algorithms) [1]"
   ]
  },
  {
   "cell_type": "markdown",
   "metadata": {},
   "source": [
    "- no one algorithm is the best for all possible situations so its important to understand the strengths and weaknesses of several different algorithms [1]"
   ]
  },
  {
   "cell_type": "markdown",
   "metadata": {},
   "source": [
    "- having a toolset or an arsenal to choose from to actually deploy against the correct type of problem [1]"
   ]
  },
  {
   "cell_type": "code",
   "execution_count": null,
   "metadata": {},
   "outputs": [],
   "source": [
    "exit()"
   ]
  },
  {
   "cell_type": "markdown",
   "metadata": {},
   "source": [
    "< [Table of Contents](#top) | [References](#references) >\n",
    "<a id=\"Orders-of-Growth\"></a>\n",
    "###### Orders of Growth\n",
    "***"
   ]
  },
  {
   "cell_type": "markdown",
   "metadata": {},
   "source": [
    "- in terms of running time the orders of growth of the number of operations required for an algorithm to complete is proportional to one of the functions listed [1][2]"
   ]
  },
  {
   "cell_type": "markdown",
   "metadata": {},
   "source": [
    "| Running Time $T(n)$ is proportional to | Complexity:                |\n",
    "| :------------------------------------- | :------------------------- |\n",
    "| $T(n)\\propto log\\space n$              | logarithmic                |\n",
    "| $T(n)\\propto n$                        | linear                     |\n",
    "| $T(n)\\propto n\\space log\\space n$      | linearithmic               |\n",
    "| $T(n)\\propto n^{2}$                    | quadratic (polynomial)     |\n",
    "| $T(n)\\propto n^{3}$                    | cubic (polynomial)         |\n",
    "| $T(n)\\propto n^{k}$                    | polynomial (k any integer) |\n",
    "| $T(n)\\propto 2^{n}$                    | exponential                |\n",
    "| $T(n)\\propto k^{n}$; $k>1$             | exponential                |"
   ]
  },
  {
   "cell_type": "markdown",
   "metadata": {},
   "source": [
    "- logarithmic ($log\\space n$) is probably the best-case expectation to achieve in an algorithm - next best is linear ($n$) - next best is linearitmic ($n\\space log\\space n$) [1]"
   ]
  },
  {
   "cell_type": "markdown",
   "metadata": {},
   "source": [
    "- all three are pretty good (efficient) and good for large datasets [1] "
   ]
  },
  {
   "cell_type": "markdown",
   "metadata": {},
   "source": [
    "- after these are the powers - quadratic ($n^2$) and cubic ($n^3$) [1]"
   ]
  },
  {
   "cell_type": "markdown",
   "metadata": {},
   "source": [
    "- large difference in the order of growth of the number of operations required for an $n^{2}$ versus an $n\\space log\\space n$ algorithm [1]"
   ]
  },
  {
   "cell_type": "markdown",
   "metadata": {},
   "source": [
    "- continuing with the $n^3$ and $n^k$ and exponential $2^n$ and $k^n$ where $k>1$ [1]"
   ]
  },
  {
   "cell_type": "markdown",
   "metadata": {},
   "source": [
    "- even for large datasets $n^2$ is quite unwieldy and very slow [1]"
   ]
  },
  {
   "cell_type": "markdown",
   "metadata": {},
   "source": [
    "![growth-functions](https://github.com/SeanOhAileasa/SeanOhAileasa/blob/master/rc/cta/analysing/growth-functions.png?raw=true)\n",
    "\n",
    "***(Image) Z. Relph, \"Chapter Algorithms 3.2 The Growth of Functions,\" slideplayer, June 2018.***"
   ]
  },
  {
   "cell_type": "code",
   "execution_count": null,
   "metadata": {},
   "outputs": [],
   "source": [
    "exit()"
   ]
  },
  {
   "cell_type": "markdown",
   "metadata": {},
   "source": [
    "< [Table of Contents](#top) | [References](#references) >\n",
    "<a id=\"Influencing-Factors\"></a>\n",
    "###### Influencing Factors\n",
    "***"
   ]
  },
  {
   "cell_type": "markdown",
   "metadata": {},
   "source": [
    "- if the best-case and/or average-case and/or worst-case time complexity is known this will give some kind of handle on what is the expected runtime efficiency of an algorithm [1]"
   ]
  },
  {
   "cell_type": "markdown",
   "metadata": {},
   "source": [
    "- ⚡ another factor which will obviously influence this is the number of items which need to be sorted [1]"
   ]
  },
  {
   "cell_type": "markdown",
   "metadata": {},
   "source": [
    "- insertion sort might be very good on small collections (small sizes of ``n``) but as ``n`` gets larger the performance would degrade quite quickly and would influence running time [1]"
   ]
  },
  {
   "cell_type": "markdown",
   "metadata": {},
   "source": [
    "- ⚡ another factor is how the items are related (properties) [1]"
   ]
  },
  {
   "cell_type": "markdown",
   "metadata": {},
   "source": [
    "- are the items related only by the order relation (is there anything in general that can be said about those items besides having some comparator function that defines how they relate to one another) or do they have some other restrictions [1]"
   ]
  },
  {
   "cell_type": "markdown",
   "metadata": {},
   "source": [
    "- if it is known the sorting is based on sort keys that are derived from integers in the range lets say ``1`` to ``1000`` then can narrow that set of input instances down quite a lot [1]"
   ]
  },
  {
   "cell_type": "markdown",
   "metadata": {},
   "source": [
    "- there may be other more suitable sorting algorithms and more niche solving algorithms which can be applied to that specific type of problem [1]"
   ]
  },
  {
   "cell_type": "markdown",
   "metadata": {},
   "source": [
    "- ⚡ another factor is the number of inversions which are in the dataset or to what extent are the items pre-sorted [1]"
   ]
  },
  {
   "cell_type": "markdown",
   "metadata": {},
   "source": [
    "- so if its known that the data is almost sorted then this knowledge is useful given that certain sorting algorithms are good for data that is almost sorted and not so good when its kind of uniform random data [1]"
   ]
  },
  {
   "cell_type": "markdown",
   "metadata": {},
   "source": [
    "- ⚡ another factor to consider as well which could influence the running time is whether the items can be placed into internal or fast memory (ram or cache) versus do they need to be stored in some external or slower memory such as on a hard disk [1]"
   ]
  },
  {
   "cell_type": "markdown",
   "metadata": {},
   "source": [
    "- hard disk (referred to as external sorting) is where the actually data that needs to be sorted is on an external storage device rather than on internal computer memory [1]"
   ]
  },
  {
   "cell_type": "code",
   "execution_count": null,
   "metadata": {},
   "outputs": [],
   "source": [
    "exit()"
   ]
  },
  {
   "cell_type": "markdown",
   "metadata": {},
   "source": [
    "< [Table of Contents](#top) | [References](#references) >\n",
    "<a id=\"In-Place\"></a>\n",
    "###### In-Place\n",
    "***"
   ]
  },
  {
   "cell_type": "markdown",
   "metadata": {},
   "source": [
    "- if memory requirements are a concern in-place sorting is the idea of using memory efficiently while sorting [1]"
   ]
  },
  {
   "cell_type": "markdown",
   "metadata": {},
   "source": [
    "- there are many different sorting algorithms and many different types/classes of memory requirements and this is a function of how the specific algorithm works in practice [1]"
   ]
  },
  {
   "cell_type": "markdown",
   "metadata": {},
   "source": [
    "- a sorting algorithm is in-place if it uses only a fixed additional amount of working space independent of the input size (``n``) [1]"
   ]
  },
  {
   "cell_type": "markdown",
   "metadata": {},
   "source": [
    "- classification of space complexity (working memory) rather than time complexity [1]"
   ]
  },
  {
   "cell_type": "markdown",
   "metadata": {},
   "source": [
    "- other sorting algorithms may require additional working memory beyond some fixed amount of additional space and that amount will often be related to the size of the input instance (``n``) [1]"
   ]
  },
  {
   "cell_type": "markdown",
   "metadata": {},
   "source": [
    "- so the size of the input will actually determine the additional working memory which is required and that will be one of the orders of growth functions [1]"
   ]
  },
  {
   "cell_type": "markdown",
   "metadata": {},
   "source": [
    "- so if the availability of memory on the system is a concern then in-place sorting is a very desirable property to have in the sorting algorithm used [1]"
   ]
  },
  {
   "cell_type": "code",
   "execution_count": null,
   "metadata": {},
   "outputs": [],
   "source": [
    "exit()"
   ]
  },
  {
   "cell_type": "markdown",
   "metadata": {},
   "source": [
    "< [Table of Contents](#top) | [References](#references) >\n",
    "<a id=\"Suitability\"></a>\n",
    "###### Suitability\n",
    "***"
   ]
  },
  {
   "cell_type": "markdown",
   "metadata": {},
   "source": [
    "- taking all in aggregate need to consider also the suitability or the properties of any specific sorting algorithm [1]"
   ]
  },
  {
   "cell_type": "markdown",
   "metadata": {},
   "source": [
    "- consider whether that algorithm is well matched to the class of input instances (type of input data expected) to receive or expecting to operate on [1]"
   ]
  },
  {
   "cell_type": "markdown",
   "metadata": {},
   "source": [
    "- should consider when selecting a sorting algorithm the specific strengths and weaknesses which are unique to that sorting algorithm and perhaps this will give reasons to use one type of sorting algorithm in a certain class of problem and a different type of sorting algorithm in another class of problem [1]"
   ]
  },
  {
   "cell_type": "markdown",
   "metadata": {},
   "source": [
    "<!-- print(fGetModuleType(___x___),fDocumentation(___x___)) -->\n",
    "***\n",
    "## END"
   ]
  },
  {
   "cell_type": "markdown",
   "metadata": {},
   "source": [
    "< [Table of Contents](#top) | [Abstract](#abstract) | [Introduction](#introduction) | [Conclusion](#conclusion) | [References](#references) >\n",
    "<a id=\"solution\"></a>\n",
    "***\n",
    "## Solution\n",
    "***"
   ]
  },
  {
   "cell_type": "markdown",
   "metadata": {},
   "source": [
    "[Project](https://github.com/SeanOhAileasa/cta-benchmark-algorithms)"
   ]
  },
  {
   "cell_type": "markdown",
   "metadata": {},
   "source": [
    "&#x1F6A7;"
   ]
  },
  {
   "cell_type": "markdown",
   "metadata": {},
   "source": [
    "<!-- - refer [Appendix](#appendix-df) to view the full dataset <a id=\"go-back-df\"></a> -->\n",
    "<!-- print(fGetModuleType(___x___),fDocumentation(___x___)) -->\n",
    "***\n",
    "## END"
   ]
  },
  {
   "cell_type": "markdown",
   "metadata": {},
   "source": [
    "< [Table of Contents](#top) | [Abstract](#abstract) | [Introduction](#introduction) | [Solution](#solution) | [References](#references) >\n",
    "<a id=\"conclusion\"></a>\n",
    "***\n",
    "## Conclusion\n",
    "***"
   ]
  },
  {
   "cell_type": "markdown",
   "metadata": {},
   "source": [
    "- comparison-based sorting algorithms compare $E$ in a $C$ against one another and are the most widely applicable sorting algorithms in use making no assumptions about the data [6] "
   ]
  },
  {
   "cell_type": "markdown",
   "metadata": {},
   "source": [
    "- its mathematical proven from algorithm analysis that $O(n\\space log\\space n)$ time complexity performance is the ideal worst case scenario for a comparison-based sorting algorithm being the smallest penalty hoped for in the worst case - Heapsort and Merge Sort exhibit this behaviour and are best to use if concerned about the worst case performance and need to use a comparison-based sorting algorithm [6]"
   ]
  },
  {
   "cell_type": "markdown",
   "metadata": {},
   "source": [
    "- its possible to achieve a performance of linear $O(n)$ time complexity but only if some assumptions can be made about the data and there is no need to compare $E$ against one another (the data falls into a certain range or has some kind of a distribution) - $O(n)$ is clearly the minimum sorting time possible since every $E$ must be examined at least once - must have some linear $O(n)$ time complexity because any input instance of $n$ must check that all $E$ are in the correct place and this is done by examining every $E$ at least once - performance of $O(n)$ is going to be the upper bound on possible performance (not going to get any better than linear $O(n)$ time complexity) [6]"
   ]
  },
  {
   "cell_type": "markdown",
   "metadata": {},
   "source": [
    "- the performance of the three simple comparison-based sorting algorithms (Bubble Sort/Selection Sort/Insertion Sort) can achieve $O(n^{2})$ time complexity in the worst case and average case - Bubble Sort and Selection Sort do not have any practical real-world use case whereas Insertion Sort does but would typically be used on small input data of maybe up to fifteen $E$ in total [6]"
   ]
  },
  {
   "cell_type": "markdown",
   "metadata": {},
   "source": [
    "- the performance of the efficient comparison-based sorting algorithms (Merge Sort/Quicksort/Heapsort) can achieve $O(n\\space log\\space n)$ time complexity in the best case which is the upper bound on the possible performance for a comparison-based sorting algorithm in the best case - similarly the performance for these algorithms (Merge Sort/Quicksort/Heapsort) do very well also achieving $O(n\\space log\\space n)$ time complexity in the average case - can expect on average that those three algorithms (Merge Sort/Quicksort/Heapsort) would be a lot faster than the simple comparison-based sorting algorithms (Bubble Sort/Selection Sort/Insertion Sort) for any decent size of input data [6]"
   ]
  },
  {
   "cell_type": "markdown",
   "metadata": {},
   "source": [
    "- the performance of Merge Sort and Heapsort can achieve $O(n\\space log\\space n)$ time complexity in the worst case whereas Quicksort can achieve $O(n^{2})$ time complexity in the worst case - Quicksort is one of the fastest all around algorithms on average however if concerned about worst case performance and need a guarantee that the worst case performance will not exceed some certain limit then Merge Sort or Heapsort would be a better choice in that case [6]"
   ]
  },
  {
   "cell_type": "markdown",
   "metadata": {},
   "source": [
    "- the performance of the non-comparison-based sorting algorithms (Counting Sort/Bucket Sort) time complexities in all cases (best/worst/average) when compared with the non-comparison based sorting algorithms (simple and efficient) are going to exceed the upper bound $O(n\\space log\\space n)$ - based on the types of input instances whereby Counting Sort and Bucket Sort can be used these algorithms are going to achieve better performance in all cases (best/worst/average) -in addition the non-comparison-based sorting algorithms (Counting Sort/Bucket Sort) are stable which may be a factor that may need to be taken into consideration [6]"
   ]
  },
  {
   "cell_type": "markdown",
   "metadata": {},
   "source": [
    "- the hybrid sorting algorithms (Timsort/Introsort) have the best properties of the algorithms they combine - the performance of the hybrid sorting algorithms (Timsort/Introsort) when compared with the efficient comparison-based sorting algorithms (Merge Sort/Quicksort/Heapsort) can achieve $O(n\\space log\\space n)$ time complexity in the worst case and average case [6]"
   ]
  },
  {
   "cell_type": "markdown",
   "metadata": {},
   "source": [
    "![conclusion](https://github.com/SeanOhAileasa/SeanOhAileasa/blob/master/rc/cta/sorting/conclusion.png?raw=true)\n",
    "***(Image) P. Mannion, \"03 Analysing Algorithms Part 3,\" GMIT, November 2017.***"
   ]
  },
  {
   "cell_type": "markdown",
   "metadata": {},
   "source": [
    "<!-- print(fGetModuleType(___x___),fDocumentation(___x___)) -->\n",
    "***\n",
    "## END"
   ]
  },
  {
   "cell_type": "markdown",
   "metadata": {},
   "source": [
    "< [Table of Contents](#top) | [Abstract](#abstract) | [Introduction](#introduction) | [Solution](#solution) | [Conclusion](#conclusion) | [References](#references) >\n",
    "<a id=\"references\"></a>\n",
    "***\n",
    "## References\n",
    "***\n",
    "&nbsp;&nbsp;&nbsp;&nbsp;&nbsp;&nbsp;&nbsp;&nbsp;&nbsp;[1] P. Mannion, \"07 Sorting Algorithms Part 1,\" GMIT, November 2017.\n",
    "\n",
    "&nbsp;&nbsp;&nbsp;&nbsp;&nbsp;&nbsp;&nbsp;&nbsp;&nbsp;[2] P. Mannion, \"03 Analysing Algorithms Part 1,\" GMIT, October 2017.\n",
    "\n",
    "&nbsp;&nbsp;&nbsp;&nbsp;&nbsp;&nbsp;&nbsp;&nbsp;&nbsp;[3] P. Mannion, \"08 Sorting Algorithms Part 2,\" GMIT, November 2017.\n",
    "\n",
    "&nbsp;&nbsp;&nbsp;&nbsp;&nbsp;&nbsp;&nbsp;&nbsp;&nbsp;[4] w3resource, \"Python Data Structures and Algorithms: Bubble sort,\" [w3resource](https://web.archive.org/web/20210328072320/https://www.w3resource.com/python-exercises/data-structures-and-algorithms/python-search-and-sorting-exercise-4.php), January 2021.\n",
    "\n",
    "&nbsp;&nbsp;&nbsp;&nbsp;&nbsp;&nbsp;&nbsp;&nbsp;&nbsp;[5] Anaconda (built-in), \"range,\" Docstring, Conda:4.9.2 (Python:3.8.5).\n",
    "\n",
    "&nbsp;&nbsp;&nbsp;&nbsp;&nbsp;&nbsp;&nbsp;&nbsp;&nbsp;[6] P. Mannion, \"09 Sorting Algorithms Part 3,\" GMIT, November 2017.\n",
    "\n",
    "&nbsp;&nbsp;&nbsp;&nbsp;&nbsp;&nbsp;&nbsp;&nbsp;&nbsp;[7] K. Żak, \"IPyPlot,\" [GitHub](http://web.archive.org/web/20210511052633/https://github.com/karolzak/ipyplot), February 2021."
   ]
  },
  {
   "cell_type": "markdown",
   "metadata": {},
   "source": [
    "***\n",
    "## END"
   ]
  },
  {
   "cell_type": "markdown",
   "metadata": {},
   "source": [
    "< [Table of Contents](#top) | [Abstract](#abstract) | [Introduction](#introduction) | [Solution](#solution) | [Conclusion](#conclusion) | [References](#references) >\n",
    "<a id=\"appendix\"></a>\n",
    "***\n",
    "## Appendix\n",
    "***"
   ]
  },
  {
   "cell_type": "markdown",
   "metadata": {},
   "source": [
    "***\n",
    "## END"
   ]
  },
  {
   "cell_type": "markdown",
   "metadata": {},
   "source": [
    "# END JUPYTER NOTEBOOK"
   ]
  }
 ],
 "metadata": {
  "kernelspec": {
   "display_name": "Python 3",
   "language": "python",
   "name": "python3"
  },
  "language_info": {
   "codemirror_mode": {
    "name": "ipython",
    "version": 3
   },
   "file_extension": ".py",
   "mimetype": "text/x-python",
   "name": "python",
   "nbconvert_exporter": "python",
   "pygments_lexer": "ipython3",
   "version": "3.8.5"
  }
 },
 "nbformat": 4,
 "nbformat_minor": 5
}
