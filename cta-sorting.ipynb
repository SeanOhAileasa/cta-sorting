{
 "cells": [
  {
   "cell_type": "code",
   "execution_count": null,
   "id": "external-thomson",
   "metadata": {},
   "outputs": [
    {
     "data": {
      "text/html": [
       "<script>Jupyter.notebook.kernel.restart()</script>"
      ]
     },
     "metadata": {},
     "output_type": "display_data"
    }
   ],
   "source": [
    "from IPython.core.display import display_html\n",
    "display_html(\"<script>Jupyter.notebook.kernel.restart()</script>\",raw=True)"
   ]
  },
  {
   "cell_type": "code",
   "execution_count": 1,
   "id": "fluid-photography",
   "metadata": {},
   "outputs": [
    {
     "data": {
      "text/html": [
       "<style>.container { width:100% !important; }</style>"
      ],
      "text/plain": [
       "<IPython.core.display.HTML object>"
      ]
     },
     "metadata": {},
     "output_type": "display_data"
    },
    {
     "data": {
      "text/html": [
       "<style>.container { width:100% !important; }</style>"
      ],
      "text/plain": [
       "<IPython.core.display.HTML object>"
      ]
     },
     "metadata": {},
     "output_type": "display_data"
    }
   ],
   "source": [
    "from sys import path; path.insert(1,\"../src\");\n",
    "import fubar; from importlib import reload; reload(fubar);"
   ]
  },
  {
   "cell_type": "markdown",
   "id": "lyric-worthy",
   "metadata": {},
   "source": [
    "***\n",
    "< [GMIT Data Analytics](https://web.archive.org/web/20201029063153/https://www.gmit.ie/computer-science-and-applied-physics/higher-diploma-science-computing-data-analytics-ict) | [Home](https://github.com/SeanOhAileasa) | [README](https://github.com/SeanOhAileasa/cta-sorting/blob/main/README.md) >\n",
    "\n",
    "[![GMIT](https://github.com/SeanOhAileasa/SeanOhAileasa/blob/master/img/gmit.png?raw=true)](https://web.archive.org/web/20201029063153/https://www.gmit.ie/computer-science-and-applied-physics/higher-diploma-science-computing-data-analytics-ict)\n",
    "\n",
    "<!--\n",
    "Computational Thinking with Algorithms\n",
    "\n",
    "Applied Databases\n",
    "\n",
    "Programming for Data Analysis\n",
    "\n",
    "Fundamentals of Data Analysis\n",
    "-->\n",
    "\n",
    "## Computational Thinking with Algorithms - Course Material 2021\n",
    "### Topic: [Sorting](https://nbviewer.jupyter.org/github/SeanOhAileasa/cta-sorting/blob/main/cta-sorting.ipynb)\n",
    "\n",
    "***"
   ]
  },
  {
   "cell_type": "markdown",
   "id": "arbitrary-kuwait",
   "metadata": {},
   "source": [
    "Course material for the ``Computational Thinking with Algorithms`` module (5 Credits) of the ``Higher Diploma in Science in Computing (Data Analytics) (H.Dip)`` programme (75 Credits) at **Galway-Mayo Institute of Technology (GMIT)**."
   ]
  },
  {
   "cell_type": "code",
   "execution_count": 2,
   "id": "mobile-highlight",
   "metadata": {},
   "outputs": [],
   "source": [
    "exit()"
   ]
  },
  {
   "cell_type": "code",
   "execution_count": 1,
   "id": "bright-delhi",
   "metadata": {},
   "outputs": [
    {
     "data": {
      "text/html": [
       "<video src=\"./hide/07-sorting-algorithms-part-1-06-11-2017.mp4\" controls  width=\"800\"  height=\"400\">\n",
       "      Your browser does not support the <code>video</code> element.\n",
       "    </video>"
      ],
      "text/plain": [
       "<IPython.core.display.Video object>"
      ]
     },
     "execution_count": 1,
     "metadata": {},
     "output_type": "execute_result"
    }
   ],
   "source": [
    "from IPython.display import Video; Video(\"./hide/07-sorting-algorithms-part-1-06-11-2017.mp4\",width=800,height=400)"
   ]
  },
  {
   "cell_type": "code",
   "execution_count": 2,
   "id": "advanced-queue",
   "metadata": {},
   "outputs": [],
   "source": [
    "# from IPython.display import IFrame; IFrame(\"./hide/07-sorting-algorithms-part-1-06-11-2017.pdf\",width=800,height=400)"
   ]
  },
  {
   "cell_type": "code",
   "execution_count": 3,
   "id": "peaceful-trailer",
   "metadata": {},
   "outputs": [
    {
     "data": {
      "text/html": [
       "<video src=\"./hide/08-sorting-algorithms-part-2-11-11-2017.mp4\" controls  width=\"800\"  height=\"400\">\n",
       "      Your browser does not support the <code>video</code> element.\n",
       "    </video>"
      ],
      "text/plain": [
       "<IPython.core.display.Video object>"
      ]
     },
     "execution_count": 3,
     "metadata": {},
     "output_type": "execute_result"
    }
   ],
   "source": [
    "from IPython.display import Video; Video(\"./hide/08-sorting-algorithms-part-2-11-11-2017.mp4\",width=800,height=400)"
   ]
  },
  {
   "cell_type": "code",
   "execution_count": 4,
   "id": "adjacent-jersey",
   "metadata": {},
   "outputs": [],
   "source": [
    "# from IPython.display import IFrame; IFrame(\"./hide/08-sorting-algorithms-part-2-11-11-2017.pdf\",width=800,height=400)"
   ]
  },
  {
   "cell_type": "code",
   "execution_count": 5,
   "id": "suburban-exemption",
   "metadata": {},
   "outputs": [
    {
     "data": {
      "text/html": [
       "<video src=\"./hide/09-sorting-algorithms-part-3-19-11-2017.mp4\" controls  width=\"800\"  height=\"400\">\n",
       "      Your browser does not support the <code>video</code> element.\n",
       "    </video>"
      ],
      "text/plain": [
       "<IPython.core.display.Video object>"
      ]
     },
     "execution_count": 5,
     "metadata": {},
     "output_type": "execute_result"
    }
   ],
   "source": [
    "from IPython.display import Video; Video(\"./hide/09-sorting-algorithms-part-3-19-11-2017.mp4\",width=800,height=400)"
   ]
  },
  {
   "cell_type": "code",
   "execution_count": 6,
   "id": "fifth-advocate",
   "metadata": {},
   "outputs": [],
   "source": [
    "# from IPython.display import IFrame; IFrame(\"./hide/09-sorting-algorithms-part-3-19-11-2017.pdf\",width=800,height=400)"
   ]
  },
  {
   "cell_type": "code",
   "execution_count": 7,
   "id": "interim-syndication",
   "metadata": {},
   "outputs": [],
   "source": [
    "exit()"
   ]
  },
  {
   "cell_type": "markdown",
   "id": "floral-shower",
   "metadata": {},
   "source": [
    "<a id=\"top\"></a>\n",
    "***\n",
    "## Table of Contents\n",
    "***\n",
    "\n",
    "## [Abstract](#abstract)\n",
    "\n",
    "- &#x1F6A7;\n",
    "\n",
    "## [Introduction](#introduction)\n",
    "\n",
    "* [Sorting](#Sorting)\n",
    "    * [Search](#Search)\n",
    "    * [Duplicates](#Duplicates)\n",
    "    * [Frequency](#Frequency)\n",
    "    * [Order Statistics](#Order-Statistics)\n",
    " \n",
    " \n",
    " \n",
    "* [Pre-proprocessing](#Pre-proprocessing)\n",
    "* [Real-World](#Real-World)\n",
    "    \n",
    "* [Sorting Conditions](#Sorting-Conditions)\n",
    "\t* [Duplicates](#Duplicates)\n",
    "    \n",
    "* [Comparison](#Comparison)\n",
    "\t* [Comparator Function](#Comparator-Function)\n",
    "\t* [Inversion](#Inversion)\n",
    "\t\t* [Comparison-Based](#Comparison-Based)\n",
    "\n",
    "## [Solution](#solution)\n",
    "\n",
    "* [Merge Sort](#Mergesort)\n",
    "* [Radix Sort](#Radix-Sort)\n",
    "* [Counting Sort](#Counting-Sort)\n",
    "* [Shell Sort](#Shell-Sort)\n",
    "* [Quicksort](#Quicksort)\n",
    "* [Heapsort](#Heapsort)\n",
    "* [Smoothsort](#Smoothsort)\n",
    "* [Introsort](#Introsort)\n",
    "* [Timsort](#Timsort)\n",
    "\n",
    "## [Conclusion](#conclusion)\n",
    "\n",
    "- &#x1F6A7;"
   ]
  },
  {
   "cell_type": "markdown",
   "id": "assisted-turkey",
   "metadata": {},
   "source": [
    "***\n",
    "## END"
   ]
  },
  {
   "cell_type": "markdown",
   "id": "requested-boost",
   "metadata": {},
   "source": [
    "< [Table of Contents](#top) | [Introduction](#introduction) | [Solution](#solution) | [Conclusion](#conclusion) | [References](#references) >\n",
    "<a id=\"abstract\"></a>\n",
    "***\n",
    "## Abstract\n",
    "***"
   ]
  },
  {
   "cell_type": "markdown",
   "id": "electronic-moral",
   "metadata": {},
   "source": [
    "&#x1F6A7;"
   ]
  },
  {
   "cell_type": "markdown",
   "id": "therapeutic-lesson",
   "metadata": {},
   "source": [
    "<!-- print(fGetModuleType(___x___),fDocumentation(___x___)) -->\n",
    "***\n",
    "## END"
   ]
  },
  {
   "cell_type": "markdown",
   "id": "disabled-japanese",
   "metadata": {},
   "source": [
    "< [Table of Contents](#top) | [Abstract](#abstract) | [Solution](#solution) | [Conclusion](#conclusion) | [References](#references) >\n",
    "<a id=\"introduction\"></a>\n",
    "***\n",
    "## Introduction\n",
    "***"
   ]
  },
  {
   "cell_type": "markdown",
   "id": "placed-bicycle",
   "metadata": {},
   "source": [
    "< [Table of Contents](#top) | [References](#references) >\n",
    "<a id=\"Sorting\"></a>\n",
    "### Sorting\n",
    "***"
   ]
  },
  {
   "cell_type": "markdown",
   "id": "placed-steam",
   "metadata": {},
   "source": [
    "- definition of the term sorting is arranging a collection of items according to some predefined ordering rules [1]"
   ]
  },
  {
   "cell_type": "markdown",
   "id": "atmospheric-healing",
   "metadata": {},
   "source": [
    "- an array or list (hereafter called \"collection\") of items to order in the correct order is a sorting problem [1]"
   ]
  },
  {
   "cell_type": "markdown",
   "id": "exact-granny",
   "metadata": {},
   "source": [
    "- it has been claimed in the past that as much as 25% of all CPU cycles worldwide are spent on sorting tasks (claim provides a great incentive to further study and optimise sorting algorithms) [1]"
   ]
  },
  {
   "cell_type": "markdown",
   "id": "organized-moral",
   "metadata": {},
   "source": [
    "- given there is so much time spent on sorting regardless of whether the actual figure is 25% can take for granted that a large amount of CPU time worldwide is spent on sorting tasks and knowing this provides a great incentive to work on research and development of sorting algorithms [1]"
   ]
  },
  {
   "cell_type": "markdown",
   "id": "continued-scoop",
   "metadata": {},
   "source": [
    "- knowing the considerations for most appropriate sorting algorithm for the specific task to accomplish it is upon system designers/computer scientists to know the different strengths and weaknesses of different sorting algorithms and to know in which specific situations or for which specific class of input instances should a certain type of sorting algorithm or a particular implementation be used [1]"
   ]
  },
  {
   "cell_type": "markdown",
   "id": "black-episode",
   "metadata": {},
   "source": [
    "- there are many interesting applications of sorting and many different sorting algorithms each of which have their own specific strengths and weaknesses [1]"
   ]
  },
  {
   "cell_type": "markdown",
   "id": "bizarre-group",
   "metadata": {},
   "source": [
    "- due to all of this and due to the importance of the sorting task the search for efficient sorting algorithms was a very important part of the early days of computing and computer science [1]"
   ]
  },
  {
   "cell_type": "markdown",
   "id": "funky-portuguese",
   "metadata": {},
   "source": [
    "- numerous computations and tasks are in fact simplified or made a lot easier by first properly sorting the information in a collection in advance [1]"
   ]
  },
  {
   "cell_type": "code",
   "execution_count": 1,
   "id": "removable-medium",
   "metadata": {},
   "outputs": [],
   "source": [
    "exit()"
   ]
  },
  {
   "cell_type": "markdown",
   "id": "another-disclaimer",
   "metadata": {},
   "source": [
    "< [Table of Contents](#top) | [References](#references) >\n",
    "<a id=\"Search\"></a>\n",
    "###### Search\n",
    "***"
   ]
  },
  {
   "cell_type": "markdown",
   "id": "responsible-wealth",
   "metadata": {},
   "source": [
    "- considering the task of searching for a particular item in a collection of elements [1]"
   ]
  },
  {
   "cell_type": "markdown",
   "id": "broadband-apache",
   "metadata": {},
   "source": [
    "- if the collection is in order (sorted) then can apply different types of searching algorithms and probably find the particular item sought quicker [1]"
   ]
  },
  {
   "cell_type": "code",
   "execution_count": 1,
   "id": "patient-venezuela",
   "metadata": {},
   "outputs": [],
   "source": [
    "exit()"
   ]
  },
  {
   "cell_type": "markdown",
   "id": "fantastic-parliament",
   "metadata": {},
   "source": [
    "< [Table of Contents](#top) | [References](#references) >\n",
    "<a id=\"Duplicates\"></a>\n",
    "###### Duplicates\n",
    "***"
   ]
  },
  {
   "cell_type": "markdown",
   "id": "daily-schema",
   "metadata": {},
   "source": [
    "- considering a collection of items and finding out whether any duplicate items exist in that collection [1]"
   ]
  },
  {
   "cell_type": "markdown",
   "id": "together-cleaners",
   "metadata": {},
   "source": [
    "- task is easier if it is known that all duplicate items are going to appear in a contiguous block or they are all going to appear together [1]"
   ]
  },
  {
   "cell_type": "markdown",
   "id": "victorian-general",
   "metadata": {},
   "source": [
    "- if sorted in order of increasing magnitude then its a trivial task to go and actually count how many duplicates of those items exist [1]"
   ]
  },
  {
   "cell_type": "code",
   "execution_count": 1,
   "id": "touched-dining",
   "metadata": {},
   "outputs": [],
   "source": [
    "exit()"
   ]
  },
  {
   "cell_type": "markdown",
   "id": "tight-estimate",
   "metadata": {},
   "source": [
    "< [Table of Contents](#top) | [References](#references) >\n",
    "<a id=\"Frequency\"></a>\n",
    "###### Frequency\n",
    "***"
   ]
  },
  {
   "cell_type": "markdown",
   "id": "secret-athens",
   "metadata": {},
   "source": [
    "- considering the frequency of any distinct items in a dataset [1]"
   ]
  },
  {
   "cell_type": "markdown",
   "id": "split-share",
   "metadata": {},
   "source": [
    "- creating a histogram to find the frequency of every distinct item in a collection could easily be done if the data is sorted because again like the problem of finding duplicate items it becomes a trivial task when all of the items which are valued equally appear in a contiguous block (appear beside each other) [1]"
   ]
  },
  {
   "cell_type": "code",
   "execution_count": 1,
   "id": "downtown-mitchell",
   "metadata": {},
   "outputs": [],
   "source": [
    "exit()"
   ]
  },
  {
   "cell_type": "markdown",
   "id": "similar-heather",
   "metadata": {},
   "source": [
    "< [Table of Contents](#top) | [References](#references) >\n",
    "<a id=\"Order-Statistics\"></a>\n",
    "###### Order Statistics\n",
    "***"
   ]
  },
  {
   "cell_type": "markdown",
   "id": "marine-pledge",
   "metadata": {},
   "source": [
    "- another important application of sorting algorithms is to find the order statistics of a collection of data [1]"
   ]
  },
  {
   "cell_type": "markdown",
   "id": "amended-horizon",
   "metadata": {},
   "source": [
    "- statistics are numbers essentially which tell something about a collection of data in aggregate [1]"
   ]
  },
  {
   "cell_type": "markdown",
   "id": "careful-tonight",
   "metadata": {},
   "source": [
    "- could be order statistics that relate to the range of the data such as the maximum and minimum [1]"
   ]
  },
  {
   "cell_type": "markdown",
   "id": "invisible-cannon",
   "metadata": {},
   "source": [
    "- finding the maximum and minimum items in a collection becomes trivial if the data is sorted say in order of increasing magnitude (minimum point is simply the first element in the collection - maximum point is simply the last element in the collection) [1]"
   ]
  },
  {
   "cell_type": "markdown",
   "id": "diagnostic-rapid",
   "metadata": {},
   "source": [
    "- another order statistic could be the median and the quartiles [1]"
   ]
  },
  {
   "cell_type": "markdown",
   "id": "broken-attack",
   "metadata": {},
   "source": [
    "- in the context of the economy would often hear about the median salary whereby the median is the middle value in a collection so the median salary then if having access to a list of the salaries of everybody working in Ireland then could sort those data points in order of increasing salary therefore a trivial task to pick out the median given its the element(s) right in the middle [1]"
   ]
  },
  {
   "cell_type": "code",
   "execution_count": 1,
   "id": "million-pontiac",
   "metadata": {},
   "outputs": [],
   "source": [
    "exit()"
   ]
  },
  {
   "cell_type": "markdown",
   "id": "affected-wallpaper",
   "metadata": {},
   "source": [
    "<!-- print(fGetModuleType(___x___),fDocumentation(___x___)) -->\n",
    "***\n",
    "## END"
   ]
  },
  {
   "cell_type": "markdown",
   "id": "given-modem",
   "metadata": {},
   "source": [
    "< [Table of Contents](#top) | [Abstract](#abstract) | [Introduction](#introduction) | [Conclusion](#conclusion) | [References](#references) >\n",
    "<a id=\"solution\"></a>\n",
    "***\n",
    "## Solution\n",
    "***"
   ]
  },
  {
   "cell_type": "markdown",
   "id": "intense-proposition",
   "metadata": {},
   "source": [
    "&#x1F6A7;"
   ]
  },
  {
   "cell_type": "markdown",
   "id": "becoming-religion",
   "metadata": {},
   "source": [
    "<!-- - refer [Appendix](#appendix-df) to view the full dataset <a id=\"go-back-df\"></a> -->\n",
    "<!-- print(fGetModuleType(___x___),fDocumentation(___x___)) -->\n",
    "***\n",
    "## END"
   ]
  },
  {
   "cell_type": "markdown",
   "id": "attended-terminal",
   "metadata": {},
   "source": [
    "< [Table of Contents](#top) | [Abstract](#abstract) | [Introduction](#introduction) | [Solution](#solution) | [References](#references) >\n",
    "<a id=\"conclusion\"></a>\n",
    "***\n",
    "## Conclusion\n",
    "***"
   ]
  },
  {
   "cell_type": "markdown",
   "id": "maritime-summary",
   "metadata": {},
   "source": [
    "&#x1F6A7;"
   ]
  },
  {
   "cell_type": "markdown",
   "id": "northern-hudson",
   "metadata": {},
   "source": [
    "<!-- print(fGetModuleType(___x___),fDocumentation(___x___)) -->\n",
    "***\n",
    "## END"
   ]
  },
  {
   "cell_type": "markdown",
   "id": "geographic-receptor",
   "metadata": {},
   "source": [
    "< [Table of Contents](#top) | [Abstract](#abstract) | [Introduction](#introduction) | [Solution](#solution) | [Conclusion](#conclusion) | [References](#references) >\n",
    "<a id=\"references\"></a>\n",
    "***\n",
    "## References\n",
    "***\n",
    "&nbsp;&nbsp;&nbsp;&nbsp;&nbsp;&nbsp;&nbsp;&nbsp;&nbsp;[1] P. Mannion, \"07 Sorting Algorithms Part 1,\" GMIT, November 2017.\n",
    "\n",
    "&nbsp;&nbsp;&nbsp;&nbsp;&nbsp;&nbsp;&nbsp;&nbsp;&nbsp;[2] P. Mannion, \"08 Sorting Algorithms Part 2,\" GMIT, November 2017.\n",
    "\n",
    "&nbsp;&nbsp;&nbsp;&nbsp;&nbsp;&nbsp;&nbsp;&nbsp;&nbsp;[3] P. Mannion, \"09 Sorting Algorithms Part 3,\" GMIT, November 2017."
   ]
  },
  {
   "cell_type": "markdown",
   "id": "bizarre-broadcast",
   "metadata": {},
   "source": [
    "***\n",
    "## END"
   ]
  },
  {
   "cell_type": "markdown",
   "id": "prepared-fifth",
   "metadata": {},
   "source": [
    "< [Table of Contents](#top) | [Abstract](#abstract) | [Introduction](#introduction) | [Solution](#solution) | [Conclusion](#conclusion) | [References](#references) >\n",
    "<a id=\"appendix\"></a>\n",
    "***\n",
    "## Appendix\n",
    "***"
   ]
  },
  {
   "cell_type": "markdown",
   "id": "accepted-browse",
   "metadata": {},
   "source": [
    "<a id=\"appendix-some-reference\"></a>\n",
    "< [Go Back](#top) >"
   ]
  },
  {
   "cell_type": "markdown",
   "id": "suited-format",
   "metadata": {},
   "source": [
    "###### Github\n",
    "***"
   ]
  },
  {
   "cell_type": "markdown",
   "id": "encouraging-grade",
   "metadata": {},
   "source": [
    "```\n",
    "git push -f origin HEAD^:master && git reset HEAD~\n",
    "```"
   ]
  },
  {
   "cell_type": "markdown",
   "id": "worst-world",
   "metadata": {},
   "source": [
    "###### Functions\n",
    "***"
   ]
  },
  {
   "cell_type": "code",
   "execution_count": 1,
   "id": "according-produce",
   "metadata": {},
   "outputs": [
    {
     "name": "stdout",
     "output_type": "stream",
     "text": [
      "# repository ./OhAileasa\r\n",
      "def fFullScreen():\r\n",
      "\t\"\"\"Utilise full Jupyter notebook screen.\r\n",
      "\r\n",
      "Input:\r\n",
      "Process: (IPython.core.display.display; IPython.core.display.HTML)\r\n",
      "Output:\r\n",
      "\"\"\"\r\n",
      "\tfrom IPython.core.display import display,HTML\r\n",
      "\tdisplay(HTML(\"<style>.container { width:100% !important; }</style>\"))\r\n",
      "# --- END ---\r\n"
     ]
    }
   ],
   "source": [
    "%%script bash\n",
    "grep -1 \"def fFullScreen\" ../src/fubar.py -A 9"
   ]
  },
  {
   "cell_type": "markdown",
   "id": "better-missile",
   "metadata": {},
   "source": [
    "```python\n",
    "# %%writefile -a ../src/fubar.py\n",
    "# repository ./fubar-python\n",
    "def f():\n",
    "    \"\"\"\n",
    "\n",
    "Input:\n",
    "Process:\n",
    "Output:\n",
    "\"\"\"\n",
    "    pass\n",
    "# -- END ---\n",
    "```"
   ]
  },
  {
   "cell_type": "markdown",
   "id": "vocal-october",
   "metadata": {},
   "source": [
    "###### Images\n",
    "***"
   ]
  },
  {
   "cell_type": "markdown",
   "id": "through-burning",
   "metadata": {},
   "source": [
    "![gumball](https://github.com/SeanOhAileasa/SeanOhAileasa/blob/master/img/cta/analysing/gumball.png?raw=true)\n",
    "\n",
    "***(Image) P. Mannion, \"03 Analysing Algorithms Part 1,\" GMIT, October 2017.***"
   ]
  },
  {
   "cell_type": "markdown",
   "id": "flexible-yemen",
   "metadata": {},
   "source": [
    "###### Tables\n",
    "***"
   ]
  },
  {
   "cell_type": "markdown",
   "id": "dressed-haven",
   "metadata": {},
   "source": [
    "|aaa|bbbbbb|ccccccccc|\n",
    "|:------------------------- | :------------------------- | :------------------------- |\n",
    "|aaa|bbbbbb|ccccccccc|"
   ]
  },
  {
   "cell_type": "markdown",
   "id": "senior-baghdad",
   "metadata": {},
   "source": [
    "***\n",
    "## END"
   ]
  },
  {
   "cell_type": "markdown",
   "id": "numerical-stomach",
   "metadata": {},
   "source": [
    "# END JUPYTER NOTEBOOK"
   ]
  }
 ],
 "metadata": {
  "kernelspec": {
   "display_name": "Python 3",
   "language": "python",
   "name": "python3"
  },
  "language_info": {
   "codemirror_mode": {
    "name": "ipython",
    "version": 3
   },
   "file_extension": ".py",
   "mimetype": "text/x-python",
   "name": "python",
   "nbconvert_exporter": "python",
   "pygments_lexer": "ipython3",
   "version": "3.8.3"
  }
 },
 "nbformat": 4,
 "nbformat_minor": 5
}
