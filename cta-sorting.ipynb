{
 "cells": [
  {
   "cell_type": "code",
   "execution_count": null,
   "id": "coral-murder",
   "metadata": {},
   "outputs": [
    {
     "data": {
      "text/html": [
       "<script>Jupyter.notebook.kernel.restart()</script>"
      ]
     },
     "metadata": {},
     "output_type": "display_data"
    }
   ],
   "source": [
    "from IPython.core.display import display_html\n",
    "display_html(\"<script>Jupyter.notebook.kernel.restart()</script>\",raw=True)"
   ]
  },
  {
   "cell_type": "code",
   "execution_count": 1,
   "id": "stable-prototype",
   "metadata": {},
   "outputs": [
    {
     "data": {
      "text/html": [
       "<style>.container { width:100% !important; }</style>"
      ],
      "text/plain": [
       "<IPython.core.display.HTML object>"
      ]
     },
     "metadata": {},
     "output_type": "display_data"
    },
    {
     "data": {
      "text/html": [
       "<style>.container { width:100% !important; }</style>"
      ],
      "text/plain": [
       "<IPython.core.display.HTML object>"
      ]
     },
     "metadata": {},
     "output_type": "display_data"
    }
   ],
   "source": [
    "from sys import path; path.insert(1,\"../src\");\n",
    "import fubar; from importlib import reload; reload(fubar);"
   ]
  },
  {
   "cell_type": "markdown",
   "id": "nominated-ultimate",
   "metadata": {},
   "source": [
    "***\n",
    "< [GMIT Data Analytics](https://web.archive.org/web/20201029063153/https://www.gmit.ie/computer-science-and-applied-physics/higher-diploma-science-computing-data-analytics-ict) | [Home](https://github.com/SeanOhAileasa) | [README](https://github.com/SeanOhAileasa/cta-sorting/blob/main/README.md) >\n",
    "\n",
    "[![GMIT](https://github.com/SeanOhAileasa/SeanOhAileasa/blob/master/img/gmit.png?raw=true)](https://web.archive.org/web/20201029063153/https://www.gmit.ie/computer-science-and-applied-physics/higher-diploma-science-computing-data-analytics-ict)\n",
    "\n",
    "<!--\n",
    "Computational Thinking with Algorithms\n",
    "\n",
    "Applied Databases\n",
    "\n",
    "Programming for Data Analysis\n",
    "\n",
    "Fundamentals of Data Analysis\n",
    "-->\n",
    "\n",
    "## Computational Thinking with Algorithms - Course Material 2021\n",
    "### Topic: [Sorting](https://nbviewer.jupyter.org/github/SeanOhAileasa/cta-sorting/blob/main/cta-sorting.ipynb)\n",
    "\n",
    "***"
   ]
  },
  {
   "cell_type": "markdown",
   "id": "worst-cleaner",
   "metadata": {},
   "source": [
    "Course material for the ``Computational Thinking with Algorithms`` module (5 Credits) of the ``Higher Diploma in Science in Computing (Data Analytics) (H.Dip)`` programme (75 Credits) at **Galway-Mayo Institute of Technology (GMIT)**."
   ]
  },
  {
   "cell_type": "code",
   "execution_count": 2,
   "id": "bound-receptor",
   "metadata": {},
   "outputs": [],
   "source": [
    "exit()"
   ]
  },
  {
   "cell_type": "code",
   "execution_count": 1,
   "id": "qualified-heather",
   "metadata": {},
   "outputs": [
    {
     "data": {
      "text/html": [
       "<video src=\"./hide/07-sorting-algorithms-part-1-06-11-2017.mp4\" controls  width=\"800\"  height=\"400\">\n",
       "      Your browser does not support the <code>video</code> element.\n",
       "    </video>"
      ],
      "text/plain": [
       "<IPython.core.display.Video object>"
      ]
     },
     "execution_count": 1,
     "metadata": {},
     "output_type": "execute_result"
    }
   ],
   "source": [
    "from IPython.display import Video; Video(\"./hide/07-sorting-algorithms-part-1-06-11-2017.mp4\",width=800,height=400)"
   ]
  },
  {
   "cell_type": "code",
   "execution_count": 2,
   "id": "piano-traveler",
   "metadata": {},
   "outputs": [],
   "source": [
    "# from IPython.display import IFrame; IFrame(\"./hide/07-sorting-algorithms-part-1-06-11-2017.pdf\",width=800,height=400)"
   ]
  },
  {
   "cell_type": "code",
   "execution_count": 3,
   "id": "humanitarian-jason",
   "metadata": {},
   "outputs": [
    {
     "data": {
      "text/html": [
       "<video src=\"./hide/08-sorting-algorithms-part-2-11-11-2017.mp4\" controls  width=\"800\"  height=\"400\">\n",
       "      Your browser does not support the <code>video</code> element.\n",
       "    </video>"
      ],
      "text/plain": [
       "<IPython.core.display.Video object>"
      ]
     },
     "execution_count": 3,
     "metadata": {},
     "output_type": "execute_result"
    }
   ],
   "source": [
    "from IPython.display import Video; Video(\"./hide/08-sorting-algorithms-part-2-11-11-2017.mp4\",width=800,height=400)"
   ]
  },
  {
   "cell_type": "code",
   "execution_count": 4,
   "id": "otherwise-worse",
   "metadata": {},
   "outputs": [],
   "source": [
    "# from IPython.display import IFrame; IFrame(\"./hide/08-sorting-algorithms-part-2-11-11-2017.pdf\",width=800,height=400)"
   ]
  },
  {
   "cell_type": "code",
   "execution_count": 5,
   "id": "coral-burden",
   "metadata": {},
   "outputs": [
    {
     "data": {
      "text/html": [
       "<video src=\"./hide/09-sorting-algorithms-part-3-19-11-2017.mp4\" controls  width=\"800\"  height=\"400\">\n",
       "      Your browser does not support the <code>video</code> element.\n",
       "    </video>"
      ],
      "text/plain": [
       "<IPython.core.display.Video object>"
      ]
     },
     "execution_count": 5,
     "metadata": {},
     "output_type": "execute_result"
    }
   ],
   "source": [
    "from IPython.display import Video; Video(\"./hide/09-sorting-algorithms-part-3-19-11-2017.mp4\",width=800,height=400)"
   ]
  },
  {
   "cell_type": "code",
   "execution_count": 6,
   "id": "eligible-seeker",
   "metadata": {},
   "outputs": [],
   "source": [
    "# from IPython.display import IFrame; IFrame(\"./hide/09-sorting-algorithms-part-3-19-11-2017.pdf\",width=800,height=400)"
   ]
  },
  {
   "cell_type": "code",
   "execution_count": 7,
   "id": "restricted-sally",
   "metadata": {},
   "outputs": [],
   "source": [
    "exit()"
   ]
  },
  {
   "cell_type": "markdown",
   "id": "indie-michael",
   "metadata": {},
   "source": [
    "<a id=\"top\"></a>\n",
    "***\n",
    "## Table of Contents\n",
    "***\n",
    "\n",
    "## [Abstract](#abstract)\n",
    "\n",
    "- &#x1F6A7;\n",
    "\n",
    "## [Introduction](#introduction)\n",
    "\n",
    "* [Sorting](#Sorting)\n",
    "    * [Search](#Search)\n",
    "    * [Duplicates](#Duplicates)\n",
    "    * [Frequency](#Frequency)\n",
    "    * [Order Statistics](#Order-Statistics)\n",
    "    * [Preprocessing](#Preprocessing)\n",
    "    * [Real World](#Real-World)\n",
    "    \n",
    "* [Conditions](#Conditions)\n",
    "\t* [Contiguous](#Contiguous)\n",
    "    \n",
    "* [Ordering](#Ordering)\n",
    "\t* [Numerical](#Numerical)\n",
    "\t* [Lexicographical](#Lexicographical)\n",
    "    \n",
    "* [Comparator Function](#Comparator-Function)\n",
    "\t* [Inversion](#Inversion)\n",
    "    \n",
    "* [Comparison](#Comparison)\n",
    "    * [Non-Comparison](#Non-Comparison)\n",
    "    \n",
    "* [Sort Key and Satellite Data](#Sort-Key-Satellite-Data)\n",
    "    \n",
    "* [Properties](#Properties) \n",
    "\t* [Stability](#Stability)\n",
    "\t\t* [Flight Information](#Flight-Information)\n",
    "\t* [Run Time Efficiency](#Run-Time-Efficiency)\n",
    "\t* [In-Place](#In-Place)\n",
    "\t* [Suitability](#Suitability)\n",
    "\n",
    "## [Solution](#solution)\n",
    "\n",
    "* [Merge Sort](#Mergesort)\n",
    "* [Radix Sort](#Radix-Sort)\n",
    "* [Counting Sort](#Counting-Sort)\n",
    "* [Shell Sort](#Shell-Sort)\n",
    "* [Quicksort](#Quicksort)\n",
    "* [Heapsort](#Heapsort)\n",
    "* [Smoothsort](#Smoothsort)\n",
    "* [Introsort](#Introsort)\n",
    "* [Timsort](#Timsort)\n",
    "\n",
    "## [Conclusion](#conclusion)\n",
    "\n",
    "- &#x1F6A7;"
   ]
  },
  {
   "cell_type": "markdown",
   "id": "backed-lightning",
   "metadata": {},
   "source": [
    "***\n",
    "## END"
   ]
  },
  {
   "cell_type": "markdown",
   "id": "acute-flavor",
   "metadata": {},
   "source": [
    "< [Table of Contents](#top) | [Introduction](#introduction) | [Solution](#solution) | [Conclusion](#conclusion) | [References](#references) >\n",
    "<a id=\"abstract\"></a>\n",
    "***\n",
    "## Abstract\n",
    "***"
   ]
  },
  {
   "cell_type": "markdown",
   "id": "annual-yesterday",
   "metadata": {},
   "source": [
    "&#x1F6A7;"
   ]
  },
  {
   "cell_type": "markdown",
   "id": "talented-verification",
   "metadata": {},
   "source": [
    "<!-- print(fGetModuleType(___x___),fDocumentation(___x___)) -->\n",
    "***\n",
    "## END"
   ]
  },
  {
   "cell_type": "markdown",
   "id": "blond-scope",
   "metadata": {},
   "source": [
    "< [Table of Contents](#top) | [Abstract](#abstract) | [Solution](#solution) | [Conclusion](#conclusion) | [References](#references) >\n",
    "<a id=\"introduction\"></a>\n",
    "***\n",
    "## Introduction\n",
    "***"
   ]
  },
  {
   "cell_type": "markdown",
   "id": "senior-glory",
   "metadata": {},
   "source": [
    "< [Table of Contents](#top) | [References](#references) >\n",
    "<a id=\"Sorting\"></a>\n",
    "### Sorting\n",
    "***"
   ]
  },
  {
   "cell_type": "markdown",
   "id": "integrated-offset",
   "metadata": {},
   "source": [
    "- definition of the term sorting is arranging a collection of items according to some predefined ordering rules [1]"
   ]
  },
  {
   "cell_type": "markdown",
   "id": "rural-complaint",
   "metadata": {},
   "source": [
    "- an array or list (hereafter called \"collection\") of items to order in the correct order is a sorting problem [1]"
   ]
  },
  {
   "cell_type": "markdown",
   "id": "sapphire-solomon",
   "metadata": {},
   "source": [
    "- it has been claimed in the past that as much as 25% of all CPU cycles worldwide are spent on sorting tasks (claim provides a great incentive to further study and optimise sorting algorithms) [1]"
   ]
  },
  {
   "cell_type": "markdown",
   "id": "municipal-pipeline",
   "metadata": {},
   "source": [
    "- given there is so much time spent on sorting regardless of whether the actual figure is 25% can take for granted that a large amount of CPU time worldwide is spent on sorting tasks and knowing this provides a great incentive to work on research and development of sorting algorithms [1]"
   ]
  },
  {
   "cell_type": "markdown",
   "id": "utility-things",
   "metadata": {},
   "source": [
    "- knowing the considerations for most appropriate sorting algorithm for the specific task to accomplish it is upon system designers/computer scientists to know the different strengths and weaknesses of different sorting algorithms and to know in which specific situations or for which specific class of input instances should a certain type of sorting algorithm or a particular implementation be used [1]"
   ]
  },
  {
   "cell_type": "markdown",
   "id": "rough-envelope",
   "metadata": {},
   "source": [
    "- there are many interesting applications of sorting and many different sorting algorithms each of which have their own specific strengths and weaknesses [1]"
   ]
  },
  {
   "cell_type": "markdown",
   "id": "painful-choir",
   "metadata": {},
   "source": [
    "- due to all of this and due to the importance of the sorting task the search for efficient sorting algorithms was a very important part of the early days of computing and computer science [1]"
   ]
  },
  {
   "cell_type": "markdown",
   "id": "established-brave",
   "metadata": {},
   "source": [
    "- numerous computations and tasks are in fact simplified or made a lot easier by first properly sorting the information in a collection in advance [1]"
   ]
  },
  {
   "cell_type": "code",
   "execution_count": 1,
   "id": "racial-electronics",
   "metadata": {},
   "outputs": [],
   "source": [
    "exit()"
   ]
  },
  {
   "cell_type": "markdown",
   "id": "higher-mount",
   "metadata": {},
   "source": [
    "< [Table of Contents](#top) | [References](#references) >\n",
    "<a id=\"Search\"></a>\n",
    "###### Search\n",
    "***"
   ]
  },
  {
   "cell_type": "markdown",
   "id": "paperback-overhead",
   "metadata": {},
   "source": [
    "- considering the task of searching for a particular item in a collection of elements [1]"
   ]
  },
  {
   "cell_type": "markdown",
   "id": "touched-chair",
   "metadata": {},
   "source": [
    "- if the collection is in order (sorted) then can apply different types of searching algorithms and probably find the particular item sought quicker [1]"
   ]
  },
  {
   "cell_type": "code",
   "execution_count": 1,
   "id": "confused-tuner",
   "metadata": {},
   "outputs": [],
   "source": [
    "exit()"
   ]
  },
  {
   "cell_type": "markdown",
   "id": "indirect-wisconsin",
   "metadata": {},
   "source": [
    "< [Table of Contents](#top) | [References](#references) >\n",
    "<a id=\"Duplicates\"></a>\n",
    "###### Duplicates\n",
    "***"
   ]
  },
  {
   "cell_type": "markdown",
   "id": "vietnamese-program",
   "metadata": {},
   "source": [
    "- considering a collection of items and finding out whether any duplicate items exist in that collection [1]"
   ]
  },
  {
   "cell_type": "markdown",
   "id": "legal-bedroom",
   "metadata": {},
   "source": [
    "- task is easier if it is known that all duplicate items are going to appear in a contiguous block or they are all going to appear together [1]"
   ]
  },
  {
   "cell_type": "markdown",
   "id": "comparable-ready",
   "metadata": {},
   "source": [
    "- if sorted in order of increasing magnitude then its a trivial task to go and actually count how many duplicates of those items exist [1]"
   ]
  },
  {
   "cell_type": "code",
   "execution_count": 1,
   "id": "dirty-comfort",
   "metadata": {},
   "outputs": [],
   "source": [
    "exit()"
   ]
  },
  {
   "cell_type": "markdown",
   "id": "particular-occasion",
   "metadata": {},
   "source": [
    "< [Table of Contents](#top) | [References](#references) >\n",
    "<a id=\"Frequency\"></a>\n",
    "###### Frequency\n",
    "***"
   ]
  },
  {
   "cell_type": "markdown",
   "id": "blind-pollution",
   "metadata": {},
   "source": [
    "- considering the frequency of any distinct items in a dataset [1]"
   ]
  },
  {
   "cell_type": "markdown",
   "id": "amended-concept",
   "metadata": {},
   "source": [
    "- creating a histogram to find the frequency of every distinct item in a collection could easily be done if the data is sorted because again like the problem of finding duplicate items it becomes a trivial task when all of the items which are valued equally appear in a contiguous block (appear beside each other) [1]"
   ]
  },
  {
   "cell_type": "code",
   "execution_count": 1,
   "id": "polished-marina",
   "metadata": {},
   "outputs": [],
   "source": [
    "exit()"
   ]
  },
  {
   "cell_type": "markdown",
   "id": "normal-advocacy",
   "metadata": {},
   "source": [
    "< [Table of Contents](#top) | [References](#references) >\n",
    "<a id=\"Order-Statistics\"></a>\n",
    "###### Order Statistics\n",
    "***"
   ]
  },
  {
   "cell_type": "markdown",
   "id": "floating-thread",
   "metadata": {},
   "source": [
    "- another important application of sorting algorithms is to find the order statistics of a collection of data [1]"
   ]
  },
  {
   "cell_type": "markdown",
   "id": "graduate-consortium",
   "metadata": {},
   "source": [
    "- statistics are numbers essentially which tell something about a collection of data in aggregate [1]"
   ]
  },
  {
   "cell_type": "markdown",
   "id": "presidential-payroll",
   "metadata": {},
   "source": [
    "- could be order statistics that relate to the range of the data such as the maximum and minimum [1]"
   ]
  },
  {
   "cell_type": "markdown",
   "id": "spoken-attraction",
   "metadata": {},
   "source": [
    "- finding the maximum and minimum items in a collection becomes trivial if the data is sorted say in order of increasing magnitude (minimum point is simply the first element in the collection - maximum point is simply the last element in the collection) [1]"
   ]
  },
  {
   "cell_type": "markdown",
   "id": "advised-spyware",
   "metadata": {},
   "source": [
    "- another order statistic could be the median and the quartiles [1]"
   ]
  },
  {
   "cell_type": "markdown",
   "id": "demanding-guatemala",
   "metadata": {},
   "source": [
    "- in the context of the economy would often hear about the median salary whereby the median is the middle value in a collection so the median salary then if having access to a list of the salaries of everybody working in Ireland then could sort those data points in order of increasing salary therefore a trivial task to pick out the median given its the element(s) right in the middle [1]"
   ]
  },
  {
   "cell_type": "code",
   "execution_count": 1,
   "id": "effective-hands",
   "metadata": {},
   "outputs": [],
   "source": [
    "exit()"
   ]
  },
  {
   "cell_type": "markdown",
   "id": "former-tomorrow",
   "metadata": {},
   "source": [
    "< [Table of Contents](#top) | [References](#references) >\n",
    "<a id=\"Preprocessing \"></a>\n",
    "###### Preprocessing \n",
    "***"
   ]
  },
  {
   "cell_type": "markdown",
   "id": "vocational-nicholas",
   "metadata": {},
   "source": [
    "- sorting can be useful as a precursor to completing other operations in an efficient way such that its often an important step when part of some other broader computer algorithm [1]"
   ]
  },
  {
   "cell_type": "markdown",
   "id": "finite-convert",
   "metadata": {},
   "source": [
    "- considering an image editing package (computer graphics) in which multiple layers of objects or artwork are supported and having a layer based computer graphics program whereby different objects are layered on top of each other to produce some composite image [1]"
   ]
  },
  {
   "cell_type": "markdown",
   "id": "lyric-effort",
   "metadata": {},
   "source": [
    "- may have to sort the objects according to some above or below relation so that the objects may be drawn in the correct order from bottom to top so that the image is composited correctly and that items which are supposed to be in the foreground are in the foreground and items which are supposed to form part of the background are actually in the background [1]"
   ]
  },
  {
   "cell_type": "markdown",
   "id": "daily-hygiene",
   "metadata": {},
   "source": [
    "- so a sorting algorithm could be used as part of a operation in some program but it would be a sub-step [1]"
   ]
  },
  {
   "cell_type": "code",
   "execution_count": 1,
   "id": "falling-breast",
   "metadata": {},
   "outputs": [],
   "source": [
    "exit()"
   ]
  },
  {
   "cell_type": "markdown",
   "id": "potential-layout",
   "metadata": {},
   "source": [
    "< [Table of Contents](#top) | [References](#references) >\n",
    "<a id=\"Real-World\"></a>\n",
    "###### Real World \n",
    "***"
   ]
  },
  {
   "cell_type": "markdown",
   "id": "adverse-stocks",
   "metadata": {},
   "source": [
    "- sorting can be useful as part of some other broader tasks but it is also an important problem in its own right and worthy of merit/study [1]"
   ]
  },
  {
   "cell_type": "markdown",
   "id": "acknowledged-sauce",
   "metadata": {},
   "source": [
    "- consider entries in a phonebook often sorted by area then by last name then sorted by first name [1]"
   ]
  },
  {
   "cell_type": "markdown",
   "id": "female-settle",
   "metadata": {},
   "source": [
    "- bank account statement transactions would be sorted first by a transaction number or by date or by the value of the transaction (ascending or descending order as well) [1]"
   ]
  },
  {
   "cell_type": "markdown",
   "id": "changed-shape",
   "metadata": {},
   "source": [
    "- results from a web search engine which would be sorted by relevance to a specific query string [1]"
   ]
  },
  {
   "cell_type": "markdown",
   "id": "hispanic-recognition",
   "metadata": {},
   "source": [
    "- maybe in a web search engine different items could be returned or different links to different webpages would actually be given some kind of relevance score in relation to a query string and would be ranked in order of decreasing relevance [1]"
   ]
  },
  {
   "cell_type": "code",
   "execution_count": 1,
   "id": "complimentary-ideal",
   "metadata": {},
   "outputs": [],
   "source": [
    "exit()"
   ]
  },
  {
   "cell_type": "markdown",
   "id": "forward-european",
   "metadata": {},
   "source": [
    "< [Table of Contents](#top) | [References](#references) >\n",
    "<a id=\"Conditions\"></a>\n",
    "### Conditions\n",
    "***"
   ]
  },
  {
   "cell_type": "markdown",
   "id": "second-disposal",
   "metadata": {},
   "source": [
    "- conceptually its easy to grasp the idea of what is meant by a collection being sorted or the term sorted but need to have some formal or mathematical definition of what is meant by the term sorted or having everything in order [1]"
   ]
  },
  {
   "cell_type": "markdown",
   "id": "vanilla-interference",
   "metadata": {},
   "source": [
    "- a collection of items is deemed to be sorted if each item which appears in the collection is less than or equal to its successor or its valued as being less than or equal to its successor in the collection [1]"
   ]
  },
  {
   "cell_type": "markdown",
   "id": "whole-wholesale",
   "metadata": {},
   "source": [
    "- to sort a collection ``A`` then the elements contained must be reorganised in such a way that if the element which appears at index ``i`` is less than the elements which appears at index ``j`` then the index ``i`` must also be less than the index ``j`` [1]"
   ]
  },
  {
   "cell_type": "markdown",
   "id": "charitable-intake",
   "metadata": {},
   "source": [
    "- items which are valued less than other items then said items must appear before the others [1]"
   ]
  },
  {
   "cell_type": "markdown",
   "id": "olive-season",
   "metadata": {},
   "source": [
    "- if an item is valued greater than another item then that greater value item must appear later in the collection [1]"
   ]
  },
  {
   "cell_type": "markdown",
   "id": "likely-salmon",
   "metadata": {},
   "source": [
    "$$A[i]<A[j]\\space then\\space i<j$$"
   ]
  },
  {
   "cell_type": "code",
   "execution_count": 1,
   "id": "steady-router",
   "metadata": {},
   "outputs": [],
   "source": [
    "exit()"
   ]
  },
  {
   "cell_type": "markdown",
   "id": "ancient-election",
   "metadata": {},
   "source": [
    "< [Table of Contents](#top) | [References](#references) >\n",
    "<a id=\"Contiguous\"></a>\n",
    "###### Contiguous\n",
    "***"
   ]
  },
  {
   "cell_type": "markdown",
   "id": "considered-electricity",
   "metadata": {},
   "source": [
    "- if there are duplicate elements then these elements must be contiguous in the resulting order collection [1]"
   ]
  },
  {
   "cell_type": "markdown",
   "id": "empirical-vietnamese",
   "metadata": {},
   "source": [
    "- all of the elements which have the same value according to some comparator function most appear in one uninterrupted block with no other different valued elements interspersed in between [1]"
   ]
  },
  {
   "cell_type": "markdown",
   "id": "cellular-chick",
   "metadata": {},
   "source": [
    "- within a collection ``A`` if an element at position ``i`` is valued the same as the element which appears at position ``j`` [1]"
   ]
  },
  {
   "cell_type": "markdown",
   "id": "qualified-auditor",
   "metadata": {},
   "source": [
    "$$A[i]=A[j]$$"
   ]
  },
  {
   "cell_type": "markdown",
   "id": "neutral-webster",
   "metadata": {},
   "source": [
    "- can be no index ``k`` such that the value of ``i`` is less than the value of ``k`` is less than the value of ``j`` [1]"
   ]
  },
  {
   "cell_type": "markdown",
   "id": "accepted-aircraft",
   "metadata": {},
   "source": [
    "$$i<k<j$$"
   ]
  },
  {
   "cell_type": "markdown",
   "id": "green-samuel",
   "metadata": {},
   "source": [
    "- an element which appears at position ``i`` in the collection is not equal to the element which appears at position ``k`` [1]"
   ]
  },
  {
   "cell_type": "markdown",
   "id": "motivated-nerve",
   "metadata": {},
   "source": [
    "$$A[i]\\neq A[k]$$"
   ]
  },
  {
   "cell_type": "markdown",
   "id": "latest-rhythm",
   "metadata": {},
   "source": [
    "- mathematical definition is saying that a contiguous block of elements which have the same value or are valued the same (duplicates of one another) then in a sorted collection no other different valued element can be interspersed in that contiguous block [1]"
   ]
  },
  {
   "cell_type": "markdown",
   "id": "needed-found",
   "metadata": {},
   "source": [
    "- have a collection of integers of which there are three of the integer ``4`` (so the integer ``4`` occurs three times) [1]"
   ]
  },
  {
   "cell_type": "markdown",
   "id": "proud-billy",
   "metadata": {},
   "source": [
    "- when that integer collection is sorted those three instances of the number four most appear together in one unbroken block and there can be no other different valued elements interspersed between them (contiguous sorting of duplicate elements in a collection) [1]"
   ]
  },
  {
   "cell_type": "markdown",
   "id": "impaired-oakland",
   "metadata": {},
   "source": [
    "- may seem obvious but still needs to stated that a sorted version of a collection must be a permutation of the elements which originally formed the collection [1]"
   ]
  },
  {
   "cell_type": "markdown",
   "id": "cutting-smile",
   "metadata": {},
   "source": [
    "- the contents of the collection must be the exact same before and after the sorting process so the number of distinct elements in the collection and the frequency at which they occur must be constant before and after the sorting process but their relative ordering to one another is allowed to change [1]"
   ]
  },
  {
   "cell_type": "code",
   "execution_count": 1,
   "id": "solved-investigation",
   "metadata": {},
   "outputs": [],
   "source": [
    "exit()"
   ]
  },
  {
   "cell_type": "markdown",
   "id": "cubic-valuation",
   "metadata": {},
   "source": [
    "< [Table of Contents](#top) | [References](#references) >\n",
    "<a id=\"Ordering\"></a>\n",
    "### Ordering\n",
    "***"
   ]
  },
  {
   "cell_type": "markdown",
   "id": "ideal-remove",
   "metadata": {},
   "source": [
    "- a sorted collection is one in which every element is less than or equal to its successor [1]"
   ]
  },
  {
   "cell_type": "markdown",
   "id": "important-words",
   "metadata": {},
   "source": [
    "- leads to the question how should the concept of less than be defined [1]"
   ]
  },
  {
   "cell_type": "markdown",
   "id": "filled-butterfly",
   "metadata": {},
   "source": [
    "- definition of less will depend on the: i) items in the collection; ii) types of items to be sorted and; iii) application domain in question [1]"
   ]
  },
  {
   "cell_type": "code",
   "execution_count": 1,
   "id": "sporting-struggle",
   "metadata": {},
   "outputs": [],
   "source": [
    "exit()"
   ]
  },
  {
   "cell_type": "markdown",
   "id": "israeli-sarah",
   "metadata": {},
   "source": [
    "< [Table of Contents](#top) | [References](#references) >\n",
    "<a id=\"Numerical\"></a>\n",
    "###### Numerical\n",
    "***"
   ]
  },
  {
   "cell_type": "markdown",
   "id": "coordinate-resolution",
   "metadata": {},
   "source": [
    "- defining the concept of less than when the items in a collection are numbers (integers or floating point values) is quite obvious [1]"
   ]
  },
  {
   "cell_type": "markdown",
   "id": "ambient-italy",
   "metadata": {},
   "source": [
    "- whether its numerical ordering in terms of increasing magnitude of numbers or numerical ordering in terms of decreasing values such situations still want numerical ordering [1]"
   ]
  },
  {
   "cell_type": "code",
   "execution_count": 1,
   "id": "ahead-tragedy",
   "metadata": {},
   "outputs": [],
   "source": [
    "exit()"
   ]
  },
  {
   "cell_type": "markdown",
   "id": "ordered-drove",
   "metadata": {},
   "source": [
    "< [Table of Contents](#top) | [References](#references) >\n",
    "<a id=\"Lexicographical\"></a>\n",
    "###### Lexicographical\n",
    "***"
   ]
  },
  {
   "cell_type": "markdown",
   "id": "genetic-suicide",
   "metadata": {},
   "source": [
    "- another very common example is the idea of ordering items in a dictionary (applicable if the items in question are either characters or strings or some collection of characters) [1]"
   ]
  },
  {
   "cell_type": "markdown",
   "id": "coupled-argument",
   "metadata": {},
   "source": [
    "- ordering words in a dictionary as well ordering characters which are not part of the English language is lexicographical ordering [1]"
   ]
  },
  {
   "cell_type": "markdown",
   "id": "compatible-timber",
   "metadata": {},
   "source": [
    "- such ordering is not forming words with ``!`` or ``&`` or ``*`` etc albeit all having a particular position defined relative to one another or a particular value which is less than or greater than defined in respect to one another [1]"
   ]
  },
  {
   "cell_type": "markdown",
   "id": "occupied-cheese",
   "metadata": {},
   "source": [
    "- lexicographical ordering could be the words: i) \"apple\"; ii) \"arrow\" and; iii) \"banana\" where \"apple\" is valued less than \"arrow\" and \"banana\" is valued to be greater than \"arrow\" [1]"
   ]
  },
  {
   "cell_type": "markdown",
   "id": "recovered-crossing",
   "metadata": {},
   "source": [
    "- so \"apple\" is less than \"arrow\" is less than \"banana\" [1]"
   ]
  },
  {
   "cell_type": "markdown",
   "id": "political-england",
   "metadata": {},
   "source": [
    "$$apple<arrow<banana$$"
   ]
  },
  {
   "cell_type": "markdown",
   "id": "driven-carrier",
   "metadata": {},
   "source": [
    "- could have custom ordering schemes which could include the problem of sorting different coloured objects [1]"
   ]
  },
  {
   "cell_type": "markdown",
   "id": "least-villa",
   "metadata": {},
   "source": [
    "- may have a specific order in which certain colours of items appear [1]"
   ]
  },
  {
   "cell_type": "markdown",
   "id": "driven-moses",
   "metadata": {},
   "source": [
    "- ordering the colours of a country flag (Dutch National Flag Problem - Dijkstra) whereby the colours are: i) \"red\"; ii) \"white\" and; iii) \"blue\" [1]"
   ]
  },
  {
   "cell_type": "markdown",
   "id": "average-university",
   "metadata": {},
   "source": [
    "![Flag-of-the-Netherlands](https://github.com/SeanOhAileasa/SeanOhAileasa/blob/master/img/cta/sorting/netherlands.png?raw=true)\n",
    "\n",
    "***(Image) Wikipedia, \"Flag of the Netherlands,\" [Wikipedia](https://web.archive.org/web/20210322084118/https://en.wikipedia.org/wiki/Flag_of_the_Netherlands), n.d..***"
   ]
  },
  {
   "cell_type": "markdown",
   "id": "advance-shakespeare",
   "metadata": {},
   "source": [
    "- elements that are coloured \"red\" might be less than elements which have the colour of \"white\" and \"white\" is also less than \"blue\" so \"white\" comes before \"blue\" in that case as well [1]"
   ]
  },
  {
   "cell_type": "markdown",
   "id": "amazing-consumer",
   "metadata": {},
   "source": [
    "$$red<white<blue$$"
   ]
  },
  {
   "cell_type": "code",
   "execution_count": 1,
   "id": "demanding-shannon",
   "metadata": {},
   "outputs": [],
   "source": [
    "exit()"
   ]
  },
  {
   "cell_type": "markdown",
   "id": "ranking-newton",
   "metadata": {},
   "source": [
    "< [Table of Contents](#top) | [References](#references) >\n",
    "<a id=\"Comparator-Function\"></a>\n",
    "###### Comparator Function\n",
    "***"
   ]
  },
  {
   "cell_type": "markdown",
   "id": "attached-batch",
   "metadata": {},
   "source": [
    "- some function whereby two elements are passed and returns answer: i) if element is less than another; ii) if element is equal to another or; iii) if element is greater than another [1]"
   ]
  },
  {
   "cell_type": "markdown",
   "id": "smaller-triumph",
   "metadata": {},
   "source": [
    "- comparator function ``fCompare`` takes two items (elements) from a collection as input ``A`` and ``B`` (same type of object in the same collection) [1]"
   ]
  },
  {
   "cell_type": "markdown",
   "id": "weird-pennsylvania",
   "metadata": {},
   "source": [
    "- returns ``-1`` if the element ``A`` is valued less than the element ``B`` therefore the element ``A`` should appear before the element ``B`` in the collection [1]"
   ]
  },
  {
   "cell_type": "markdown",
   "id": "dirty-elevation",
   "metadata": {},
   "source": [
    "$$if\\space a<b\\space then\\space -1$$"
   ]
  },
  {
   "cell_type": "markdown",
   "id": "august-manitoba",
   "metadata": {},
   "source": [
    "- returns ``0`` if the element ``A`` is considered equal to the element ``B`` therefore the elements ``A`` and ``B`` should appear alongside each other in a contiguous block as they are in fact considered equivalent according to the definition of the comparator function [1] "
   ]
  },
  {
   "cell_type": "markdown",
   "id": "perceived-learning",
   "metadata": {},
   "source": [
    "$$if\\space a=b\\space then\\space 0$$"
   ]
  },
  {
   "cell_type": "markdown",
   "id": "interracial-panic",
   "metadata": {},
   "source": [
    "- returns ``1`` if the element ``A`` is considered greater than the element ``B`` therefore the element ``A`` should appear after the element ``B`` in the sorted collection [1]"
   ]
  },
  {
   "cell_type": "markdown",
   "id": "conditional-impossible",
   "metadata": {},
   "source": [
    "$$if\\space a>b\\space then\\space 1$$"
   ]
  },
  {
   "cell_type": "markdown",
   "id": "tribal-alloy",
   "metadata": {},
   "source": [
    "- implementation of comparator functions relates back to the idea of having custom sorting schemes like ordering the colours of a country flag (Dutch National Flag Problem - Dijkstra) [1]"
   ]
  },
  {
   "cell_type": "markdown",
   "id": "respected-indie",
   "metadata": {},
   "source": [
    "- there exists sorting algorithms independent of the definition of less than [1]"
   ]
  },
  {
   "cell_type": "markdown",
   "id": "conceptual-agent",
   "metadata": {},
   "source": [
    "- such algorithms can have arbitrary definitions of less than or equal to or greater than for whatever type of data is to be sorted [1]"
   ]
  },
  {
   "cell_type": "markdown",
   "id": "qualified-disorder",
   "metadata": {},
   "source": [
    "- can apply a standard off-the-shelf sorting algorithm even if using some new definition of less than or equal to or greater than which has never been used before which may be specific to a dataset [1]"
   ]
  },
  {
   "cell_type": "markdown",
   "id": "armed-scanning",
   "metadata": {},
   "source": [
    "- need not actually be concerned about the specific details of the implementation of the comparator function which is going to be used when designing sorting algorithms [1]"
   ]
  },
  {
   "cell_type": "code",
   "execution_count": 1,
   "id": "becoming-zoning",
   "metadata": {},
   "outputs": [],
   "source": [
    "exit()"
   ]
  },
  {
   "cell_type": "markdown",
   "id": "lesbian-guarantee",
   "metadata": {},
   "source": [
    "< [Table of Contents](#top) | [References](#references) >\n",
    "<a id=\"Inversion\"></a>\n",
    "###### Inversion\n",
    "***"
   ]
  },
  {
   "cell_type": "markdown",
   "id": "constant-niagara",
   "metadata": {},
   "source": [
    "- an mportant concept in sorting problems is an inversion [1]"
   ]
  },
  {
   "cell_type": "markdown",
   "id": "current-stable",
   "metadata": {},
   "source": [
    "- important because the running time of certain sorting algorithms (Insertion Sort) are strongly related to the number of inversions that occur in the specific input instance [1]"
   ]
  },
  {
   "cell_type": "markdown",
   "id": "bright-charm",
   "metadata": {},
   "source": [
    "- the number of inversions in any collection of elements is a measure of how far it is from being sorted [1]"
   ]
  },
  {
   "cell_type": "markdown",
   "id": "rough-colony",
   "metadata": {},
   "source": [
    "- an inversion in any collection is an ordered pair of positions (``i`` and ``j``) such that ``i`` and ``j`` being two indices in the collection whereby the index ``i`` is greater than the element which appears at index ``j`` according to the definition in the comparator function [1]"
   ]
  },
  {
   "cell_type": "markdown",
   "id": "sophisticated-improvement",
   "metadata": {},
   "source": [
    "- the element at position ``i`` and ``j`` are out of order then an inversion means that the elements which appear at any two positions are out of order with respect to one another [1]"
   ]
  },
  {
   "cell_type": "markdown",
   "id": "compliant-appeal",
   "metadata": {},
   "source": [
    "$$i<j\\space but\\space A[i]>A[j]$$"
   ]
  },
  {
   "cell_type": "markdown",
   "id": "searching-venezuela",
   "metadata": {},
   "source": [
    "- ``[3,2,5]`` has just one inversion which correspond to the pair ``(3,2)`` and are said to be out of order with respect to one another [1]"
   ]
  },
  {
   "cell_type": "markdown",
   "id": "present-albuquerque",
   "metadata": {},
   "source": [
    "- ``[5,2,3]`` the same three numbers with the ordering changed has two inversions which correspond to the pairs ``(5,2)`` and ``(5,3)`` [1]"
   ]
  },
  {
   "cell_type": "markdown",
   "id": "subtle-preview",
   "metadata": {},
   "source": [
    "- ``[3,2,5,1]`` has four inversions which correspond to the pairs ``(3,2)`` and ``(5,1)`` and ``(3,1)`` and ``(2,1)`` [1]"
   ]
  },
  {
   "cell_type": "markdown",
   "id": "worthy-kitchen",
   "metadata": {},
   "source": [
    "$$[2,3,5,1]$$"
   ]
  },
  {
   "cell_type": "markdown",
   "id": "innovative-geometry",
   "metadata": {},
   "source": [
    "$$[2,3,1,5]$$"
   ]
  },
  {
   "cell_type": "markdown",
   "id": "dependent-spain",
   "metadata": {},
   "source": [
    "$$[2,1,3,5]$$"
   ]
  },
  {
   "cell_type": "markdown",
   "id": "complicated-intervention",
   "metadata": {},
   "source": [
    "$$[1,2,3,5]$$"
   ]
  },
  {
   "cell_type": "markdown",
   "id": "steady-difficulty",
   "metadata": {},
   "source": [
    "- concept continues on and can be applied to collections of any arbitrary size [1]"
   ]
  },
  {
   "cell_type": "code",
   "execution_count": 1,
   "id": "decreased-journey",
   "metadata": {},
   "outputs": [],
   "source": [
    "exit()"
   ]
  },
  {
   "cell_type": "markdown",
   "id": "organized-fraction",
   "metadata": {},
   "source": [
    "< [Table of Contents](#top) | [References](#references) >\n",
    "<a id=\"Comparison\"></a>\n",
    "### Comparison\n",
    "***"
   ]
  },
  {
   "cell_type": "markdown",
   "id": "suspected-coast",
   "metadata": {},
   "source": [
    "- thus far introduced the concept of comparison (comparator) functions and the idea of sorting elements by comparing their relative values [1]"
   ]
  },
  {
   "cell_type": "markdown",
   "id": "legislative-moses",
   "metadata": {},
   "source": [
    "- comparison sorts are a specific class of sorting algorithm [1]"
   ]
  },
  {
   "cell_type": "markdown",
   "id": "wanted-nickname",
   "metadata": {},
   "source": [
    "- uses comparison operations only to determine which of two elements should appear first in a sorted list based on some comparator function [1]"
   ]
  },
  {
   "cell_type": "markdown",
   "id": "understanding-hunger",
   "metadata": {},
   "source": [
    "- a comparator function with two inputs ``A`` and ``B`` will determine whether element ``A`` is valued greater than or equal to or less than element ``B`` [1]"
   ]
  },
  {
   "cell_type": "markdown",
   "id": "selected-leeds",
   "metadata": {},
   "source": [
    "- sorting algorithms which work primarily or solely by this type of comparison operation between any two elements in a collection is called comparison-based [1]"
   ]
  },
  {
   "cell_type": "markdown",
   "id": "curious-peninsula",
   "metadata": {},
   "source": [
    "- many well known sorting algorithms incorporate gaining information about the total order by comparing a pair of elements at a time using the order relation $\\leq$ [1]"
   ]
  },
  {
   "cell_type": "markdown",
   "id": "after-explanation",
   "metadata": {},
   "source": [
    "- Bubble Sort; Insertion Sort; Selection Sort; Merge Sort; Quicksort and; Heap Sort all fall into this category of comparison-based sorting algorithms [1]"
   ]
  },
  {
   "cell_type": "markdown",
   "id": "painted-transaction",
   "metadata": {},
   "source": [
    "- comparison-based sorts are probably the most widely applicable to diverse types of input data and are broadly applicable to any specific type of data required to sort [1]"
   ]
  },
  {
   "cell_type": "markdown",
   "id": "relative-coffee",
   "metadata": {},
   "source": [
    "- fundamental to comparison-based sorting algorithms is that no algorithm which starts by comparing elements can do better than $n\\space log\\space n$ performance in the average or in the worst case [1]"
   ]
  },
  {
   "cell_type": "code",
   "execution_count": 1,
   "id": "changed-wagon",
   "metadata": {},
   "outputs": [],
   "source": [
    "exit()"
   ]
  },
  {
   "cell_type": "markdown",
   "id": "caring-prior",
   "metadata": {},
   "source": [
    "< [Table of Contents](#top) | [References](#references) >\n",
    "<a id=\"Non-Comparison\"></a>\n",
    "###### Non-Comparison\n",
    "***"
   ]
  },
  {
   "cell_type": "markdown",
   "id": "limiting-webmaster",
   "metadata": {},
   "source": [
    "- a limiting factor in terms of how efficient or how quickly comparison-based sorting algorithms (comparing the relative values of any two different elements which appear in a collection) such as Bubble Sort or Insertion Sort or Selection Sort or Merge Sort or Quicksort or Heap Sort can perform has being proven mathematical not to do better than $n\\space log\\space n$ performance in the average or in the worst case [1]"
   ]
  },
  {
   "cell_type": "markdown",
   "id": "solar-script",
   "metadata": {},
   "source": [
    "- there is an exception when considering sorting algorithms which are non-comparison-based whereby under some special conditions which relate to the types of values that are going to be sorted or the classes of input data which are going to be used then it is possible to design non-comparison-based sorting algorithms which have better worst case times that the $n\\space log\\space  n$ limit and this being the upper bound on possible performance for comparison-based sorting algorithms [1]"
   ]
  },
  {
   "cell_type": "markdown",
   "id": "south-literature",
   "metadata": {},
   "source": [
    "- non-comparison-based sorting algorithms which have better worst case times include Bucket Sort and Counting Sort and Radix Sort [1]"
   ]
  },
  {
   "cell_type": "code",
   "execution_count": 1,
   "id": "caroline-verification",
   "metadata": {},
   "outputs": [],
   "source": [
    "exit()"
   ]
  },
  {
   "cell_type": "markdown",
   "id": "controlled-valve",
   "metadata": {},
   "source": [
    "< [Table of Contents](#top) | [References](#references) >\n",
    "<a id=\"Sort-Key-Satellite-Data\"></a>\n",
    "### Sort Key and Satellite Data\n",
    "***"
   ]
  },
  {
   "cell_type": "markdown",
   "id": "substantial-initial",
   "metadata": {},
   "source": [
    "- the sort key is the information which is used to make comparisons when sorting [1]"
   ]
  },
  {
   "cell_type": "markdown",
   "id": "worst-infection",
   "metadata": {},
   "source": [
    "- the elements to sort would normally also have some satellite data for any type of real world application or dealing with complex datasets or with collections of custom objects [1]"
   ]
  },
  {
   "cell_type": "markdown",
   "id": "bottom-handling",
   "metadata": {},
   "source": [
    "- satellite data is all the information which is associated with a specific sort key and therefore should travel when the element is moved to a new position in the collection [1]"
   ]
  },
  {
   "cell_type": "markdown",
   "id": "dutch-scout",
   "metadata": {},
   "source": [
    "- organising books on a bookshelf by the author name then the sort key would be the author name and the book itself (actual contents of the book) is the satellite data [1]"
   ]
  },
  {
   "cell_type": "markdown",
   "id": "apart-abraham",
   "metadata": {},
   "source": [
    "- when organising books on a bookshelf it is not enough to just have labels which represent the name of each book and get those ordered in the correct order - also want to move the satellite data into the right place as well (being the actual book) [1]"
   ]
  },
  {
   "cell_type": "markdown",
   "id": "specific-ferry",
   "metadata": {},
   "source": [
    "- organising the entire book and not just the label in the correct order so that it can be retrieved easily later on [1]"
   ]
  },
  {
   "cell_type": "markdown",
   "id": "higher-advocacy",
   "metadata": {},
   "source": [
    "- the sort key of a web search engine would be the relevance (or maybe a relevance score) which is just some number that represents how relevant a specific webpage is to a input query string [1]"
   ]
  },
  {
   "cell_type": "markdown",
   "id": "alive-finnish",
   "metadata": {},
   "source": [
    "- so if the sort key is the relevant score of the webpage to the query string then the satellite data would be everything that the search engine has stored about that specific webpage (could be the Uniform Resource Locator of that webpage along with whatever other data is stored by the search engine which could also include a summary of the web page) [1]"
   ]
  },
  {
   "cell_type": "markdown",
   "id": "addressed-break",
   "metadata": {},
   "source": [
    "- in the context of the GMIT Computational Thinking and Algorithms module for the sake of simplicity and to make explanations easier only going to look at collections of integers (analogously to sorting using the sort key only without any satellite data) [1]"
   ]
  },
  {
   "cell_type": "markdown",
   "id": "executive-throat",
   "metadata": {},
   "source": [
    "- the exact same principles would apply when sorting any other type of data other than integers [1]"
   ]
  },
  {
   "cell_type": "markdown",
   "id": "linear-wilderness",
   "metadata": {},
   "source": [
    "- the same exact principles will apply to any complex objects to sort and/or wanting to sort by a certain criteria but must be sure (like with the bookshelf example) that the satellite data is moved into the right position as well (or that some pointer to the satellite position is maintained) [1]"
   ]
  },
  {
   "cell_type": "code",
   "execution_count": 1,
   "id": "heavy-slovak",
   "metadata": {},
   "outputs": [],
   "source": [
    "exit()"
   ]
  },
  {
   "cell_type": "markdown",
   "id": "cleared-living",
   "metadata": {},
   "source": [
    "< [Table of Contents](#top) | [References](#references) >\n",
    "<a id=\"Properties\"></a>\n",
    "### Properties\n",
    "***"
   ]
  },
  {
   "cell_type": "markdown",
   "id": "superior-freight",
   "metadata": {},
   "source": [
    "- desirable properties (criteria) may use to judge a sorting algorithm and the suitability for a particular problem: i) Stability; ii) Run Time Efficiency; iii) In-Place; iv) Suitability [1]"
   ]
  },
  {
   "cell_type": "code",
   "execution_count": 1,
   "id": "stuck-stranger",
   "metadata": {},
   "outputs": [],
   "source": [
    "exit()"
   ]
  },
  {
   "cell_type": "markdown",
   "id": "coastal-threshold",
   "metadata": {},
   "source": [
    "< [Table of Contents](#top) | [References](#references) >\n",
    "<a id=\"Stability\"></a>\n",
    "###### Stability\n",
    "***"
   ]
  },
  {
   "cell_type": "markdown",
   "id": "spatial-table",
   "metadata": {},
   "source": [
    "- preserving the order of already sorted input [1]"
   ]
  },
  {
   "cell_type": "markdown",
   "id": "refined-insured",
   "metadata": {},
   "source": [
    "- a comparator function takes two elements as input ``A`` and ``B`` and decides whether the elements are: i) less than; ii) greater than; iii) equal to (determines relationship between two elements in the original unordered collection) [1]"
   ]
  },
  {
   "cell_type": "markdown",
   "id": "palestinian-police",
   "metadata": {},
   "source": [
    "- if the comparator function determines that two input elements are equal then it may be important to maintain the relative ordering in the sorted set [1]"
   ]
  },
  {
   "cell_type": "markdown",
   "id": "nasty-journey",
   "metadata": {},
   "source": [
    "- the term stability means that after a sorting operation occurs the relative ordering of elements which are considered equal in the input instance is preserved [1]"
   ]
  },
  {
   "cell_type": "markdown",
   "id": "unavailable-species",
   "metadata": {},
   "source": [
    "- if the element ``A[i]`` is to the left of the element ``A[j]`` in the initial distribution and if they have the same exact value according to the comparator function then that relationship should be preserved after sorting [1]"
   ]
  },
  {
   "cell_type": "markdown",
   "id": "sorted-airport",
   "metadata": {},
   "source": [
    "- the final location for ``A[i]`` must be to the left of the final location for ``A[j]`` [1]"
   ]
  },
  {
   "cell_type": "markdown",
   "id": "atmospheric-demonstration",
   "metadata": {},
   "source": [
    "- sorting algorithms which maintain/guarantee this property are referred to as stable [1]"
   ]
  },
  {
   "cell_type": "markdown",
   "id": "three-workstation",
   "metadata": {},
   "source": [
    "- conversely an unstable sorting algorithm is one which does not preserve this property (relative ordering of elements which have the same value) [1]"
   ]
  },
  {
   "cell_type": "markdown",
   "id": "practical-wildlife",
   "metadata": {},
   "source": [
    "- using an unstable sorting algorithm means that sorting a collection which is already sorted may result in the ordering of elements which are considered to be equivalent could actually be altered (may or may not be an issue - depends on the specific application) [1]"
   ]
  },
  {
   "cell_type": "code",
   "execution_count": 1,
   "id": "dangerous-cemetery",
   "metadata": {},
   "outputs": [],
   "source": [
    "exit()"
   ]
  },
  {
   "cell_type": "markdown",
   "id": "tamil-connecticut",
   "metadata": {},
   "source": [
    "< [Table of Contents](#top) | [References](#references) >\n",
    "<a id=\"Flight-Information\"></a>\n",
    "###### Flight Information\n",
    "***"
   ]
  },
  {
   "cell_type": "markdown",
   "id": "weekly-facial",
   "metadata": {},
   "source": [
    "- entries sorted in terms of departure time: i) destination; ii) airline; iii) flight number and; iv) departure time [1]"
   ]
  },
  {
   "cell_type": "markdown",
   "id": "latin-stamp",
   "metadata": {},
   "source": [
    "- departure time ascending flight number 872 at 11:15am appears before flight number 28 at 12pm [1]"
   ]
  },
  {
   "cell_type": "markdown",
   "id": "composite-haiti",
   "metadata": {},
   "source": [
    "![Flight-Sort-Departure-Time](https://github.com/SeanOhAileasa/SeanOhAileasa/blob/master/img/cta/sorting/flight-sort-departure-time.png?raw=true)\n",
    "\n",
    "***(Image) P. Mannion, \"07 Sorting Algorithms Part 1,\" GMIT, November 2017.***"
   ]
  },
  {
   "cell_type": "markdown",
   "id": "dangerous-vacuum",
   "metadata": {},
   "source": [
    "- the departure time is the sort key and i) destination; ii) airline and; ii) flight have become the satellite data [1]"
   ]
  },
  {
   "cell_type": "markdown",
   "id": "clear-plaintiff",
   "metadata": {},
   "source": [
    "- entries sorted in terms of the destination ascending instead of the departure time ascending will notice that the ordering of the elements has changed (x4 departures to Atlanta) [1]"
   ]
  },
  {
   "cell_type": "markdown",
   "id": "decent-genealogy",
   "metadata": {},
   "source": [
    "![Flight-Sort-Destination](https://github.com/SeanOhAileasa/SeanOhAileasa/blob/master/img/cta/sorting/flight-sort-destination.png?raw=true)\n",
    "\n",
    "***(Image) P. Mannion, \"07 Sorting Algorithms Part 1,\" GMIT, November 2017.***"
   ]
  },
  {
   "cell_type": "markdown",
   "id": "theoretical-serial",
   "metadata": {},
   "source": [
    "- after a stable sort of the data and deciding to sort on some other criteria instead (destination ascending) the two elements which have the Atlanta destination (flight number 872 and 28) appear in the same ordering [1]"
   ]
  },
  {
   "cell_type": "markdown",
   "id": "straight-ticket",
   "metadata": {},
   "source": [
    "- the relative position of these two elements (Atlanta - flight number 872 and 28) has not been changed even though they are considered to be equal [1]"
   ]
  },
  {
   "cell_type": "markdown",
   "id": "streaming-biodiversity",
   "metadata": {},
   "source": [
    "- there is no guarantee that an unstable sorting algorithm would appear in the same order as they appear in the sort by departure time table and this is the issue with unstable sorting algorithms [1]"
   ]
  },
  {
   "cell_type": "markdown",
   "id": "athletic-march",
   "metadata": {},
   "source": [
    "- an unstable sorting algorithm actually pays no attention to the relationships between the element locations in the original collection and it may or may not maintain the relative ordering [1]"
   ]
  },
  {
   "cell_type": "code",
   "execution_count": 1,
   "id": "hearing-double",
   "metadata": {},
   "outputs": [],
   "source": [
    "exit()"
   ]
  },
  {
   "cell_type": "markdown",
   "id": "metropolitan-kitty",
   "metadata": {},
   "source": [
    "< [Table of Contents](#top) | [References](#references) >\n",
    "<a id=\"Run-Time-Efficiency\"></a>\n",
    "###### Run Time Efficiency\n",
    "***"
   ]
  },
  {
   "cell_type": "markdown",
   "id": "infinite-wings",
   "metadata": {},
   "source": [
    "- the algorithm which is sorting the data will run at an acceptable amount of time [1]"
   ]
  },
  {
   "cell_type": "markdown",
   "id": "north-utility",
   "metadata": {},
   "source": [
    "- acceptable may also depend on the size of the dataset and how quickly it needs to be sorted etc [1]"
   ]
  },
  {
   "cell_type": "markdown",
   "id": "knowing-testing",
   "metadata": {},
   "source": [
    "- need to have some notion of having good runtime efficiency [1]"
   ]
  },
  {
   "cell_type": "markdown",
   "id": "hollow-sacramento",
   "metadata": {},
   "source": [
    "- may be concerned specifically about the best case or the average case or the worst case or might want to consider all of them in aggregate or give different weightings to them [1]"
   ]
  },
  {
   "cell_type": "code",
   "execution_count": 1,
   "id": "victorian-neighbor",
   "metadata": {},
   "outputs": [],
   "source": [
    "exit()"
   ]
  },
  {
   "cell_type": "markdown",
   "id": "manual-agreement",
   "metadata": {},
   "source": [
    "< [Table of Contents](#top) | [References](#references) >\n",
    "<a id=\"In-Place\"></a>\n",
    "###### In-Place\n",
    "***"
   ]
  },
  {
   "cell_type": "markdown",
   "id": "actual-chart",
   "metadata": {},
   "source": [
    "- if memory requirements are a concern [1]"
   ]
  },
  {
   "cell_type": "code",
   "execution_count": 1,
   "id": "generic-multiple",
   "metadata": {},
   "outputs": [],
   "source": [
    "exit()"
   ]
  },
  {
   "cell_type": "markdown",
   "id": "olive-prophet",
   "metadata": {},
   "source": [
    "< [Table of Contents](#top) | [References](#references) >\n",
    "<a id=\"Suitability\"></a>\n",
    "###### Suitability\n",
    "***"
   ]
  },
  {
   "cell_type": "markdown",
   "id": "educational-joint",
   "metadata": {},
   "source": [
    "- taking all in aggregate need to consider also the suitability or the properties of any specific sorting algorithm [1]"
   ]
  },
  {
   "cell_type": "markdown",
   "id": "crucial-acrobat",
   "metadata": {},
   "source": [
    "- consider whether that algorithm is well matched to the class of input instances (type of input data expected) to receive or expecting to operate on [1]"
   ]
  },
  {
   "cell_type": "markdown",
   "id": "apart-keyboard",
   "metadata": {},
   "source": [
    "- should consider when selecting a sorting algorithm the specific strengths and weaknesses which are unique to that sorting algorithm and perhaps this will give reasons to use one type of sorting algorithm in a certain class of problem and a different type of sorting algorithm in another class of problem [1]"
   ]
  },
  {
   "cell_type": "code",
   "execution_count": 1,
   "id": "spectacular-society",
   "metadata": {},
   "outputs": [],
   "source": [
    "exit()"
   ]
  },
  {
   "cell_type": "markdown",
   "id": "harmful-fifth",
   "metadata": {},
   "source": [
    "<!-- print(fGetModuleType(___x___),fDocumentation(___x___)) -->\n",
    "***\n",
    "## END"
   ]
  },
  {
   "cell_type": "markdown",
   "id": "respective-queensland",
   "metadata": {},
   "source": [
    "< [Table of Contents](#top) | [Abstract](#abstract) | [Introduction](#introduction) | [Conclusion](#conclusion) | [References](#references) >\n",
    "<a id=\"solution\"></a>\n",
    "***\n",
    "## Solution\n",
    "***"
   ]
  },
  {
   "cell_type": "markdown",
   "id": "roman-poetry",
   "metadata": {},
   "source": [
    "&#x1F6A7;"
   ]
  },
  {
   "cell_type": "markdown",
   "id": "loved-quilt",
   "metadata": {},
   "source": [
    "<!-- - refer [Appendix](#appendix-df) to view the full dataset <a id=\"go-back-df\"></a> -->\n",
    "<!-- print(fGetModuleType(___x___),fDocumentation(___x___)) -->\n",
    "***\n",
    "## END"
   ]
  },
  {
   "cell_type": "markdown",
   "id": "chubby-minute",
   "metadata": {},
   "source": [
    "< [Table of Contents](#top) | [Abstract](#abstract) | [Introduction](#introduction) | [Solution](#solution) | [References](#references) >\n",
    "<a id=\"conclusion\"></a>\n",
    "***\n",
    "## Conclusion\n",
    "***"
   ]
  },
  {
   "cell_type": "markdown",
   "id": "opposed-console",
   "metadata": {},
   "source": [
    "&#x1F6A7;"
   ]
  },
  {
   "cell_type": "markdown",
   "id": "collect-muscle",
   "metadata": {},
   "source": [
    "<!-- print(fGetModuleType(___x___),fDocumentation(___x___)) -->\n",
    "***\n",
    "## END"
   ]
  },
  {
   "cell_type": "markdown",
   "id": "qualified-chemical",
   "metadata": {},
   "source": [
    "< [Table of Contents](#top) | [Abstract](#abstract) | [Introduction](#introduction) | [Solution](#solution) | [Conclusion](#conclusion) | [References](#references) >\n",
    "<a id=\"references\"></a>\n",
    "***\n",
    "## References\n",
    "***\n",
    "&nbsp;&nbsp;&nbsp;&nbsp;&nbsp;&nbsp;&nbsp;&nbsp;&nbsp;[1] P. Mannion, \"07 Sorting Algorithms Part 1,\" GMIT, November 2017.\n",
    "\n",
    "&nbsp;&nbsp;&nbsp;&nbsp;&nbsp;&nbsp;&nbsp;&nbsp;&nbsp;[2] P. Mannion, \"08 Sorting Algorithms Part 2,\" GMIT, November 2017.\n",
    "\n",
    "&nbsp;&nbsp;&nbsp;&nbsp;&nbsp;&nbsp;&nbsp;&nbsp;&nbsp;[3] P. Mannion, \"09 Sorting Algorithms Part 3,\" GMIT, November 2017."
   ]
  },
  {
   "cell_type": "markdown",
   "id": "silent-moore",
   "metadata": {},
   "source": [
    "***\n",
    "## END"
   ]
  },
  {
   "cell_type": "markdown",
   "id": "velvet-monkey",
   "metadata": {},
   "source": [
    "< [Table of Contents](#top) | [Abstract](#abstract) | [Introduction](#introduction) | [Solution](#solution) | [Conclusion](#conclusion) | [References](#references) >\n",
    "<a id=\"appendix\"></a>\n",
    "***\n",
    "## Appendix\n",
    "***"
   ]
  },
  {
   "cell_type": "markdown",
   "id": "parallel-lotus",
   "metadata": {},
   "source": [
    "<a id=\"appendix-some-reference\"></a>\n",
    "< [Go Back](#top) >"
   ]
  },
  {
   "cell_type": "markdown",
   "id": "unlimited-court",
   "metadata": {},
   "source": [
    "###### Github\n",
    "***"
   ]
  },
  {
   "cell_type": "markdown",
   "id": "protective-wheat",
   "metadata": {},
   "source": [
    "```\n",
    "git push -f origin HEAD^:master && git reset HEAD~\n",
    "```"
   ]
  },
  {
   "cell_type": "markdown",
   "id": "sealed-event",
   "metadata": {},
   "source": [
    "###### Functions\n",
    "***"
   ]
  },
  {
   "cell_type": "code",
   "execution_count": 1,
   "id": "illegal-particular",
   "metadata": {},
   "outputs": [
    {
     "name": "stdout",
     "output_type": "stream",
     "text": [
      "# repository ./OhAileasa\r\n",
      "def fFullScreen():\r\n",
      "\t\"\"\"Utilise full Jupyter notebook screen.\r\n",
      "\r\n",
      "Input:\r\n",
      "Process: (IPython.core.display.display; IPython.core.display.HTML)\r\n",
      "Output:\r\n",
      "\"\"\"\r\n",
      "\tfrom IPython.core.display import display,HTML\r\n",
      "\tdisplay(HTML(\"<style>.container { width:100% !important; }</style>\"))\r\n",
      "# --- END ---\r\n"
     ]
    }
   ],
   "source": [
    "%%script bash\n",
    "grep -1 \"def fFullScreen\" ../src/fubar.py -A 9"
   ]
  },
  {
   "cell_type": "markdown",
   "id": "pretty-demographic",
   "metadata": {},
   "source": [
    "```python\n",
    "# %%writefile -a ../src/fubar.py\n",
    "# repository ./fubar-python\n",
    "def f():\n",
    "    \"\"\"\n",
    "\n",
    "Input:\n",
    "Process:\n",
    "Output:\n",
    "\"\"\"\n",
    "    pass\n",
    "# -- END ---\n",
    "```"
   ]
  },
  {
   "cell_type": "markdown",
   "id": "turned-fruit",
   "metadata": {},
   "source": [
    "###### Images\n",
    "***"
   ]
  },
  {
   "cell_type": "markdown",
   "id": "digital-optimum",
   "metadata": {},
   "source": [
    "![gumball](https://github.com/SeanOhAileasa/SeanOhAileasa/blob/master/img/cta/analysing/gumball.png?raw=true)\n",
    "\n",
    "***(Image) P. Mannion, \"03 Analysing Algorithms Part 1,\" GMIT, October 2017.***"
   ]
  },
  {
   "cell_type": "markdown",
   "id": "simplified-scratch",
   "metadata": {},
   "source": [
    "###### Tables\n",
    "***"
   ]
  },
  {
   "cell_type": "markdown",
   "id": "fuzzy-nursing",
   "metadata": {},
   "source": [
    "|aaa|bbbbbb|ccccccccc|\n",
    "|:------------------------- | :------------------------- | :------------------------- |\n",
    "|aaa|bbbbbb|ccccccccc|"
   ]
  },
  {
   "cell_type": "markdown",
   "id": "smaller-special",
   "metadata": {},
   "source": [
    "***\n",
    "## END"
   ]
  },
  {
   "cell_type": "markdown",
   "id": "isolated-vaccine",
   "metadata": {},
   "source": [
    "# END JUPYTER NOTEBOOK"
   ]
  }
 ],
 "metadata": {
  "kernelspec": {
   "display_name": "Python 3",
   "language": "python",
   "name": "python3"
  },
  "language_info": {
   "codemirror_mode": {
    "name": "ipython",
    "version": 3
   },
   "file_extension": ".py",
   "mimetype": "text/x-python",
   "name": "python",
   "nbconvert_exporter": "python",
   "pygments_lexer": "ipython3",
   "version": "3.8.3"
  }
 },
 "nbformat": 4,
 "nbformat_minor": 5
}
