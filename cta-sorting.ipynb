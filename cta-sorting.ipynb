{
 "cells": [
  {
   "cell_type": "code",
   "execution_count": null,
   "id": "alpha-suspension",
   "metadata": {},
   "outputs": [
    {
     "data": {
      "text/html": [
       "<script>Jupyter.notebook.kernel.restart()</script>"
      ]
     },
     "metadata": {},
     "output_type": "display_data"
    }
   ],
   "source": [
    "from IPython.core.display import display_html\n",
    "display_html(\"<script>Jupyter.notebook.kernel.restart()</script>\",raw=True)"
   ]
  },
  {
   "cell_type": "code",
   "execution_count": 1,
   "id": "effective-calculator",
   "metadata": {},
   "outputs": [
    {
     "data": {
      "text/html": [
       "<style>.container { width:100% !important; }</style>"
      ],
      "text/plain": [
       "<IPython.core.display.HTML object>"
      ]
     },
     "metadata": {},
     "output_type": "display_data"
    },
    {
     "data": {
      "text/html": [
       "<style>.container { width:100% !important; }</style>"
      ],
      "text/plain": [
       "<IPython.core.display.HTML object>"
      ]
     },
     "metadata": {},
     "output_type": "display_data"
    }
   ],
   "source": [
    "from sys import path; path.insert(1,\"../src\");\n",
    "import fubar; from importlib import reload; reload(fubar);"
   ]
  },
  {
   "cell_type": "markdown",
   "id": "earned-straight",
   "metadata": {},
   "source": [
    "***\n",
    "< [GMIT Data Analytics](https://web.archive.org/web/20201029063153/https://www.gmit.ie/computer-science-and-applied-physics/higher-diploma-science-computing-data-analytics-ict) | [Home](https://github.com/SeanOhAileasa) | [README](https://github.com/SeanOhAileasa/cta-sorting/blob/main/README.md) >\n",
    "\n",
    "[![GMIT](https://github.com/SeanOhAileasa/SeanOhAileasa/blob/master/img/gmit.png?raw=true)](https://web.archive.org/web/20201029063153/https://www.gmit.ie/computer-science-and-applied-physics/higher-diploma-science-computing-data-analytics-ict)\n",
    "\n",
    "<!--\n",
    "Computational Thinking with Algorithms\n",
    "\n",
    "Applied Databases\n",
    "\n",
    "Programming for Data Analysis\n",
    "\n",
    "Fundamentals of Data Analysis\n",
    "-->\n",
    "\n",
    "## Computational Thinking with Algorithms - Course Material 2021\n",
    "### Topic: [Sorting](https://nbviewer.jupyter.org/github/SeanOhAileasa/cta-sorting/blob/main/cta-sorting.ipynb)\n",
    "\n",
    "***"
   ]
  },
  {
   "cell_type": "markdown",
   "id": "medium-pavilion",
   "metadata": {},
   "source": [
    "Course material for the ``Computational Thinking with Algorithms`` module (5 Credits) of the ``Higher Diploma in Science in Computing (Data Analytics) (H.Dip)`` programme (75 Credits) at **Galway-Mayo Institute of Technology (GMIT)**."
   ]
  },
  {
   "cell_type": "code",
   "execution_count": 2,
   "id": "strong-drain",
   "metadata": {},
   "outputs": [],
   "source": [
    "exit()"
   ]
  },
  {
   "cell_type": "code",
   "execution_count": 1,
   "id": "palestinian-command",
   "metadata": {
    "scrolled": false
   },
   "outputs": [
    {
     "data": {
      "text/html": [
       "<video src=\"./hide/07-sorting-algorithms-part-1-06-11-2017.mp4\" controls  width=\"800\"  height=\"400\">\n",
       "      Your browser does not support the <code>video</code> element.\n",
       "    </video>"
      ],
      "text/plain": [
       "<IPython.core.display.Video object>"
      ]
     },
     "execution_count": 1,
     "metadata": {},
     "output_type": "execute_result"
    }
   ],
   "source": [
    "from IPython.display import Video; Video(\"./hide/07-sorting-algorithms-part-1-06-11-2017.mp4\",width=800,height=400)"
   ]
  },
  {
   "cell_type": "code",
   "execution_count": 2,
   "id": "colored-vintage",
   "metadata": {},
   "outputs": [],
   "source": [
    "# from IPython.display import IFrame; IFrame(\"./hide/07-sorting-algorithms-part-1-06-11-2017.pdf\",width=800,height=400)"
   ]
  },
  {
   "cell_type": "code",
   "execution_count": 3,
   "id": "tribal-relation",
   "metadata": {},
   "outputs": [
    {
     "data": {
      "text/html": [
       "<video src=\"./hide/08-sorting-algorithms-part-2-11-11-2017.mp4\" controls  width=\"800\"  height=\"400\">\n",
       "      Your browser does not support the <code>video</code> element.\n",
       "    </video>"
      ],
      "text/plain": [
       "<IPython.core.display.Video object>"
      ]
     },
     "execution_count": 3,
     "metadata": {},
     "output_type": "execute_result"
    }
   ],
   "source": [
    "from IPython.display import Video; Video(\"./hide/08-sorting-algorithms-part-2-11-11-2017.mp4\",width=800,height=400)"
   ]
  },
  {
   "cell_type": "code",
   "execution_count": 4,
   "id": "quick-scale",
   "metadata": {},
   "outputs": [],
   "source": [
    "# from IPython.display import IFrame; IFrame(\"./hide/08-sorting-algorithms-part-2-11-11-2017.pdf\",width=800,height=400)"
   ]
  },
  {
   "cell_type": "code",
   "execution_count": 5,
   "id": "vocal-tenant",
   "metadata": {},
   "outputs": [
    {
     "data": {
      "text/html": [
       "<video src=\"./hide/09-sorting-algorithms-part-3-19-11-2017.mp4\" controls  width=\"800\"  height=\"400\">\n",
       "      Your browser does not support the <code>video</code> element.\n",
       "    </video>"
      ],
      "text/plain": [
       "<IPython.core.display.Video object>"
      ]
     },
     "execution_count": 5,
     "metadata": {},
     "output_type": "execute_result"
    }
   ],
   "source": [
    "from IPython.display import Video; Video(\"./hide/09-sorting-algorithms-part-3-19-11-2017.mp4\",width=800,height=400)"
   ]
  },
  {
   "cell_type": "code",
   "execution_count": 6,
   "id": "elder-supplier",
   "metadata": {},
   "outputs": [],
   "source": [
    "# from IPython.display import IFrame; IFrame(\"./hide/09-sorting-algorithms-part-3-19-11-2017.pdf\",width=800,height=400)"
   ]
  },
  {
   "cell_type": "code",
   "execution_count": 7,
   "id": "chicken-boxing",
   "metadata": {},
   "outputs": [],
   "source": [
    "exit()"
   ]
  },
  {
   "cell_type": "markdown",
   "id": "arabic-respondent",
   "metadata": {},
   "source": [
    "<a id=\"top\"></a>\n",
    "***\n",
    "## Table of Contents\n",
    "***\n",
    "\n",
    "## [Abstract](#abstract)\n",
    "\n",
    "- &#x1F6A7;\n",
    "\n",
    "## [Introduction](#introduction)\n",
    "\n",
    "* [Sorting](#Sorting)\n",
    "    * [Search](#Search)\n",
    "    * [Duplicates](#Duplicates)\n",
    "    * [Frequency](#Frequency)\n",
    "    * [Order Statistics](#Order-Statistics)\n",
    "    * [Preprocessing](#Preprocessing)\n",
    "    * [Real World](#Real-World)\n",
    "    \n",
    "* [Conditions](#Conditions)\n",
    "\t* [Contiguous](#Contiguous)\n",
    "    \n",
    "* [Ordering](#Ordering)\n",
    "\t* [Numerical](#Numerical)\n",
    "\t* [Lexicographical](#Lexicographical)\n",
    "    \n",
    "* [Comparator Function](#Comparator-Function)\n",
    "\t* [Inversion](#Inversion)\n",
    "    \n",
    "* [Comparison](#Comparison)\n",
    "    * [Bubble Sort](#Bubble-Sort)\n",
    "        * [Procedure](#Procedure)\n",
    "    * [Selection Sort](#Selection-Sort)\n",
    "    * [Insertion Sort](#Insertion-Sort)\n",
    "    * [Merge Sort](#Merge-Sort)\n",
    "    * [Quicksort](#Quicksort)\n",
    "    * [Heapsort](#Heapsort)\n",
    "    * [Smoothsort](#Smoothsort)\n",
    "    * [Shellsort](#Shellsort)\n",
    "    \n",
    "* [Non-Comparison](#Non-Comparison)\n",
    "    * [Counting Sort](#Counting-Sort)\n",
    "    * [Bucket Sort](#Bucket-Sort)\n",
    "    * [Radix Sort](#Radix-Sort)\n",
    "    \n",
    "* [Hybrid](#Hybrid)\n",
    "    * [Timsort](#Timsort)\n",
    "    * [Introsort](#Introsort)\n",
    "    \n",
    "* [Sort Key and Satellite Data](#Sort-Key-Satellite-Data)\n",
    "    \n",
    "* [Properties](#Properties) \n",
    "\t* [Stability](#Stability)\n",
    "\t\t* [Flight Information](#Flight-Information)\n",
    "\t* [Run Time Efficiency](#Run-Time-Efficiency)\n",
    "        * [Orders of Growth](#Orders-of-Growth)\n",
    "            * [Influencing Factors](#Influencing-Factors)\n",
    "\t* [In-Place](#In-Place)\n",
    "\t* [Suitability](#Suitability)\n",
    "\n",
    "## [Solution](#solution)\n",
    "\n",
    "* [Merge Sort](#Mergesort)\n",
    "* [Radix Sort](#Radix-Sort)\n",
    "* [Counting Sort](#Counting-Sort)\n",
    "* [Shell Sort](#Shell-Sort)\n",
    "* [Quicksort](#Quicksort)\n",
    "* [Heapsort](#Heapsort)\n",
    "* [Smoothsort](#Smoothsort)\n",
    "* [Introsort](#Introsort)\n",
    "* [Timsort](#Timsort)\n",
    "\n",
    "## [Conclusion](#conclusion)\n",
    "\n",
    "- &#x1F6A7;"
   ]
  },
  {
   "cell_type": "markdown",
   "id": "talented-cabin",
   "metadata": {},
   "source": [
    "***\n",
    "## END"
   ]
  },
  {
   "cell_type": "markdown",
   "id": "alternate-burst",
   "metadata": {},
   "source": [
    "< [Table of Contents](#top) | [Introduction](#introduction) | [Solution](#solution) | [Conclusion](#conclusion) | [References](#references) >\n",
    "<a id=\"abstract\"></a>\n",
    "***\n",
    "## Abstract\n",
    "***"
   ]
  },
  {
   "cell_type": "markdown",
   "id": "burning-garbage",
   "metadata": {},
   "source": [
    "&#x1F6A7;"
   ]
  },
  {
   "cell_type": "markdown",
   "id": "casual-boundary",
   "metadata": {},
   "source": [
    "<!-- print(fGetModuleType(___x___),fDocumentation(___x___)) -->\n",
    "***\n",
    "## END"
   ]
  },
  {
   "cell_type": "markdown",
   "id": "compressed-manufacturer",
   "metadata": {},
   "source": [
    "< [Table of Contents](#top) | [Abstract](#abstract) | [Solution](#solution) | [Conclusion](#conclusion) | [References](#references) >\n",
    "<a id=\"introduction\"></a>\n",
    "***\n",
    "## Introduction\n",
    "***"
   ]
  },
  {
   "cell_type": "markdown",
   "id": "scheduled-district",
   "metadata": {},
   "source": [
    "< [Table of Contents](#top) | [References](#references) >\n",
    "<a id=\"Sorting\"></a>\n",
    "### Sorting\n",
    "***"
   ]
  },
  {
   "cell_type": "markdown",
   "id": "elder-triangle",
   "metadata": {},
   "source": [
    "- definition of the term sorting is arranging a collection of items according to some predefined ordering rules [1]"
   ]
  },
  {
   "cell_type": "markdown",
   "id": "invalid-basket",
   "metadata": {},
   "source": [
    "- an array or list (hereafter called \"collection\") of items to order in the correct order is a sorting problem [1]"
   ]
  },
  {
   "cell_type": "markdown",
   "id": "recreational-houston",
   "metadata": {},
   "source": [
    "- it has been claimed in the past that as much as 25% of all CPU cycles worldwide are spent on sorting tasks (claim provides a great incentive to further study and optimise sorting algorithms) [1]"
   ]
  },
  {
   "cell_type": "markdown",
   "id": "higher-configuration",
   "metadata": {},
   "source": [
    "- given there is so much time spent on sorting regardless of whether the actual figure is 25% can take for granted that a large amount of CPU time worldwide is spent on sorting tasks and knowing this provides a great incentive to work on research and development of sorting algorithms [1]"
   ]
  },
  {
   "cell_type": "markdown",
   "id": "visible-substance",
   "metadata": {},
   "source": [
    "- knowing the considerations for most appropriate sorting algorithm for the specific task to accomplish it is upon system designers/computer scientists to know the different strengths and weaknesses of different sorting algorithms and to know in which specific situations or for which specific class of input instances should a certain type of sorting algorithm or a particular implementation be used [1]"
   ]
  },
  {
   "cell_type": "markdown",
   "id": "universal-garlic",
   "metadata": {},
   "source": [
    "- there are many interesting applications of sorting and many different sorting algorithms each of which have their own specific strengths and weaknesses [1]"
   ]
  },
  {
   "cell_type": "markdown",
   "id": "demonstrated-anaheim",
   "metadata": {},
   "source": [
    "- due to all of this and due to the importance of the sorting task the search for efficient sorting algorithms was a very important part of the early days of computing and computer science [1]"
   ]
  },
  {
   "cell_type": "markdown",
   "id": "focal-member",
   "metadata": {},
   "source": [
    "- numerous computations and tasks are in fact simplified or made a lot easier by first properly sorting the information in a collection in advance [1]"
   ]
  },
  {
   "cell_type": "code",
   "execution_count": 1,
   "id": "activated-limitation",
   "metadata": {},
   "outputs": [],
   "source": [
    "exit()"
   ]
  },
  {
   "cell_type": "markdown",
   "id": "oriental-hazard",
   "metadata": {},
   "source": [
    "< [Table of Contents](#top) | [References](#references) >\n",
    "<a id=\"Search\"></a>\n",
    "###### Search\n",
    "***"
   ]
  },
  {
   "cell_type": "markdown",
   "id": "israeli-federation",
   "metadata": {},
   "source": [
    "- considering the task of searching for a particular item in a collection of elements [1]"
   ]
  },
  {
   "cell_type": "markdown",
   "id": "occasional-slovenia",
   "metadata": {},
   "source": [
    "- if the collection is in order (sorted) then can apply different types of searching algorithms and probably find the particular item sought quicker [1]"
   ]
  },
  {
   "cell_type": "code",
   "execution_count": 1,
   "id": "prospective-logistics",
   "metadata": {},
   "outputs": [],
   "source": [
    "exit()"
   ]
  },
  {
   "cell_type": "markdown",
   "id": "selected-sheep",
   "metadata": {},
   "source": [
    "< [Table of Contents](#top) | [References](#references) >\n",
    "<a id=\"Duplicates\"></a>\n",
    "###### Duplicates\n",
    "***"
   ]
  },
  {
   "cell_type": "markdown",
   "id": "statewide-guide",
   "metadata": {},
   "source": [
    "- considering a collection of items and finding out whether any duplicate items exist in that collection [1]"
   ]
  },
  {
   "cell_type": "markdown",
   "id": "olive-juice",
   "metadata": {},
   "source": [
    "- task is easier if it is known that all duplicate items are going to appear in a contiguous block or they are all going to appear together [1]"
   ]
  },
  {
   "cell_type": "markdown",
   "id": "terminal-better",
   "metadata": {},
   "source": [
    "- if sorted in order of increasing magnitude then its a trivial task to go and actually count how many duplicates of those items exist [1]"
   ]
  },
  {
   "cell_type": "code",
   "execution_count": 1,
   "id": "complete-winner",
   "metadata": {},
   "outputs": [],
   "source": [
    "exit()"
   ]
  },
  {
   "cell_type": "markdown",
   "id": "damaged-monroe",
   "metadata": {},
   "source": [
    "< [Table of Contents](#top) | [References](#references) >\n",
    "<a id=\"Frequency\"></a>\n",
    "###### Frequency\n",
    "***"
   ]
  },
  {
   "cell_type": "markdown",
   "id": "experienced-sailing",
   "metadata": {},
   "source": [
    "- considering the frequency of any distinct items in a dataset [1]"
   ]
  },
  {
   "cell_type": "markdown",
   "id": "appointed-living",
   "metadata": {},
   "source": [
    "- creating a histogram to find the frequency of every distinct item in a collection could easily be done if the data is sorted because again like the problem of finding duplicate items it becomes a trivial task when all of the items which are valued equally appear in a contiguous block (appear beside each other) [1]"
   ]
  },
  {
   "cell_type": "code",
   "execution_count": 1,
   "id": "excess-healing",
   "metadata": {},
   "outputs": [],
   "source": [
    "exit()"
   ]
  },
  {
   "cell_type": "markdown",
   "id": "colonial-forty",
   "metadata": {},
   "source": [
    "< [Table of Contents](#top) | [References](#references) >\n",
    "<a id=\"Order-Statistics\"></a>\n",
    "###### Order Statistics\n",
    "***"
   ]
  },
  {
   "cell_type": "markdown",
   "id": "popular-participation",
   "metadata": {},
   "source": [
    "- another important application of sorting algorithms is to find the order statistics of a collection of data [1]"
   ]
  },
  {
   "cell_type": "markdown",
   "id": "parental-adult",
   "metadata": {},
   "source": [
    "- statistics are numbers essentially which tell something about a collection of data in aggregate [1]"
   ]
  },
  {
   "cell_type": "markdown",
   "id": "happy-excellence",
   "metadata": {},
   "source": [
    "- could be order statistics that relate to the range of the data such as the maximum and minimum [1]"
   ]
  },
  {
   "cell_type": "markdown",
   "id": "numerical-cable",
   "metadata": {},
   "source": [
    "- finding the maximum and minimum items in a collection becomes trivial if the data is sorted say in order of increasing magnitude (minimum point is simply the first element in the collection - maximum point is simply the last element in the collection) [1]"
   ]
  },
  {
   "cell_type": "markdown",
   "id": "minute-access",
   "metadata": {},
   "source": [
    "- another order statistic could be the median and the quartiles [1]"
   ]
  },
  {
   "cell_type": "markdown",
   "id": "christian-german",
   "metadata": {},
   "source": [
    "- in the context of the economy would often hear about the median salary whereby the median is the middle value in a collection so the median salary then if having access to a list of the salaries of everybody working in Ireland then could sort those data points in order of increasing salary therefore a trivial task to pick out the median given its the element(s) right in the middle [1]"
   ]
  },
  {
   "cell_type": "code",
   "execution_count": 1,
   "id": "green-sequence",
   "metadata": {},
   "outputs": [],
   "source": [
    "exit()"
   ]
  },
  {
   "cell_type": "markdown",
   "id": "verified-exploration",
   "metadata": {},
   "source": [
    "< [Table of Contents](#top) | [References](#references) >\n",
    "<a id=\"Preprocessing \"></a>\n",
    "###### Preprocessing \n",
    "***"
   ]
  },
  {
   "cell_type": "markdown",
   "id": "intended-protection",
   "metadata": {},
   "source": [
    "- sorting can be useful as a precursor to completing other operations in an efficient way such that its often an important step when part of some other broader computer algorithm [1]"
   ]
  },
  {
   "cell_type": "markdown",
   "id": "therapeutic-orange",
   "metadata": {},
   "source": [
    "- considering an image editing package (computer graphics) in which multiple layers of objects or artwork are supported and having a layer based computer graphics program whereby different objects are layered on top of each other to produce some composite image [1]"
   ]
  },
  {
   "cell_type": "markdown",
   "id": "smooth-group",
   "metadata": {},
   "source": [
    "- may have to sort the objects according to some above or below relation so that the objects may be drawn in the correct order from bottom to top so that the image is composited correctly and that items which are supposed to be in the foreground are in the foreground and items which are supposed to form part of the background are actually in the background [1]"
   ]
  },
  {
   "cell_type": "markdown",
   "id": "enabling-utilization",
   "metadata": {},
   "source": [
    "- so a sorting algorithm could be used as part of a operation in some program but it would be a sub-step [1]"
   ]
  },
  {
   "cell_type": "code",
   "execution_count": 1,
   "id": "quarterly-sculpture",
   "metadata": {},
   "outputs": [],
   "source": [
    "exit()"
   ]
  },
  {
   "cell_type": "markdown",
   "id": "eight-gates",
   "metadata": {},
   "source": [
    "< [Table of Contents](#top) | [References](#references) >\n",
    "<a id=\"Real-World\"></a>\n",
    "###### Real World \n",
    "***"
   ]
  },
  {
   "cell_type": "markdown",
   "id": "comparative-dutch",
   "metadata": {},
   "source": [
    "- sorting can be useful as part of some other broader tasks but it is also an important problem in its own right and worthy of merit/study [1]"
   ]
  },
  {
   "cell_type": "markdown",
   "id": "wound-tribe",
   "metadata": {},
   "source": [
    "- consider entries in a phonebook often sorted by area then by last name then sorted by first name [1]"
   ]
  },
  {
   "cell_type": "markdown",
   "id": "decent-tucson",
   "metadata": {},
   "source": [
    "- bank account statement transactions would be sorted first by a transaction number or by date or by the value of the transaction (ascending or descending order as well) [1]"
   ]
  },
  {
   "cell_type": "markdown",
   "id": "alternate-assurance",
   "metadata": {},
   "source": [
    "- results from a web search engine which would be sorted by relevance to a specific query string [1]"
   ]
  },
  {
   "cell_type": "markdown",
   "id": "compound-provision",
   "metadata": {},
   "source": [
    "- maybe in a web search engine different items could be returned or different links to different webpages would actually be given some kind of relevance score in relation to a query string and would be ranked in order of decreasing relevance [1]"
   ]
  },
  {
   "cell_type": "code",
   "execution_count": 1,
   "id": "fancy-bible",
   "metadata": {},
   "outputs": [],
   "source": [
    "exit()"
   ]
  },
  {
   "cell_type": "markdown",
   "id": "given-alignment",
   "metadata": {},
   "source": [
    "< [Table of Contents](#top) | [References](#references) >\n",
    "<a id=\"Conditions\"></a>\n",
    "### Conditions\n",
    "***"
   ]
  },
  {
   "cell_type": "markdown",
   "id": "selected-specific",
   "metadata": {},
   "source": [
    "- conceptually its easy to grasp the idea of what is meant by a collection being sorted or the term sorted but need to have some formal or mathematical definition of what is meant by the term sorted or having everything in order [1]"
   ]
  },
  {
   "cell_type": "markdown",
   "id": "considerable-emission",
   "metadata": {},
   "source": [
    "- a collection of items is deemed to be sorted if each item which appears in the collection is less than or equal to its successor or its valued as being less than or equal to its successor in the collection [1]"
   ]
  },
  {
   "cell_type": "markdown",
   "id": "martial-metadata",
   "metadata": {},
   "source": [
    "- to sort a collection ``A`` then the elements contained must be reorganised in such a way that if the element which appears at index ``i`` is less than the elements which appears at index ``j`` then the index ``i`` must also be less than the index ``j`` [1]"
   ]
  },
  {
   "cell_type": "markdown",
   "id": "stuffed-secondary",
   "metadata": {},
   "source": [
    "- items which are valued less than other items then said items must appear before the others [1]"
   ]
  },
  {
   "cell_type": "markdown",
   "id": "removable-testimony",
   "metadata": {},
   "source": [
    "- if an item is valued greater than another item then that greater value item must appear later in the collection [1]"
   ]
  },
  {
   "cell_type": "markdown",
   "id": "conscious-sacramento",
   "metadata": {},
   "source": [
    "$$A[i]<A[j]\\space then\\space i<j$$"
   ]
  },
  {
   "cell_type": "code",
   "execution_count": 1,
   "id": "basic-residence",
   "metadata": {},
   "outputs": [],
   "source": [
    "exit()"
   ]
  },
  {
   "cell_type": "markdown",
   "id": "competitive-webmaster",
   "metadata": {},
   "source": [
    "< [Table of Contents](#top) | [References](#references) >\n",
    "<a id=\"Contiguous\"></a>\n",
    "###### Contiguous\n",
    "***"
   ]
  },
  {
   "cell_type": "markdown",
   "id": "automotive-tonight",
   "metadata": {},
   "source": [
    "- if there are duplicate elements then these elements must be contiguous in the resulting order collection [1]"
   ]
  },
  {
   "cell_type": "markdown",
   "id": "varying-arnold",
   "metadata": {},
   "source": [
    "- all of the elements which have the same value according to some comparator function most appear in one uninterrupted block with no other different valued elements interspersed in between [1]"
   ]
  },
  {
   "cell_type": "markdown",
   "id": "contained-location",
   "metadata": {},
   "source": [
    "- within a collection ``A`` if an element at position ``i`` is valued the same as the element which appears at position ``j`` [1]"
   ]
  },
  {
   "cell_type": "markdown",
   "id": "editorial-reverse",
   "metadata": {},
   "source": [
    "$$A[i]=A[j]$$"
   ]
  },
  {
   "cell_type": "markdown",
   "id": "administrative-denial",
   "metadata": {},
   "source": [
    "- can be no index ``k`` such that the value of ``i`` is less than the value of ``k`` is less than the value of ``j`` [1]"
   ]
  },
  {
   "cell_type": "markdown",
   "id": "equivalent-adrian",
   "metadata": {},
   "source": [
    "$$i<k<j$$"
   ]
  },
  {
   "cell_type": "markdown",
   "id": "underlying-header",
   "metadata": {},
   "source": [
    "- an element which appears at position ``i`` in the collection is not equal to the element which appears at position ``k`` [1]"
   ]
  },
  {
   "cell_type": "markdown",
   "id": "parallel-trinidad",
   "metadata": {},
   "source": [
    "$$A[i]\\neq A[k]$$"
   ]
  },
  {
   "cell_type": "markdown",
   "id": "closing-holder",
   "metadata": {},
   "source": [
    "- mathematical definition is saying that a contiguous block of elements which have the same value or are valued the same (duplicates of one another) then in a sorted collection no other different valued element can be interspersed in that contiguous block [1]"
   ]
  },
  {
   "cell_type": "markdown",
   "id": "crude-friendly",
   "metadata": {},
   "source": [
    "- have a collection of integers of which there are three of the integer ``4`` (so the integer ``4`` occurs three times) [1]"
   ]
  },
  {
   "cell_type": "markdown",
   "id": "shared-equality",
   "metadata": {},
   "source": [
    "- when that integer collection is sorted those three instances of the number four most appear together in one unbroken block and there can be no other different valued elements interspersed between them (contiguous sorting of duplicate elements in a collection) [1]"
   ]
  },
  {
   "cell_type": "markdown",
   "id": "separate-ceremony",
   "metadata": {},
   "source": [
    "- may seem obvious but still needs to stated that a sorted version of a collection must be a permutation of the elements which originally formed the collection [1]"
   ]
  },
  {
   "cell_type": "markdown",
   "id": "lesser-france",
   "metadata": {},
   "source": [
    "- the contents of the collection must be the exact same before and after the sorting process so the number of distinct elements in the collection and the frequency at which they occur must be constant before and after the sorting process but their relative ordering to one another is allowed to change [1]"
   ]
  },
  {
   "cell_type": "code",
   "execution_count": 1,
   "id": "primary-special",
   "metadata": {},
   "outputs": [],
   "source": [
    "exit()"
   ]
  },
  {
   "cell_type": "markdown",
   "id": "nonprofit-control",
   "metadata": {},
   "source": [
    "< [Table of Contents](#top) | [References](#references) >\n",
    "<a id=\"Ordering\"></a>\n",
    "### Ordering\n",
    "***"
   ]
  },
  {
   "cell_type": "markdown",
   "id": "suffering-trauma",
   "metadata": {},
   "source": [
    "- a sorted collection is one in which every element is less than or equal to its successor [1]"
   ]
  },
  {
   "cell_type": "markdown",
   "id": "front-extension",
   "metadata": {},
   "source": [
    "- leads to the question how should the concept of less than be defined [1]"
   ]
  },
  {
   "cell_type": "markdown",
   "id": "basic-hotel",
   "metadata": {},
   "source": [
    "- definition of less will depend on the: i) items in the collection; ii) types of items to be sorted and; iii) application domain in question [1]"
   ]
  },
  {
   "cell_type": "code",
   "execution_count": 1,
   "id": "finite-watershed",
   "metadata": {},
   "outputs": [],
   "source": [
    "exit()"
   ]
  },
  {
   "cell_type": "markdown",
   "id": "impressive-apparel",
   "metadata": {},
   "source": [
    "< [Table of Contents](#top) | [References](#references) >\n",
    "<a id=\"Numerical\"></a>\n",
    "###### Numerical\n",
    "***"
   ]
  },
  {
   "cell_type": "markdown",
   "id": "genuine-alberta",
   "metadata": {},
   "source": [
    "- defining the concept of less than when the items in a collection are numbers (integers or floating point values) is quite obvious [1]"
   ]
  },
  {
   "cell_type": "markdown",
   "id": "premier-identity",
   "metadata": {},
   "source": [
    "- whether its numerical ordering in terms of increasing magnitude of numbers or numerical ordering in terms of decreasing values such situations still want numerical ordering [1]"
   ]
  },
  {
   "cell_type": "code",
   "execution_count": 1,
   "id": "immune-sucking",
   "metadata": {},
   "outputs": [],
   "source": [
    "exit()"
   ]
  },
  {
   "cell_type": "markdown",
   "id": "decimal-piano",
   "metadata": {},
   "source": [
    "< [Table of Contents](#top) | [References](#references) >\n",
    "<a id=\"Lexicographical\"></a>\n",
    "###### Lexicographical\n",
    "***"
   ]
  },
  {
   "cell_type": "markdown",
   "id": "detected-folks",
   "metadata": {},
   "source": [
    "- another very common example is the idea of ordering items in a dictionary (applicable if the items in question are either characters or strings or some collection of characters) [1]"
   ]
  },
  {
   "cell_type": "markdown",
   "id": "generous-course",
   "metadata": {},
   "source": [
    "- ordering words in a dictionary as well ordering characters which are not part of the English language is lexicographical ordering [1]"
   ]
  },
  {
   "cell_type": "markdown",
   "id": "otherwise-bacon",
   "metadata": {},
   "source": [
    "- such ordering is not forming words with ``!`` or ``&`` or ``*`` etc albeit all having a particular position defined relative to one another or a particular value which is less than or greater than defined in respect to one another [1]"
   ]
  },
  {
   "cell_type": "markdown",
   "id": "acute-blogger",
   "metadata": {},
   "source": [
    "- lexicographical ordering could be the words: i) \"apple\"; ii) \"arrow\" and; iii) \"banana\" where \"apple\" is valued less than \"arrow\" and \"banana\" is valued to be greater than \"arrow\" [1]"
   ]
  },
  {
   "cell_type": "markdown",
   "id": "restricted-tradition",
   "metadata": {},
   "source": [
    "- so \"apple\" is less than \"arrow\" is less than \"banana\" [1]"
   ]
  },
  {
   "cell_type": "markdown",
   "id": "valued-index",
   "metadata": {},
   "source": [
    "$$apple<arrow<banana$$"
   ]
  },
  {
   "cell_type": "markdown",
   "id": "forty-opinion",
   "metadata": {},
   "source": [
    "- could have custom ordering schemes which could include the problem of sorting different coloured objects [1]"
   ]
  },
  {
   "cell_type": "markdown",
   "id": "boring-gambling",
   "metadata": {},
   "source": [
    "- may have a specific order in which certain colours of items appear [1]"
   ]
  },
  {
   "cell_type": "markdown",
   "id": "auburn-preparation",
   "metadata": {},
   "source": [
    "- ordering the colours of a country flag (Dutch National Flag Problem - Dijkstra) whereby the colours are: i) \"red\"; ii) \"white\" and; iii) \"blue\" [1]"
   ]
  },
  {
   "cell_type": "markdown",
   "id": "framed-exhaust",
   "metadata": {},
   "source": [
    "![Flag-of-the-Netherlands](https://github.com/SeanOhAileasa/SeanOhAileasa/blob/master/img/cta/sorting/netherlands.png?raw=true)\n",
    "\n",
    "***(Image) Wikipedia, \"Flag of the Netherlands,\" [Wikipedia](https://web.archive.org/web/20210322084118/https://en.wikipedia.org/wiki/Flag_of_the_Netherlands), n.d..***"
   ]
  },
  {
   "cell_type": "markdown",
   "id": "electrical-midwest",
   "metadata": {},
   "source": [
    "- elements that are coloured \"red\" might be less than elements which have the colour of \"white\" and \"white\" is also less than \"blue\" so \"white\" comes before \"blue\" in that case as well [1]"
   ]
  },
  {
   "cell_type": "markdown",
   "id": "velvet-upgrade",
   "metadata": {},
   "source": [
    "$$red<white<blue$$"
   ]
  },
  {
   "cell_type": "code",
   "execution_count": 1,
   "id": "entitled-switch",
   "metadata": {},
   "outputs": [],
   "source": [
    "exit()"
   ]
  },
  {
   "cell_type": "markdown",
   "id": "backed-jenny",
   "metadata": {},
   "source": [
    "< [Table of Contents](#top) | [References](#references) >\n",
    "<a id=\"Comparator-Function\"></a>\n",
    "###### Comparator Function\n",
    "***"
   ]
  },
  {
   "cell_type": "markdown",
   "id": "exceptional-exposure",
   "metadata": {},
   "source": [
    "- some function whereby two elements are passed and returns answer: i) if element is less than another; ii) if element is equal to another or; iii) if element is greater than another [1]"
   ]
  },
  {
   "cell_type": "markdown",
   "id": "finite-vegetable",
   "metadata": {},
   "source": [
    "- comparator function ``fCompare`` takes two items (elements) from a collection as input ``A`` and ``B`` (same type of object in the same collection) [1]"
   ]
  },
  {
   "cell_type": "markdown",
   "id": "renewable-worship",
   "metadata": {},
   "source": [
    "- returns ``-1`` if the element ``A`` is valued less than the element ``B`` therefore the element ``A`` should appear before the element ``B`` in the collection [1]"
   ]
  },
  {
   "cell_type": "markdown",
   "id": "adjacent-cowboy",
   "metadata": {},
   "source": [
    "$$if\\space a<b\\space then\\space -1$$"
   ]
  },
  {
   "cell_type": "markdown",
   "id": "herbal-station",
   "metadata": {},
   "source": [
    "- returns ``0`` if the element ``A`` is considered equal to the element ``B`` therefore the elements ``A`` and ``B`` should appear alongside each other in a contiguous block as they are in fact considered equivalent according to the definition of the comparator function [1] "
   ]
  },
  {
   "cell_type": "markdown",
   "id": "accredited-canal",
   "metadata": {},
   "source": [
    "$$if\\space a=b\\space then\\space 0$$"
   ]
  },
  {
   "cell_type": "markdown",
   "id": "encouraging-blanket",
   "metadata": {},
   "source": [
    "- returns ``1`` if the element ``A`` is considered greater than the element ``B`` therefore the element ``A`` should appear after the element ``B`` in the sorted collection [1]"
   ]
  },
  {
   "cell_type": "markdown",
   "id": "premium-knight",
   "metadata": {},
   "source": [
    "$$if\\space a>b\\space then\\space 1$$"
   ]
  },
  {
   "cell_type": "markdown",
   "id": "initial-exploration",
   "metadata": {},
   "source": [
    "- implementation of comparator functions relates back to the idea of having custom sorting schemes like ordering the colours of a country flag (Dutch National Flag Problem - Dijkstra) [1]"
   ]
  },
  {
   "cell_type": "markdown",
   "id": "nuclear-charger",
   "metadata": {},
   "source": [
    "- there exists sorting algorithms independent of the definition of less than [1]"
   ]
  },
  {
   "cell_type": "markdown",
   "id": "endless-worthy",
   "metadata": {},
   "source": [
    "- such algorithms can have arbitrary definitions of less than or equal to or greater than for whatever type of data is to be sorted [1]"
   ]
  },
  {
   "cell_type": "markdown",
   "id": "capable-corruption",
   "metadata": {},
   "source": [
    "- can apply a standard off-the-shelf sorting algorithm even if using some new definition of less than or equal to or greater than which has never been used before which may be specific to a dataset [1]"
   ]
  },
  {
   "cell_type": "markdown",
   "id": "relative-halloween",
   "metadata": {},
   "source": [
    "- need not actually be concerned about the specific details of the implementation of the comparator function which is going to be used when designing sorting algorithms [1]"
   ]
  },
  {
   "cell_type": "code",
   "execution_count": 1,
   "id": "incredible-macro",
   "metadata": {},
   "outputs": [],
   "source": [
    "exit()"
   ]
  },
  {
   "cell_type": "markdown",
   "id": "sunset-final",
   "metadata": {},
   "source": [
    "< [Table of Contents](#top) | [References](#references) >\n",
    "<a id=\"Inversion\"></a>\n",
    "###### Inversion\n",
    "***"
   ]
  },
  {
   "cell_type": "markdown",
   "id": "sunrise-avatar",
   "metadata": {},
   "source": [
    "- an mportant concept in sorting problems is an inversion [1]"
   ]
  },
  {
   "cell_type": "markdown",
   "id": "identified-professor",
   "metadata": {},
   "source": [
    "- important because the running time of certain sorting algorithms (Insertion Sort) are strongly related to the number of inversions that occur in the specific input instance [1]"
   ]
  },
  {
   "cell_type": "markdown",
   "id": "hidden-baseline",
   "metadata": {},
   "source": [
    "- the number of inversions in any collection of elements is a measure of how far it is from being sorted [1]"
   ]
  },
  {
   "cell_type": "markdown",
   "id": "patient-layer",
   "metadata": {},
   "source": [
    "- an inversion in any collection is an ordered pair of positions (``i`` and ``j``) such that ``i`` and ``j`` being two indices in the collection whereby the index ``i`` is greater than the element which appears at index ``j`` according to the definition in the comparator function [1]"
   ]
  },
  {
   "cell_type": "markdown",
   "id": "chronic-causing",
   "metadata": {},
   "source": [
    "- the element at position ``i`` and ``j`` are out of order then an inversion means that the elements which appear at any two positions are out of order with respect to one another [1]"
   ]
  },
  {
   "cell_type": "markdown",
   "id": "executive-investing",
   "metadata": {},
   "source": [
    "$$i<j\\space but\\space A[i]>A[j]$$"
   ]
  },
  {
   "cell_type": "markdown",
   "id": "wrong-victor",
   "metadata": {},
   "source": [
    "- ``[3,2,5]`` has just one inversion which correspond to the pair ``(3,2)`` and are said to be out of order with respect to one another [1]"
   ]
  },
  {
   "cell_type": "markdown",
   "id": "advance-tuition",
   "metadata": {},
   "source": [
    "- ``[5,2,3]`` the same three numbers with the ordering changed has two inversions which correspond to the pairs ``(5,2)`` and ``(5,3)`` [1]"
   ]
  },
  {
   "cell_type": "markdown",
   "id": "secure-diploma",
   "metadata": {},
   "source": [
    "- ``[3,2,5,1]`` has four inversions which correspond to the pairs ``(3,2)`` and ``(5,1)`` and ``(3,1)`` and ``(2,1)`` [1]"
   ]
  },
  {
   "cell_type": "markdown",
   "id": "threaded-welcome",
   "metadata": {},
   "source": [
    "$$[2,3,5,1]$$"
   ]
  },
  {
   "cell_type": "markdown",
   "id": "metallic-thesis",
   "metadata": {},
   "source": [
    "$$[2,3,1,5]$$"
   ]
  },
  {
   "cell_type": "markdown",
   "id": "severe-pizza",
   "metadata": {},
   "source": [
    "$$[2,1,3,5]$$"
   ]
  },
  {
   "cell_type": "markdown",
   "id": "possible-impact",
   "metadata": {},
   "source": [
    "$$[1,2,3,5]$$"
   ]
  },
  {
   "cell_type": "markdown",
   "id": "prerequisite-mineral",
   "metadata": {},
   "source": [
    "- concept continues on and can be applied to collections of any arbitrary size [1]"
   ]
  },
  {
   "cell_type": "code",
   "execution_count": 1,
   "id": "metallic-reading",
   "metadata": {},
   "outputs": [],
   "source": [
    "exit()"
   ]
  },
  {
   "cell_type": "markdown",
   "id": "australian-obligation",
   "metadata": {},
   "source": [
    "< [Table of Contents](#top) | [References](#references) >\n",
    "<a id=\"Comparison\"></a>\n",
    "### Comparison\n",
    "***"
   ]
  },
  {
   "cell_type": "markdown",
   "id": "frozen-joseph",
   "metadata": {},
   "source": [
    "- thus far introduced the concept of comparison (comparator) functions and the idea of sorting elements by comparing their relative values [1]"
   ]
  },
  {
   "cell_type": "markdown",
   "id": "infectious-penetration",
   "metadata": {},
   "source": [
    "- comparison sorts are a specific class of sorting algorithm and probably the most fundamental and well-known [1]"
   ]
  },
  {
   "cell_type": "markdown",
   "id": "shared-processing",
   "metadata": {},
   "source": [
    "- uses comparison operations only to determine which of two elements should appear first in a sorted list based on some comparator function [1]"
   ]
  },
  {
   "cell_type": "markdown",
   "id": "forced-distinction",
   "metadata": {},
   "source": [
    "- a comparator function with two inputs ``A`` and ``B`` will determine whether element ``A`` is valued greater than or equal to or less than element ``B`` [1]"
   ]
  },
  {
   "cell_type": "markdown",
   "id": "colored-environment",
   "metadata": {},
   "source": [
    "- sorting algorithms which work primarily or solely by this type of comparison operation between any two elements in a collection is called comparison-based [1]"
   ]
  },
  {
   "cell_type": "markdown",
   "id": "authorized-trinity",
   "metadata": {},
   "source": [
    "- many well known sorting algorithms incorporate gaining information about the total order by comparing a pair of elements at a time using the order relation $\\leq$ [1]"
   ]
  },
  {
   "cell_type": "markdown",
   "id": "brown-florist",
   "metadata": {},
   "source": [
    "- comparison-based sorts are probably the most widely applicable to diverse types of input data and are broadly applicable to any specific type of data required to sort [1]"
   ]
  },
  {
   "cell_type": "markdown",
   "id": "printable-convertible",
   "metadata": {},
   "source": [
    "- fundamental to comparison-based sorting algorithms is that no algorithm which starts by comparing elements can do better than $n\\space log\\space n$ performance in the average or in the worst case [1]"
   ]
  },
  {
   "cell_type": "markdown",
   "id": "mobile-exemption",
   "metadata": {},
   "source": [
    "- Bubble Sort; Selection Sort; Insertion Sort; Merge Sort; Quicksort and; Heapsort all fall into this category of comparison-based sorting algorithms [1]"
   ]
  },
  {
   "cell_type": "markdown",
   "id": "sealed-specific",
   "metadata": {},
   "source": [
    "![comparison-based-sorting-algorithms](https://github.com/SeanOhAileasa/SeanOhAileasa/blob/master/img/cta/sorting/comparison-based-sorting-algorithms.png?raw=true)\n",
    "\n",
    "***(Image) P. Mannion, \"03 Analysing Algorithms Part 1,\" GMIT, October 2017.***"
   ]
  },
  {
   "cell_type": "code",
   "execution_count": 1,
   "id": "horizontal-fraction",
   "metadata": {},
   "outputs": [],
   "source": [
    "exit()"
   ]
  },
  {
   "cell_type": "markdown",
   "id": "industrial-weight",
   "metadata": {},
   "source": [
    "< [Table of Contents](#top) | [References](#references) >\n",
    "<a id=\"Bubble-Sort\"></a>\n",
    "###### Bubble Sort\n",
    "***"
   ]
  },
  {
   "cell_type": "markdown",
   "id": "twenty-straight",
   "metadata": {},
   "source": [
    "- named for the way that larger values in a collection bubble up to the end as sorting takes place [3]"
   ]
  },
  {
   "cell_type": "markdown",
   "id": "equivalent-picture",
   "metadata": {},
   "source": [
    "- first analysed formally as early as 1956 and has a time complexity of $n$ in the best-case and its $n^2$ in the worst and average-cases [3]"
   ]
  },
  {
   "cell_type": "markdown",
   "id": "dress-sitting",
   "metadata": {},
   "source": [
    "- achieves in-place sorting meaning it uses only the size of the input dataset or the input instance plus a constant amount of additional working space in addition to the memory required for the input - the additional working space which is required is just a few variables required to make the swaps between elements in different places - if an element is identified thats out of order then need some additional variables to use as working space (temporary variable used to achieve that swap) [3]"
   ]
  },
  {
   "cell_type": "markdown",
   "id": "virtual-oasis",
   "metadata": {},
   "source": [
    "- very simple to understand and to implement and to explain it conceptually but its very slow and its impractical for most problems even when its compared to Insertion Sort or Selection Sort - the only practical use case for Bubble Sort is on data which is nearly sorted or for very small input datasets but Insertion Sort is probably even better [3]"
   ]
  },
  {
   "cell_type": "code",
   "execution_count": 1,
   "id": "suffering-latino",
   "metadata": {},
   "outputs": [],
   "source": [
    "exit()"
   ]
  },
  {
   "cell_type": "markdown",
   "id": "infectious-strain",
   "metadata": {},
   "source": [
    "< [Table of Contents](#top) | [References](#references) >\n",
    "<a id=\"Procedure\"></a>\n",
    "###### Procedure\n",
    "***"
   ]
  },
  {
   "cell_type": "markdown",
   "id": "quantitative-southeast",
   "metadata": {},
   "source": [
    "- first starts comparing each element except the last element with its neighbour to the right [3]"
   ]
  },
  {
   "cell_type": "markdown",
   "id": "persistent-guarantee",
   "metadata": {},
   "source": [
    "- if those elements are out of order then swap putting the largest element at the very end [3]"
   ]
  },
  {
   "cell_type": "markdown",
   "id": "sixth-manchester",
   "metadata": {},
   "source": [
    "- the largest element will now be in its correct and final place [3]"
   ]
  },
  {
   "cell_type": "markdown",
   "id": "after-prior",
   "metadata": {},
   "source": [
    "![bubble-sort-first-element](https://github.com/SeanOhAileasa/SeanOhAileasa/blob/master/img/cta/sorting/bubble-sort-first-element.png?raw=true)\n",
    "\n",
    "***(Image) P. Mannion, \"08 Sorting Algorithms Part 2,\" GMIT, November 2017.***"
   ]
  },
  {
   "cell_type": "markdown",
   "id": "economic-attribute",
   "metadata": {},
   "source": [
    "- repeating this process so the next time comparing each element except the last two with its neighbour to the right [3]"
   ]
  },
  {
   "cell_type": "markdown",
   "id": "natural-trailer",
   "metadata": {},
   "source": [
    "- if the elements are out of order then swap putting the second largest element next to last position [3]"
   ]
  },
  {
   "cell_type": "markdown",
   "id": "intelligent-swift",
   "metadata": {},
   "source": [
    "- the last two elements will now be in their correct and final places [3]"
   ]
  },
  {
   "cell_type": "markdown",
   "id": "described-valuable",
   "metadata": {},
   "source": [
    "![bubble-sort-second-element](https://github.com/SeanOhAileasa/SeanOhAileasa/blob/master/img/cta/sorting/bubble-sort-second-element.png?raw=true)\n",
    "\n",
    "***(Image) P. Mannion, \"08 Sorting Algorithms Part 2,\" GMIT, November 2017.***"
   ]
  },
  {
   "cell_type": "markdown",
   "id": "novel-september",
   "metadata": {},
   "source": [
    "- repeating this step again comparing each element except for the last three with its neighbour to the right [3]"
   ]
  },
  {
   "cell_type": "markdown",
   "id": "prostate-midnight",
   "metadata": {},
   "source": [
    "- for each element if out of order then swap putting the third largest element at the third last position [3]"
   ]
  },
  {
   "cell_type": "markdown",
   "id": "lightweight-letters",
   "metadata": {},
   "source": [
    "![bubble-sort-third-element](https://github.com/SeanOhAileasa/SeanOhAileasa/blob/master/img/cta/sorting/bubble-sort-third-element.png?raw=true)\n",
    "\n",
    "***(Image) P. Mannion, \"08 Sorting Algorithms Part 2,\" GMIT, November 2017.***"
   ]
  },
  {
   "cell_type": "markdown",
   "id": "great-excitement",
   "metadata": {},
   "source": [
    "- continuing this process until there are no unsorted elements remaining on the left [3]"
   ]
  },
  {
   "cell_type": "markdown",
   "id": "reduced-invite",
   "metadata": {},
   "source": [
    "![bubble-sort-in-order](https://github.com/SeanOhAileasa/SeanOhAileasa/blob/master/img/cta/sorting/bubble-sort-in-order.png?raw=true)\n",
    "\n",
    "***(Image) P. Mannion, \"08 Sorting Algorithms Part 2,\" GMIT, November 2017.***"
   ]
  },
  {
   "cell_type": "markdown",
   "id": "portuguese-spank",
   "metadata": {},
   "source": [
    "- the input dataset or collection assumes that everything to the left is unsorted and as it goes through each iteration the element which is on the right become sorted [3]"
   ]
  },
  {
   "cell_type": "markdown",
   "id": "medical-enclosure",
   "metadata": {},
   "source": [
    "- the collection becomes partitioned into two different parts whereby all the large values have bubbled up to the top or all have been sorted up to the right hand side and will see that the size of that sorted partition becomes larger and grows down to the left of the collection as the algorithm does its work [3]"
   ]
  },
  {
   "cell_type": "code",
   "execution_count": 1,
   "id": "equal-bottom",
   "metadata": {},
   "outputs": [],
   "source": [
    "exit()"
   ]
  },
  {
   "cell_type": "markdown",
   "id": "fancy-sudan",
   "metadata": {},
   "source": [
    "< [Table of Contents](#top) | [References](#references) >\n",
    "<a id=\"Selection-Sort\"></a>\n",
    "###### Selection Sort\n",
    "***"
   ]
  },
  {
   "cell_type": "code",
   "execution_count": 1,
   "id": "addressed-popularity",
   "metadata": {},
   "outputs": [],
   "source": [
    "exit()"
   ]
  },
  {
   "cell_type": "markdown",
   "id": "entitled-importance",
   "metadata": {},
   "source": [
    "< [Table of Contents](#top) | [References](#references) >\n",
    "<a id=\"Insertion-Sort\"></a>\n",
    "###### Insertion Sort\n",
    "***"
   ]
  },
  {
   "cell_type": "markdown",
   "id": "caring-postage",
   "metadata": {},
   "source": [
    "- good choice: i) if there is a small number of items to be sorted (five to ten items); ii) items are mostly sorted already (degree of inversions); iii) want a compact and small algorithm which will require very little code to be written [1]"
   ]
  },
  {
   "cell_type": "code",
   "execution_count": 1,
   "id": "thick-general",
   "metadata": {},
   "outputs": [],
   "source": [
    "exit()"
   ]
  },
  {
   "cell_type": "markdown",
   "id": "inclusive-exclusive",
   "metadata": {},
   "source": [
    "< [Table of Contents](#top) | [References](#references) >\n",
    "<a id=\"Merge-Sort\"></a>\n",
    "###### Merge Sort\n",
    "***"
   ]
  },
  {
   "cell_type": "markdown",
   "id": "legal-institution",
   "metadata": {},
   "source": [
    "- 1945 - developed by the renowned computer scientist John Von Neumann [1]"
   ]
  },
  {
   "cell_type": "markdown",
   "id": "moral-newsletter",
   "metadata": {},
   "source": [
    "- even though its over 70 years old it is still in common use today whether in its own right or as part of a hybrid algorithm (in combination with some other sorting algorithms) [1]"
   ]
  },
  {
   "cell_type": "markdown",
   "id": "harmful-inventory",
   "metadata": {},
   "source": [
    "- good choice if requiring stable guarantee and still preserving good all around efficiency [1] "
   ]
  },
  {
   "cell_type": "code",
   "execution_count": 1,
   "id": "silver-reasoning",
   "metadata": {},
   "outputs": [],
   "source": [
    "exit()"
   ]
  },
  {
   "cell_type": "markdown",
   "id": "ideal-closing",
   "metadata": {},
   "source": [
    "< [Table of Contents](#top) | [References](#references) >\n",
    "<a id=\"Quicksort\"></a>\n",
    "###### Quicksort\n",
    "***"
   ]
  },
  {
   "cell_type": "markdown",
   "id": "failing-january",
   "metadata": {},
   "source": [
    "- 1962 - developed by C.A.R. Hoare [1]"
   ]
  },
  {
   "cell_type": "markdown",
   "id": "defined-header",
   "metadata": {},
   "source": [
    "- a very important algorithm in the history of sorting algorithms and is commonly used today - one of the more famous sorting algorithms [1]"
   ]
  },
  {
   "cell_type": "markdown",
   "id": "bearing-negative",
   "metadata": {},
   "source": [
    "- good choice if interested in good average-case behaviour or as a good general-purpose sorting algorithm without assuming too much about the classes of input instances etc [1]"
   ]
  },
  {
   "cell_type": "code",
   "execution_count": 1,
   "id": "renewable-albania",
   "metadata": {},
   "outputs": [],
   "source": [
    "exit()"
   ]
  },
  {
   "cell_type": "markdown",
   "id": "rural-dividend",
   "metadata": {},
   "source": [
    "< [Table of Contents](#top) | [References](#references) >\n",
    "<a id=\"Heapsort\"></a>\n",
    "###### Heapsort\n",
    "***"
   ]
  },
  {
   "cell_type": "markdown",
   "id": "visible-position",
   "metadata": {},
   "source": [
    "- 1964 - J.W.J Williams [1]"
   ]
  },
  {
   "cell_type": "markdown",
   "id": "secure-header",
   "metadata": {},
   "source": [
    "- good choice if concerned about performance in the worst-case (has good guarantees in the worst-case) [1] "
   ]
  },
  {
   "cell_type": "code",
   "execution_count": 1,
   "id": "loving-browser",
   "metadata": {},
   "outputs": [],
   "source": [
    "exit()"
   ]
  },
  {
   "cell_type": "markdown",
   "id": "opposite-plaintiff",
   "metadata": {},
   "source": [
    "< [Table of Contents](#top) | [References](#references) >\n",
    "<a id=\"Smoothsort\"></a>\n",
    "###### Smoothsort\n",
    "***"
   ]
  },
  {
   "cell_type": "markdown",
   "id": "polyphonic-shipping",
   "metadata": {},
   "source": [
    "- 1981 - Edsger Dijkstra [1]"
   ]
  },
  {
   "cell_type": "code",
   "execution_count": 1,
   "id": "maritime-citizen",
   "metadata": {},
   "outputs": [],
   "source": [
    "exit()"
   ]
  },
  {
   "cell_type": "markdown",
   "id": "attended-bridge",
   "metadata": {},
   "source": [
    "< [Table of Contents](#top) | [References](#references) >\n",
    "<a id=\"Shellsort\"></a>\n",
    "###### Shellsort\n",
    "***"
   ]
  },
  {
   "cell_type": "markdown",
   "id": "fantastic-description",
   "metadata": {},
   "source": [
    "- 1959 - Donald Shell [1]"
   ]
  },
  {
   "cell_type": "code",
   "execution_count": 1,
   "id": "specific-valentine",
   "metadata": {},
   "outputs": [],
   "source": [
    "exit()"
   ]
  },
  {
   "cell_type": "markdown",
   "id": "sitting-action",
   "metadata": {},
   "source": [
    "< [Table of Contents](#top) | [References](#references) >\n",
    "<a id=\"Non-Comparison\"></a>\n",
    "### Non-Comparison\n",
    "***"
   ]
  },
  {
   "cell_type": "markdown",
   "id": "intended-oxygen",
   "metadata": {},
   "source": [
    "- a limiting factor in terms of how efficient or how quickly comparison-based sorting algorithms (comparing the relative values of any two different elements which appear in a collection) such as Bubble Sort or Selection Sort or Insertion Sort or Merge Sort or Quicksort or Heapsort can perform has being proven mathematical not to do better than $n\\space log\\space n$ performance in the average or in the worst case [1]"
   ]
  },
  {
   "cell_type": "markdown",
   "id": "numeric-graph",
   "metadata": {},
   "source": [
    "- there is an exception when considering sorting algorithms which are non-comparison-based whereby under some special conditions which relate to the types of values that are going to be sorted or the classes of input data which are going to be used then it is possible to design non-comparison-based sorting algorithms which have better worst case times that the $n\\space log\\space  n$ limit and this being the upper bound on possible performance for comparison-based sorting algorithms [1]"
   ]
  },
  {
   "cell_type": "markdown",
   "id": "mathematical-bouquet",
   "metadata": {},
   "source": [
    "- non-comparison-based sorting algorithms which have better worst case times include Counting Sort; Bucket Sort and; Radix Sort [1]"
   ]
  },
  {
   "cell_type": "markdown",
   "id": "choice-terrain",
   "metadata": {},
   "source": [
    "![title-overview-sorting-algorithms](https://github.com/SeanOhAileasa/SeanOhAileasa/blob/master/img/cta/sorting/title-overview-sorting-algorithms.png?raw=true)\n",
    "![non-comparison-based-sorting-algorithms](https://github.com/SeanOhAileasa/SeanOhAileasa/blob/master/img/cta/sorting/non-comparison-based-sorting-algorithms.png?raw=true)\n",
    "\n",
    "***(Image) P. Mannion, \"03 Analysing Algorithms Part 1,\" GMIT, October 2017.***"
   ]
  },
  {
   "cell_type": "code",
   "execution_count": 1,
   "id": "extra-small",
   "metadata": {},
   "outputs": [],
   "source": [
    "exit()"
   ]
  },
  {
   "cell_type": "markdown",
   "id": "driven-snowboard",
   "metadata": {},
   "source": [
    "< [Table of Contents](#top) | [References](#references) >\n",
    "<a id=\"Counting-Sort\"></a>\n",
    "###### Counting Sort\n",
    "***"
   ]
  },
  {
   "cell_type": "markdown",
   "id": "abstract-knowing",
   "metadata": {},
   "source": [
    "- 1954 - Harold H. Seward [1]"
   ]
  },
  {
   "cell_type": "code",
   "execution_count": 1,
   "id": "medium-replacement",
   "metadata": {},
   "outputs": [],
   "source": [
    "exit()"
   ]
  },
  {
   "cell_type": "markdown",
   "id": "portable-worry",
   "metadata": {},
   "source": [
    "< [Table of Contents](#top) | [References](#references) >\n",
    "<a id=\"Bucket-Sort\"></a>\n",
    "###### Bucket Sort\n",
    "***"
   ]
  },
  {
   "cell_type": "markdown",
   "id": "civil-builder",
   "metadata": {},
   "source": [
    "- good choice if known that the data in the input instances will be very uniform (dense universe) [1]"
   ]
  },
  {
   "cell_type": "code",
   "execution_count": 1,
   "id": "incoming-beaver",
   "metadata": {},
   "outputs": [],
   "source": [
    "exit()"
   ]
  },
  {
   "cell_type": "markdown",
   "id": "expensive-clinton",
   "metadata": {},
   "source": [
    "< [Table of Contents](#top) | [References](#references) >\n",
    "<a id=\"Radix-Sort\"></a>\n",
    "###### Radix Sort\n",
    "***"
   ]
  },
  {
   "cell_type": "markdown",
   "id": "trying-military",
   "metadata": {},
   "source": [
    "- 1954 - Harold H. Seward [1]"
   ]
  },
  {
   "cell_type": "code",
   "execution_count": 1,
   "id": "frozen-marina",
   "metadata": {},
   "outputs": [],
   "source": [
    "exit()"
   ]
  },
  {
   "cell_type": "markdown",
   "id": "successful-portuguese",
   "metadata": {},
   "source": [
    "< [Table of Contents](#top) | [References](#references) >\n",
    "<a id=\"Hybrid\"></a>\n",
    "### Hybrid\n",
    "***"
   ]
  },
  {
   "cell_type": "markdown",
   "id": "classical-april",
   "metadata": {},
   "source": [
    "- algorithms which combine the properties of two or more other sorting algorithms into a kind of a hybrid algorithm [1]"
   ]
  },
  {
   "cell_type": "markdown",
   "id": "dense-louisiana",
   "metadata": {},
   "source": [
    "- leveraging the best properties of both or all algorithms which are combined [1]"
   ]
  },
  {
   "cell_type": "markdown",
   "id": "delayed-defensive",
   "metadata": {},
   "source": [
    "![title-overview-sorting-algorithms](https://github.com/SeanOhAileasa/SeanOhAileasa/blob/master/img/cta/sorting/title-overview-sorting-algorithms.png?raw=true)\n",
    "![hybrid-sorting-algorithms](https://github.com/SeanOhAileasa/SeanOhAileasa/blob/master/img/cta/sorting/hybrid-sorting-algorithms.png?raw=true)\n",
    "\n",
    "***(Image) P. Mannion, \"03 Analysing Algorithms Part 1,\" GMIT, October 2017.***"
   ]
  },
  {
   "cell_type": "code",
   "execution_count": 1,
   "id": "thorough-pizza",
   "metadata": {},
   "outputs": [],
   "source": [
    "exit()"
   ]
  },
  {
   "cell_type": "markdown",
   "id": "interested-peeing",
   "metadata": {},
   "source": [
    "< [Table of Contents](#top) | [References](#references) >\n",
    "<a id=\"Timsort\"></a>\n",
    "###### Timsort\n",
    "***"
   ]
  },
  {
   "cell_type": "markdown",
   "id": "enabling-desire",
   "metadata": {},
   "source": [
    "- 2002 - developed by Tim Peters [1]"
   ]
  },
  {
   "cell_type": "markdown",
   "id": "descending-rehabilitation",
   "metadata": {},
   "source": [
    "- appeard in various libraries and implementations [1]"
   ]
  },
  {
   "cell_type": "markdown",
   "id": "touched-pressing",
   "metadata": {},
   "source": [
    "- notable for its inclusion as part of the java development kit standard edition 7 and also included on the android platform [1]"
   ]
  },
  {
   "cell_type": "code",
   "execution_count": 1,
   "id": "mysterious-paraguay",
   "metadata": {},
   "outputs": [],
   "source": [
    "exit()"
   ]
  },
  {
   "cell_type": "markdown",
   "id": "ordinary-framework",
   "metadata": {},
   "source": [
    "< [Table of Contents](#top) | [References](#references) >\n",
    "<a id=\"Introsort\"></a>\n",
    "###### Introsort\n",
    "***"
   ]
  },
  {
   "cell_type": "markdown",
   "id": "failing-breakdown",
   "metadata": {},
   "source": [
    "- 1997 - developed by David Musser [1]"
   ]
  },
  {
   "cell_type": "markdown",
   "id": "chinese-florida",
   "metadata": {},
   "source": [
    "- appears in various libraries and implementations [1]"
   ]
  },
  {
   "cell_type": "code",
   "execution_count": 1,
   "id": "removable-depression",
   "metadata": {},
   "outputs": [],
   "source": [
    "exit()"
   ]
  },
  {
   "cell_type": "markdown",
   "id": "characteristic-diary",
   "metadata": {},
   "source": [
    "< [Table of Contents](#top) | [References](#references) >\n",
    "<a id=\"Sort-Key-Satellite-Data\"></a>\n",
    "### Sort Key and Satellite Data\n",
    "***"
   ]
  },
  {
   "cell_type": "markdown",
   "id": "detailed-pregnancy",
   "metadata": {},
   "source": [
    "- the sort key is the information which is used to make comparisons when sorting [1]"
   ]
  },
  {
   "cell_type": "markdown",
   "id": "headed-violin",
   "metadata": {},
   "source": [
    "- the elements to sort would normally also have some satellite data for any type of real world application or dealing with complex datasets or with collections of custom objects [1]"
   ]
  },
  {
   "cell_type": "markdown",
   "id": "gorgeous-character",
   "metadata": {},
   "source": [
    "- satellite data is all the information which is associated with a specific sort key and therefore should travel when the element is moved to a new position in the collection [1]"
   ]
  },
  {
   "cell_type": "markdown",
   "id": "random-diary",
   "metadata": {},
   "source": [
    "- organising books on a bookshelf by the author name then the sort key would be the author name and the book itself (actual contents of the book) is the satellite data [1]"
   ]
  },
  {
   "cell_type": "markdown",
   "id": "soviet-nicaragua",
   "metadata": {},
   "source": [
    "- when organising books on a bookshelf it is not enough to just have labels which represent the name of each book and get those ordered in the correct order - also want to move the satellite data into the right place as well (being the actual book) [1]"
   ]
  },
  {
   "cell_type": "markdown",
   "id": "cheap-telescope",
   "metadata": {},
   "source": [
    "- organising the entire book and not just the label in the correct order so that it can be retrieved easily later on [1]"
   ]
  },
  {
   "cell_type": "markdown",
   "id": "hybrid-inspection",
   "metadata": {},
   "source": [
    "- the sort key of a web search engine would be the relevance (or maybe a relevance score) which is just some number that represents how relevant a specific webpage is to a input query string [1]"
   ]
  },
  {
   "cell_type": "markdown",
   "id": "dangerous-romania",
   "metadata": {},
   "source": [
    "- so if the sort key is the relevant score of the webpage to the query string then the satellite data would be everything that the search engine has stored about that specific webpage (could be the Uniform Resource Locator of that webpage along with whatever other data is stored by the search engine which could also include a summary of the web page) [1]"
   ]
  },
  {
   "cell_type": "markdown",
   "id": "grateful-philippines",
   "metadata": {},
   "source": [
    "- in the context of the GMIT Computational Thinking and Algorithms module for the sake of simplicity and to make explanations easier only going to look at collections of integers (analogously to sorting using the sort key only without any satellite data) [1]"
   ]
  },
  {
   "cell_type": "markdown",
   "id": "silent-development",
   "metadata": {},
   "source": [
    "- the exact same principles would apply when sorting any other type of data other than integers [1]"
   ]
  },
  {
   "cell_type": "markdown",
   "id": "warming-sucking",
   "metadata": {},
   "source": [
    "- the same exact principles will apply to any complex objects to sort and/or wanting to sort by a certain criteria but must be sure (like with the bookshelf example) that the satellite data is moved into the right position as well (or that some pointer to the satellite position is maintained) [1]"
   ]
  },
  {
   "cell_type": "code",
   "execution_count": 1,
   "id": "working-field",
   "metadata": {},
   "outputs": [],
   "source": [
    "exit()"
   ]
  },
  {
   "cell_type": "markdown",
   "id": "living-ensemble",
   "metadata": {},
   "source": [
    "< [Table of Contents](#top) | [References](#references) >\n",
    "<a id=\"Properties\"></a>\n",
    "### Properties\n",
    "***"
   ]
  },
  {
   "cell_type": "markdown",
   "id": "considered-biography",
   "metadata": {},
   "source": [
    "- desirable properties (criteria) may use to judge a sorting algorithm and the suitability for a particular problem: i) Stability; ii) Run Time Efficiency; iii) In-Place; iv) Suitability [1]"
   ]
  },
  {
   "cell_type": "code",
   "execution_count": 1,
   "id": "functioning-match",
   "metadata": {},
   "outputs": [],
   "source": [
    "exit()"
   ]
  },
  {
   "cell_type": "markdown",
   "id": "democratic-listing",
   "metadata": {},
   "source": [
    "< [Table of Contents](#top) | [References](#references) >\n",
    "<a id=\"Stability\"></a>\n",
    "###### Stability\n",
    "***"
   ]
  },
  {
   "cell_type": "markdown",
   "id": "speaking-shame",
   "metadata": {},
   "source": [
    "- preserving the order of already sorted input [1]"
   ]
  },
  {
   "cell_type": "markdown",
   "id": "criminal-salmon",
   "metadata": {},
   "source": [
    "- a comparator function takes two elements as input ``A`` and ``B`` and decides whether the elements are: i) less than; ii) greater than; iii) equal to (determines relationship between two elements in the original unordered collection) [1]"
   ]
  },
  {
   "cell_type": "markdown",
   "id": "religious-minutes",
   "metadata": {},
   "source": [
    "- if the comparator function determines that two input elements are equal then it may be important to maintain the relative ordering in the sorted set [1]"
   ]
  },
  {
   "cell_type": "markdown",
   "id": "olive-subcommittee",
   "metadata": {},
   "source": [
    "- the term stability means that after a sorting operation occurs the relative ordering of elements which are considered equal in the input instance is preserved [1]"
   ]
  },
  {
   "cell_type": "markdown",
   "id": "derived-calculator",
   "metadata": {},
   "source": [
    "- if the element ``A[i]`` is to the left of the element ``A[j]`` in the initial distribution and if they have the same exact value according to the comparator function then that relationship should be preserved after sorting [1]"
   ]
  },
  {
   "cell_type": "markdown",
   "id": "durable-chrome",
   "metadata": {},
   "source": [
    "- the final location for ``A[i]`` must be to the left of the final location for ``A[j]`` [1]"
   ]
  },
  {
   "cell_type": "markdown",
   "id": "descending-arizona",
   "metadata": {},
   "source": [
    "- sorting algorithms which maintain/guarantee this property are referred to as stable [1]"
   ]
  },
  {
   "cell_type": "markdown",
   "id": "colonial-denver",
   "metadata": {},
   "source": [
    "- conversely an unstable sorting algorithm is one which does not preserve this property (relative ordering of elements which have the same value) [1]"
   ]
  },
  {
   "cell_type": "markdown",
   "id": "vulnerable-florence",
   "metadata": {},
   "source": [
    "- using an unstable sorting algorithm means that sorting a collection which is already sorted may result in the ordering of elements which are considered to be equivalent could actually be altered (may or may not be an issue - depends on the specific application) [1]"
   ]
  },
  {
   "cell_type": "markdown",
   "id": "necessary-pioneer",
   "metadata": {},
   "source": [
    "- in summary to have the stable property will preserve the order of the already sorted input so elements which are considered to have the same value according to a comparator function will actually appear in the same sequence order in the sorted output [3] "
   ]
  },
  {
   "cell_type": "code",
   "execution_count": 1,
   "id": "informed-yacht",
   "metadata": {},
   "outputs": [],
   "source": [
    "exit()"
   ]
  },
  {
   "cell_type": "markdown",
   "id": "presidential-finish",
   "metadata": {},
   "source": [
    "< [Table of Contents](#top) | [References](#references) >\n",
    "<a id=\"Flight-Information\"></a>\n",
    "###### Flight Information\n",
    "***"
   ]
  },
  {
   "cell_type": "markdown",
   "id": "informational-bacon",
   "metadata": {},
   "source": [
    "- entries sorted in terms of departure time: i) destination; ii) airline; iii) flight number and; iv) departure time [1]"
   ]
  },
  {
   "cell_type": "markdown",
   "id": "favorite-scheme",
   "metadata": {},
   "source": [
    "- departure time ascending flight number 872 at 11:15am appears before flight number 28 at 12pm [1]"
   ]
  },
  {
   "cell_type": "markdown",
   "id": "threatened-knowing",
   "metadata": {},
   "source": [
    "![Flight-Sort-Departure-Time](https://github.com/SeanOhAileasa/SeanOhAileasa/blob/master/img/cta/sorting/flight-sort-departure-time.png?raw=true)\n",
    "\n",
    "***(Image) P. Mannion, \"07 Sorting Algorithms Part 1,\" GMIT, November 2017.***"
   ]
  },
  {
   "cell_type": "markdown",
   "id": "english-burton",
   "metadata": {},
   "source": [
    "- the departure time is the sort key and i) destination; ii) airline and; ii) flight have become the satellite data [1]"
   ]
  },
  {
   "cell_type": "markdown",
   "id": "czech-frank",
   "metadata": {},
   "source": [
    "- entries sorted in terms of the destination ascending instead of the departure time ascending will notice that the ordering of the elements has changed (x4 departures to Atlanta) [1]"
   ]
  },
  {
   "cell_type": "markdown",
   "id": "yellow-catalyst",
   "metadata": {},
   "source": [
    "![Flight-Sort-Destination](https://github.com/SeanOhAileasa/SeanOhAileasa/blob/master/img/cta/sorting/flight-sort-destination.png?raw=true)\n",
    "\n",
    "***(Image) P. Mannion, \"07 Sorting Algorithms Part 1,\" GMIT, November 2017.***"
   ]
  },
  {
   "cell_type": "markdown",
   "id": "backed-nitrogen",
   "metadata": {},
   "source": [
    "- after a stable sort of the data and deciding to sort on some other criteria instead (destination ascending) the two elements which have the Atlanta destination (flight number 872 and 28) appear in the same ordering [1]"
   ]
  },
  {
   "cell_type": "markdown",
   "id": "vulnerable-career",
   "metadata": {},
   "source": [
    "- the relative position of these two elements (Atlanta - flight number 872 and 28) has not been changed even though they are considered to be equal [1]"
   ]
  },
  {
   "cell_type": "markdown",
   "id": "sunset-staff",
   "metadata": {},
   "source": [
    "- there is no guarantee that an unstable sorting algorithm would appear in the same order as they appear in the sort by departure time table and this is the issue with unstable sorting algorithms [1]"
   ]
  },
  {
   "cell_type": "markdown",
   "id": "adaptive-objective",
   "metadata": {},
   "source": [
    "- an unstable sorting algorithm actually pays no attention to the relationships between the element locations in the original collection and it may or may not maintain the relative ordering [1]"
   ]
  },
  {
   "cell_type": "code",
   "execution_count": 1,
   "id": "blessed-collective",
   "metadata": {},
   "outputs": [],
   "source": [
    "exit()"
   ]
  },
  {
   "cell_type": "markdown",
   "id": "backed-influence",
   "metadata": {},
   "source": [
    "< [Table of Contents](#top) | [References](#references) >\n",
    "<a id=\"Run-Time-Efficiency\"></a>\n",
    "###### Run Time Efficiency\n",
    "***"
   ]
  },
  {
   "cell_type": "markdown",
   "id": "quick-stranger",
   "metadata": {},
   "source": [
    "- the algorithm which is sorting the data will run at an acceptable amount of time [1]"
   ]
  },
  {
   "cell_type": "markdown",
   "id": "legislative-ottawa",
   "metadata": {},
   "source": [
    "- acceptable may also depend on the size of the dataset and how quickly it needs to be sorted etc [1]"
   ]
  },
  {
   "cell_type": "markdown",
   "id": "growing-residence",
   "metadata": {},
   "source": [
    "- need to have some notion of having good runtime efficiency [1]"
   ]
  },
  {
   "cell_type": "markdown",
   "id": "sporting-inventory",
   "metadata": {},
   "source": [
    "- may be concerned specifically about the best-case or the average-case or the worst-case or might want to consider all of them in aggregate or give different weightings to them [1]"
   ]
  },
  {
   "cell_type": "markdown",
   "id": "removed-fireplace",
   "metadata": {},
   "source": [
    "- need to have some idea of how efficient the algorithm will be in practice: i) best-case; ii) worst-case and; iii) average-case time complexity for a given sorting algorithm [1]"
   ]
  },
  {
   "cell_type": "markdown",
   "id": "driving-shelf",
   "metadata": {},
   "source": [
    "- essentially need to know to what degree is the data sorted or know what proportion of inversions could be expected but even if its known that an algorithm has a desirable performance efficiency in the best-case or in the average-case or in the worst-case in terms of time its implementation might still be impractical [1]"
   ]
  },
  {
   "cell_type": "markdown",
   "id": "prescription-president",
   "metadata": {},
   "source": [
    "- the average-case would typically be the hardest to quantify in an accurate manner and will rely on advanced mathematical techniques and estimation [1]"
   ]
  },
  {
   "cell_type": "markdown",
   "id": "better-underwear",
   "metadata": {},
   "source": [
    "- assumes a reasonable understanding of the likelihood that the input may be partially sorted [1]"
   ]
  },
  {
   "cell_type": "markdown",
   "id": "banned-retention",
   "metadata": {},
   "source": [
    "- to get a good handle on the average-case will probably need to also have some handle on the expected classes of input instances or the type of data [1]"
   ]
  },
  {
   "cell_type": "markdown",
   "id": "entitled-bangladesh",
   "metadata": {},
   "source": [
    "- insertion sort has a very desirable best-case time complexity which is only $n$ but the flip side is that it performs very poorly on large input instances and performs poorly on random data having a high degree of inversions etc [1]"
   ]
  },
  {
   "cell_type": "markdown",
   "id": "second-picture",
   "metadata": {},
   "source": [
    "- whether an algorithm has a good best-case or average-case or worst-case complexity the specific algorithm under consideration may in fact be impractical in some situations (need to consider the different strengths and weaknesses of different algorithms) [1]"
   ]
  },
  {
   "cell_type": "markdown",
   "id": "extraordinary-electric",
   "metadata": {},
   "source": [
    "- no one algorithm is the best for all possible situations so its important to understand the strengths and weaknesses of several different algorithms [1]"
   ]
  },
  {
   "cell_type": "markdown",
   "id": "flying-portland",
   "metadata": {},
   "source": [
    "- having a toolset or an arsenal to choose from to actually deploy against the correct type of problem [1]"
   ]
  },
  {
   "cell_type": "code",
   "execution_count": 1,
   "id": "dedicated-battery",
   "metadata": {},
   "outputs": [],
   "source": [
    "exit()"
   ]
  },
  {
   "cell_type": "markdown",
   "id": "english-convergence",
   "metadata": {},
   "source": [
    "< [Table of Contents](#top) | [References](#references) >\n",
    "<a id=\"Orders-of-Growth\"></a>\n",
    "###### Orders of Growth\n",
    "***"
   ]
  },
  {
   "cell_type": "markdown",
   "id": "southwest-scholarship",
   "metadata": {},
   "source": [
    "- in terms of running time the orders of growth of the number of operations required for an algorithm to complete is proportional to one of the functions listed [1][2]"
   ]
  },
  {
   "cell_type": "markdown",
   "id": "recreational-flexibility",
   "metadata": {},
   "source": [
    "| Running Time $T(n)$ is proportional to | Complexity:                |\n",
    "| :------------------------------------- | :------------------------- |\n",
    "| $T(n)\\propto log\\space n$              | logarithmic                |\n",
    "| $T(n)\\propto n$                        | linear                     |\n",
    "| $T(n)\\propto n\\space log\\space n$      | linearithmic               |\n",
    "| $T(n)\\propto n^{2}$                    | quadratic (polynomial)     |\n",
    "| $T(n)\\propto n^{3}$                    | cubic (polynomial)         |\n",
    "| $T(n)\\propto n^{k}$                    | polynomial (k any integer) |\n",
    "| $T(n)\\propto 2^{n}$                    | exponential                |\n",
    "| $T(n)\\propto k^{n}$; $k>1$             | exponential                |"
   ]
  },
  {
   "cell_type": "markdown",
   "id": "likely-complex",
   "metadata": {},
   "source": [
    "- logarithmic ($log\\space n$) is probably the best-case expectation to achieve in an algorithm - next best is linear ($n$) - next best is linearitmic ($n\\space log\\space n$) [1]"
   ]
  },
  {
   "cell_type": "markdown",
   "id": "detected-invitation",
   "metadata": {},
   "source": [
    "- all three are pretty good (efficient) and good for large datasets [1] "
   ]
  },
  {
   "cell_type": "markdown",
   "id": "surprising-sunrise",
   "metadata": {},
   "source": [
    "- after these are the powers - quadratic ($n^2$) and cubic ($n^3$) [1]"
   ]
  },
  {
   "cell_type": "markdown",
   "id": "olympic-roads",
   "metadata": {},
   "source": [
    "- large difference in the order of growth of the number of operations required for an $n^{2}$ versus an $n\\space log\\space n$ algorithm [1]"
   ]
  },
  {
   "cell_type": "markdown",
   "id": "completed-munich",
   "metadata": {},
   "source": [
    "- continuing with the $n^3$ and $n^k$ and exponential $2^n$ and $k^n$ where $k>1$ [1]"
   ]
  },
  {
   "cell_type": "markdown",
   "id": "ecological-transcription",
   "metadata": {},
   "source": [
    "- even for large datasets $n^2$ is quite unwieldy and very slow [1]"
   ]
  },
  {
   "cell_type": "markdown",
   "id": "fallen-yesterday",
   "metadata": {},
   "source": [
    "![growth-functions](https://github.com/SeanOhAileasa/SeanOhAileasa/blob/master/img/cta/analysing/growth-functions.png?raw=true)\n",
    "\n",
    "***(Image) Z. Relph, \"Chapter Algorithms 3.2 The Growth of Functions,\" slideplayer, June 2018.***"
   ]
  },
  {
   "cell_type": "code",
   "execution_count": 1,
   "id": "behavioral-monte",
   "metadata": {},
   "outputs": [],
   "source": [
    "exit()"
   ]
  },
  {
   "cell_type": "markdown",
   "id": "controlling-ambassador",
   "metadata": {},
   "source": [
    "< [Table of Contents](#top) | [References](#references) >\n",
    "<a id=\"Influencing-Factors\"></a>\n",
    "###### Influencing Factors\n",
    "***"
   ]
  },
  {
   "cell_type": "markdown",
   "id": "dynamic-victorian",
   "metadata": {},
   "source": [
    "- if the best-case and/or average-case and/or worst-case time complexity is known this will give some kind of handle on what is the expected runtime efficiency of an algorithm [1]"
   ]
  },
  {
   "cell_type": "markdown",
   "id": "romance-expert",
   "metadata": {},
   "source": [
    "- ⚡ another factor which will obviously influence this is the number of items which need to be sorted [1]"
   ]
  },
  {
   "cell_type": "markdown",
   "id": "greek-roommate",
   "metadata": {},
   "source": [
    "- insertion sort might be very good on small collections (small sizes of ``n``) but as ``n`` gets larger the performance would degrade quite quickly and would influence running time [1]"
   ]
  },
  {
   "cell_type": "markdown",
   "id": "median-forwarding",
   "metadata": {},
   "source": [
    "- ⚡ another factor is how the items are related (properties) [1]"
   ]
  },
  {
   "cell_type": "markdown",
   "id": "killing-aquatic",
   "metadata": {},
   "source": [
    "- are the items related only by the order relation (is there anything in general that can be said about those items besides having some comparator function that defines how they relate to one another) or do they have some other restrictions [1]"
   ]
  },
  {
   "cell_type": "markdown",
   "id": "fewer-elite",
   "metadata": {},
   "source": [
    "- if it is known the sorting is based on sort keys that are derived from integers in the range lets say ``1`` to ``1000`` then can narrow that set of input instances down quite a lot [1]"
   ]
  },
  {
   "cell_type": "markdown",
   "id": "national-attack",
   "metadata": {},
   "source": [
    "- there may be other more suitable sorting algorithms and more niche solving algorithms which can be applied to that specific type of problem [1]"
   ]
  },
  {
   "cell_type": "markdown",
   "id": "exotic-action",
   "metadata": {},
   "source": [
    "- ⚡ another factor is the number of inversions which are in the dataset or to what extent are the items pre-sorted [1]"
   ]
  },
  {
   "cell_type": "markdown",
   "id": "studied-wireless",
   "metadata": {},
   "source": [
    "- so if its known that the data is almost sorted then this knowledge is useful given that certain sorting algorithms are good for data that is almost sorted and not so good when its kind of uniform random data [1]"
   ]
  },
  {
   "cell_type": "markdown",
   "id": "subject-demonstration",
   "metadata": {},
   "source": [
    "- ⚡ another factor to consider as well which could influence the running time is whether the items can be placed into internal or fast memory (ram or cache) versus do they need to be stored in some external or slower memory such as on a hard disk [1]"
   ]
  },
  {
   "cell_type": "markdown",
   "id": "pediatric-sitting",
   "metadata": {},
   "source": [
    "- hard disk (referred to as external sorting) is where the actually data that needs to be sorted is on an external storage device rather than on internal computer memory [1]"
   ]
  },
  {
   "cell_type": "code",
   "execution_count": 1,
   "id": "adjusted-material",
   "metadata": {},
   "outputs": [],
   "source": [
    "exit()"
   ]
  },
  {
   "cell_type": "markdown",
   "id": "hundred-departure",
   "metadata": {},
   "source": [
    "< [Table of Contents](#top) | [References](#references) >\n",
    "<a id=\"In-Place\"></a>\n",
    "###### In-Place\n",
    "***"
   ]
  },
  {
   "cell_type": "markdown",
   "id": "exciting-newsletter",
   "metadata": {},
   "source": [
    "- if memory requirements are a concern in-place sorting is the idea of using memory efficiently while sorting [1]"
   ]
  },
  {
   "cell_type": "markdown",
   "id": "reflected-grade",
   "metadata": {},
   "source": [
    "- there are many different sorting algorithms and many different types/classes of memory requirements and this is a function of how the specific algorithm works in practice [1]"
   ]
  },
  {
   "cell_type": "markdown",
   "id": "permanent-productivity",
   "metadata": {},
   "source": [
    "- a sorting algorithm is in-place if it uses only a fixed additional amount of working space independent of the input size (``n``) [1]"
   ]
  },
  {
   "cell_type": "markdown",
   "id": "altered-equilibrium",
   "metadata": {},
   "source": [
    "- classification of space complexity rather than time complexity [1]"
   ]
  },
  {
   "cell_type": "markdown",
   "id": "massive-landscape",
   "metadata": {},
   "source": [
    "- other sorting algorithms may require additional working memory beyond some fixed amount of additional space and that amount will often be related to the size of the input instance (``n``) [1]"
   ]
  },
  {
   "cell_type": "markdown",
   "id": "negative-athletics",
   "metadata": {},
   "source": [
    "- so the size of the input will actually determine the additional working memory which is required and that will be one of the orders of growth functions [1]"
   ]
  },
  {
   "cell_type": "markdown",
   "id": "danish-transfer",
   "metadata": {},
   "source": [
    "- so if the availability of memory on the system is a concern then in-place sorting is a very desirable property to have in the sorting algorithm used [1]"
   ]
  },
  {
   "cell_type": "code",
   "execution_count": 1,
   "id": "informative-closer",
   "metadata": {},
   "outputs": [],
   "source": [
    "exit()"
   ]
  },
  {
   "cell_type": "markdown",
   "id": "secret-compression",
   "metadata": {},
   "source": [
    "< [Table of Contents](#top) | [References](#references) >\n",
    "<a id=\"Suitability\"></a>\n",
    "###### Suitability\n",
    "***"
   ]
  },
  {
   "cell_type": "markdown",
   "id": "headed-waterproof",
   "metadata": {},
   "source": [
    "- taking all in aggregate need to consider also the suitability or the properties of any specific sorting algorithm [1]"
   ]
  },
  {
   "cell_type": "markdown",
   "id": "mexican-vision",
   "metadata": {},
   "source": [
    "- consider whether that algorithm is well matched to the class of input instances (type of input data expected) to receive or expecting to operate on [1]"
   ]
  },
  {
   "cell_type": "markdown",
   "id": "editorial-voluntary",
   "metadata": {},
   "source": [
    "- should consider when selecting a sorting algorithm the specific strengths and weaknesses which are unique to that sorting algorithm and perhaps this will give reasons to use one type of sorting algorithm in a certain class of problem and a different type of sorting algorithm in another class of problem [1]"
   ]
  },
  {
   "cell_type": "code",
   "execution_count": 1,
   "id": "convertible-devices",
   "metadata": {},
   "outputs": [],
   "source": [
    "exit()"
   ]
  },
  {
   "cell_type": "markdown",
   "id": "instrumental-omega",
   "metadata": {},
   "source": [
    "<!-- print(fGetModuleType(___x___),fDocumentation(___x___)) -->\n",
    "***\n",
    "## END"
   ]
  },
  {
   "cell_type": "markdown",
   "id": "abandoned-motor",
   "metadata": {},
   "source": [
    "< [Table of Contents](#top) | [Abstract](#abstract) | [Introduction](#introduction) | [Conclusion](#conclusion) | [References](#references) >\n",
    "<a id=\"solution\"></a>\n",
    "***\n",
    "## Solution\n",
    "***"
   ]
  },
  {
   "cell_type": "markdown",
   "id": "opposite-workstation",
   "metadata": {},
   "source": [
    "&#x1F6A7;"
   ]
  },
  {
   "cell_type": "markdown",
   "id": "unnecessary-mixture",
   "metadata": {},
   "source": [
    "<!-- - refer [Appendix](#appendix-df) to view the full dataset <a id=\"go-back-df\"></a> -->\n",
    "<!-- print(fGetModuleType(___x___),fDocumentation(___x___)) -->\n",
    "***\n",
    "## END"
   ]
  },
  {
   "cell_type": "markdown",
   "id": "excited-tennis",
   "metadata": {},
   "source": [
    "< [Table of Contents](#top) | [Abstract](#abstract) | [Introduction](#introduction) | [Solution](#solution) | [References](#references) >\n",
    "<a id=\"conclusion\"></a>\n",
    "***\n",
    "## Conclusion\n",
    "***"
   ]
  },
  {
   "cell_type": "markdown",
   "id": "cheap-highlight",
   "metadata": {},
   "source": [
    "&#x1F6A7;"
   ]
  },
  {
   "cell_type": "markdown",
   "id": "green-variation",
   "metadata": {},
   "source": [
    "<!-- print(fGetModuleType(___x___),fDocumentation(___x___)) -->\n",
    "***\n",
    "## END"
   ]
  },
  {
   "cell_type": "markdown",
   "id": "vanilla-tonight",
   "metadata": {},
   "source": [
    "< [Table of Contents](#top) | [Abstract](#abstract) | [Introduction](#introduction) | [Solution](#solution) | [Conclusion](#conclusion) | [References](#references) >\n",
    "<a id=\"references\"></a>\n",
    "***\n",
    "## References\n",
    "***\n",
    "&nbsp;&nbsp;&nbsp;&nbsp;&nbsp;&nbsp;&nbsp;&nbsp;&nbsp;[1] P. Mannion, \"07 Sorting Algorithms Part 1,\" GMIT, November 2017.\n",
    "\n",
    "&nbsp;&nbsp;&nbsp;&nbsp;&nbsp;&nbsp;&nbsp;&nbsp;&nbsp;[2] P. Mannion, \"03 Analysing Algorithms Part 1,\" GMIT, October 2017.\n",
    "\n",
    "&nbsp;&nbsp;&nbsp;&nbsp;&nbsp;&nbsp;&nbsp;&nbsp;&nbsp;[3] P. Mannion, \"08 Sorting Algorithms Part 2,\" GMIT, November 2017.\n",
    "\n",
    "&nbsp;&nbsp;&nbsp;&nbsp;&nbsp;&nbsp;&nbsp;&nbsp;&nbsp;[4] P. Mannion, \"09 Sorting Algorithms Part 3,\" GMIT, November 2017."
   ]
  },
  {
   "cell_type": "markdown",
   "id": "loose-perception",
   "metadata": {},
   "source": [
    "***\n",
    "## END"
   ]
  },
  {
   "cell_type": "markdown",
   "id": "usual-financing",
   "metadata": {},
   "source": [
    "< [Table of Contents](#top) | [Abstract](#abstract) | [Introduction](#introduction) | [Solution](#solution) | [Conclusion](#conclusion) | [References](#references) >\n",
    "<a id=\"appendix\"></a>\n",
    "***\n",
    "## Appendix\n",
    "***"
   ]
  },
  {
   "cell_type": "markdown",
   "id": "solid-reggae",
   "metadata": {},
   "source": [
    "<a id=\"appendix-some-reference\"></a>\n",
    "< [Go Back](#top) >"
   ]
  },
  {
   "cell_type": "markdown",
   "id": "failing-broadcast",
   "metadata": {},
   "source": [
    "###### Github\n",
    "***"
   ]
  },
  {
   "cell_type": "markdown",
   "id": "manual-integration",
   "metadata": {},
   "source": [
    "```\n",
    "git push -f origin HEAD^:master && git reset HEAD~\n",
    "```"
   ]
  },
  {
   "cell_type": "markdown",
   "id": "finished-statement",
   "metadata": {},
   "source": [
    "###### Functions\n",
    "***"
   ]
  },
  {
   "cell_type": "code",
   "execution_count": 1,
   "id": "impressed-forth",
   "metadata": {},
   "outputs": [
    {
     "name": "stdout",
     "output_type": "stream",
     "text": [
      "# repository ./OhAileasa\r\n",
      "def fFullScreen():\r\n",
      "\t\"\"\"Utilise full Jupyter notebook screen.\r\n",
      "\r\n",
      "Input:\r\n",
      "Process: (IPython.core.display.display; IPython.core.display.HTML)\r\n",
      "Output:\r\n",
      "\"\"\"\r\n",
      "\tfrom IPython.core.display import display,HTML\r\n",
      "\tdisplay(HTML(\"<style>.container { width:100% !important; }</style>\"))\r\n",
      "# --- END ---\r\n"
     ]
    }
   ],
   "source": [
    "%%script bash\n",
    "grep -1 \"def fFullScreen\" ../src/fubar.py -A 9"
   ]
  },
  {
   "cell_type": "markdown",
   "id": "metric-broad",
   "metadata": {},
   "source": [
    "```python\n",
    "# %%writefile -a ../src/fubar.py\n",
    "# repository ./fubar-python\n",
    "def f():\n",
    "    \"\"\"\n",
    "\n",
    "Input:\n",
    "Process:\n",
    "Output:\n",
    "\"\"\"\n",
    "    pass\n",
    "# -- END ---\n",
    "```"
   ]
  },
  {
   "cell_type": "markdown",
   "id": "vital-consumption",
   "metadata": {},
   "source": [
    "###### Images\n",
    "***"
   ]
  },
  {
   "cell_type": "markdown",
   "id": "unavailable-pricing",
   "metadata": {},
   "source": [
    "![gumball](https://github.com/SeanOhAileasa/SeanOhAileasa/blob/master/img/cta/analysing/gumball.png?raw=true)\n",
    "\n",
    "***(Image) P. Mannion, \"03 Analysing Algorithms Part 1,\" GMIT, October 2017.***"
   ]
  },
  {
   "cell_type": "markdown",
   "id": "killing-equation",
   "metadata": {},
   "source": [
    "###### Tables\n",
    "***"
   ]
  },
  {
   "cell_type": "markdown",
   "id": "administrative-reason",
   "metadata": {},
   "source": [
    "|aaa|bbbbbb|ccccccccc|\n",
    "|:------------------------- | :------------------------- | :------------------------- |\n",
    "|aaa|bbbbbb|ccccccccc|"
   ]
  },
  {
   "cell_type": "markdown",
   "id": "alternate-theta",
   "metadata": {},
   "source": [
    "***\n",
    "## END"
   ]
  },
  {
   "cell_type": "markdown",
   "id": "pending-rental",
   "metadata": {},
   "source": [
    "# END JUPYTER NOTEBOOK"
   ]
  }
 ],
 "metadata": {
  "kernelspec": {
   "display_name": "Python 3",
   "language": "python",
   "name": "python3"
  },
  "language_info": {
   "codemirror_mode": {
    "name": "ipython",
    "version": 3
   },
   "file_extension": ".py",
   "mimetype": "text/x-python",
   "name": "python",
   "nbconvert_exporter": "python",
   "pygments_lexer": "ipython3",
   "version": "3.8.3"
  }
 },
 "nbformat": 4,
 "nbformat_minor": 5
}
