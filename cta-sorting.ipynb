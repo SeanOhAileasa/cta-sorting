{
 "cells": [
  {
   "cell_type": "code",
   "execution_count": null,
   "id": "authorized-consistency",
   "metadata": {},
   "outputs": [
    {
     "data": {
      "text/html": [
       "<script>Jupyter.notebook.kernel.restart()</script>"
      ]
     },
     "metadata": {},
     "output_type": "display_data"
    }
   ],
   "source": [
    "from IPython.core.display import display_html\n",
    "display_html(\"<script>Jupyter.notebook.kernel.restart()</script>\",raw=True)"
   ]
  },
  {
   "cell_type": "code",
   "execution_count": 1,
   "id": "acoustic-basket",
   "metadata": {},
   "outputs": [
    {
     "data": {
      "text/html": [
       "<style>.container { width:100% !important; }</style>"
      ],
      "text/plain": [
       "<IPython.core.display.HTML object>"
      ]
     },
     "metadata": {},
     "output_type": "display_data"
    },
    {
     "data": {
      "text/html": [
       "<style>.container { width:100% !important; }</style>"
      ],
      "text/plain": [
       "<IPython.core.display.HTML object>"
      ]
     },
     "metadata": {},
     "output_type": "display_data"
    }
   ],
   "source": [
    "from sys import path; path.insert(1,\"../src\");\n",
    "import fubar; from importlib import reload; reload(fubar);"
   ]
  },
  {
   "cell_type": "markdown",
   "id": "harmful-storm",
   "metadata": {},
   "source": [
    "***\n",
    "< [GMIT Data Analytics](https://web.archive.org/web/20201029063153/https://www.gmit.ie/computer-science-and-applied-physics/higher-diploma-science-computing-data-analytics-ict) | [Home](https://github.com/SeanOhAileasa) | [README](https://github.com/SeanOhAileasa/cta-sorting/blob/main/README.md) >\n",
    "\n",
    "[![GMIT](https://github.com/SeanOhAileasa/SeanOhAileasa/blob/master/img/gmit.png?raw=true)](https://web.archive.org/web/20201029063153/https://www.gmit.ie/computer-science-and-applied-physics/higher-diploma-science-computing-data-analytics-ict)\n",
    "\n",
    "<!--\n",
    "Computational Thinking with Algorithms\n",
    "\n",
    "Applied Databases\n",
    "\n",
    "Programming for Data Analysis\n",
    "\n",
    "Fundamentals of Data Analysis\n",
    "-->\n",
    "\n",
    "## Computational Thinking with Algorithms - Course Material 2021\n",
    "### Topic: [Sorting](https://nbviewer.jupyter.org/github/SeanOhAileasa/cta-sorting/blob/main/cta-sorting.ipynb)\n",
    "\n",
    "***"
   ]
  },
  {
   "cell_type": "markdown",
   "id": "anticipated-doubt",
   "metadata": {},
   "source": [
    "Course material for the ``Computational Thinking with Algorithms`` module (5 Credits) of the ``Higher Diploma in Science in Computing (Data Analytics) (H.Dip)`` programme (75 Credits) at **Galway-Mayo Institute of Technology (GMIT)**."
   ]
  },
  {
   "cell_type": "code",
   "execution_count": 2,
   "id": "interesting-female",
   "metadata": {},
   "outputs": [],
   "source": [
    "exit()"
   ]
  },
  {
   "cell_type": "code",
   "execution_count": 1,
   "id": "municipal-federation",
   "metadata": {},
   "outputs": [
    {
     "data": {
      "text/html": [
       "<video src=\"./hide/07-sorting-algorithms-part-1-06-11-2017.mp4\" controls  width=\"800\"  height=\"400\">\n",
       "      Your browser does not support the <code>video</code> element.\n",
       "    </video>"
      ],
      "text/plain": [
       "<IPython.core.display.Video object>"
      ]
     },
     "execution_count": 1,
     "metadata": {},
     "output_type": "execute_result"
    }
   ],
   "source": [
    "from IPython.display import Video; Video(\"./hide/07-sorting-algorithms-part-1-06-11-2017.mp4\",width=800,height=400)"
   ]
  },
  {
   "cell_type": "code",
   "execution_count": 2,
   "id": "understanding-consultancy",
   "metadata": {},
   "outputs": [],
   "source": [
    "# from IPython.display import IFrame; IFrame(\"./hide/07-sorting-algorithms-part-1-06-11-2017.pdf\",width=800,height=400)"
   ]
  },
  {
   "cell_type": "code",
   "execution_count": 3,
   "id": "saving-facial",
   "metadata": {},
   "outputs": [
    {
     "data": {
      "text/html": [
       "<video src=\"./hide/08-sorting-algorithms-part-2-11-11-2017.mp4\" controls  width=\"800\"  height=\"400\">\n",
       "      Your browser does not support the <code>video</code> element.\n",
       "    </video>"
      ],
      "text/plain": [
       "<IPython.core.display.Video object>"
      ]
     },
     "execution_count": 3,
     "metadata": {},
     "output_type": "execute_result"
    }
   ],
   "source": [
    "from IPython.display import Video; Video(\"./hide/08-sorting-algorithms-part-2-11-11-2017.mp4\",width=800,height=400)"
   ]
  },
  {
   "cell_type": "code",
   "execution_count": 4,
   "id": "intense-humor",
   "metadata": {},
   "outputs": [],
   "source": [
    "# from IPython.display import IFrame; IFrame(\"./hide/08-sorting-algorithms-part-2-11-11-2017.pdf\",width=800,height=400)"
   ]
  },
  {
   "cell_type": "code",
   "execution_count": 5,
   "id": "bound-selection",
   "metadata": {},
   "outputs": [
    {
     "data": {
      "text/html": [
       "<video src=\"./hide/09-sorting-algorithms-part-3-19-11-2017.mp4\" controls  width=\"800\"  height=\"400\">\n",
       "      Your browser does not support the <code>video</code> element.\n",
       "    </video>"
      ],
      "text/plain": [
       "<IPython.core.display.Video object>"
      ]
     },
     "execution_count": 5,
     "metadata": {},
     "output_type": "execute_result"
    }
   ],
   "source": [
    "from IPython.display import Video; Video(\"./hide/09-sorting-algorithms-part-3-19-11-2017.mp4\",width=800,height=400)"
   ]
  },
  {
   "cell_type": "code",
   "execution_count": 6,
   "id": "civil-picking",
   "metadata": {},
   "outputs": [],
   "source": [
    "# from IPython.display import IFrame; IFrame(\"./hide/09-sorting-algorithms-part-3-19-11-2017.pdf\",width=800,height=400)"
   ]
  },
  {
   "cell_type": "code",
   "execution_count": 7,
   "id": "reverse-authorization",
   "metadata": {},
   "outputs": [],
   "source": [
    "exit()"
   ]
  },
  {
   "cell_type": "markdown",
   "id": "announced-student",
   "metadata": {},
   "source": [
    "<a id=\"top\"></a>\n",
    "***\n",
    "## Table of Contents\n",
    "***\n",
    "\n",
    "## [Abstract](#abstract)\n",
    "\n",
    "- &#x1F6A7;\n",
    "\n",
    "## [Introduction](#introduction)\n",
    "\n",
    "* [Sorting](#Sorting)\n",
    "    * [Search](#Search)\n",
    "    * [Duplicates](#Duplicates)\n",
    "    * [Frequency](#Frequency)\n",
    "    * [Order Statistics](#Order-Statistics)\n",
    "    * [Preprocessing](#Preprocessing)\n",
    "    * [Real World](#Real-World)\n",
    "    \n",
    "* [Conditions](#Conditions)\n",
    "\t* [Contiguous](#Contiguous)\n",
    "    \n",
    "* [Ordering](#Ordering)\n",
    "\t* [Numerical](#Numerical)\n",
    "\t* [Lexicographical](#Lexicographical)\n",
    "    \n",
    "* [Comparator Function](#Comparator-Function)\n",
    "\t* [Inversion](#Inversion)\n",
    "    \n",
    "* [Comparison](#Comparison)\n",
    "    * [Non-Comparison](#Non-Comparison)\n",
    "    \n",
    "* [Sort Key and Satellite Data](#Sort-Key-Satellite-Data)\n",
    "    \n",
    "* [Properties](#Properties) \n",
    "\t* [Stability](#Stability)\n",
    "\t\t* [Flight Information](#Flight-Information)\n",
    "\t* [Run Time Efficiency](#Run-Time-Efficiency)\n",
    "\t* [In-Place](#In-Place)\n",
    "\t* [Suitability](#Suitability)\n",
    "\n",
    "## [Solution](#solution)\n",
    "\n",
    "* [Merge Sort](#Mergesort)\n",
    "* [Radix Sort](#Radix-Sort)\n",
    "* [Counting Sort](#Counting-Sort)\n",
    "* [Shell Sort](#Shell-Sort)\n",
    "* [Quicksort](#Quicksort)\n",
    "* [Heapsort](#Heapsort)\n",
    "* [Smoothsort](#Smoothsort)\n",
    "* [Introsort](#Introsort)\n",
    "* [Timsort](#Timsort)\n",
    "\n",
    "## [Conclusion](#conclusion)\n",
    "\n",
    "- &#x1F6A7;"
   ]
  },
  {
   "cell_type": "markdown",
   "id": "operational-manhattan",
   "metadata": {},
   "source": [
    "***\n",
    "## END"
   ]
  },
  {
   "cell_type": "markdown",
   "id": "streaming-belize",
   "metadata": {},
   "source": [
    "< [Table of Contents](#top) | [Introduction](#introduction) | [Solution](#solution) | [Conclusion](#conclusion) | [References](#references) >\n",
    "<a id=\"abstract\"></a>\n",
    "***\n",
    "## Abstract\n",
    "***"
   ]
  },
  {
   "cell_type": "markdown",
   "id": "designing-suffering",
   "metadata": {},
   "source": [
    "&#x1F6A7;"
   ]
  },
  {
   "cell_type": "markdown",
   "id": "violent-drill",
   "metadata": {},
   "source": [
    "<!-- print(fGetModuleType(___x___),fDocumentation(___x___)) -->\n",
    "***\n",
    "## END"
   ]
  },
  {
   "cell_type": "markdown",
   "id": "worst-proposition",
   "metadata": {},
   "source": [
    "< [Table of Contents](#top) | [Abstract](#abstract) | [Solution](#solution) | [Conclusion](#conclusion) | [References](#references) >\n",
    "<a id=\"introduction\"></a>\n",
    "***\n",
    "## Introduction\n",
    "***"
   ]
  },
  {
   "cell_type": "markdown",
   "id": "honey-undergraduate",
   "metadata": {},
   "source": [
    "< [Table of Contents](#top) | [References](#references) >\n",
    "<a id=\"Sorting\"></a>\n",
    "### Sorting\n",
    "***"
   ]
  },
  {
   "cell_type": "markdown",
   "id": "separate-algorithm",
   "metadata": {},
   "source": [
    "- definition of the term sorting is arranging a collection of items according to some predefined ordering rules [1]"
   ]
  },
  {
   "cell_type": "markdown",
   "id": "potential-reminder",
   "metadata": {},
   "source": [
    "- an array or list (hereafter called \"collection\") of items to order in the correct order is a sorting problem [1]"
   ]
  },
  {
   "cell_type": "markdown",
   "id": "conscious-webmaster",
   "metadata": {},
   "source": [
    "- it has been claimed in the past that as much as 25% of all CPU cycles worldwide are spent on sorting tasks (claim provides a great incentive to further study and optimise sorting algorithms) [1]"
   ]
  },
  {
   "cell_type": "markdown",
   "id": "interpreted-founder",
   "metadata": {},
   "source": [
    "- given there is so much time spent on sorting regardless of whether the actual figure is 25% can take for granted that a large amount of CPU time worldwide is spent on sorting tasks and knowing this provides a great incentive to work on research and development of sorting algorithms [1]"
   ]
  },
  {
   "cell_type": "markdown",
   "id": "pending-declaration",
   "metadata": {},
   "source": [
    "- knowing the considerations for most appropriate sorting algorithm for the specific task to accomplish it is upon system designers/computer scientists to know the different strengths and weaknesses of different sorting algorithms and to know in which specific situations or for which specific class of input instances should a certain type of sorting algorithm or a particular implementation be used [1]"
   ]
  },
  {
   "cell_type": "markdown",
   "id": "quarterly-active",
   "metadata": {},
   "source": [
    "- there are many interesting applications of sorting and many different sorting algorithms each of which have their own specific strengths and weaknesses [1]"
   ]
  },
  {
   "cell_type": "markdown",
   "id": "norman-planet",
   "metadata": {},
   "source": [
    "- due to all of this and due to the importance of the sorting task the search for efficient sorting algorithms was a very important part of the early days of computing and computer science [1]"
   ]
  },
  {
   "cell_type": "markdown",
   "id": "august-princess",
   "metadata": {},
   "source": [
    "- numerous computations and tasks are in fact simplified or made a lot easier by first properly sorting the information in a collection in advance [1]"
   ]
  },
  {
   "cell_type": "code",
   "execution_count": 1,
   "id": "varied-inflation",
   "metadata": {},
   "outputs": [],
   "source": [
    "exit()"
   ]
  },
  {
   "cell_type": "markdown",
   "id": "square-springfield",
   "metadata": {},
   "source": [
    "< [Table of Contents](#top) | [References](#references) >\n",
    "<a id=\"Search\"></a>\n",
    "###### Search\n",
    "***"
   ]
  },
  {
   "cell_type": "markdown",
   "id": "missing-chamber",
   "metadata": {},
   "source": [
    "- considering the task of searching for a particular item in a collection of elements [1]"
   ]
  },
  {
   "cell_type": "markdown",
   "id": "addressed-twist",
   "metadata": {},
   "source": [
    "- if the collection is in order (sorted) then can apply different types of searching algorithms and probably find the particular item sought quicker [1]"
   ]
  },
  {
   "cell_type": "code",
   "execution_count": 1,
   "id": "incident-rachel",
   "metadata": {},
   "outputs": [],
   "source": [
    "exit()"
   ]
  },
  {
   "cell_type": "markdown",
   "id": "intelligent-warehouse",
   "metadata": {},
   "source": [
    "< [Table of Contents](#top) | [References](#references) >\n",
    "<a id=\"Duplicates\"></a>\n",
    "###### Duplicates\n",
    "***"
   ]
  },
  {
   "cell_type": "markdown",
   "id": "legislative-coalition",
   "metadata": {},
   "source": [
    "- considering a collection of items and finding out whether any duplicate items exist in that collection [1]"
   ]
  },
  {
   "cell_type": "markdown",
   "id": "administrative-garden",
   "metadata": {},
   "source": [
    "- task is easier if it is known that all duplicate items are going to appear in a contiguous block or they are all going to appear together [1]"
   ]
  },
  {
   "cell_type": "markdown",
   "id": "known-westminster",
   "metadata": {},
   "source": [
    "- if sorted in order of increasing magnitude then its a trivial task to go and actually count how many duplicates of those items exist [1]"
   ]
  },
  {
   "cell_type": "code",
   "execution_count": 1,
   "id": "thrown-pledge",
   "metadata": {},
   "outputs": [],
   "source": [
    "exit()"
   ]
  },
  {
   "cell_type": "markdown",
   "id": "provincial-warrant",
   "metadata": {},
   "source": [
    "< [Table of Contents](#top) | [References](#references) >\n",
    "<a id=\"Frequency\"></a>\n",
    "###### Frequency\n",
    "***"
   ]
  },
  {
   "cell_type": "markdown",
   "id": "balanced-hardware",
   "metadata": {},
   "source": [
    "- considering the frequency of any distinct items in a dataset [1]"
   ]
  },
  {
   "cell_type": "markdown",
   "id": "neural-subdivision",
   "metadata": {},
   "source": [
    "- creating a histogram to find the frequency of every distinct item in a collection could easily be done if the data is sorted because again like the problem of finding duplicate items it becomes a trivial task when all of the items which are valued equally appear in a contiguous block (appear beside each other) [1]"
   ]
  },
  {
   "cell_type": "code",
   "execution_count": 1,
   "id": "modular-flesh",
   "metadata": {},
   "outputs": [],
   "source": [
    "exit()"
   ]
  },
  {
   "cell_type": "markdown",
   "id": "dated-nashville",
   "metadata": {},
   "source": [
    "< [Table of Contents](#top) | [References](#references) >\n",
    "<a id=\"Order-Statistics\"></a>\n",
    "###### Order Statistics\n",
    "***"
   ]
  },
  {
   "cell_type": "markdown",
   "id": "opening-airport",
   "metadata": {},
   "source": [
    "- another important application of sorting algorithms is to find the order statistics of a collection of data [1]"
   ]
  },
  {
   "cell_type": "markdown",
   "id": "large-collaboration",
   "metadata": {},
   "source": [
    "- statistics are numbers essentially which tell something about a collection of data in aggregate [1]"
   ]
  },
  {
   "cell_type": "markdown",
   "id": "stupid-actor",
   "metadata": {},
   "source": [
    "- could be order statistics that relate to the range of the data such as the maximum and minimum [1]"
   ]
  },
  {
   "cell_type": "markdown",
   "id": "czech-donor",
   "metadata": {},
   "source": [
    "- finding the maximum and minimum items in a collection becomes trivial if the data is sorted say in order of increasing magnitude (minimum point is simply the first element in the collection - maximum point is simply the last element in the collection) [1]"
   ]
  },
  {
   "cell_type": "markdown",
   "id": "confused-mayor",
   "metadata": {},
   "source": [
    "- another order statistic could be the median and the quartiles [1]"
   ]
  },
  {
   "cell_type": "markdown",
   "id": "damaged-toddler",
   "metadata": {},
   "source": [
    "- in the context of the economy would often hear about the median salary whereby the median is the middle value in a collection so the median salary then if having access to a list of the salaries of everybody working in Ireland then could sort those data points in order of increasing salary therefore a trivial task to pick out the median given its the element(s) right in the middle [1]"
   ]
  },
  {
   "cell_type": "code",
   "execution_count": 1,
   "id": "cloudy-charm",
   "metadata": {},
   "outputs": [],
   "source": [
    "exit()"
   ]
  },
  {
   "cell_type": "markdown",
   "id": "violent-demonstration",
   "metadata": {},
   "source": [
    "< [Table of Contents](#top) | [References](#references) >\n",
    "<a id=\"Preprocessing \"></a>\n",
    "###### Preprocessing \n",
    "***"
   ]
  },
  {
   "cell_type": "markdown",
   "id": "weekly-western",
   "metadata": {},
   "source": [
    "- sorting can be useful as a precursor to completing other operations in an efficient way such that its often an important step when part of some other broader computer algorithm [1]"
   ]
  },
  {
   "cell_type": "markdown",
   "id": "fatal-preservation",
   "metadata": {},
   "source": [
    "- considering an image editing package (computer graphics) in which multiple layers of objects or artwork are supported and having a layer based computer graphics program whereby different objects are layered on top of each other to produce some composite image [1]"
   ]
  },
  {
   "cell_type": "markdown",
   "id": "brief-complement",
   "metadata": {},
   "source": [
    "- may have to sort the objects according to some above or below relation so that the objects may be drawn in the correct order from bottom to top so that the image is composited correctly and that items which are supposed to be in the foreground are in the foreground and items which are supposed to form part of the background are actually in the background [1]"
   ]
  },
  {
   "cell_type": "markdown",
   "id": "understanding-combat",
   "metadata": {},
   "source": [
    "- so a sorting algorithm could be used as part of a operation in some program but it would be a sub-step [1]"
   ]
  },
  {
   "cell_type": "code",
   "execution_count": 1,
   "id": "starting-broadcast",
   "metadata": {},
   "outputs": [],
   "source": [
    "exit()"
   ]
  },
  {
   "cell_type": "markdown",
   "id": "comparable-synthesis",
   "metadata": {},
   "source": [
    "< [Table of Contents](#top) | [References](#references) >\n",
    "<a id=\"Real-World\"></a>\n",
    "###### Real World \n",
    "***"
   ]
  },
  {
   "cell_type": "markdown",
   "id": "aquatic-operator",
   "metadata": {},
   "source": [
    "- sorting can be useful as part of some other broader tasks but it is also an important problem in its own right and worthy of merit/study [1]"
   ]
  },
  {
   "cell_type": "markdown",
   "id": "aware-america",
   "metadata": {},
   "source": [
    "- consider entries in a phonebook often sorted by area then by last name then sorted by first name [1]"
   ]
  },
  {
   "cell_type": "markdown",
   "id": "brazilian-sharp",
   "metadata": {},
   "source": [
    "- bank account statement transactions would be sorted first by a transaction number or by date or by the value of the transaction (ascending or descending order as well) [1]"
   ]
  },
  {
   "cell_type": "markdown",
   "id": "iraqi-brain",
   "metadata": {},
   "source": [
    "- results from a web search engine which would be sorted by relevance to a specific query string [1]"
   ]
  },
  {
   "cell_type": "markdown",
   "id": "prescribed-artist",
   "metadata": {},
   "source": [
    "- maybe in a web search engine different items could be returned or different links to different webpages would actually be given some kind of relevance score in relation to a query string and would be ranked in order of decreasing relevance [1]"
   ]
  },
  {
   "cell_type": "code",
   "execution_count": 1,
   "id": "advised-battlefield",
   "metadata": {},
   "outputs": [],
   "source": [
    "exit()"
   ]
  },
  {
   "cell_type": "markdown",
   "id": "literary-seventh",
   "metadata": {},
   "source": [
    "< [Table of Contents](#top) | [References](#references) >\n",
    "<a id=\"Conditions\"></a>\n",
    "### Conditions\n",
    "***"
   ]
  },
  {
   "cell_type": "markdown",
   "id": "lasting-lithuania",
   "metadata": {},
   "source": [
    "- conceptually its easy to grasp the idea of what is meant by a collection being sorted or the term sorted but need to have some formal or mathematical definition of what is meant by the term sorted or having everything in order [1]"
   ]
  },
  {
   "cell_type": "markdown",
   "id": "hidden-transcription",
   "metadata": {},
   "source": [
    "- a collection of items is deemed to be sorted if each item which appears in the collection is less than or equal to its successor or its valued as being less than or equal to its successor in the collection [1]"
   ]
  },
  {
   "cell_type": "markdown",
   "id": "royal-polls",
   "metadata": {},
   "source": [
    "- to sort a collection ``A`` then the elements contained must be reorganised in such a way that if the element which appears at index ``i`` is less than the elements which appears at index ``j`` then the index ``i`` must also be less than the index ``j`` [1]"
   ]
  },
  {
   "cell_type": "markdown",
   "id": "loving-therapist",
   "metadata": {},
   "source": [
    "- items which are valued less than other items then said items must appear before the others [1]"
   ]
  },
  {
   "cell_type": "markdown",
   "id": "modified-collapse",
   "metadata": {},
   "source": [
    "- if an item is valued greater than another item then that greater value item must appear later in the collection [1]"
   ]
  },
  {
   "cell_type": "markdown",
   "id": "structural-occupation",
   "metadata": {},
   "source": [
    "$$A[i]<A[j]\\space then\\space i<j$$"
   ]
  },
  {
   "cell_type": "code",
   "execution_count": 1,
   "id": "daily-ethiopia",
   "metadata": {},
   "outputs": [],
   "source": [
    "exit()"
   ]
  },
  {
   "cell_type": "markdown",
   "id": "engaged-meaning",
   "metadata": {},
   "source": [
    "< [Table of Contents](#top) | [References](#references) >\n",
    "<a id=\"Contiguous\"></a>\n",
    "###### Contiguous\n",
    "***"
   ]
  },
  {
   "cell_type": "markdown",
   "id": "smoking-minimum",
   "metadata": {},
   "source": [
    "- if there are duplicate elements then these elements must be contiguous in the resulting order collection [1]"
   ]
  },
  {
   "cell_type": "markdown",
   "id": "instructional-hanging",
   "metadata": {},
   "source": [
    "- all of the elements which have the same value according to some comparator function most appear in one uninterrupted block with no other different valued elements interspersed in between [1]"
   ]
  },
  {
   "cell_type": "markdown",
   "id": "developed-floor",
   "metadata": {},
   "source": [
    "- within a collection ``A`` if an element at position ``i`` is valued the same as the element which appears at position ``j`` [1]"
   ]
  },
  {
   "cell_type": "markdown",
   "id": "previous-auckland",
   "metadata": {},
   "source": [
    "$$A[i]=A[j]$$"
   ]
  },
  {
   "cell_type": "markdown",
   "id": "based-dryer",
   "metadata": {},
   "source": [
    "- can be no index ``k`` such that the value of ``i`` is less than the value of ``k`` is less than the value of ``j`` [1]"
   ]
  },
  {
   "cell_type": "markdown",
   "id": "reflected-closing",
   "metadata": {},
   "source": [
    "$$i<k<j$$"
   ]
  },
  {
   "cell_type": "markdown",
   "id": "peripheral-minneapolis",
   "metadata": {},
   "source": [
    "- an element which appears at position ``i`` in the collection is not equal to the element which appears at position ``k`` [1]"
   ]
  },
  {
   "cell_type": "markdown",
   "id": "frequent-compound",
   "metadata": {},
   "source": [
    "$$A[i]\\neq A[k]$$"
   ]
  },
  {
   "cell_type": "markdown",
   "id": "defined-singles",
   "metadata": {},
   "source": [
    "- mathematical definition is saying that a contiguous block of elements which have the same value or are valued the same (duplicates of one another) then in a sorted collection no other different valued element can be interspersed in that contiguous block [1]"
   ]
  },
  {
   "cell_type": "markdown",
   "id": "convenient-france",
   "metadata": {},
   "source": [
    "- have a collection of integers of which there are three of the integer ``4`` (so the integer ``4`` occurs three times) [1]"
   ]
  },
  {
   "cell_type": "markdown",
   "id": "lucky-enclosure",
   "metadata": {},
   "source": [
    "- when that integer collection is sorted those three instances of the number four most appear together in one unbroken block and there can be no other different valued elements interspersed between them (contiguous sorting of duplicate elements in a collection) [1]"
   ]
  },
  {
   "cell_type": "markdown",
   "id": "joined-navigation",
   "metadata": {},
   "source": [
    "- may seem obvious but still needs to stated that a sorted version of a collection must be a permutation of the elements which originally formed the collection [1]"
   ]
  },
  {
   "cell_type": "markdown",
   "id": "welcome-genesis",
   "metadata": {},
   "source": [
    "- the contents of the collection must be the exact same before and after the sorting process so the number of distinct elements in the collection and the frequency at which they occur must be constant before and after the sorting process but their relative ordering to one another is allowed to change [1]"
   ]
  },
  {
   "cell_type": "code",
   "execution_count": 1,
   "id": "single-cycle",
   "metadata": {},
   "outputs": [],
   "source": [
    "exit()"
   ]
  },
  {
   "cell_type": "markdown",
   "id": "structured-island",
   "metadata": {},
   "source": [
    "< [Table of Contents](#top) | [References](#references) >\n",
    "<a id=\"Ordering\"></a>\n",
    "### Ordering\n",
    "***"
   ]
  },
  {
   "cell_type": "markdown",
   "id": "radical-worcester",
   "metadata": {},
   "source": [
    "- a sorted collection is one in which every element is less than or equal to its successor [1]"
   ]
  },
  {
   "cell_type": "markdown",
   "id": "wired-thong",
   "metadata": {},
   "source": [
    "- leads to the question how should the concept of less than be defined [1]"
   ]
  },
  {
   "cell_type": "markdown",
   "id": "genetic-minneapolis",
   "metadata": {},
   "source": [
    "- definition of less will depend on the: i) items in the collection; ii) types of items to be sorted and; iii) application domain in question [1]"
   ]
  },
  {
   "cell_type": "code",
   "execution_count": 1,
   "id": "julian-sodium",
   "metadata": {},
   "outputs": [],
   "source": [
    "exit()"
   ]
  },
  {
   "cell_type": "markdown",
   "id": "wanted-devil",
   "metadata": {},
   "source": [
    "< [Table of Contents](#top) | [References](#references) >\n",
    "<a id=\"Numerical\"></a>\n",
    "###### Numerical\n",
    "***"
   ]
  },
  {
   "cell_type": "markdown",
   "id": "impossible-tension",
   "metadata": {},
   "source": [
    "- defining the concept of less than when the items in a collection are numbers (integers or floating point values) is quite obvious [1]"
   ]
  },
  {
   "cell_type": "markdown",
   "id": "caring-lodging",
   "metadata": {},
   "source": [
    "- whether its numerical ordering in terms of increasing magnitude of numbers or numerical ordering in terms of decreasing values such situations still want numerical ordering [1]"
   ]
  },
  {
   "cell_type": "code",
   "execution_count": 1,
   "id": "promotional-things",
   "metadata": {},
   "outputs": [],
   "source": [
    "exit()"
   ]
  },
  {
   "cell_type": "markdown",
   "id": "accepting-realtor",
   "metadata": {},
   "source": [
    "< [Table of Contents](#top) | [References](#references) >\n",
    "<a id=\"Lexicographical\"></a>\n",
    "###### Lexicographical\n",
    "***"
   ]
  },
  {
   "cell_type": "markdown",
   "id": "common-madrid",
   "metadata": {},
   "source": [
    "- another very common example is the idea of ordering items in a dictionary (applicable if the items in question are either characters or strings or some collection of characters) [1]"
   ]
  },
  {
   "cell_type": "markdown",
   "id": "strange-organ",
   "metadata": {},
   "source": [
    "- ordering words in a dictionary as well ordering characters which are not part of the English language is lexicographical ordering [1]"
   ]
  },
  {
   "cell_type": "markdown",
   "id": "republican-plain",
   "metadata": {},
   "source": [
    "- such ordering is not forming words with ``!`` or ``&`` or ``*`` etc albeit all having a particular position defined relative to one another or a particular value which is less than or greater than defined in respect to one another [1]"
   ]
  },
  {
   "cell_type": "markdown",
   "id": "nasty-software",
   "metadata": {},
   "source": [
    "- lexicographical ordering could be the words: i) \"apple\"; ii) \"arrow\" and; iii) \"banana\" where \"apple\" is valued less than \"arrow\" and \"banana\" is valued to be greater than \"arrow\" [1]"
   ]
  },
  {
   "cell_type": "markdown",
   "id": "expanded-search",
   "metadata": {},
   "source": [
    "- so \"apple\" is less than \"arrow\" is less than \"banana\" [1]"
   ]
  },
  {
   "cell_type": "markdown",
   "id": "expired-cabin",
   "metadata": {},
   "source": [
    "$$apple<arrow<banana$$"
   ]
  },
  {
   "cell_type": "markdown",
   "id": "bottom-weekly",
   "metadata": {},
   "source": [
    "- could have custom ordering schemes which could include the problem of sorting different coloured objects [1]"
   ]
  },
  {
   "cell_type": "markdown",
   "id": "included-george",
   "metadata": {},
   "source": [
    "- may have a specific order in which certain colours of items appear [1]"
   ]
  },
  {
   "cell_type": "markdown",
   "id": "atomic-fight",
   "metadata": {},
   "source": [
    "- ordering the colours of a country flag (Dutch National Flag Problem - Dijkstra) whereby the colours are: i) \"red\"; ii) \"white\" and; iii) \"blue\" [1]"
   ]
  },
  {
   "cell_type": "markdown",
   "id": "alike-fleet",
   "metadata": {},
   "source": [
    "![Flag-of-the-Netherlands](https://github.com/SeanOhAileasa/SeanOhAileasa/blob/master/img/cta/sorting/netherlands.png?raw=true)\n",
    "\n",
    "***(Image) Wikipedia, \"Flag of the Netherlands,\" [Wikipedia](https://web.archive.org/web/20210322084118/https://en.wikipedia.org/wiki/Flag_of_the_Netherlands), n.d..***"
   ]
  },
  {
   "cell_type": "markdown",
   "id": "artistic-plane",
   "metadata": {},
   "source": [
    "- elements that are coloured \"red\" might be less than elements which have the colour of \"white\" and \"white\" is also less than \"blue\" so \"white\" comes before \"blue\" in that case as well [1]"
   ]
  },
  {
   "cell_type": "markdown",
   "id": "valid-layer",
   "metadata": {},
   "source": [
    "$$red<white<blue$$"
   ]
  },
  {
   "cell_type": "code",
   "execution_count": 1,
   "id": "tender-lodging",
   "metadata": {},
   "outputs": [],
   "source": [
    "exit()"
   ]
  },
  {
   "cell_type": "markdown",
   "id": "subjective-measurement",
   "metadata": {},
   "source": [
    "< [Table of Contents](#top) | [References](#references) >\n",
    "<a id=\"Comparator-Function\"></a>\n",
    "###### Comparator Function\n",
    "***"
   ]
  },
  {
   "cell_type": "markdown",
   "id": "coastal-armor",
   "metadata": {},
   "source": [
    "- some function whereby two elements are passed and returns answer: i) if element is less than another; ii) if element is equal to another or; iii) if element is greater than another [1]"
   ]
  },
  {
   "cell_type": "markdown",
   "id": "functional-christopher",
   "metadata": {},
   "source": [
    "- comparator function ``fCompare`` takes two items (elements) from a collection as input ``A`` and ``B`` (same type of object in the same collection) [1]"
   ]
  },
  {
   "cell_type": "markdown",
   "id": "statutory-performance",
   "metadata": {},
   "source": [
    "- returns ``-1`` if the element ``A`` is valued less than the element ``B`` therefore the element ``A`` should appear before the element ``B`` in the collection [1]"
   ]
  },
  {
   "cell_type": "markdown",
   "id": "electoral-cuisine",
   "metadata": {},
   "source": [
    "$$if\\space a<b\\space then\\space -1$$"
   ]
  },
  {
   "cell_type": "markdown",
   "id": "corresponding-bottle",
   "metadata": {},
   "source": [
    "- returns ``0`` if the element ``A`` is considered equal to the element ``B`` therefore the elements ``A`` and ``B`` should appear alongside each other in a contiguous block as they are in fact considered equivalent according to the definition of the comparator function [1] "
   ]
  },
  {
   "cell_type": "markdown",
   "id": "competitive-howard",
   "metadata": {},
   "source": [
    "$$if\\space a=b\\space then\\space 0$$"
   ]
  },
  {
   "cell_type": "markdown",
   "id": "cooked-survey",
   "metadata": {},
   "source": [
    "- returns ``1`` if the element ``A`` is considered greater than the element ``B`` therefore the element ``A`` should appear after the element ``B`` in the sorted collection [1]"
   ]
  },
  {
   "cell_type": "markdown",
   "id": "desirable-rolling",
   "metadata": {},
   "source": [
    "$$if\\space a>b\\space then\\space 1$$"
   ]
  },
  {
   "cell_type": "markdown",
   "id": "organic-namibia",
   "metadata": {},
   "source": [
    "- implementation of comparator functions relates back to the idea of having custom sorting schemes like ordering the colours of a country flag (Dutch National Flag Problem - Dijkstra) [1]"
   ]
  },
  {
   "cell_type": "markdown",
   "id": "phantom-bottle",
   "metadata": {},
   "source": [
    "- there exists sorting algorithms independent of the definition of less than [1]"
   ]
  },
  {
   "cell_type": "markdown",
   "id": "willing-recovery",
   "metadata": {},
   "source": [
    "- such algorithms can have arbitrary definitions of less than or equal to or greater than for whatever type of data is to be sorted [1]"
   ]
  },
  {
   "cell_type": "markdown",
   "id": "functioning-promotion",
   "metadata": {},
   "source": [
    "- can apply a standard off-the-shelf sorting algorithm even if using some new definition of less than or equal to or greater than which has never been used before which may be specific to a dataset [1]"
   ]
  },
  {
   "cell_type": "markdown",
   "id": "occupied-clause",
   "metadata": {},
   "source": [
    "- need not actually be concerned about the specific details of the implementation of the comparator function which is going to be used when designing sorting algorithms [1]"
   ]
  },
  {
   "cell_type": "code",
   "execution_count": 1,
   "id": "saving-raise",
   "metadata": {},
   "outputs": [],
   "source": [
    "exit()"
   ]
  },
  {
   "cell_type": "markdown",
   "id": "excellent-constraint",
   "metadata": {},
   "source": [
    "< [Table of Contents](#top) | [References](#references) >\n",
    "<a id=\"Inversion\"></a>\n",
    "###### Inversion\n",
    "***"
   ]
  },
  {
   "cell_type": "markdown",
   "id": "educational-opera",
   "metadata": {},
   "source": [
    "- an mportant concept in sorting problems is an inversion [1]"
   ]
  },
  {
   "cell_type": "markdown",
   "id": "concrete-reader",
   "metadata": {},
   "source": [
    "- important because the running time of certain sorting algorithms (Insertion Sort) are strongly related to the number of inversions that occur in the specific input instance [1]"
   ]
  },
  {
   "cell_type": "markdown",
   "id": "pharmaceutical-string",
   "metadata": {},
   "source": [
    "- the number of inversions in any collection of elements is a measure of how far it is from being sorted [1]"
   ]
  },
  {
   "cell_type": "markdown",
   "id": "incoming-nursery",
   "metadata": {},
   "source": [
    "- an inversion in any collection is an ordered pair of positions (``i`` and ``j``) such that ``i`` and ``j`` being two indices in the collection whereby the index ``i`` is greater than the element which appears at index ``j`` according to the definition in the comparator function [1]"
   ]
  },
  {
   "cell_type": "markdown",
   "id": "surface-valve",
   "metadata": {},
   "source": [
    "- the element at position ``i`` and ``j`` are out of order then an inversion means that the elements which appear at any two positions are out of order with respect to one another [1]"
   ]
  },
  {
   "cell_type": "markdown",
   "id": "vital-husband",
   "metadata": {},
   "source": [
    "$$i<j\\space but\\space A[i]>A[j]$$"
   ]
  },
  {
   "cell_type": "markdown",
   "id": "human-bones",
   "metadata": {},
   "source": [
    "- ``[3,2,5]`` has just one inversion which correspond to the pair ``(3,2)`` and are said to be out of order with respect to one another [1]"
   ]
  },
  {
   "cell_type": "markdown",
   "id": "placed-content",
   "metadata": {},
   "source": [
    "- ``[5,2,3]`` the same three numbers with the ordering changed has two inversions which correspond to the pairs ``(5,2)`` and ``(5,3)`` [1]"
   ]
  },
  {
   "cell_type": "markdown",
   "id": "willing-enhancement",
   "metadata": {},
   "source": [
    "- ``[3,2,5,1]`` has four inversions which correspond to the pairs ``(3,2)`` and ``(5,1)`` and ``(3,1)`` and ``(2,1)`` [1]"
   ]
  },
  {
   "cell_type": "markdown",
   "id": "featured-plymouth",
   "metadata": {},
   "source": [
    "$$[2,3,5,1]$$"
   ]
  },
  {
   "cell_type": "markdown",
   "id": "impressive-creativity",
   "metadata": {},
   "source": [
    "$$[2,3,1,5]$$"
   ]
  },
  {
   "cell_type": "markdown",
   "id": "integral-oxygen",
   "metadata": {},
   "source": [
    "$$[2,1,3,5]$$"
   ]
  },
  {
   "cell_type": "markdown",
   "id": "adaptive-macro",
   "metadata": {},
   "source": [
    "$$[1,2,3,5]$$"
   ]
  },
  {
   "cell_type": "markdown",
   "id": "vertical-advice",
   "metadata": {},
   "source": [
    "- concept continues on and can be applied to collections of any arbitrary size [1]"
   ]
  },
  {
   "cell_type": "code",
   "execution_count": 1,
   "id": "fabulous-appendix",
   "metadata": {},
   "outputs": [],
   "source": [
    "exit()"
   ]
  },
  {
   "cell_type": "markdown",
   "id": "brilliant-moore",
   "metadata": {},
   "source": [
    "< [Table of Contents](#top) | [References](#references) >\n",
    "<a id=\"Comparison\"></a>\n",
    "### Comparison\n",
    "***"
   ]
  },
  {
   "cell_type": "markdown",
   "id": "partial-syndication",
   "metadata": {},
   "source": [
    "- thus far introduced the concept of comparison (comparator) functions and the idea of sorting elements by comparing their relative values [1]"
   ]
  },
  {
   "cell_type": "markdown",
   "id": "injured-provider",
   "metadata": {},
   "source": [
    "- comparison sorts are a specific class of sorting algorithm [1]"
   ]
  },
  {
   "cell_type": "markdown",
   "id": "exterior-quantity",
   "metadata": {},
   "source": [
    "- uses comparison operations only to determine which of two elements should appear first in a sorted list based on some comparator function [1]"
   ]
  },
  {
   "cell_type": "markdown",
   "id": "featured-abuse",
   "metadata": {},
   "source": [
    "- a comparator function with two inputs ``A`` and ``B`` will determine whether element ``A`` is valued greater than or equal to or less than element ``B`` [1]"
   ]
  },
  {
   "cell_type": "markdown",
   "id": "unnecessary-spanking",
   "metadata": {},
   "source": [
    "- sorting algorithms which work primarily or solely by this type of comparison operation between any two elements in a collection is called comparison-based [1]"
   ]
  },
  {
   "cell_type": "markdown",
   "id": "fossil-climb",
   "metadata": {},
   "source": [
    "- many well known sorting algorithms incorporate gaining information about the total order by comparing a pair of elements at a time using the order relation $\\leq$ [1]"
   ]
  },
  {
   "cell_type": "markdown",
   "id": "quarterly-hopkins",
   "metadata": {},
   "source": [
    "- Bubble Sort; Insertion Sort; Selection Sort; Merge Sort; Quicksort and; Heap Sort all fall into this category of comparison-based sorting algorithms [1]"
   ]
  },
  {
   "cell_type": "markdown",
   "id": "meaningful-enlargement",
   "metadata": {},
   "source": [
    "- comparison-based sorts are probably the most widely applicable to diverse types of input data and are broadly applicable to any specific type of data required to sort [1]"
   ]
  },
  {
   "cell_type": "markdown",
   "id": "absent-holiday",
   "metadata": {},
   "source": [
    "- fundamental to comparison-based sorting algorithms is that no algorithm which starts by comparing elements can do better than $n\\space log\\space n$ performance in the average or in the worst case [1]"
   ]
  },
  {
   "cell_type": "code",
   "execution_count": 1,
   "id": "renewable-click",
   "metadata": {},
   "outputs": [],
   "source": [
    "exit()"
   ]
  },
  {
   "cell_type": "markdown",
   "id": "characteristic-information",
   "metadata": {},
   "source": [
    "< [Table of Contents](#top) | [References](#references) >\n",
    "<a id=\"Non-Comparison\"></a>\n",
    "###### Non-Comparison\n",
    "***"
   ]
  },
  {
   "cell_type": "markdown",
   "id": "hazardous-broadcast",
   "metadata": {},
   "source": [
    "- a limiting factor in terms of how efficient or how quickly comparison-based sorting algorithms (comparing the relative values of any two different elements which appear in a collection) such as Bubble Sort or Insertion Sort or Selection Sort or Merge Sort or Quicksort or Heap Sort can perform has being proven mathematical not to do better than $n\\space log\\space n$ performance in the average or in the worst case [1]"
   ]
  },
  {
   "cell_type": "markdown",
   "id": "marked-length",
   "metadata": {},
   "source": [
    "- there is an exception when considering sorting algorithms which are non-comparison-based whereby under some special conditions which relate to the types of values that are going to be sorted or the classes of input data which are going to be used then it is possible to design non-comparison-based sorting algorithms which have better worst case times that the $n\\space log\\space  n$ limit and this being the upper bound on possible performance for comparison-based sorting algorithms [1]"
   ]
  },
  {
   "cell_type": "markdown",
   "id": "emerging-mainstream",
   "metadata": {},
   "source": [
    "- non-comparison-based sorting algorithms which have better worst case times include Bucket Sort and Counting Sort and Radix Sort [1]"
   ]
  },
  {
   "cell_type": "code",
   "execution_count": 1,
   "id": "engaging-bridge",
   "metadata": {},
   "outputs": [],
   "source": [
    "exit()"
   ]
  },
  {
   "cell_type": "markdown",
   "id": "smaller-effects",
   "metadata": {},
   "source": [
    "< [Table of Contents](#top) | [References](#references) >\n",
    "<a id=\"Sort-Key-Satellite-Data\"></a>\n",
    "###### Sort Key and Satellite Data\n",
    "***"
   ]
  },
  {
   "cell_type": "markdown",
   "id": "young-desire",
   "metadata": {},
   "source": [
    "- the sort key is the information which is used to make comparisons when sorting [1]"
   ]
  },
  {
   "cell_type": "markdown",
   "id": "forward-patrick",
   "metadata": {},
   "source": [
    "- the elements to sort would normally also have some satellite data for any type of real world application or dealing with complex datasets or with collections of custom objects [1]"
   ]
  },
  {
   "cell_type": "markdown",
   "id": "accredited-tissue",
   "metadata": {},
   "source": [
    "- satellite data is all the information which is associated with a specific sort key and therefore should travel when the element is moved to a new position in the collection [1]"
   ]
  },
  {
   "cell_type": "markdown",
   "id": "furnished-stack",
   "metadata": {},
   "source": [
    "- organising books on a bookshelf by the author name then the sort key would be the author name and the book itself (actual contents of the book) is the satellite data [1]"
   ]
  },
  {
   "cell_type": "markdown",
   "id": "revised-salad",
   "metadata": {},
   "source": [
    "- when organising books on a bookshelf it is not enough to just have labels which represent the name of each book and get those ordered in the correct order - also want to move the satellite data into the right place as well (being the actual book) [1]"
   ]
  },
  {
   "cell_type": "markdown",
   "id": "domestic-ceiling",
   "metadata": {},
   "source": [
    "- organising the entire book and not just the label in the correct order so that it can be retrieved easily later on [1]"
   ]
  },
  {
   "cell_type": "markdown",
   "id": "mobile-bachelor",
   "metadata": {},
   "source": [
    "- the sort key of a web search engine would be the relevance (or maybe a relevance score) which is just some number that represents how relevant a specific webpage is to a input query string [1]"
   ]
  },
  {
   "cell_type": "markdown",
   "id": "mobile-formation",
   "metadata": {},
   "source": [
    "- so if the sort key is the relevant score of the webpage to the query string then the satellite data would be everything that the search engine has stored about that specific webpage (could be the Uniform Resource Locator of that webpage along with whatever other data is stored by the search engine which could also include a summary of the web page) [1]"
   ]
  },
  {
   "cell_type": "markdown",
   "id": "organic-intent",
   "metadata": {},
   "source": [
    "- in the context of the GMIT Computational Thinking and Algorithms module for the sake of simplicity and to make explanations easier only going to look at collections of integers (analogously to sorting using the sort key only without any satellite data) [1]"
   ]
  },
  {
   "cell_type": "markdown",
   "id": "former-entertainment",
   "metadata": {},
   "source": [
    "- the exact same principles would apply when sorting any other type of data other than integers [1]"
   ]
  },
  {
   "cell_type": "markdown",
   "id": "comparative-young",
   "metadata": {},
   "source": [
    "- the same exact principles will apply to any complex objects to sort and/or wanting to sort by a certain criteria but must be sure (like with the bookshelf example) that the satellite data is moved into the right position as well (or that some pointer to the satellite position is maintained) [1]"
   ]
  },
  {
   "cell_type": "code",
   "execution_count": 1,
   "id": "stable-state",
   "metadata": {},
   "outputs": [],
   "source": [
    "exit()"
   ]
  },
  {
   "cell_type": "markdown",
   "id": "analyzed-hydrogen",
   "metadata": {},
   "source": [
    "<!-- print(fGetModuleType(___x___),fDocumentation(___x___)) -->\n",
    "***\n",
    "## END"
   ]
  },
  {
   "cell_type": "markdown",
   "id": "ecological-venture",
   "metadata": {},
   "source": [
    "< [Table of Contents](#top) | [Abstract](#abstract) | [Introduction](#introduction) | [Conclusion](#conclusion) | [References](#references) >\n",
    "<a id=\"solution\"></a>\n",
    "***\n",
    "## Solution\n",
    "***"
   ]
  },
  {
   "cell_type": "markdown",
   "id": "personal-pressure",
   "metadata": {},
   "source": [
    "&#x1F6A7;"
   ]
  },
  {
   "cell_type": "markdown",
   "id": "ready-briefs",
   "metadata": {},
   "source": [
    "<!-- - refer [Appendix](#appendix-df) to view the full dataset <a id=\"go-back-df\"></a> -->\n",
    "<!-- print(fGetModuleType(___x___),fDocumentation(___x___)) -->\n",
    "***\n",
    "## END"
   ]
  },
  {
   "cell_type": "markdown",
   "id": "union-pressure",
   "metadata": {},
   "source": [
    "< [Table of Contents](#top) | [Abstract](#abstract) | [Introduction](#introduction) | [Solution](#solution) | [References](#references) >\n",
    "<a id=\"conclusion\"></a>\n",
    "***\n",
    "## Conclusion\n",
    "***"
   ]
  },
  {
   "cell_type": "markdown",
   "id": "joint-karma",
   "metadata": {},
   "source": [
    "&#x1F6A7;"
   ]
  },
  {
   "cell_type": "markdown",
   "id": "lyric-sunset",
   "metadata": {},
   "source": [
    "<!-- print(fGetModuleType(___x___),fDocumentation(___x___)) -->\n",
    "***\n",
    "## END"
   ]
  },
  {
   "cell_type": "markdown",
   "id": "bound-hindu",
   "metadata": {},
   "source": [
    "< [Table of Contents](#top) | [Abstract](#abstract) | [Introduction](#introduction) | [Solution](#solution) | [Conclusion](#conclusion) | [References](#references) >\n",
    "<a id=\"references\"></a>\n",
    "***\n",
    "## References\n",
    "***\n",
    "&nbsp;&nbsp;&nbsp;&nbsp;&nbsp;&nbsp;&nbsp;&nbsp;&nbsp;[1] P. Mannion, \"07 Sorting Algorithms Part 1,\" GMIT, November 2017.\n",
    "\n",
    "&nbsp;&nbsp;&nbsp;&nbsp;&nbsp;&nbsp;&nbsp;&nbsp;&nbsp;[2] P. Mannion, \"08 Sorting Algorithms Part 2,\" GMIT, November 2017.\n",
    "\n",
    "&nbsp;&nbsp;&nbsp;&nbsp;&nbsp;&nbsp;&nbsp;&nbsp;&nbsp;[3] P. Mannion, \"09 Sorting Algorithms Part 3,\" GMIT, November 2017."
   ]
  },
  {
   "cell_type": "markdown",
   "id": "physical-myrtle",
   "metadata": {},
   "source": [
    "***\n",
    "## END"
   ]
  },
  {
   "cell_type": "markdown",
   "id": "equipped-correlation",
   "metadata": {},
   "source": [
    "< [Table of Contents](#top) | [Abstract](#abstract) | [Introduction](#introduction) | [Solution](#solution) | [Conclusion](#conclusion) | [References](#references) >\n",
    "<a id=\"appendix\"></a>\n",
    "***\n",
    "## Appendix\n",
    "***"
   ]
  },
  {
   "cell_type": "markdown",
   "id": "guilty-adjustment",
   "metadata": {},
   "source": [
    "<a id=\"appendix-some-reference\"></a>\n",
    "< [Go Back](#top) >"
   ]
  },
  {
   "cell_type": "markdown",
   "id": "driving-malaysia",
   "metadata": {},
   "source": [
    "###### Github\n",
    "***"
   ]
  },
  {
   "cell_type": "markdown",
   "id": "drawn-upgrade",
   "metadata": {},
   "source": [
    "```\n",
    "git push -f origin HEAD^:master && git reset HEAD~\n",
    "```"
   ]
  },
  {
   "cell_type": "markdown",
   "id": "mobile-return",
   "metadata": {},
   "source": [
    "###### Functions\n",
    "***"
   ]
  },
  {
   "cell_type": "code",
   "execution_count": 1,
   "id": "fossil-applicant",
   "metadata": {},
   "outputs": [
    {
     "name": "stdout",
     "output_type": "stream",
     "text": [
      "# repository ./OhAileasa\r\n",
      "def fFullScreen():\r\n",
      "\t\"\"\"Utilise full Jupyter notebook screen.\r\n",
      "\r\n",
      "Input:\r\n",
      "Process: (IPython.core.display.display; IPython.core.display.HTML)\r\n",
      "Output:\r\n",
      "\"\"\"\r\n",
      "\tfrom IPython.core.display import display,HTML\r\n",
      "\tdisplay(HTML(\"<style>.container { width:100% !important; }</style>\"))\r\n",
      "# --- END ---\r\n"
     ]
    }
   ],
   "source": [
    "%%script bash\n",
    "grep -1 \"def fFullScreen\" ../src/fubar.py -A 9"
   ]
  },
  {
   "cell_type": "markdown",
   "id": "architectural-trinidad",
   "metadata": {},
   "source": [
    "```python\n",
    "# %%writefile -a ../src/fubar.py\n",
    "# repository ./fubar-python\n",
    "def f():\n",
    "    \"\"\"\n",
    "\n",
    "Input:\n",
    "Process:\n",
    "Output:\n",
    "\"\"\"\n",
    "    pass\n",
    "# -- END ---\n",
    "```"
   ]
  },
  {
   "cell_type": "markdown",
   "id": "laden-taxation",
   "metadata": {},
   "source": [
    "###### Images\n",
    "***"
   ]
  },
  {
   "cell_type": "markdown",
   "id": "focal-color",
   "metadata": {},
   "source": [
    "![gumball](https://github.com/SeanOhAileasa/SeanOhAileasa/blob/master/img/cta/analysing/gumball.png?raw=true)\n",
    "\n",
    "***(Image) P. Mannion, \"03 Analysing Algorithms Part 1,\" GMIT, October 2017.***"
   ]
  },
  {
   "cell_type": "markdown",
   "id": "corresponding-credits",
   "metadata": {},
   "source": [
    "###### Tables\n",
    "***"
   ]
  },
  {
   "cell_type": "markdown",
   "id": "artistic-combination",
   "metadata": {},
   "source": [
    "|aaa|bbbbbb|ccccccccc|\n",
    "|:------------------------- | :------------------------- | :------------------------- |\n",
    "|aaa|bbbbbb|ccccccccc|"
   ]
  },
  {
   "cell_type": "markdown",
   "id": "separated-beverage",
   "metadata": {},
   "source": [
    "***\n",
    "## END"
   ]
  },
  {
   "cell_type": "markdown",
   "id": "attempted-yahoo",
   "metadata": {},
   "source": [
    "# END JUPYTER NOTEBOOK"
   ]
  }
 ],
 "metadata": {
  "kernelspec": {
   "display_name": "Python 3",
   "language": "python",
   "name": "python3"
  },
  "language_info": {
   "codemirror_mode": {
    "name": "ipython",
    "version": 3
   },
   "file_extension": ".py",
   "mimetype": "text/x-python",
   "name": "python",
   "nbconvert_exporter": "python",
   "pygments_lexer": "ipython3",
   "version": "3.8.3"
  }
 },
 "nbformat": 4,
 "nbformat_minor": 5
}
