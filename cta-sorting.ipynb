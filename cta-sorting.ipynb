{
 "cells": [
  {
   "cell_type": "code",
   "execution_count": null,
   "id": "scientific-internet",
   "metadata": {},
   "outputs": [
    {
     "data": {
      "text/html": [
       "<script>Jupyter.notebook.kernel.restart()</script>"
      ]
     },
     "metadata": {},
     "output_type": "display_data"
    }
   ],
   "source": [
    "from IPython.core.display import display_html\n",
    "display_html(\"<script>Jupyter.notebook.kernel.restart()</script>\",raw=True)"
   ]
  },
  {
   "cell_type": "code",
   "execution_count": 1,
   "id": "trained-verse",
   "metadata": {},
   "outputs": [
    {
     "data": {
      "text/html": [
       "<style>.container { width:100% !important; }</style>"
      ],
      "text/plain": [
       "<IPython.core.display.HTML object>"
      ]
     },
     "metadata": {},
     "output_type": "display_data"
    },
    {
     "data": {
      "text/html": [
       "<style>.container { width:100% !important; }</style>"
      ],
      "text/plain": [
       "<IPython.core.display.HTML object>"
      ]
     },
     "metadata": {},
     "output_type": "display_data"
    }
   ],
   "source": [
    "from sys import path; path.insert(1,\"../src\");\n",
    "import fubar; from importlib import reload; reload(fubar);"
   ]
  },
  {
   "cell_type": "markdown",
   "id": "computational-edition",
   "metadata": {},
   "source": [
    "***\n",
    "< [GMIT Data Analytics](https://web.archive.org/web/20201029063153/https://www.gmit.ie/computer-science-and-applied-physics/higher-diploma-science-computing-data-analytics-ict) | [Home](https://github.com/SeanOhAileasa) | [README](https://github.com/SeanOhAileasa/cta-sorting/blob/main/README.md) >\n",
    "\n",
    "[![GMIT](https://github.com/SeanOhAileasa/SeanOhAileasa/blob/master/img/gmit.png?raw=true)](https://web.archive.org/web/20201029063153/https://www.gmit.ie/computer-science-and-applied-physics/higher-diploma-science-computing-data-analytics-ict)\n",
    "\n",
    "<!--\n",
    "Computational Thinking with Algorithms\n",
    "\n",
    "Applied Databases\n",
    "\n",
    "Programming for Data Analysis\n",
    "\n",
    "Fundamentals of Data Analysis\n",
    "-->\n",
    "\n",
    "## Computational Thinking with Algorithms - Course Material 2021\n",
    "### Topic: [Sorting](https://nbviewer.jupyter.org/github/SeanOhAileasa/cta-sorting/blob/main/cta-sorting.ipynb)\n",
    "\n",
    "***"
   ]
  },
  {
   "cell_type": "markdown",
   "id": "corporate-ceiling",
   "metadata": {},
   "source": [
    "Course material for the ``Computational Thinking with Algorithms`` module (5 Credits) of the ``Higher Diploma in Science in Computing (Data Analytics) (H.Dip)`` programme (75 Credits) at **Galway-Mayo Institute of Technology (GMIT)**."
   ]
  },
  {
   "cell_type": "code",
   "execution_count": 2,
   "id": "banner-institution",
   "metadata": {},
   "outputs": [],
   "source": [
    "exit()"
   ]
  },
  {
   "cell_type": "code",
   "execution_count": 1,
   "id": "obvious-vacation",
   "metadata": {},
   "outputs": [
    {
     "data": {
      "text/html": [
       "<video src=\"./hide/07-sorting-algorithms-part-1-06-11-2017.mp4\" controls  width=\"800\"  height=\"400\">\n",
       "      Your browser does not support the <code>video</code> element.\n",
       "    </video>"
      ],
      "text/plain": [
       "<IPython.core.display.Video object>"
      ]
     },
     "execution_count": 1,
     "metadata": {},
     "output_type": "execute_result"
    }
   ],
   "source": [
    "from IPython.display import Video; Video(\"./hide/07-sorting-algorithms-part-1-06-11-2017.mp4\",width=800,height=400)"
   ]
  },
  {
   "cell_type": "code",
   "execution_count": 2,
   "id": "annual-character",
   "metadata": {},
   "outputs": [],
   "source": [
    "# from IPython.display import IFrame; IFrame(\"./hide/07-sorting-algorithms-part-1-06-11-2017.pdf\",width=800,height=400)"
   ]
  },
  {
   "cell_type": "code",
   "execution_count": 3,
   "id": "enclosed-geography",
   "metadata": {},
   "outputs": [
    {
     "data": {
      "text/html": [
       "<video src=\"./hide/08-sorting-algorithms-part-2-11-11-2017.mp4\" controls  width=\"800\"  height=\"400\">\n",
       "      Your browser does not support the <code>video</code> element.\n",
       "    </video>"
      ],
      "text/plain": [
       "<IPython.core.display.Video object>"
      ]
     },
     "execution_count": 3,
     "metadata": {},
     "output_type": "execute_result"
    }
   ],
   "source": [
    "from IPython.display import Video; Video(\"./hide/08-sorting-algorithms-part-2-11-11-2017.mp4\",width=800,height=400)"
   ]
  },
  {
   "cell_type": "code",
   "execution_count": 4,
   "id": "popular-upset",
   "metadata": {},
   "outputs": [],
   "source": [
    "# from IPython.display import IFrame; IFrame(\"./hide/08-sorting-algorithms-part-2-11-11-2017.pdf\",width=800,height=400)"
   ]
  },
  {
   "cell_type": "code",
   "execution_count": 5,
   "id": "modified-banks",
   "metadata": {},
   "outputs": [
    {
     "data": {
      "text/html": [
       "<video src=\"./hide/09-sorting-algorithms-part-3-19-11-2017.mp4\" controls  width=\"800\"  height=\"400\">\n",
       "      Your browser does not support the <code>video</code> element.\n",
       "    </video>"
      ],
      "text/plain": [
       "<IPython.core.display.Video object>"
      ]
     },
     "execution_count": 5,
     "metadata": {},
     "output_type": "execute_result"
    }
   ],
   "source": [
    "from IPython.display import Video; Video(\"./hide/09-sorting-algorithms-part-3-19-11-2017.mp4\",width=800,height=400)"
   ]
  },
  {
   "cell_type": "code",
   "execution_count": 6,
   "id": "rocky-brazil",
   "metadata": {},
   "outputs": [],
   "source": [
    "# from IPython.display import IFrame; IFrame(\"./hide/09-sorting-algorithms-part-3-19-11-2017.pdf\",width=800,height=400)"
   ]
  },
  {
   "cell_type": "code",
   "execution_count": 7,
   "id": "retired-bandwidth",
   "metadata": {},
   "outputs": [],
   "source": [
    "exit()"
   ]
  },
  {
   "cell_type": "markdown",
   "id": "statistical-volleyball",
   "metadata": {},
   "source": [
    "<a id=\"top\"></a>\n",
    "***\n",
    "## Table of Contents\n",
    "***\n",
    "\n",
    "## [Abstract](#abstract)\n",
    "\n",
    "- &#x1F6A7;\n",
    "\n",
    "## [Introduction](#introduction)\n",
    "\n",
    "* [Sorting](#Sorting)\n",
    "    * [Search](#Search)\n",
    "    * [Duplicates](#Duplicates)\n",
    "    * [Frequency](#Frequency)\n",
    "    * [Order Statistics](#Order-Statistics)\n",
    "    * [Preprocessing](#Preprocessing)\n",
    "    * [Real World](#Real-World)\n",
    "    \n",
    "* [Conditions](#Conditions)\n",
    "\t* [Contiguous](#Contiguous)\n",
    "    \n",
    "* [Ordering](#Ordering)\n",
    "\t* [Numerical](#Numerical)\n",
    "\t* [Lexicographical](#Lexicographical)\n",
    "    \n",
    "* [Comparator Function](#Comparator-Function)\n",
    "\t* [Inversion](#Inversion)\n",
    "    \n",
    "* [Comparison](#Comparison)\n",
    "\t* [Sort Key and Satellite Data](#Sort-Key-and-Satellite-Data)\n",
    "    \n",
    "* [Properties](#Properties) \n",
    "\t* [Stability](#Stability)\n",
    "\t\t* [Flight Information](#Flight-Information)\n",
    "\t* [Run Time Efficiency](#Run-Time-Efficiency)\n",
    "\t* [In-Place](#In-Place)\n",
    "\t* [Suitability](#Suitability)\n",
    "\n",
    "## [Solution](#solution)\n",
    "\n",
    "* [Merge Sort](#Mergesort)\n",
    "* [Radix Sort](#Radix-Sort)\n",
    "* [Counting Sort](#Counting-Sort)\n",
    "* [Shell Sort](#Shell-Sort)\n",
    "* [Quicksort](#Quicksort)\n",
    "* [Heapsort](#Heapsort)\n",
    "* [Smoothsort](#Smoothsort)\n",
    "* [Introsort](#Introsort)\n",
    "* [Timsort](#Timsort)\n",
    "\n",
    "## [Conclusion](#conclusion)\n",
    "\n",
    "- &#x1F6A7;"
   ]
  },
  {
   "cell_type": "markdown",
   "id": "standard-auditor",
   "metadata": {},
   "source": [
    "***\n",
    "## END"
   ]
  },
  {
   "cell_type": "markdown",
   "id": "interracial-xerox",
   "metadata": {},
   "source": [
    "< [Table of Contents](#top) | [Introduction](#introduction) | [Solution](#solution) | [Conclusion](#conclusion) | [References](#references) >\n",
    "<a id=\"abstract\"></a>\n",
    "***\n",
    "## Abstract\n",
    "***"
   ]
  },
  {
   "cell_type": "markdown",
   "id": "valued-ebony",
   "metadata": {},
   "source": [
    "&#x1F6A7;"
   ]
  },
  {
   "cell_type": "markdown",
   "id": "conditional-criticism",
   "metadata": {},
   "source": [
    "<!-- print(fGetModuleType(___x___),fDocumentation(___x___)) -->\n",
    "***\n",
    "## END"
   ]
  },
  {
   "cell_type": "markdown",
   "id": "brave-craps",
   "metadata": {},
   "source": [
    "< [Table of Contents](#top) | [Abstract](#abstract) | [Solution](#solution) | [Conclusion](#conclusion) | [References](#references) >\n",
    "<a id=\"introduction\"></a>\n",
    "***\n",
    "## Introduction\n",
    "***"
   ]
  },
  {
   "cell_type": "markdown",
   "id": "suspended-discharge",
   "metadata": {},
   "source": [
    "< [Table of Contents](#top) | [References](#references) >\n",
    "<a id=\"Sorting\"></a>\n",
    "### Sorting\n",
    "***"
   ]
  },
  {
   "cell_type": "markdown",
   "id": "upset-manhattan",
   "metadata": {},
   "source": [
    "- definition of the term sorting is arranging a collection of items according to some predefined ordering rules [1]"
   ]
  },
  {
   "cell_type": "markdown",
   "id": "advisory-thompson",
   "metadata": {},
   "source": [
    "- an array or list (hereafter called \"collection\") of items to order in the correct order is a sorting problem [1]"
   ]
  },
  {
   "cell_type": "markdown",
   "id": "chronic-buddy",
   "metadata": {},
   "source": [
    "- it has been claimed in the past that as much as 25% of all CPU cycles worldwide are spent on sorting tasks (claim provides a great incentive to further study and optimise sorting algorithms) [1]"
   ]
  },
  {
   "cell_type": "markdown",
   "id": "increased-asthma",
   "metadata": {},
   "source": [
    "- given there is so much time spent on sorting regardless of whether the actual figure is 25% can take for granted that a large amount of CPU time worldwide is spent on sorting tasks and knowing this provides a great incentive to work on research and development of sorting algorithms [1]"
   ]
  },
  {
   "cell_type": "markdown",
   "id": "anonymous-little",
   "metadata": {},
   "source": [
    "- knowing the considerations for most appropriate sorting algorithm for the specific task to accomplish it is upon system designers/computer scientists to know the different strengths and weaknesses of different sorting algorithms and to know in which specific situations or for which specific class of input instances should a certain type of sorting algorithm or a particular implementation be used [1]"
   ]
  },
  {
   "cell_type": "markdown",
   "id": "specialized-village",
   "metadata": {},
   "source": [
    "- there are many interesting applications of sorting and many different sorting algorithms each of which have their own specific strengths and weaknesses [1]"
   ]
  },
  {
   "cell_type": "markdown",
   "id": "drawn-tribune",
   "metadata": {},
   "source": [
    "- due to all of this and due to the importance of the sorting task the search for efficient sorting algorithms was a very important part of the early days of computing and computer science [1]"
   ]
  },
  {
   "cell_type": "markdown",
   "id": "acoustic-interest",
   "metadata": {},
   "source": [
    "- numerous computations and tasks are in fact simplified or made a lot easier by first properly sorting the information in a collection in advance [1]"
   ]
  },
  {
   "cell_type": "code",
   "execution_count": 1,
   "id": "registered-burden",
   "metadata": {},
   "outputs": [],
   "source": [
    "exit()"
   ]
  },
  {
   "cell_type": "markdown",
   "id": "molecular-knife",
   "metadata": {},
   "source": [
    "< [Table of Contents](#top) | [References](#references) >\n",
    "<a id=\"Search\"></a>\n",
    "###### Search\n",
    "***"
   ]
  },
  {
   "cell_type": "markdown",
   "id": "transsexual-immune",
   "metadata": {},
   "source": [
    "- considering the task of searching for a particular item in a collection of elements [1]"
   ]
  },
  {
   "cell_type": "markdown",
   "id": "palestinian-professor",
   "metadata": {},
   "source": [
    "- if the collection is in order (sorted) then can apply different types of searching algorithms and probably find the particular item sought quicker [1]"
   ]
  },
  {
   "cell_type": "code",
   "execution_count": 1,
   "id": "natural-windsor",
   "metadata": {},
   "outputs": [],
   "source": [
    "exit()"
   ]
  },
  {
   "cell_type": "markdown",
   "id": "imposed-vanilla",
   "metadata": {},
   "source": [
    "< [Table of Contents](#top) | [References](#references) >\n",
    "<a id=\"Duplicates\"></a>\n",
    "###### Duplicates\n",
    "***"
   ]
  },
  {
   "cell_type": "markdown",
   "id": "demonstrated-seller",
   "metadata": {},
   "source": [
    "- considering a collection of items and finding out whether any duplicate items exist in that collection [1]"
   ]
  },
  {
   "cell_type": "markdown",
   "id": "reliable-product",
   "metadata": {},
   "source": [
    "- task is easier if it is known that all duplicate items are going to appear in a contiguous block or they are all going to appear together [1]"
   ]
  },
  {
   "cell_type": "markdown",
   "id": "urban-consultancy",
   "metadata": {},
   "source": [
    "- if sorted in order of increasing magnitude then its a trivial task to go and actually count how many duplicates of those items exist [1]"
   ]
  },
  {
   "cell_type": "code",
   "execution_count": 1,
   "id": "norman-template",
   "metadata": {},
   "outputs": [],
   "source": [
    "exit()"
   ]
  },
  {
   "cell_type": "markdown",
   "id": "bound-image",
   "metadata": {},
   "source": [
    "< [Table of Contents](#top) | [References](#references) >\n",
    "<a id=\"Frequency\"></a>\n",
    "###### Frequency\n",
    "***"
   ]
  },
  {
   "cell_type": "markdown",
   "id": "interstate-collector",
   "metadata": {},
   "source": [
    "- considering the frequency of any distinct items in a dataset [1]"
   ]
  },
  {
   "cell_type": "markdown",
   "id": "saved-inspector",
   "metadata": {},
   "source": [
    "- creating a histogram to find the frequency of every distinct item in a collection could easily be done if the data is sorted because again like the problem of finding duplicate items it becomes a trivial task when all of the items which are valued equally appear in a contiguous block (appear beside each other) [1]"
   ]
  },
  {
   "cell_type": "code",
   "execution_count": 1,
   "id": "rubber-registrar",
   "metadata": {},
   "outputs": [],
   "source": [
    "exit()"
   ]
  },
  {
   "cell_type": "markdown",
   "id": "obvious-pottery",
   "metadata": {},
   "source": [
    "< [Table of Contents](#top) | [References](#references) >\n",
    "<a id=\"Order-Statistics\"></a>\n",
    "###### Order Statistics\n",
    "***"
   ]
  },
  {
   "cell_type": "markdown",
   "id": "olive-original",
   "metadata": {},
   "source": [
    "- another important application of sorting algorithms is to find the order statistics of a collection of data [1]"
   ]
  },
  {
   "cell_type": "markdown",
   "id": "heated-rebound",
   "metadata": {},
   "source": [
    "- statistics are numbers essentially which tell something about a collection of data in aggregate [1]"
   ]
  },
  {
   "cell_type": "markdown",
   "id": "excessive-relative",
   "metadata": {},
   "source": [
    "- could be order statistics that relate to the range of the data such as the maximum and minimum [1]"
   ]
  },
  {
   "cell_type": "markdown",
   "id": "searching-adapter",
   "metadata": {},
   "source": [
    "- finding the maximum and minimum items in a collection becomes trivial if the data is sorted say in order of increasing magnitude (minimum point is simply the first element in the collection - maximum point is simply the last element in the collection) [1]"
   ]
  },
  {
   "cell_type": "markdown",
   "id": "agricultural-snapshot",
   "metadata": {},
   "source": [
    "- another order statistic could be the median and the quartiles [1]"
   ]
  },
  {
   "cell_type": "markdown",
   "id": "korean-convention",
   "metadata": {},
   "source": [
    "- in the context of the economy would often hear about the median salary whereby the median is the middle value in a collection so the median salary then if having access to a list of the salaries of everybody working in Ireland then could sort those data points in order of increasing salary therefore a trivial task to pick out the median given its the element(s) right in the middle [1]"
   ]
  },
  {
   "cell_type": "code",
   "execution_count": 1,
   "id": "going-reverse",
   "metadata": {},
   "outputs": [],
   "source": [
    "exit()"
   ]
  },
  {
   "cell_type": "markdown",
   "id": "liable-indonesia",
   "metadata": {},
   "source": [
    "< [Table of Contents](#top) | [References](#references) >\n",
    "<a id=\"Preprocessing \"></a>\n",
    "###### Preprocessing \n",
    "***"
   ]
  },
  {
   "cell_type": "markdown",
   "id": "official-spare",
   "metadata": {},
   "source": [
    "- sorting can be useful as a precursor to completing other operations in an efficient way such that its often an important step when part of some other broader computer algorithm [1]"
   ]
  },
  {
   "cell_type": "markdown",
   "id": "patient-humanitarian",
   "metadata": {},
   "source": [
    "- considering an image editing package (computer graphics) in which multiple layers of objects or artwork are supported and having a layer based computer graphics program whereby different objects are layered on top of each other to produce some composite image [1]"
   ]
  },
  {
   "cell_type": "markdown",
   "id": "global-distinction",
   "metadata": {},
   "source": [
    "- may have to sort the objects according to some above or below relation so that the objects may be drawn in the correct order from bottom to top so that the image is composited correctly and that items which are supposed to be in the foreground are in the foreground and items which are supposed to form part of the background are actually in the background [1]"
   ]
  },
  {
   "cell_type": "markdown",
   "id": "tested-julian",
   "metadata": {},
   "source": [
    "- so a sorting algorithm could be used as part of a operation in some program but it would be a sub-step [1]"
   ]
  },
  {
   "cell_type": "code",
   "execution_count": 1,
   "id": "marine-result",
   "metadata": {},
   "outputs": [],
   "source": [
    "exit()"
   ]
  },
  {
   "cell_type": "markdown",
   "id": "coral-raise",
   "metadata": {},
   "source": [
    "< [Table of Contents](#top) | [References](#references) >\n",
    "<a id=\"Real-World\"></a>\n",
    "###### Real World \n",
    "***"
   ]
  },
  {
   "cell_type": "markdown",
   "id": "toxic-occasion",
   "metadata": {},
   "source": [
    "- sorting can be useful as part of some other broader tasks but it is also an important problem in its own right and worthy of merit/study [1]"
   ]
  },
  {
   "cell_type": "markdown",
   "id": "outdoor-command",
   "metadata": {},
   "source": [
    "- consider entries in a phonebook often sorted by area then by last name then sorted by first name [1]"
   ]
  },
  {
   "cell_type": "markdown",
   "id": "danish-smile",
   "metadata": {},
   "source": [
    "- bank account statement transactions would be sorted first by a transaction number or by date or by the value of the transaction (ascending or descending order as well) [1]"
   ]
  },
  {
   "cell_type": "markdown",
   "id": "otherwise-picking",
   "metadata": {},
   "source": [
    "- results from a web search engine which would be sorted by relevance to a specific query string [1]"
   ]
  },
  {
   "cell_type": "markdown",
   "id": "coupled-execution",
   "metadata": {},
   "source": [
    "- maybe in a web search engine different items could be returned or different links to different webpages would actually be given some kind of relevance score in relation to a query string and would be ranked in order of decreasing relevance [1]"
   ]
  },
  {
   "cell_type": "code",
   "execution_count": 1,
   "id": "thrown-criminal",
   "metadata": {},
   "outputs": [],
   "source": [
    "exit()"
   ]
  },
  {
   "cell_type": "markdown",
   "id": "alternative-meaning",
   "metadata": {},
   "source": [
    "< [Table of Contents](#top) | [References](#references) >\n",
    "<a id=\"Conditions\"></a>\n",
    "### Conditions\n",
    "***"
   ]
  },
  {
   "cell_type": "markdown",
   "id": "unusual-membership",
   "metadata": {},
   "source": [
    "- conceptually its easy to grasp the idea of what is meant by a collection being sorted or the term sorted but need to have some formal or mathematical definition of what is meant by the term sorted or having everything in order [1]"
   ]
  },
  {
   "cell_type": "markdown",
   "id": "parliamentary-favorite",
   "metadata": {},
   "source": [
    "- a collection of items is deemed to be sorted if each item which appears in the collection is less than or equal to its successor or its valued as being less than or equal to its successor in the collection [1]"
   ]
  },
  {
   "cell_type": "markdown",
   "id": "posted-armenia",
   "metadata": {},
   "source": [
    "- to sort a collection ``A`` then the elements contained must be reorganised in such a way that if the element which appears at index ``i`` is less than the elements which appears at index ``j`` then the index ``i`` must also be less than the index ``j`` [1]"
   ]
  },
  {
   "cell_type": "markdown",
   "id": "tough-tuesday",
   "metadata": {},
   "source": [
    "- items which are valued less than other items then said items must appear before the others [1]"
   ]
  },
  {
   "cell_type": "markdown",
   "id": "loose-deficit",
   "metadata": {},
   "source": [
    "- if an item is valued greater than another item then that greater value item must appear later in the collection [1]"
   ]
  },
  {
   "cell_type": "markdown",
   "id": "assumed-parade",
   "metadata": {},
   "source": [
    "$$A[i]<A[j]\\space then\\space i<j$$"
   ]
  },
  {
   "cell_type": "code",
   "execution_count": 1,
   "id": "regular-contamination",
   "metadata": {},
   "outputs": [],
   "source": [
    "exit()"
   ]
  },
  {
   "cell_type": "markdown",
   "id": "connected-radical",
   "metadata": {},
   "source": [
    "< [Table of Contents](#top) | [References](#references) >\n",
    "<a id=\"Contiguous\"></a>\n",
    "###### Contiguous\n",
    "***"
   ]
  },
  {
   "cell_type": "markdown",
   "id": "nonprofit-courage",
   "metadata": {},
   "source": [
    "- if there are duplicate elements then these elements must be contiguous in the resulting order collection [1]"
   ]
  },
  {
   "cell_type": "markdown",
   "id": "economic-headquarters",
   "metadata": {},
   "source": [
    "- all of the elements which have the same value according to some comparator function most appear in one uninterrupted block with no other different valued elements interspersed in between [1]"
   ]
  },
  {
   "cell_type": "markdown",
   "id": "framed-association",
   "metadata": {},
   "source": [
    "- within a collection ``A`` if an element at position ``i`` is valued the same as the element which appears at position ``j`` [1]"
   ]
  },
  {
   "cell_type": "markdown",
   "id": "sustained-costs",
   "metadata": {},
   "source": [
    "$$A[i]=A[j]$$"
   ]
  },
  {
   "cell_type": "markdown",
   "id": "public-pregnancy",
   "metadata": {},
   "source": [
    "- can be no index ``k`` such that the value of ``i`` is less than the value of ``k`` is less than the value of ``j`` [1]"
   ]
  },
  {
   "cell_type": "markdown",
   "id": "remarkable-sitting",
   "metadata": {},
   "source": [
    "$$i<k<j$$"
   ]
  },
  {
   "cell_type": "markdown",
   "id": "residential-cisco",
   "metadata": {},
   "source": [
    "- an element which appears at position ``i`` in the collection is not equal to the element which appears at position ``k`` [1]"
   ]
  },
  {
   "cell_type": "markdown",
   "id": "metropolitan-folks",
   "metadata": {},
   "source": [
    "$$A[i]\\neq A[k]$$"
   ]
  },
  {
   "cell_type": "markdown",
   "id": "magnetic-steering",
   "metadata": {},
   "source": [
    "- mathematical definition is saying that a contiguous block of elements which have the same value or are valued the same (duplicates of one another) then in a sorted collection no other different valued element can be interspersed in that contiguous block [1]"
   ]
  },
  {
   "cell_type": "markdown",
   "id": "geographic-cutting",
   "metadata": {},
   "source": [
    "- have a collection of integers of which there are three of the integer ``4`` (so the integer ``4`` occurs three times) [1]"
   ]
  },
  {
   "cell_type": "markdown",
   "id": "surgical-ensemble",
   "metadata": {},
   "source": [
    "- when that integer collection is sorted those three instances of the number four most appear together in one unbroken block and there can be no other different valued elements interspersed between them (contiguous sorting of duplicate elements in a collection) [1]"
   ]
  },
  {
   "cell_type": "markdown",
   "id": "given-australian",
   "metadata": {},
   "source": [
    "- may seem obvious but still needs to stated that a sorted version of a collection must be a permutation of the elements which originally formed the collection [1]"
   ]
  },
  {
   "cell_type": "markdown",
   "id": "documented-cigarette",
   "metadata": {},
   "source": [
    "- the contents of the collection must be the exact same before and after the sorting process so the number of distinct elements in the collection and the frequency at which they occur must be constant before and after the sorting process but their relative ordering to one another is allowed to change [1]"
   ]
  },
  {
   "cell_type": "code",
   "execution_count": 1,
   "id": "elementary-procedure",
   "metadata": {},
   "outputs": [],
   "source": [
    "exit()"
   ]
  },
  {
   "cell_type": "markdown",
   "id": "happy-target",
   "metadata": {},
   "source": [
    "<!-- print(fGetModuleType(___x___),fDocumentation(___x___)) -->\n",
    "***\n",
    "## END"
   ]
  },
  {
   "cell_type": "markdown",
   "id": "quick-taylor",
   "metadata": {},
   "source": [
    "< [Table of Contents](#top) | [Abstract](#abstract) | [Introduction](#introduction) | [Conclusion](#conclusion) | [References](#references) >\n",
    "<a id=\"solution\"></a>\n",
    "***\n",
    "## Solution\n",
    "***"
   ]
  },
  {
   "cell_type": "markdown",
   "id": "vital-relief",
   "metadata": {},
   "source": [
    "&#x1F6A7;"
   ]
  },
  {
   "cell_type": "markdown",
   "id": "liked-fields",
   "metadata": {},
   "source": [
    "<!-- - refer [Appendix](#appendix-df) to view the full dataset <a id=\"go-back-df\"></a> -->\n",
    "<!-- print(fGetModuleType(___x___),fDocumentation(___x___)) -->\n",
    "***\n",
    "## END"
   ]
  },
  {
   "cell_type": "markdown",
   "id": "packed-convert",
   "metadata": {},
   "source": [
    "< [Table of Contents](#top) | [Abstract](#abstract) | [Introduction](#introduction) | [Solution](#solution) | [References](#references) >\n",
    "<a id=\"conclusion\"></a>\n",
    "***\n",
    "## Conclusion\n",
    "***"
   ]
  },
  {
   "cell_type": "markdown",
   "id": "following-hunger",
   "metadata": {},
   "source": [
    "&#x1F6A7;"
   ]
  },
  {
   "cell_type": "markdown",
   "id": "bottom-chapel",
   "metadata": {},
   "source": [
    "<!-- print(fGetModuleType(___x___),fDocumentation(___x___)) -->\n",
    "***\n",
    "## END"
   ]
  },
  {
   "cell_type": "markdown",
   "id": "minor-leader",
   "metadata": {},
   "source": [
    "< [Table of Contents](#top) | [Abstract](#abstract) | [Introduction](#introduction) | [Solution](#solution) | [Conclusion](#conclusion) | [References](#references) >\n",
    "<a id=\"references\"></a>\n",
    "***\n",
    "## References\n",
    "***\n",
    "&nbsp;&nbsp;&nbsp;&nbsp;&nbsp;&nbsp;&nbsp;&nbsp;&nbsp;[1] P. Mannion, \"07 Sorting Algorithms Part 1,\" GMIT, November 2017.\n",
    "\n",
    "&nbsp;&nbsp;&nbsp;&nbsp;&nbsp;&nbsp;&nbsp;&nbsp;&nbsp;[2] P. Mannion, \"08 Sorting Algorithms Part 2,\" GMIT, November 2017.\n",
    "\n",
    "&nbsp;&nbsp;&nbsp;&nbsp;&nbsp;&nbsp;&nbsp;&nbsp;&nbsp;[3] P. Mannion, \"09 Sorting Algorithms Part 3,\" GMIT, November 2017."
   ]
  },
  {
   "cell_type": "markdown",
   "id": "desperate-breed",
   "metadata": {},
   "source": [
    "***\n",
    "## END"
   ]
  },
  {
   "cell_type": "markdown",
   "id": "dietary-progress",
   "metadata": {},
   "source": [
    "< [Table of Contents](#top) | [Abstract](#abstract) | [Introduction](#introduction) | [Solution](#solution) | [Conclusion](#conclusion) | [References](#references) >\n",
    "<a id=\"appendix\"></a>\n",
    "***\n",
    "## Appendix\n",
    "***"
   ]
  },
  {
   "cell_type": "markdown",
   "id": "weekly-potato",
   "metadata": {},
   "source": [
    "<a id=\"appendix-some-reference\"></a>\n",
    "< [Go Back](#top) >"
   ]
  },
  {
   "cell_type": "markdown",
   "id": "manufactured-deadline",
   "metadata": {},
   "source": [
    "###### Github\n",
    "***"
   ]
  },
  {
   "cell_type": "markdown",
   "id": "ceramic-aspect",
   "metadata": {},
   "source": [
    "```\n",
    "git push -f origin HEAD^:master && git reset HEAD~\n",
    "```"
   ]
  },
  {
   "cell_type": "markdown",
   "id": "hispanic-paste",
   "metadata": {},
   "source": [
    "###### Functions\n",
    "***"
   ]
  },
  {
   "cell_type": "code",
   "execution_count": 1,
   "id": "scheduled-canal",
   "metadata": {},
   "outputs": [
    {
     "name": "stdout",
     "output_type": "stream",
     "text": [
      "# repository ./OhAileasa\r\n",
      "def fFullScreen():\r\n",
      "\t\"\"\"Utilise full Jupyter notebook screen.\r\n",
      "\r\n",
      "Input:\r\n",
      "Process: (IPython.core.display.display; IPython.core.display.HTML)\r\n",
      "Output:\r\n",
      "\"\"\"\r\n",
      "\tfrom IPython.core.display import display,HTML\r\n",
      "\tdisplay(HTML(\"<style>.container { width:100% !important; }</style>\"))\r\n",
      "# --- END ---\r\n"
     ]
    }
   ],
   "source": [
    "%%script bash\n",
    "grep -1 \"def fFullScreen\" ../src/fubar.py -A 9"
   ]
  },
  {
   "cell_type": "markdown",
   "id": "boolean-taste",
   "metadata": {},
   "source": [
    "```python\n",
    "# %%writefile -a ../src/fubar.py\n",
    "# repository ./fubar-python\n",
    "def f():\n",
    "    \"\"\"\n",
    "\n",
    "Input:\n",
    "Process:\n",
    "Output:\n",
    "\"\"\"\n",
    "    pass\n",
    "# -- END ---\n",
    "```"
   ]
  },
  {
   "cell_type": "markdown",
   "id": "knowing-quilt",
   "metadata": {},
   "source": [
    "###### Images\n",
    "***"
   ]
  },
  {
   "cell_type": "markdown",
   "id": "conservative-academy",
   "metadata": {},
   "source": [
    "![gumball](https://github.com/SeanOhAileasa/SeanOhAileasa/blob/master/img/cta/analysing/gumball.png?raw=true)\n",
    "\n",
    "***(Image) P. Mannion, \"03 Analysing Algorithms Part 1,\" GMIT, October 2017.***"
   ]
  },
  {
   "cell_type": "markdown",
   "id": "needed-horse",
   "metadata": {},
   "source": [
    "###### Tables\n",
    "***"
   ]
  },
  {
   "cell_type": "markdown",
   "id": "transparent-deployment",
   "metadata": {},
   "source": [
    "|aaa|bbbbbb|ccccccccc|\n",
    "|:------------------------- | :------------------------- | :------------------------- |\n",
    "|aaa|bbbbbb|ccccccccc|"
   ]
  },
  {
   "cell_type": "markdown",
   "id": "sorted-shoot",
   "metadata": {},
   "source": [
    "***\n",
    "## END"
   ]
  },
  {
   "cell_type": "markdown",
   "id": "wicked-newman",
   "metadata": {},
   "source": [
    "# END JUPYTER NOTEBOOK"
   ]
  }
 ],
 "metadata": {
  "kernelspec": {
   "display_name": "Python 3",
   "language": "python",
   "name": "python3"
  },
  "language_info": {
   "codemirror_mode": {
    "name": "ipython",
    "version": 3
   },
   "file_extension": ".py",
   "mimetype": "text/x-python",
   "name": "python",
   "nbconvert_exporter": "python",
   "pygments_lexer": "ipython3",
   "version": "3.8.3"
  }
 },
 "nbformat": 4,
 "nbformat_minor": 5
}
